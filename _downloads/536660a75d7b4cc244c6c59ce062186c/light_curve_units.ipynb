{
  "cells": [
    {
      "cell_type": "markdown",
      "metadata": {},
      "source": [
        "\n# Light Curve Units\n\nExpressing the same light curve in different units.\n"
      ]
    },
    {
      "cell_type": "code",
      "execution_count": null,
      "metadata": {
        "collapsed": false
      },
      "outputs": [],
      "source": [
        "import matplotlib.pyplot as plt\nimport numpy as np\nimport seaborn as sns\n\nimport mirage as mr\nimport mirage.vis as mrv"
      ]
    },
    {
      "cell_type": "markdown",
      "metadata": {},
      "source": [
        "Setting up analysis times\n\n"
      ]
    },
    {
      "cell_type": "code",
      "execution_count": null,
      "metadata": {
        "collapsed": false
      },
      "outputs": [],
      "source": [
        "date_start = mr.utc(2023, 5, 20, 20, 45, 0)\n(dates, epsecs) = mr.date_arange(\n    date_start - mr.days(1), date_start, mr.seconds(100), return_epsecs=True\n)\nephr = epsecs / 3600  # Epoch hours"
      ]
    },
    {
      "cell_type": "markdown",
      "metadata": {},
      "source": [
        "Setting up the scenario objects\n\n"
      ]
    },
    {
      "cell_type": "code",
      "execution_count": null,
      "metadata": {
        "collapsed": false
      },
      "outputs": [],
      "source": [
        "obj = mr.SpaceObject(\"hylas4.obj\", identifier=\"goes 15\")\nbrdf = mr.Brdf(\"phong\")\nstation = mr.Station(preset=\"pogs\")\n# Observing from the Purdue Optical Ground Station in New Mexico"
      ]
    },
    {
      "cell_type": "markdown",
      "metadata": {},
      "source": [
        "Defining observation constraints on the station\n\n"
      ]
    },
    {
      "cell_type": "code",
      "execution_count": null,
      "metadata": {
        "collapsed": false
      },
      "outputs": [],
      "source": [
        "station.constraints = [\n    mr.SnrConstraint(3),\n    mr.ElevationConstraint(10),\n    mr.TargetIlluminatedConstraint(),\n    mr.ObserverEclipseConstraint(station),\n    mr.VisualMagnitudeConstraint(18),\n    mr.MoonExclusionConstraint(10),\n    mr.HorizonMaskConstraint(station),\n]"
      ]
    },
    {
      "cell_type": "markdown",
      "metadata": {},
      "source": [
        "Defining the object's attitude profile and mass properties\n\n"
      ]
    },
    {
      "cell_type": "code",
      "execution_count": null,
      "metadata": {
        "collapsed": false
      },
      "outputs": [],
      "source": [
        "obj_attitude = mr.RbtfAttitude(\n    w0=0.0001 * np.array([0, 1, 1]),\n    q0=mr.hat(np.array([0, 0, 0, 1])),\n    itensor=obj.principal_itensor,\n)"
      ]
    },
    {
      "cell_type": "markdown",
      "metadata": {},
      "source": [
        "Computing the full noisy light curve\n\n"
      ]
    },
    {
      "cell_type": "code",
      "execution_count": null,
      "metadata": {
        "collapsed": false
      },
      "outputs": [],
      "source": [
        "(lc_noisy_sampler, aux_data) = station.observe_light_curve(\n    obj, obj_attitude, brdf, dates, use_engine=True\n)\nlc_noisy = lc_noisy_sampler()"
      ]
    },
    {
      "cell_type": "markdown",
      "metadata": {},
      "source": [
        "Extracting data and plotting results\n\n"
      ]
    },
    {
      "cell_type": "code",
      "execution_count": null,
      "metadata": {
        "collapsed": false
      },
      "outputs": [],
      "source": [
        "lc_clean = aux_data[\"lc_clean\"]\nsint = aux_data[\"sint\"]\n\nplt.figure(figsize=(10, 8))\nplt.subplot(4, 1, 1)\nsns.scatterplot(x=ephr, y=lc_noisy, linewidth=0.05, size=0.2)\nsns.scatterplot(x=ephr, y=lc_clean, linewidth=0.05, size=0.1, color=\"k\")\nplt.xlim((0, np.max(ephr)))\nmrv.texit(\n    f\"Synthetic GOES 15 Light Curves\",\n    \"\",\n    \"[e-]\",\n    [\"Measurements\", \"True Mean\"],\n)\n\nlc_noisy_irrad = lc_noisy / (sint * station.telescope.integration_time)\nlc_clean_irrad = lc_clean / (sint * station.telescope.integration_time)\nplt.subplot(4, 1, 2)\nsns.scatterplot(x=ephr, y=lc_noisy_irrad, linewidth=0.05, size=0.2)\nsns.scatterplot(x=ephr, y=lc_clean_irrad, linewidth=0.05, size=0.1, color=\"k\")\nmrv.texit(\n    \"\",\n    \"\",\n    r\"$\\left[ \\frac{W}{m^2} \\right]$\",\n)\nplt.xlim((0, np.max(ephr)))\n\nlc_noisy_irrad_unit = lc_noisy_irrad * (aux_data[\"rmag_station_to_sat\"] * 1e3) ** 2\nlc_clean_irrad_unit = lc_clean_irrad * (aux_data[\"rmag_station_to_sat\"] * 1e3) ** 2\nplt.subplot(4, 1, 3)\nsns.scatterplot(x=ephr, y=lc_noisy_irrad_unit, linewidth=0.05, size=0.2)\nsns.scatterplot(x=ephr, y=lc_clean_irrad_unit, linewidth=0.05, size=0.1, color=\"k\")\nmrv.texit(\n    \"\",\n    \"\",\n    r\"$\\left[ W \\right]$\",\n)\nplt.xlim((0, np.max(ephr)))\n\nlc_noisy_mag = mr.irradiance_to_apparent_magnitude(lc_noisy_irrad)\nlc_clean_mag = mr.irradiance_to_apparent_magnitude(lc_clean_irrad)\nplt.subplot(4, 1, 4)\nsns.scatterplot(x=ephr, y=lc_noisy_mag, linewidth=0.05, size=0.2)\nsns.scatterplot(x=ephr, y=lc_clean_mag, linewidth=0.05, size=0.1, color=\"k\")\nmrv.texit(\n    \"\",\n    f\"Hours after {date_start.strftime('%Y-%m-%d %H:%M:%S UTC')}\",\n    \"$m$\",\n)\nplt.xlim((0, np.max(ephr)))\nplt.tight_layout()\nplt.show()"
      ]
    }
  ],
  "metadata": {
    "kernelspec": {
      "display_name": "Python 3",
      "language": "python",
      "name": "python3"
    },
    "language_info": {
      "codemirror_mode": {
        "name": "ipython",
        "version": 3
      },
      "file_extension": ".py",
      "mimetype": "text/x-python",
      "name": "python",
      "nbconvert_exporter": "python",
      "pygments_lexer": "ipython3",
      "version": "3.10.12"
    }
  },
  "nbformat": 4,
  "nbformat_minor": 0
}