{
  "cells": [
    {
      "cell_type": "markdown",
      "metadata": {},
      "source": [
        "\n# Rigid Body Torque Free Attitudes\n\nAnimates the attitude motion of an object in torque free motion\n"
      ]
    },
    {
      "cell_type": "code",
      "execution_count": null,
      "metadata": {
        "collapsed": false
      },
      "outputs": [],
      "source": [
        "import pyspaceaware as ps\nimport numpy as np\nimport pyvista as pv\n\n(dates, epsecs) = ps.date_linspace(\n    ps.now(), ps.now() + ps.seconds(10), 300, return_epsecs=True\n)\nobj = ps.SpaceObject(\"tess.obj\", identifier=36411)\nobj_attitude = ps.RbtfAttitude(\n    w0=1 * np.array([1, 1, 1]),\n    q0=ps.hat(np.array([0, 0, 0, 1])),\n    itensor=obj.principal_itensor,\n)\n\n(q, w) = obj_attitude.propagate(epsecs)\n\nps.vis_attitude_motion(obj, q, \"tess.gif\", framerate=30, background_color=\"black\")"
      ]
    }
  ],
  "metadata": {
    "kernelspec": {
      "display_name": "Python 3",
      "language": "python",
      "name": "python3"
    },
    "language_info": {
      "codemirror_mode": {
        "name": "ipython",
        "version": 3
      },
      "file_extension": ".py",
      "mimetype": "text/x-python",
      "name": "python",
      "nbconvert_exporter": "python",
      "pygments_lexer": "ipython3",
      "version": "3.10.11"
    }
  },
  "nbformat": 4,
  "nbformat_minor": 0
}