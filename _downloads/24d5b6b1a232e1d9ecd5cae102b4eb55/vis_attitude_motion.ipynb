{
  "cells": [
    {
      "cell_type": "markdown",
      "metadata": {},
      "source": [
        "\n# Rigid Body Torque Free Attitudes\n\nAnimates the attitude motion of an object in torque free motion\n"
      ]
    },
    {
      "cell_type": "code",
      "execution_count": null,
      "metadata": {
        "collapsed": false
      },
      "outputs": [],
      "source": [
        "import numpy as np\n\nimport mirage as mr\nimport mirage.vis as mrv\n\n(dates, epsecs) = mr.date_linspace(\n    mr.now(), mr.now() + mr.seconds(10), 200, return_epsecs=True\n)\nobj = mr.SpaceObject(\"tess.obj\", identifier=36411)\nobj_attitude = mr.RbtfAttitude(\n    w0=1 * np.array([0.1, 3, 0.1]),\n    q0=mr.hat(np.array([0, 0, 0, 1])),\n    itensor=np.diag((1.0, 2.0, 3.0)),\n)\n\n(q, w) = obj_attitude.propagate(epsecs)\n\nmrv.vis_attitude_motion(obj, q, \"tess.gif\", framerate=20, background_color=\"black\")"
      ]
    }
  ],
  "metadata": {
    "kernelspec": {
      "display_name": "Python 3",
      "language": "python",
      "name": "python3"
    },
    "language_info": {
      "codemirror_mode": {
        "name": "ipython",
        "version": 3
      },
      "file_extension": ".py",
      "mimetype": "text/x-python",
      "name": "python",
      "nbconvert_exporter": "python",
      "pygments_lexer": "ipython3",
      "version": "3.10.12"
    }
  },
  "nbformat": 4,
  "nbformat_minor": 0
}