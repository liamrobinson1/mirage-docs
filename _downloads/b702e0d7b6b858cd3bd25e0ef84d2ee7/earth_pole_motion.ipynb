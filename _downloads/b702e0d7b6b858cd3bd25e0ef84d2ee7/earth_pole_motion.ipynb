{
  "cells": [
    {
      "cell_type": "markdown",
      "metadata": {},
      "source": [
        "\n# Precession and Nutation\n\nViewing the evolution of the terrestrial\n"
      ]
    },
    {
      "cell_type": "code",
      "execution_count": null,
      "metadata": {
        "collapsed": false
      },
      "outputs": [],
      "source": [
        "import numpy as np\nimport pyvista as pv\n\nimport mirage as mr\nimport mirage.vis as mrv"
      ]
    },
    {
      "cell_type": "markdown",
      "metadata": {},
      "source": [
        "Let's use the full range of the datetime module, from near year 0 to near year 9999\n\n"
      ]
    },
    {
      "cell_type": "code",
      "execution_count": null,
      "metadata": {
        "collapsed": false
      },
      "outputs": [],
      "source": [
        "date0 = mr.utc(2023, 12, 9) - mr.years(2020)\ndates, ep = mr.date_linspace(\n    date0, date0 + mr.years(9990), int(1e5), return_epsecs=True\n)"
      ]
    },
    {
      "cell_type": "markdown",
      "metadata": {},
      "source": [
        "We then transform the true terrestrial pole in TOD to J2000 to look at the effect of precession and nutation with respect to the J2000 epoch\n\n"
      ]
    },
    {
      "cell_type": "code",
      "execution_count": null,
      "metadata": {
        "collapsed": false
      },
      "outputs": [],
      "source": [
        "pole_nominal = np.tile(\n    np.array([[0, 0, mr.AstroConstants.earth_r_eq * 1.3]]), (dates.size, 1)\n)\nmr.tic()\npole_instant = mr.EarthFixedFrame(\"tod\", \"j2000\").vecs_at_dates(dates, pole_nominal)\nmr.toc()"
      ]
    },
    {
      "cell_type": "markdown",
      "metadata": {},
      "source": [
        "We can view this data from a distance to view precession\n\n"
      ]
    },
    {
      "cell_type": "code",
      "execution_count": null,
      "metadata": {
        "collapsed": false
      },
      "outputs": [],
      "source": [
        "pl = pv.Plotter()\nmrv.plot_earth(pl, lighting=False, high_def=True)\nmrv.scatter3(pl, pole_instant, point_size=10)\npl.camera.focal_point = np.mean(pole_instant, axis=0)\npl.camera.position = 6 * pole_nominal[0, :] + np.array([1e-4, 1e-4, 0])\npl.show()"
      ]
    },
    {
      "cell_type": "markdown",
      "metadata": {},
      "source": [
        "And from close up to show nutation\n\n"
      ]
    },
    {
      "cell_type": "code",
      "execution_count": null,
      "metadata": {
        "collapsed": false
      },
      "outputs": [],
      "source": [
        "z = 20\npl = pv.Plotter()\nmrv.plot_earth(pl, lighting=False, high_def=True)\nmrv.plot3(pl, pole_instant, line_width=10, color=\"m\")\npl.camera.focal_point = pole_instant[0, :]\npl.camera.position = pole_instant[0, :] + np.array([1e-2, 1e-2, 25_000 / z])\npl.camera.zoom(z)\npl.show()"
      ]
    },
    {
      "cell_type": "markdown",
      "metadata": {},
      "source": [
        "Animating a full zoom sequence\n\n"
      ]
    },
    {
      "cell_type": "code",
      "execution_count": null,
      "metadata": {
        "collapsed": false
      },
      "outputs": [],
      "source": [
        "pl = pv.Plotter()\npl.open_gif(\"precession_nutation_zoom.gif\", fps=20)\nmrv.plot_earth(pl, lighting=False, high_def=True)\nmrv.plot3(pl, pole_instant, line_width=10, color=\"m\")\nfor z in np.logspace(-10, 30, 100, base=1.2):\n    pl.camera = pv.Camera()\n    pl.camera.focal_point = pole_instant[0, :]\n    pl.camera.position = pole_instant[0, :] + np.array([1e-2, 1e-2, 2_000])\n    pl.camera.zoom(z)\n    pl.write_frame()\npl.close()"
      ]
    }
  ],
  "metadata": {
    "kernelspec": {
      "display_name": "Python 3",
      "language": "python",
      "name": "python3"
    },
    "language_info": {
      "codemirror_mode": {
        "name": "ipython",
        "version": 3
      },
      "file_extension": ".py",
      "mimetype": "text/x-python",
      "name": "python",
      "nbconvert_exporter": "python",
      "pygments_lexer": "ipython3",
      "version": "3.10.12"
    }
  },
  "nbformat": 4,
  "nbformat_minor": 0
}