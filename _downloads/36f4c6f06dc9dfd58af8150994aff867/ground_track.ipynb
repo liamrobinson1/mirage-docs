{
  "cells": [
    {
      "cell_type": "markdown",
      "metadata": {},
      "source": [
        "\n# Ground Tracks\n\nPlots the ground track for a GPS satellite\n"
      ]
    },
    {
      "cell_type": "code",
      "execution_count": null,
      "metadata": {
        "collapsed": false
      },
      "outputs": [],
      "source": [
        "import os\n\nimport matplotlib.pyplot as plt\nimport numpy as np\nfrom PIL import Image\n\nimport pyspaceaware as ps"
      ]
    },
    {
      "cell_type": "markdown",
      "metadata": {},
      "source": [
        "Let's set up a space of dates to operate on\n\n"
      ]
    },
    {
      "cell_type": "code",
      "execution_count": null,
      "metadata": {
        "collapsed": false
      },
      "outputs": [],
      "source": [
        "dates = ps.date_linspace(ps.now(), ps.now() + ps.days(1), 8640) - ps.days(100)"
      ]
    },
    {
      "cell_type": "markdown",
      "metadata": {},
      "source": [
        "And propagate one of the NAVSTAR satellites to all the dates\n\n"
      ]
    },
    {
      "cell_type": "code",
      "execution_count": null,
      "metadata": {
        "collapsed": false
      },
      "outputs": [],
      "source": [
        "obj = ps.SpaceObject(\"cube.obj\", identifier=\"NAVSTAR 81 (USA 319)\")\nr_eci = obj.propagate(dates)"
      ]
    },
    {
      "cell_type": "markdown",
      "metadata": {},
      "source": [
        "Converting the propagated result into ECEF, then LLA\n\n"
      ]
    },
    {
      "cell_type": "code",
      "execution_count": null,
      "metadata": {
        "collapsed": false
      },
      "outputs": [],
      "source": [
        "r_ecef = ps.stack_mat_mult_vec(ps.j2000_to_itrf(dates), r_eci)\nlla = ps.itrf_to_lla(r_ecef)"
      ]
    },
    {
      "cell_type": "markdown",
      "metadata": {},
      "source": [
        "Finally, plotting the resulting Earth-fixed trajectory with the Earth in the background\n\n"
      ]
    },
    {
      "cell_type": "code",
      "execution_count": null,
      "metadata": {
        "collapsed": false
      },
      "outputs": [],
      "source": [
        "im = Image.open(\n    os.path.join(os.environ[\"TEXDIR\"], \"world.topo.bathy.200412.3x5400x2700.jpg\")\n)\nplt.imshow(im, extent=(-180, 180, -90, 90))\nplt.scatter(np.rad2deg(lla[1]), np.rad2deg(lla[0]), s=1, c=\"m\")\nplt.title(f\"{obj.identifier} Ground Track\")\nplt.xlabel(\"Longitude [deg]\")\nplt.ylabel(\"Latitude [deg]\")\nplt.show()"
      ]
    },
    {
      "cell_type": "markdown",
      "metadata": {},
      "source": [
        "# Repeating with PyGMT\n\n"
      ]
    },
    {
      "cell_type": "code",
      "execution_count": null,
      "metadata": {
        "collapsed": false
      },
      "outputs": [],
      "source": [
        "import pygmt\n\n# Create a new instance or object of the pygmt.Figure() class\nfig = pygmt.Figure()\nprojection = \"N12c\"\n# projection = \"G-90/10/12c\"\n# Orthographic projection (G) with projection center at 0\u00b0 East and\n# 15\u00b0 North and a width of 12 centimeters\nfig.coast(\n    projection=projection,\n    region=\"g\",  # global\n    frame=\"g30\",  # Add frame and gridlines in steps of 30 degrees on top\n    land=\"gray\",  # Color land masses in \"gray\"\n    water=\"lightblue\",  # Color water masses in \"lightblue\"\n    # Add coastlines with a 0.25 points thick pen in \"gray50\"\n    shorelines=\"1/0.25p,gray50\",\n)\n\nx, y = np.rad2deg(lla[1]), np.rad2deg(lla[0])\nfig.plot(x=x, y=y, pen=\"1.5p,red\")\n\nsl = slice(0, len(dates), len(dates) // 10)\nrg = range(0, len(dates), len(dates) // 10)\n\nfig.text(\n    text=[d.strftime(\"%H:%M UTC\") for d in dates[sl]],\n    x=x[sl],\n    y=y[sl],\n    font=\"9p,Courier-Bold,black\",\n)\n\nfig.show()"
      ]
    }
  ],
  "metadata": {
    "kernelspec": {
      "display_name": "Python 3",
      "language": "python",
      "name": "python3"
    },
    "language_info": {
      "codemirror_mode": {
        "name": "ipython",
        "version": 3
      },
      "file_extension": ".py",
      "mimetype": "text/x-python",
      "name": "python",
      "nbconvert_exporter": "python",
      "pygments_lexer": "ipython3",
      "version": "3.10.11"
    }
  },
  "nbformat": 4,
  "nbformat_minor": 0
}