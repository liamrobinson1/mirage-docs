{
  "cells": [
    {
      "cell_type": "markdown",
      "metadata": {},
      "source": [
        "\n# Ground Tracks\n\nPlots the ground track for a GPS satellite\n"
      ]
    },
    {
      "cell_type": "code",
      "execution_count": null,
      "metadata": {
        "collapsed": false
      },
      "outputs": [],
      "source": [
        "import sys\n\nsys.path.append(\".\")\n\nimport pyspaceaware as ps\nimport matplotlib.pyplot as plt\nimport numpy as np\nfrom PIL import Image\nimport os"
      ]
    },
    {
      "cell_type": "markdown",
      "metadata": {},
      "source": [
        "Let's set up a space of dates to operate on\n\n"
      ]
    },
    {
      "cell_type": "code",
      "execution_count": null,
      "metadata": {
        "collapsed": false
      },
      "outputs": [],
      "source": [
        "dates = ps.date_linspace(ps.now(), ps.now() + ps.days(10), 8640) - ps.days(100)"
      ]
    },
    {
      "cell_type": "markdown",
      "metadata": {},
      "source": [
        "And propagate one of the NAVSTAR satellites to all the dates\n\n"
      ]
    },
    {
      "cell_type": "code",
      "execution_count": null,
      "metadata": {
        "collapsed": false
      },
      "outputs": [],
      "source": [
        "obj = ps.SpaceObject(\"cube.obj\", identifier=\"NAVSTAR 81 (USA 319)\")\nr_eci = obj.propagate(dates)"
      ]
    },
    {
      "cell_type": "markdown",
      "metadata": {},
      "source": [
        "Converting the propagated result into ECEF, then LLA\n\n"
      ]
    },
    {
      "cell_type": "code",
      "execution_count": null,
      "metadata": {
        "collapsed": false
      },
      "outputs": [],
      "source": [
        "r_ecef = ps.stack_mat_mult_vec(ps.j2000_to_itrf(dates), r_eci)\nlla = ps.itrf_to_lla(r_ecef)"
      ]
    },
    {
      "cell_type": "markdown",
      "metadata": {},
      "source": [
        "Finally, plotting the resulting Earth-fixed trajectory with the Earth in the background\n\n"
      ]
    },
    {
      "cell_type": "code",
      "execution_count": null,
      "metadata": {
        "collapsed": false
      },
      "outputs": [],
      "source": [
        "im = Image.open(\n    os.path.join(os.environ[\"TEXDIR\"], \"world.topo.bathy.200412.3x5400x2700.jpg\")\n)\nplt.imshow(im, extent=(-180, 180, -90, 90))\nplt.scatter(np.rad2deg(lla[1]), np.rad2deg(lla[0]), s=1, c=\"m\")\nplt.title(f\"{obj.identifier} Ground Track\")\nplt.xlabel(\"Longitude [deg]\")\nplt.ylabel(\"Latitude [deg]\")\nplt.show()"
      ]
    }
  ],
  "metadata": {
    "kernelspec": {
      "display_name": "Python 3",
      "language": "python",
      "name": "python3"
    },
    "language_info": {
      "codemirror_mode": {
        "name": "ipython",
        "version": 3
      },
      "file_extension": ".py",
      "mimetype": "text/x-python",
      "name": "python",
      "nbconvert_exporter": "python",
      "pygments_lexer": "ipython3",
      "version": "3.10.11"
    }
  },
  "nbformat": 4,
  "nbformat_minor": 0
}