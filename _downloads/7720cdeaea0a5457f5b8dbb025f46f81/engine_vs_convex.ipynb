{
  "cells": [
    {
      "cell_type": "markdown",
      "metadata": {},
      "source": [
        "\n# Convex vs Engine Light Curves\n\nComparing light curves produced by the LightCurveEngine renderer and a simplified convex method\n"
      ]
    },
    {
      "cell_type": "code",
      "execution_count": null,
      "metadata": {
        "collapsed": false
      },
      "outputs": [],
      "source": [
        "import numpy as np\nimport pyspaceaware as ps\nimport matplotlib.pyplot as plt\nimport seaborn as sns"
      ]
    },
    {
      "cell_type": "markdown",
      "metadata": {},
      "source": [
        "Defining the object and BRDF\n\n"
      ]
    },
    {
      "cell_type": "code",
      "execution_count": null,
      "metadata": {
        "collapsed": false
      },
      "outputs": [],
      "source": [
        "obj = ps.SpaceObject(\"cube.obj\")\nbrdf = ps.Brdf(\"phong\", cd=0.5, cs=0.5, n=10)"
      ]
    },
    {
      "cell_type": "markdown",
      "metadata": {},
      "source": [
        "Defining the attitude profile\n\n"
      ]
    },
    {
      "cell_type": "code",
      "execution_count": null,
      "metadata": {
        "collapsed": false
      },
      "outputs": [],
      "source": [
        "t_eval = np.linspace(0, 10, 1000)\nq, _ = ps.propagate_attitude_torque_free(\n    np.array([0.0, 0.0, 0.0, 1.0]),\n    np.array([1.0, 1.0, 1.0]),\n    np.diag([1, 2, 3]),\n    t_eval,\n)\n\ndcm = ps.quat_to_dcm(q)\novb = ps.stack_mat_mult(dcm, np.array([[1, 0, 0]]))\nsvb = ps.stack_mat_mult(dcm, np.array([[0, 1, 0]]))"
      ]
    },
    {
      "cell_type": "markdown",
      "metadata": {},
      "source": [
        "We can now run the engine and compute a convex light curve:\n\n"
      ]
    },
    {
      "cell_type": "code",
      "execution_count": null,
      "metadata": {
        "collapsed": false
      },
      "outputs": [],
      "source": [
        "b_non_convex = ps.run_engine(brdf, obj.file_name, svb, ovb, instance_count=1)\nb_convex = obj.compute_convex_light_curve(brdf, svb, ovb)"
      ]
    },
    {
      "cell_type": "markdown",
      "metadata": {},
      "source": [
        "And plot the results\n\n"
      ]
    },
    {
      "cell_type": "code",
      "execution_count": null,
      "metadata": {
        "collapsed": false
      },
      "outputs": [],
      "source": [
        "plt.figure()\nsns.lineplot(x=t_eval, y=b_non_convex, errorbar=None)\nsns.lineplot(x=t_eval, y=b_convex, errorbar=None)\nplt.title(f\"Light Curves for {obj.file_name}\")\nplt.xlabel(\"Time [s]\")\nplt.ylabel(\"Normalized brightness\")\nplt.legend([\"LightCurveEngine\", \"Convex\"])\nplt.grid()\nplt.show()"
      ]
    },
    {
      "cell_type": "markdown",
      "metadata": {},
      "source": [
        "Plotting the error instead of the brightness values\n\n"
      ]
    },
    {
      "cell_type": "code",
      "execution_count": null,
      "metadata": {
        "collapsed": false
      },
      "outputs": [],
      "source": [
        "plt.figure()\nsns.lineplot(x=t_eval, y=b_non_convex - b_convex, errorbar=None)\nplt.title(f\"Light Curves Error for {obj.file_name}\")\nplt.xlabel(\"Time [s]\")\nplt.ylabel(\"Normalized brightness error\")\nplt.grid()\nplt.show()"
      ]
    },
    {
      "cell_type": "markdown",
      "metadata": {},
      "source": [
        "This is nice and small, which we like to see. If we repeat this process for a non-convex object, the error quickly becomes clear\n\n"
      ]
    },
    {
      "cell_type": "code",
      "execution_count": null,
      "metadata": {
        "collapsed": false
      },
      "outputs": [],
      "source": [
        "obj = ps.SpaceObject(\"tess.obj\")\nbrdf = ps.Brdf(\"phong\", cd=0.5, cs=0.5, n=10)\n\nb_non_convex = ps.run_engine(brdf, obj.file_name, svb, ovb, instance_count=1)\nb_convex = obj.compute_convex_light_curve(brdf, svb, ovb)\n\n\nplt.figure()\nsns.lineplot(x=t_eval, y=b_non_convex, errorbar=None)\nsns.lineplot(x=t_eval, y=b_convex, errorbar=None)\nplt.title(f\"Light Curves for {obj.file_name}\")\nplt.xlabel(\"Time [s]\")\nplt.ylabel(\"Normalized brightness\")\nplt.legend([\"LightCurveEngine\", \"Convex\"])\nplt.grid()\nplt.show()"
      ]
    }
  ],
  "metadata": {
    "kernelspec": {
      "display_name": "Python 3",
      "language": "python",
      "name": "python3"
    },
    "language_info": {
      "codemirror_mode": {
        "name": "ipython",
        "version": 3
      },
      "file_extension": ".py",
      "mimetype": "text/x-python",
      "name": "python",
      "nbconvert_exporter": "python",
      "pygments_lexer": "ipython3",
      "version": "3.10.11"
    }
  },
  "nbformat": 4,
  "nbformat_minor": 0
}