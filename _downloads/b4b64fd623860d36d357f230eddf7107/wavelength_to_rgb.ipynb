{
  "cells": [
    {
      "cell_type": "markdown",
      "metadata": {},
      "source": [
        "\n# RGB to Wavelength\nAn approximate conversion from RGB values to an equivalent wavelength\n"
      ]
    },
    {
      "cell_type": "code",
      "execution_count": null,
      "metadata": {
        "collapsed": false
      },
      "outputs": [],
      "source": [
        "import numpy as np\n\nimport mirage as mr\n\nwavelengths = np.linspace(400, 700, 1000) * 1e-9\nrgbs = mr.wavelength_to_rgb(wavelengths).reshape(1, -1, 3)\n\nimport matplotlib.pyplot as plt\n\nplt.figure(figsize=(6, 2))\nplt.imshow(rgbs, extent=[wavelengths.min(), wavelengths.max(), 0, 50])\nplt.yticks([])\nplt.xlabel(\"Wavelength (nm)\")\nplt.title(\"Wavelength to RGB\")\nplt.gca().invert_xaxis()\nplt.show()"
      ]
    }
  ],
  "metadata": {
    "kernelspec": {
      "display_name": "Python 3",
      "language": "python",
      "name": "python3"
    },
    "language_info": {
      "codemirror_mode": {
        "name": "ipython",
        "version": 3
      },
      "file_extension": ".py",
      "mimetype": "text/x-python",
      "name": "python",
      "nbconvert_exporter": "python",
      "pygments_lexer": "ipython3",
      "version": "3.10.12"
    }
  },
  "nbformat": 4,
  "nbformat_minor": 0
}