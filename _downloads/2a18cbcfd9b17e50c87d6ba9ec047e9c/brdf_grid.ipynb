{
  "cells": [
    {
      "cell_type": "markdown",
      "metadata": {},
      "source": [
        "\n# BRDFs on the local hemisphere\n\nBRDFs on a hemisphere centered around the surface normal vector\n"
      ]
    },
    {
      "cell_type": "code",
      "execution_count": null,
      "metadata": {
        "collapsed": false
      },
      "outputs": [],
      "source": [
        "import numpy as np\nimport pyspaceaware as ps\nimport vtk\nimport pyvista as pv"
      ]
    },
    {
      "cell_type": "markdown",
      "metadata": {},
      "source": [
        "Let's set up grids on the upper hemisphere of a unit sphere to compute the BRDF value at all those unit vectors\n\n"
      ]
    },
    {
      "cell_type": "code",
      "execution_count": null,
      "metadata": {
        "collapsed": false
      },
      "outputs": [],
      "source": [
        "num = 200\nel_space, az_space = np.linspace(0, np.pi / 2, num), np.linspace(0, 2 * np.pi, num)\nel_grid, az_grid = np.meshgrid(el_space, az_space)"
      ]
    },
    {
      "cell_type": "markdown",
      "metadata": {},
      "source": [
        "Now we can iterate through a range of specular exponents and BRDFs to visualize how the BRDF varies\n\n"
      ]
    },
    {
      "cell_type": "code",
      "execution_count": null,
      "metadata": {
        "collapsed": false
      },
      "outputs": [],
      "source": [
        "pl = pv.Plotter(shape=(2, 2))\npl.set_background(\"white\")\nfor i, n in enumerate([2, 8]):\n    for j, name in enumerate(ps.lighting._SUPPORTED_BRDFS):\n        brdf = ps.Brdf(name, cd=0.8, cs=0.2, n=n)\n        (xx, yy, zz) = ps.sph_to_cart(az_grid, el_grid, 0 * el_grid + 1)\n        O = np.hstack(\n            (\n                xx.reshape(((num**2, 1))),\n                yy.reshape(((num**2, 1))),\n                zz.reshape(((num**2, 1))),\n            )\n        )\n        L = ps.hat(np.tile(np.array([[0, 1, 1]]), (num**2, 1)))\n        N = ps.hat(np.tile(np.array([[0, 0, 1]]), (num**2, 1)))\n        b = brdf.eval(L, O, N).reshape(xx.shape)\n        mesh = pv.StructuredGrid(xx * b, yy * b, zz * b)\n        pl.subplot(i, j)\n        pl.add_text(\n            f\"{name.capitalize()}: ${n=}$\", font_size=12, font=\"arial\", color=\"black\"\n        )\n        pl.add_mesh(mesh, scalars=b.T, show_scalar_bar=False, cmap=\"isolum\")\n        ps.plot_basis(pl, np.eye(3), color=\"gray\")\n        ps.plot_arrow(\n            pl,\n            origin=[0, 0, 0],\n            direction=L[0, :],\n            scale=1,\n            color=\"yellow\",\n            label=\"L\",\n        )\n        ps.plot_arrow(\n            pl,\n            origin=[0, 0, 0],\n            direction=N[0, :],\n            scale=1,\n            color=\"red\",\n            label=\"N\",\n        )\n\npl.link_views()\npl.view_isometric()\npl.show()"
      ]
    }
  ],
  "metadata": {
    "kernelspec": {
      "display_name": "Python 3",
      "language": "python",
      "name": "python3"
    },
    "language_info": {
      "codemirror_mode": {
        "name": "ipython",
        "version": 3
      },
      "file_extension": ".py",
      "mimetype": "text/x-python",
      "name": "python",
      "nbconvert_exporter": "python",
      "pygments_lexer": "ipython3",
      "version": "3.10.11"
    }
  },
  "nbformat": 4,
  "nbformat_minor": 0
}