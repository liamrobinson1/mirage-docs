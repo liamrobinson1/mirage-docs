{
  "cells": [
    {
      "cell_type": "markdown",
      "metadata": {},
      "source": [
        "\n# Azimuth/Elevation Conversion\n\nGiven a station and a target in inertial space we can compute the azimuth and elevation of the object, or invert an azimuth and elevation into a new look direction\n"
      ]
    },
    {
      "cell_type": "code",
      "execution_count": null,
      "metadata": {
        "collapsed": false
      },
      "outputs": [],
      "source": [
        "import pyspaceaware as ps\nimport numpy as np\nimport pyvista as pv\nimport matplotlib.pyplot as plt"
      ]
    },
    {
      "cell_type": "markdown",
      "metadata": {},
      "source": [
        "Let's use the Purdue Optical Ground Station for this example\n\n"
      ]
    },
    {
      "cell_type": "code",
      "execution_count": null,
      "metadata": {
        "collapsed": false
      },
      "outputs": [],
      "source": [
        "station = ps.Station(preset=\"pogs\")\ndates = ps.date_linspace(ps.now(), ps.now() + ps.days(1), int(1e4)) + ps.hours(12)"
      ]
    },
    {
      "cell_type": "markdown",
      "metadata": {},
      "source": [
        "Let's extract the station's position in J2000 and create an ECI look direction which is just outwards and down towards the equator\n\n"
      ]
    },
    {
      "cell_type": "code",
      "execution_count": null,
      "metadata": {
        "collapsed": false
      },
      "outputs": [],
      "source": [
        "station_j2k = station.j2000_at_dates(dates)\n\neci_pos = station_j2k * 2\neci_pos[:, -1] = 0\n\ntarget_dir_eci = ps.hat(eci_pos - station_j2k)"
      ]
    },
    {
      "cell_type": "markdown",
      "metadata": {},
      "source": [
        "We can then turn this target direction into an azimuth/elevation pair\n\n"
      ]
    },
    {
      "cell_type": "code",
      "execution_count": null,
      "metadata": {
        "collapsed": false
      },
      "outputs": [],
      "source": [
        "az, el = station.eci_to_az_el(dates, target_dir_eci)\nprint(f\"{az[0]=} [rad]\")\nprint(f\"{el[0]=} [rad]\")"
      ]
    },
    {
      "cell_type": "markdown",
      "metadata": {},
      "source": [
        "And easily invert that into the same unit vector direction\n\n"
      ]
    },
    {
      "cell_type": "code",
      "execution_count": null,
      "metadata": {
        "collapsed": false
      },
      "outputs": [],
      "source": [
        "eci_hat = station.az_el_to_eci(az, el, dates)\nprint(\n    f\"ECI vector reconstruction error: {np.linalg.norm(target_dir_eci[0,:] - eci_hat[0,:])}\"\n)"
      ]
    },
    {
      "cell_type": "markdown",
      "metadata": {},
      "source": [
        "We can also display this resulting unit vector as a ray cast out from the observer, hitting the target\n\n"
      ]
    },
    {
      "cell_type": "code",
      "execution_count": null,
      "metadata": {
        "collapsed": false
      },
      "outputs": [],
      "source": [
        "s = 10\npl = pv.Plotter()\nstat_origin0 = station.j2000_at_dates(dates[0])\nps.plot_earth(pl, date=dates[0], high_def=True, atmosphere=False, borders=True)\nrotm = ps.EarthFixedFrame(\"itrf\", \"j2000\").rotms_at_dates(dates[0]) @ ps.enu_to_ecef(\n    station.itrf\n)\nps.plot_basis(\n    pl, rotm, labels=[\"E\", \"N\", \"U\"], origin=stat_origin0, scale=s * 100, color=\"linen\"\n)\nps.plot_arrow(\n    pl,\n    origin=stat_origin0,\n    direction=eci_hat[0, :],\n    scale=s * 100,\n    color=\"c\",\n    label=\"To object\",\n)\npl.camera.focal_point = stat_origin0\npl.camera.position = pl.camera.focal_point + s * np.array([300, 400, -200])\npl.show()"
      ]
    }
  ],
  "metadata": {
    "kernelspec": {
      "display_name": "Python 3",
      "language": "python",
      "name": "python3"
    },
    "language_info": {
      "codemirror_mode": {
        "name": "ipython",
        "version": 3
      },
      "file_extension": ".py",
      "mimetype": "text/x-python",
      "name": "python",
      "nbconvert_exporter": "python",
      "pygments_lexer": "ipython3",
      "version": "3.10.11"
    }
  },
  "nbformat": 4,
  "nbformat_minor": 0
}