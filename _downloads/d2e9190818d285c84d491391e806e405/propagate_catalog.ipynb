{
  "cells": [
    {
      "cell_type": "markdown",
      "metadata": {},
      "source": [
        "\n# Propagating the catalog\n\nLoad the full TLE catalog and propagate all objects to a given epoch\n"
      ]
    },
    {
      "cell_type": "code",
      "execution_count": null,
      "metadata": {
        "collapsed": false
      },
      "outputs": [],
      "source": [
        "import datetime\n\nimport numpy as np\nimport pyvista as pv\n\nimport mirage as mr\nimport mirage.vis as mrv"
      ]
    },
    {
      "cell_type": "markdown",
      "metadata": {},
      "source": [
        "First, let's define a function that plots the catalog at a given date\n\n"
      ]
    },
    {
      "cell_type": "code",
      "execution_count": null,
      "metadata": {
        "collapsed": false
      },
      "outputs": [],
      "source": [
        "def plot_catalog_at_date(pl: pv.Plotter, date: datetime.datetime):\n    r_eci = mr.propagate_catalog_to_dates(date)\n    mrv.plot_earth(\n        pl,\n        date=date,\n        atmosphere=True,\n        night_lights=True,\n    )\n    mrv.scatter3(\n        pl, r_eci, show_scalar_bar=False, point_size=3, lighting=False, color=\"k\"\n    )\n    pl.add_text(f\"{date.day}/{date.month}/{date.year}\", font=\"courier\")\n    pl.camera.focal_point = (0.0, 0.0, 0.0)\n    pl.camera.position = 180e3 * np.array([0, 0.01, 1])"
      ]
    },
    {
      "cell_type": "markdown",
      "metadata": {},
      "source": [
        "## Space in 2023 compared with space in 2000\n\n"
      ]
    },
    {
      "cell_type": "code",
      "execution_count": null,
      "metadata": {
        "collapsed": false
      },
      "outputs": [],
      "source": [
        "pl = pv.Plotter(shape=(1, 2), window_size=(2000, 1000))\npl.subplot(0, 1)\nplot_catalog_at_date(pl, mr.today())\npl.disable_anti_aliasing()\npl.subplot(0, 0)\nplot_catalog_at_date(pl, mr.today() - mr.years(23))\npl.disable_anti_aliasing()\npl.link_views()\npl.background_color = \"white\"\npl.show()"
      ]
    },
    {
      "cell_type": "markdown",
      "metadata": {},
      "source": [
        "## Space in 1980\n\n"
      ]
    },
    {
      "cell_type": "code",
      "execution_count": null,
      "metadata": {
        "collapsed": false
      },
      "outputs": [],
      "source": [
        "pl = pv.Plotter()\nplot_catalog_at_date(pl, mr.today() - mr.years(43))\npl.show()"
      ]
    }
  ],
  "metadata": {
    "kernelspec": {
      "display_name": "Python 3",
      "language": "python",
      "name": "python3"
    },
    "language_info": {
      "codemirror_mode": {
        "name": "ipython",
        "version": 3
      },
      "file_extension": ".py",
      "mimetype": "text/x-python",
      "name": "python",
      "nbconvert_exporter": "python",
      "pygments_lexer": "ipython3",
      "version": "3.10.12"
    }
  },
  "nbformat": 4,
  "nbformat_minor": 0
}