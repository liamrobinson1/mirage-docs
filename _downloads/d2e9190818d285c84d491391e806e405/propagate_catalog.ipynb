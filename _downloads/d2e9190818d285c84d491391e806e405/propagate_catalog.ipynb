{
  "cells": [
    {
      "cell_type": "markdown",
      "metadata": {},
      "source": [
        "\n# Propagating the catalog\n\nLoad the full TLE catalog and propagate all objects to a given epoch\n"
      ]
    },
    {
      "cell_type": "code",
      "execution_count": null,
      "metadata": {
        "collapsed": false
      },
      "outputs": [],
      "source": [
        "import pyspaceaware as ps\nimport pyvista as pv\nimport datetime\nimport numpy as np"
      ]
    },
    {
      "cell_type": "markdown",
      "metadata": {},
      "source": [
        "First, let's define a function that plots the catalog at a given date\n\n"
      ]
    },
    {
      "cell_type": "code",
      "execution_count": null,
      "metadata": {
        "collapsed": false
      },
      "outputs": [],
      "source": [
        "def plot_catalog_at_date(date: datetime.datetime):\n    r_eci = ps.propagate_catalog_to_dates(date)\n    pl = pv.Plotter()\n    ps.plot_earth(\n        pl,\n        date=date,\n        atmosphere=True,\n        night_lights=True,\n    )\n    ps.scatter3(\n        pl, r_eci, show_scalar_bar=False, point_size=5, lighting=False, color=\"lime\"\n    )\n    pl.camera.focal_point = (0.0, 0.0, 0.0)\n    pl.camera.position = 90e3 * np.array([1, 1, 0.3])\n    pl.show()"
      ]
    },
    {
      "cell_type": "markdown",
      "metadata": {},
      "source": [
        "## Space in 2023\n\n"
      ]
    },
    {
      "cell_type": "code",
      "execution_count": null,
      "metadata": {
        "collapsed": false
      },
      "outputs": [],
      "source": [
        "plot_catalog_at_date(ps.today())"
      ]
    },
    {
      "cell_type": "markdown",
      "metadata": {},
      "source": [
        "## Space in 2000\n\n"
      ]
    },
    {
      "cell_type": "code",
      "execution_count": null,
      "metadata": {
        "collapsed": false
      },
      "outputs": [],
      "source": [
        "plot_catalog_at_date(ps.today() - ps.years(23))"
      ]
    },
    {
      "cell_type": "markdown",
      "metadata": {},
      "source": [
        "## Space in 1980\n\n"
      ]
    },
    {
      "cell_type": "code",
      "execution_count": null,
      "metadata": {
        "collapsed": false
      },
      "outputs": [],
      "source": [
        "plot_catalog_at_date(ps.today() - ps.years(43))"
      ]
    }
  ],
  "metadata": {
    "kernelspec": {
      "display_name": "Python 3",
      "language": "python",
      "name": "python3"
    },
    "language_info": {
      "codemirror_mode": {
        "name": "ipython",
        "version": 3
      },
      "file_extension": ".py",
      "mimetype": "text/x-python",
      "name": "python",
      "nbconvert_exporter": "python",
      "pygments_lexer": "ipython3",
      "version": "3.10.11"
    }
  },
  "nbformat": 4,
  "nbformat_minor": 0
}