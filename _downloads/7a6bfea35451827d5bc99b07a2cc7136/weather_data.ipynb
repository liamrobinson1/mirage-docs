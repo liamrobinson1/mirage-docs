{
  "cells": [
    {
      "cell_type": "markdown",
      "metadata": {},
      "source": [
        "\n# Local Weather Data\nLocal pressure and temperature data for a given station\n"
      ]
    },
    {
      "cell_type": "code",
      "execution_count": null,
      "metadata": {
        "collapsed": false
      },
      "outputs": [],
      "source": [
        "import matplotlib.pyplot as plt\n\nimport mirage as mr\nimport mirage.vis as mrv\n\nstation = mr.Station(preset=\"pogs\")\ndates = mr.date_linspace(mr.utc(2020, 11, 30), mr.utc(2020, 12, 9), 100)\njds = mr.date_to_jd(dates)\ninterp_pressure, interp_temp = mr.pressure_and_temp_at_station(station, dates)\n\nplt.subplot(1, 2, 1)\nplt.plot(jds, interp_temp)\nmrv.texit(\"Station Temperature\", \"Julian date\", \"Temperature [${}^{\\circ}C$]\")\nplt.subplot(1, 2, 2)\nplt.plot(jds, interp_pressure)\nmrv.texit(\"Station Pressure\", \"Julian date\", \"Pressure [mbar]\")\nplt.tight_layout()\nplt.show()"
      ]
    }
  ],
  "metadata": {
    "kernelspec": {
      "display_name": "Python 3",
      "language": "python",
      "name": "python3"
    },
    "language_info": {
      "codemirror_mode": {
        "name": "ipython",
        "version": 3
      },
      "file_extension": ".py",
      "mimetype": "text/x-python",
      "name": "python",
      "nbconvert_exporter": "python",
      "pygments_lexer": "ipython3",
      "version": "3.10.12"
    }
  },
  "nbformat": 4,
  "nbformat_minor": 0
}