{
  "cells": [
    {
      "cell_type": "markdown",
      "metadata": {},
      "source": [
        "\n# TLE Switching\n\nVarious methods to switch between TLEs for more accurate long-term propagation\n"
      ]
    },
    {
      "cell_type": "code",
      "execution_count": null,
      "metadata": {
        "collapsed": false
      },
      "outputs": [],
      "source": [
        "import numpy as np\nimport pyvista as pv\n\nimport pyspaceaware as ps"
      ]
    },
    {
      "cell_type": "markdown",
      "metadata": {},
      "source": [
        "Let's use the SUPERBIRD 6 satellite\n\n"
      ]
    },
    {
      "cell_type": "code",
      "execution_count": null,
      "metadata": {
        "collapsed": false
      },
      "outputs": [],
      "source": [
        "satdefs = ps.load_satdef_array()\nsatnum = satdefs.get_satnum_by_name(\"SUPERBIRD 6\")"
      ]
    },
    {
      "cell_type": "markdown",
      "metadata": {},
      "source": [
        "And propagate for the previous 30 days\n\n"
      ]
    },
    {
      "cell_type": "code",
      "execution_count": null,
      "metadata": {
        "collapsed": false
      },
      "outputs": [],
      "source": [
        "dtimes, epsec_space = ps.date_linspace(\n    ps.now() - ps.days(30), ps.now(), int(1e4), return_epsecs=True\n)"
      ]
    },
    {
      "cell_type": "markdown",
      "metadata": {},
      "source": [
        "We can then propagate with three switching strategies:\n  - ``closest`` choses the closest TLE epoch to the current time\n  - ``newest`` choses the most previous recent TLE at each time\n  - ``interp`` choses the most recent and next TLEs and linearly interpolates between their propogated positions\n\n"
      ]
    },
    {
      "cell_type": "code",
      "execution_count": null,
      "metadata": {
        "collapsed": false
      },
      "outputs": [],
      "source": [
        "r_closest = ps.tle_propagate_with_switching(\n    satnum, dtimes, switch_strategy=\"closest\", frame=\"ecef\"\n)\nr_interp = ps.tle_propagate_with_switching(\n    satnum, dtimes, switch_strategy=\"interp\", frame=\"ecef\"\n)\nr_newest = ps.tle_propagate_with_switching(\n    satnum, dtimes, switch_strategy=\"newest\", frame=\"ecef\"\n)"
      ]
    },
    {
      "cell_type": "markdown",
      "metadata": {},
      "source": [
        "We can plot these trajectories to show that they result in similar trajectories\n\n"
      ]
    },
    {
      "cell_type": "code",
      "execution_count": null,
      "metadata": {
        "collapsed": false
      },
      "outputs": [],
      "source": [
        "pl = pv.Plotter()\nps.plot_earth(pl, date=dtimes[0], mode=\"eci\", night_lights=True, atmosphere=True)\nlw = 6\nps.plot3(pl, r_closest, color=\"c\", lighting=False, line_width=lw)\n# ps.plot3(pl, r_newest, color=\"m\", lighting=False, line_width=lw)\n# ps.plot3(pl, r_interp, color=\"lime\", lighting=False, line_width=lw)\nmid_point = r_interp[r_interp.shape[0] // 2, :]\npl.camera.focal_point = mid_point\npl.camera.position = (np.linalg.norm(mid_point) + 100_000) * (\n    ps.hat(mid_point) + np.array([0.0, 0.0, 0.4])\n)\npl.show()"
      ]
    },
    {
      "cell_type": "markdown",
      "metadata": {},
      "source": [
        "We can also plot the error between these switching methods. Clearly, the interpolated switching strategy is the most accurate choice\n\n"
      ]
    },
    {
      "cell_type": "code",
      "execution_count": null,
      "metadata": {
        "collapsed": false
      },
      "outputs": [],
      "source": [
        "import matplotlib.pyplot as plt\n\nplt.plot(epsec_space / 86400, ps.vecnorm(r_interp - r_closest))\nplt.plot(epsec_space / 86400, ps.vecnorm(r_newest - r_closest))\nplt.xlabel(\"Elapsed time [days]\")\nplt.ylabel(\"Position error [km]\")\nplt.legend([\"Interp - Closest\", \"Newest - Closest\"])\nplt.grid()\nplt.show()"
      ]
    }
  ],
  "metadata": {
    "kernelspec": {
      "display_name": "Python 3",
      "language": "python",
      "name": "python3"
    },
    "language_info": {
      "codemirror_mode": {
        "name": "ipython",
        "version": 3
      },
      "file_extension": ".py",
      "mimetype": "text/x-python",
      "name": "python",
      "nbconvert_exporter": "python",
      "pygments_lexer": "ipython3",
      "version": "3.10.11"
    }
  },
  "nbformat": 4,
  "nbformat_minor": 0
}