{
  "cells": [
    {
      "cell_type": "markdown",
      "metadata": {},
      "source": [
        "\n# Earth Albedo BRDF\n\nModeling the incident radiation at a spacecraft due to reflected sunlight from the Earth\n"
      ]
    },
    {
      "cell_type": "markdown",
      "metadata": {},
      "source": [
        "Useful papers not cited below:\n[Kuvyrkin 2016](https://arc.aiaa.org/doi/pdf/10.2514/1.A33349)\n[Strahler 1999](https://modis.gsfc.nasa.gov/data/atbd/atbd_mod09.pdf)\n\n"
      ]
    },
    {
      "cell_type": "markdown",
      "metadata": {},
      "source": [
        "Let's first load the coefficient arrays $f_{iso}$, $f_{geo}$, and $f_{vol}$ from file\n\n"
      ]
    },
    {
      "cell_type": "code",
      "execution_count": null,
      "metadata": {
        "collapsed": false
      },
      "outputs": [],
      "source": [
        "import matplotlib.pyplot as plt\nimport numpy as np\nimport pyspaceaware as ps\nfrom mpl_toolkits.axes_grid1 import make_axes_locatable\nimport json\n\nsave_dict = ps.load_albedo_file()\nfiso_map = np.array(save_dict[\"fiso_map\"])\nfgeo_map = np.array(save_dict[\"fgeo_map\"])\nfvol_map = np.array(save_dict[\"fvol_map\"])\nlat_geod_grid = np.array(save_dict[\"lat_geod_grid\"])\nlon_grid = np.array(save_dict[\"lon_grid\"])\nlat_geod_space = lat_geod_grid[:, 0]\nlon_space = lon_grid[0, :]\nmapshape = lon_grid.shape"
      ]
    },
    {
      "cell_type": "markdown",
      "metadata": {},
      "source": [
        "The surface BRDF function in [Blanc 2014](https://hal-mines-paristech.archives-ouvertes.fr/file/index/docid/1024989/filename/2014_igarss_albedo_blanc.pdf)\n\n"
      ]
    },
    {
      "cell_type": "code",
      "execution_count": null,
      "metadata": {
        "collapsed": false
      },
      "outputs": [],
      "source": [
        "pws = (\n    lambda ts, fiso, fgeo, fvol: fiso\n    + fvol * (-0.007574 - 0.070987 * ts**2 + 0.307588 * ts**3)\n    + fgeo * (-1.284909 - 0.166314 * ts**2 + 0.041840 * ts**3)\n)\npbs = (\n    lambda ts, fiso, fgeo, fvol: fiso\n    + 0.189184 * fvol\n    - 1.377622 * fgeo\n)\nalbedo = lambda ts, fiso, fgeo, fvol: 0.5 * pws(\n    ts, fiso, fgeo, fvol\n) + 0.5 * pbs(ts, fiso, fgeo, fvol)"
      ]
    },
    {
      "cell_type": "markdown",
      "metadata": {},
      "source": [
        "Now we define the date to evaluate the reflected albedo irradiance at and the ECEF position of the satellite\n\n"
      ]
    },
    {
      "cell_type": "code",
      "execution_count": null,
      "metadata": {
        "collapsed": false
      },
      "outputs": [],
      "source": [
        "date = ps.now()\ndatestr = f'{date.strftime(\"%Y-%m-%d %H:%M:%S\")} UTC'\nsat_pos_ecef = (6378 + 4e4) * ps.hat(np.array([[1, 1, 0]]))"
      ]
    },
    {
      "cell_type": "markdown",
      "metadata": {},
      "source": [
        "Now we identify all the useful geometry: the ECEF positions of the grid cells, the Sun vector, the solar zenith angle at each grid cell, and the albedo at each point\n\n"
      ]
    },
    {
      "cell_type": "code",
      "execution_count": null,
      "metadata": {
        "collapsed": false
      },
      "outputs": [],
      "source": [
        "ecef_grid = ps.lla_to_itrf(\n    lat_geod=lat_geod_grid.flatten(),\n    lon=lon_grid.flatten(),\n    a=0 * lon_grid.flatten(),\n)\neci_to_ecef_rotm = ps.ecef_to_eci(date).T\nsun_ecef_hat = (\n    eci_to_ecef_rotm @ ps.hat(ps.sun(ps.date_to_jd(date))).T\n).T\nsun_dir = np.tile(sun_ecef_hat, (ecef_grid.shape[0], 1))\nsolar_zenith = np.arccos(ps.dot(ps.hat(ecef_grid), sun_dir))\nsolar_zenith_grid = solar_zenith.reshape(mapshape)\nalbedo_grid = albedo(solar_zenith_grid, fiso_map, fgeo_map, fvol_map)"
      ]
    },
    {
      "cell_type": "markdown",
      "metadata": {},
      "source": [
        "For fun, let's classify the types of twilight to plot later\n\n"
      ]
    },
    {
      "cell_type": "code",
      "execution_count": null,
      "metadata": {
        "collapsed": false
      },
      "outputs": [],
      "source": [
        "solar_type_grid = np.zeros_like(solar_zenith_grid)\nsolar_type_grid[\n    (solar_zenith_grid > np.pi / 2)\n    & (solar_zenith_grid < np.pi / 2 + np.deg2rad(18))\n] = 3\n# Astronomical twilight\nsolar_type_grid[\n    (solar_zenith_grid > np.pi / 2)\n    & (solar_zenith_grid < np.pi / 2 + np.deg2rad(12))\n] = 2\n# Nautical twilight\nsolar_type_grid[\n    (solar_zenith_grid > np.pi / 2)\n    & (solar_zenith_grid < np.pi / 2 + np.deg2rad(6))\n] = 1\n# Civil twilight\nsolar_type_grid[solar_zenith_grid > np.pi / 2 + np.deg2rad(16)] = 4\n# Night"
      ]
    },
    {
      "cell_type": "markdown",
      "metadata": {},
      "source": [
        "Computing which grid cells are visible from the satellite\n\n"
      ]
    },
    {
      "cell_type": "code",
      "execution_count": null,
      "metadata": {
        "collapsed": false
      },
      "outputs": [],
      "source": [
        "surf_to_sat = sat_pos_ecef - ecef_grid\nsurf_to_sat_dir = ps.hat(surf_to_sat)\nsurf_to_sat_rmag_m_grid = 1e3 * ps.vecnorm(surf_to_sat).reshape(\n    mapshape\n)\ntosat_to_normal_ang = np.arccos(\n    ps.dot(ps.hat(ecef_grid), surf_to_sat_dir)\n)\ntosat_to_normal_grid = tosat_to_normal_ang.reshape(mapshape)\npt_visible_from_sat = tosat_to_normal_grid < np.pi / 2\n\n# Visible and illuminated points\nill_and_vis = pt_visible_from_sat & (solar_type_grid == 0)\nloss_at_surf = (\n    np.cos(solar_zenith_grid) * np.cos(tosat_to_normal_grid)\n) * ill_and_vis\nis_ocean = np.abs(albedo_grid - albedo_grid[0, 0]) < 1e-8\nloss_at_surface_specular = (\n    ps.brdf_phong(\n        sun_dir, surf_to_sat_dir, ps.hat(ecef_grid), 0, 0.4, 10\n    ).reshape(mapshape)\n    * is_ocean\n)\n\nobs_type_grid = np.zeros_like(solar_zenith_grid)\nobs_type_grid[pt_visible_from_sat] = 1\nobs_type_grid[(solar_type_grid == 0) & ~pt_visible_from_sat] = 2\nobs_type_grid[ill_and_vis] = 3"
      ]
    },
    {
      "cell_type": "markdown",
      "metadata": {},
      "source": [
        "Computes the areas of each grid cell\n\n"
      ]
    },
    {
      "cell_type": "code",
      "execution_count": null,
      "metadata": {
        "collapsed": false
      },
      "outputs": [],
      "source": [
        "dp, dt = (\n    lat_geod_space[1] - lat_geod_space[0],\n    lon_space[1] - lon_space[0],\n)\ncell_area_grid = np.tile(\n    np.array(\n        [\n            ps.lat_lon_cell_area((p + dp, p), (0, dt))\n            for p in lat_geod_space\n        ]\n    ).reshape(-1, 1),\n    (1, lon_space.size),\n)"
      ]
    },
    {
      "cell_type": "markdown",
      "metadata": {},
      "source": [
        "Computing Lambertian reflection (for the land) and Phong reflection (for the ocean) from each grid cell\n\n"
      ]
    },
    {
      "cell_type": "code",
      "execution_count": null,
      "metadata": {
        "collapsed": false
      },
      "outputs": [],
      "source": [
        "rmag_loss_grid = 1 / surf_to_sat_rmag_m_grid**2\nirrad_from_surf = (\n    1361\n    * rmag_loss_grid\n    * cell_area_grid\n    * (loss_at_surf * albedo_grid + loss_at_surface_specular)\n)\nprint(f\"{np.sum(irrad_from_surf):.2e}\")"
      ]
    },
    {
      "cell_type": "markdown",
      "metadata": {},
      "source": [
        "Let's compare with the implementation in the pyspaceaware package\n\n"
      ]
    },
    {
      "cell_type": "code",
      "execution_count": null,
      "metadata": {
        "collapsed": false
      },
      "outputs": [],
      "source": [
        "ps.tic()\nalb_irrad = ps.albedo_irradiance(date, sat_pos_ecef)\nps.toc()\nprint(f\"{alb_irrad:.2e}\")"
      ]
    },
    {
      "cell_type": "markdown",
      "metadata": {},
      "source": [
        "Defining a few useful functions to simplify the plotting process\n\n"
      ]
    },
    {
      "cell_type": "code",
      "execution_count": null,
      "metadata": {
        "collapsed": false
      },
      "outputs": [],
      "source": [
        "bcmap = \"PiYG\"\n\n\ndef plt_map_under(ax):\n    ax.imshow(\n        albedo_grid, cmap=\"gray\", alpha=0.3, extent=[-180, 180, -90, 90]\n    )\n\n\ndef get_cbar_ax(ax):\n    return make_axes_locatable(ax).append_axes(\n        \"right\", size=\"5%\", pad=0.05\n    )\n\n\ndef label_map_axes(ax):\n    ax.set_xlabel(\"Longitude [deg]\")\n    ax.set_ylabel(\"Latitude [deg]\")"
      ]
    },
    {
      "cell_type": "markdown",
      "metadata": {},
      "source": [
        "Plotting the albedo across the grid\n\n"
      ]
    },
    {
      "cell_type": "code",
      "execution_count": null,
      "metadata": {
        "collapsed": false
      },
      "outputs": [],
      "source": [
        "fig, ax = plt.subplots()\nplt.imshow(albedo_grid, cmap=\"PuBuGn_r\", extent=[-180, 180, -90, 90])\nax.set_title(\"March Mean Albedo\")\ncb = plt.colorbar(label=\"Surface Albedo\", cax=get_cbar_ax(ax))\nlabel_map_axes(ax)\nplt.tight_layout()\nplt.show()"
      ]
    },
    {
      "cell_type": "markdown",
      "metadata": {},
      "source": [
        "Plotting the solar zenith angle\n\n"
      ]
    },
    {
      "cell_type": "code",
      "execution_count": null,
      "metadata": {
        "collapsed": false
      },
      "outputs": [],
      "source": [
        "fig, ax = plt.subplots()\nplt.colorbar(\n    ax.imshow(\n        solar_zenith_grid, cmap=\"Blues\", extent=[-180, 180, -90, 90]\n    ),\n    label=\"Solar zenith angle [rad]\",\n    cax=get_cbar_ax(ax),\n)\nplt_map_under(ax)\nax.set_title(f\"Solar Zenith Angles: {datestr}\")\nlabel_map_axes(ax)\nplt.tight_layout()\nplt.show()"
      ]
    },
    {
      "cell_type": "markdown",
      "metadata": {},
      "source": [
        "Plotting the twilight types\n\n"
      ]
    },
    {
      "cell_type": "code",
      "execution_count": null,
      "metadata": {
        "collapsed": false
      },
      "outputs": [],
      "source": [
        "fig, ax = plt.subplots()\ncb = plt.colorbar(\n    ax.imshow(\n        solar_type_grid, cmap=\"Blues\", extent=[-180, 180, -90, 90]\n    ),\n    cax=get_cbar_ax(ax),\n)\ncb.set_ticks(range(5))\ncb.set_ticklabels(\n    [\n        \"Day\",\n        \"Civil twilight\",\n        \"Nautical twilight\",\n        \"Astronomical twilight\",\n        \"Night\",\n    ]\n)\nplt_map_under(ax)\nax.set_title(f\"Twilight Types: {datestr}\")\nlabel_map_axes(ax)\nplt.tight_layout()\nplt.show()"
      ]
    },
    {
      "cell_type": "markdown",
      "metadata": {},
      "source": [
        "Plotting grid cell visibility and illumination conditions\n\n"
      ]
    },
    {
      "cell_type": "code",
      "execution_count": null,
      "metadata": {
        "collapsed": false
      },
      "outputs": [],
      "source": [
        "fig, ax = plt.subplots()\ncb = plt.colorbar(\n    ax.imshow(\n        obs_type_grid,\n        cmap=plt.cm.get_cmap(\"Paired\", 4),\n        interpolation=\"nearest\",\n        extent=[-180, 180, -90, 90],\n    ),\n    cax=get_cbar_ax(ax),\n)\ncb.set_ticks(range(4))\ncb.set_ticklabels(\n    [\n        \"Not visible or illum.\",\n        \"Visible not illum.\",\n        \"Illum. not visible\",\n        \"Illum. and visible\",\n    ]\n)\nplt_map_under(ax)\nax.set_title(f\"Observation Conditions: {datestr}\")\nlabel_map_axes(ax)\nplt.tight_layout()\nplt.show()"
      ]
    },
    {
      "cell_type": "markdown",
      "metadata": {},
      "source": [
        "BRDF kernel values at each point\n\n"
      ]
    },
    {
      "cell_type": "code",
      "execution_count": null,
      "metadata": {
        "collapsed": false
      },
      "outputs": [],
      "source": [
        "fig, ax = plt.subplots()\nplt.colorbar(\n    ax.imshow(\n        loss_at_surf + loss_at_surface_specular,\n        cmap=\"Blues\",\n        extent=[-180, 180, -90, 90],\n    ),\n    label=\"\",\n    cax=get_cbar_ax(ax),\n)\nplt_map_under(ax)\nax.set_title(f\"BRDF Kernel: {datestr}\")\nlabel_map_axes(ax)\nplt.tight_layout()\nplt.show()"
      ]
    },
    {
      "cell_type": "markdown",
      "metadata": {},
      "source": [
        "Plotting the areas of each grid cell\n\n"
      ]
    },
    {
      "cell_type": "code",
      "execution_count": null,
      "metadata": {
        "collapsed": false
      },
      "outputs": [],
      "source": [
        "fig, ax = plt.subplots()\nplt.colorbar(\n    ax.imshow(\n        cell_area_grid, cmap=\"Blues\", extent=[-180, 180, -90, 90]\n    ),\n    label=\"$[m^2]$\",\n    cax=get_cbar_ax(ax),\n)\nplt_map_under(ax)\nax.set_title(f\"Cell Areas: {datestr}\")\nlabel_map_axes(ax)\nplt.tight_layout()\nplt.show()"
      ]
    },
    {
      "cell_type": "markdown",
      "metadata": {},
      "source": [
        "Plotting the irradiance from each grid cell\n\n"
      ]
    },
    {
      "cell_type": "code",
      "execution_count": null,
      "metadata": {
        "collapsed": false
      },
      "outputs": [],
      "source": [
        "fig, ax = plt.subplots()\nplt_map_under(ax)\nplt.colorbar(\n    ax.imshow(irrad_from_surf, cmap=\"hot\", extent=[-180, 180, -90, 90]),\n    label=r\"$\\left[W/m^2\\right]$\",\n    cax=get_cbar_ax(ax),\n)\nax.set_title(rf\"Reflected Irradiance: {datestr}\")\nlabel_map_axes(ax)\nplt.tight_layout()\nplt.show()"
      ]
    }
  ],
  "metadata": {
    "kernelspec": {
      "display_name": "Python 3",
      "language": "python",
      "name": "python3"
    },
    "language_info": {
      "codemirror_mode": {
        "name": "ipython",
        "version": 3
      },
      "file_extension": ".py",
      "mimetype": "text/x-python",
      "name": "python",
      "nbconvert_exporter": "python",
      "pygments_lexer": "ipython3",
      "version": "3.10.11"
    }
  },
  "nbformat": 4,
  "nbformat_minor": 0
}