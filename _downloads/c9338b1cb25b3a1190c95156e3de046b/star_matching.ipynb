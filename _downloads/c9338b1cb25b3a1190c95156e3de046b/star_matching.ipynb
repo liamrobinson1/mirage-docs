{
  "cells": [
    {
      "cell_type": "markdown",
      "metadata": {},
      "source": [
        "\n# Star Matching\n\nGiven star centroid locations and an initial estimate of the look direction and tracking rate, fit the catalog\n"
      ]
    },
    {
      "cell_type": "code",
      "execution_count": null,
      "metadata": {
        "collapsed": false
      },
      "outputs": [],
      "source": [
        "import os\n\nimport matplotlib.pyplot as plt\nimport numpy as np\n\nimport mirage as mr\n\n\ndef expected_star_centroids_in_fits(\n    fits_info: dict,\n    catalog: mr.StarCatalog,\n    mean_look_dir: np.ndarray,\n    limiting_magnitude: float = 15.0,\n) -> list[dict]:\n    tracking_normal = mr.hat(\n        np.cross(fits_info[\"look_dirs_eci\"][0, :], fits_info[\"look_dirs_eci\"][1, :])\n    )\n    img_prepared = mr.prepare_fits_for_plotting(fits_info)\n    theta = mr.solve_star_streak_angle(img_prepared)\n    dcm = mr.rv_to_dcm(mean_look_dir * (theta + np.pi / 2))\n    up_dir_eci = mr.stack_mat_mult_vec(dcm, tracking_normal)\n\n    uvs_in_frame, vm_in_frame = catalog.in_fov(\n        mean_look_dir, up_dir_eci, limiting_magnitude=limiting_magnitude\n    )\n    star_xs, star_ys = station.telescope.j2000_unit_vectors_to_pixels(\n        mean_look_dir, up_dir_eci, uvs_in_frame\n    )\n    return [\n        {\"centroid\": np.array((x, y)), \"brightness\": m}\n        for x, y, m in zip(star_xs, star_ys, vm_in_frame)\n    ]\n\n\nstation = mr.Station()\ndate = mr.now()\nmr.tic(\"Loading star catalog\")\ncatalog = mr.StarCatalog(\"gaia\", station, date)\nmr.toc()"
      ]
    },
    {
      "cell_type": "markdown",
      "metadata": {},
      "source": [
        "Let's figure out the streak direction\n\n"
      ]
    },
    {
      "cell_type": "code",
      "execution_count": null,
      "metadata": {
        "collapsed": false
      },
      "outputs": [],
      "source": [
        "fits_path = os.path.join(os.environ[\"SRCDIR\"], \"..\", \"00161295.48859.fit\")\nfits_info = mr.info_from_fits(fits_path)\n\nimg = fits_info[\"ccd_adu\"]\nmean_look_dir = mr.hat(\n    fits_info[\"look_dirs_eci\"][0, :] + fits_info[\"look_dirs_eci\"][1, :]\n)\nimg_raw = img.copy()\nimg_log10 = np.log10(img)\nimg = np.log10(img - mr.image_background_parabola(img))\nimg[img < 1] = 0\nimg[np.isnan(img) | np.isinf(np.abs(img))] = 0\n\ntheta_rad = -mr.solve_star_streak_angle(img)\n# print(f\"Streak angle: {np.rad2deg(theta_rad)} degrees\")\n# enddd\n\nup_dir_eci = mr.fits_up_direction(fits_info)\n\nstation.telescope.fwhm = 4\nmr.tic()\nadu_grid_streaked_sampled = station.telescope.ccd.generate_ccd_image(\n    fits_info[\"dates\"],\n    station,\n    fits_info[\"look_dirs_eci\"],\n    [1e4],\n    catalog,\n    scope_up_hat_eci=up_dir_eci,\n    hot_pixel_probability=0,\n    dead_pixel_probability=0,\n    add_parabola=False,\n    scintillation=False,\n)\nmr.toc()\n\nadu_grid_streaked_sampled = np.log10(\n    adu_grid_streaked_sampled - mr.image_background_naive(adu_grid_streaked_sampled)[1]\n)\nadu_grid_streaked_sampled[adu_grid_streaked_sampled < 1] = 0\nadu_grid_streaked_sampled[\n    np.isnan(adu_grid_streaked_sampled) | np.isinf(np.abs(adu_grid_streaked_sampled))\n] = 0\n\nstars_expected = expected_star_centroids_in_fits(\n    fits_info, catalog, mean_look_dir, limiting_magnitude=12.0\n)\nstars_found = stars = mr.solve_star_centroids(fits_info)\n\n# plt.subplot(1, 2, 1)\n# plt.imshow(img, cmap=\"gray\")\n# for star in stars_expected:\n#     plt.plot(img.shape[0] - star[\"centroid\"][0], star[\"centroid\"][1], \"c+\")\n# for star in stars_found:\n#     plt.plot(star[\"centroid\"][0], star[\"centroid\"][1], \"m*\")\n# mrv.texit(\"True Image\", \"\", \"\", grid=False)\n# plt.subplot(1, 2, 2)\n# plt.imshow(adu_grid_streaked_sampled, cmap=\"gray\")\n# for star in stars_expected:\n#     plt.plot(img.shape[0] - star[\"centroid\"][0], star[\"centroid\"][1], \"c+\")\n# for star in stars_found:\n#     plt.plot(star[\"centroid\"][0], star[\"centroid\"][1], \"m*\")\n# mrv.texit(\"Synthetic Image\", \"\", \"\", grid=False)\n# plt.show()"
      ]
    },
    {
      "cell_type": "markdown",
      "metadata": {},
      "source": [
        "Overlaying the two images\nplt.imshow(img, cmap=\"gray\", alpha=0.5)\nplt.imshow(adu_grid_streaked_sampled, cmap=\"gray_r\", alpha=0.5)\nplt.show()\n\n"
      ]
    },
    {
      "cell_type": "markdown",
      "metadata": {},
      "source": [
        "We're close, but we need to solve for the slight rotation and translation between the two images\n\n"
      ]
    },
    {
      "cell_type": "code",
      "execution_count": null,
      "metadata": {
        "collapsed": false
      },
      "outputs": [],
      "source": [
        "plt.imshow(adu_grid_streaked_sampled, cmap=\"gray\")\n\n# building a tree for the expected stars\nfrom scipy.spatial import KDTree\n\nexpected_centroids = np.array([star[\"centroid\"].flatten() for star in stars_expected])\nexpected_centroids[:, 0] = img.shape[0] - expected_centroids[:, 0]\ntree = KDTree(expected_centroids)\nfound_centroids = np.array([star[\"centroid\"].flatten() for star in stars_found])\n\n# finding the nearest neighbor for each found star\nnearest = [tree.query(star[\"centroid\"].T)[1] for star in stars_found]\nnearest_expected_centroid = expected_centroids[nearest]\n\n\n# Rotating expected -> true 90 degrees prograde\nnearest_expected_to_found = found_centroids - nearest_expected_centroid\nexpected_to_found_dist = mr.vecnorm(nearest_expected_to_found)\n# only use the middle 50 inds to avoid outliers\nuse_inds = np.argsort(expected_to_found_dist.flatten())[\n    expected_to_found_dist.size // 4 : -expected_to_found_dist.size // 4\n]\nnearest_expected_to_found = nearest_expected_to_found[use_inds]\nnearest_expected_centroid = nearest_expected_centroid[use_inds]\nfound_centroids = found_centroids[use_inds]\nnearest = [nearest[i] for i in use_inds]\nexpected_to_found_dist = expected_to_found_dist[use_inds]\nrotated_found_centroids = found_centroids\n\nfor i in range(1):\n    nearest_expected_to_found_perp = np.array(\n        [nearest_expected_to_found[:, 1], -nearest_expected_to_found[:, 0]]\n    ).T\n    nearest_expected_to_found_perp = mr.hat(nearest_expected_to_found_perp) * 1000\n    # plotting this line from the mean of the line segment\n    mean_points = (rotated_found_centroids + nearest_expected_centroid) / 2\n\n    # least squares intersection point\n    int_point = mr.least_squares_line_intersection(\n        mean_points, mean_points + nearest_expected_to_found_perp\n    )\n\n    means_to_int = int_point - mean_points\n    means_to_int_dist = mr.vecnorm(means_to_int)\n    rotation_angle = np.arctan(expected_to_found_dist / means_to_int_dist)\n    med_rot_angle = np.median(rotation_angle)\n\n    rotated_found_centroids = mr.rotate_points_about_point(\n        rotated_found_centroids, med_rot_angle, int_point\n    )\n    nearest_expected_to_found = rotated_found_centroids - nearest_expected_centroid\n    print(f\"Rotation angle: {np.rad2deg(med_rot_angle)} degrees\")\n    print(f\"Intersection point: {int_point}\")\n    print(\n        f\"Mean pixel error after rotation: {mr.vecnorm(nearest_expected_to_found).mean()}\"\n    )\n\nplt.plot(int_point[0], int_point[1], \"g*\")\n\nfor i in range(len(found_centroids)):\n    plt.plot(found_centroids[i, 0], found_centroids[i, 1], \"m*\")\n    plt.plot(nearest_expected_centroid[i, 0], nearest_expected_centroid[i, 1], \"c+\")\n\n    plt.plot(\n        [nearest_expected_centroid[i, 0], found_centroids[i, 0]],\n        [nearest_expected_centroid[i, 1], found_centroids[i, 1]],\n        \"r-\",\n    )\n    plt.plot(\n        [mean_points[i, 0], mean_points[i, 0] + nearest_expected_to_found_perp[i, 0]],\n        [mean_points[i, 1], mean_points[i, 1] + nearest_expected_to_found_perp[i, 1]],\n        \"y-\",\n    )\n\n    plt.plot(rotated_found_centroids[i, 0], rotated_found_centroids[i, 1], \"b*\")\n\nplt.xlim(0, img.shape[1])\nplt.ylim(0, img.shape[0])\nplt.show()"
      ]
    },
    {
      "cell_type": "markdown",
      "metadata": {},
      "source": [
        "Now we solve for the translation\n\n"
      ]
    },
    {
      "cell_type": "code",
      "execution_count": null,
      "metadata": {
        "collapsed": false
      },
      "outputs": [],
      "source": [
        "use_inds = np.argsort(mr.vecnorm(nearest_expected_to_found).flatten())[\n    nearest_expected_to_found.shape[0] // 4 : -nearest_expected_to_found.shape[0] // 4\n]\nmean_error = nearest_expected_to_found[use_inds].mean(axis=0)\nprint(f\"Mean translation error: {mean_error}\")\nrotated_and_translated_found_centroids = rotated_found_centroids - mean_error\nnearest_expected_to_found = (\n    rotated_and_translated_found_centroids - nearest_expected_centroid\n)\nprint(\n    f\"Mean pixel error after translation: {mr.vecnorm(nearest_expected_to_found[use_inds]).mean()}\"\n)\n\nplt.imshow(adu_grid_streaked_sampled, cmap=\"gray\")\n\nfor i in range(len(found_centroids)):\n    plt.plot(found_centroids[i, 0], found_centroids[i, 1], \"m*\")\n    plt.plot(nearest_expected_centroid[i, 0], nearest_expected_centroid[i, 1], \"c+\")\n\n    plt.plot(rotated_found_centroids[i, 0], rotated_found_centroids[i, 1], \"b*\")\n\n    plt.plot(\n        rotated_and_translated_found_centroids[i, 0],\n        rotated_and_translated_found_centroids[i, 1],\n        \"y*\",\n    )\n\nplt.xlim(0, img.shape[1])\nplt.ylim(0, img.shape[0])\nplt.show()"
      ]
    }
  ],
  "metadata": {
    "kernelspec": {
      "display_name": "Python 3",
      "language": "python",
      "name": "python3"
    },
    "language_info": {
      "codemirror_mode": {
        "name": "ipython",
        "version": 3
      },
      "file_extension": ".py",
      "mimetype": "text/x-python",
      "name": "python",
      "nbconvert_exporter": "python",
      "pygments_lexer": "ipython3",
      "version": "3.10.13"
    }
  },
  "nbformat": 4,
  "nbformat_minor": 0
}