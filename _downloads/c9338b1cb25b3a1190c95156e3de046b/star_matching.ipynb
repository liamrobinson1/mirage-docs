{
  "cells": [
    {
      "cell_type": "markdown",
      "metadata": {},
      "source": [
        "\n# Star Matching\n\nGiven star centroid locations and an initial estimate of the look direction and tracking rate, fit the catalog\n"
      ]
    },
    {
      "cell_type": "code",
      "execution_count": null,
      "metadata": {
        "collapsed": false
      },
      "outputs": [],
      "source": [
        "import os\n\nimport matplotlib.pyplot as plt\nimport numpy as np\n\nimport mirage as mr\nimport mirage.vis as mrv\n\nstation = mr.Station()\ndate = mr.now()\nmr.tic(\"Loading star catalog\")\ncatalog = mr.StarCatalog(\"gaia\", station, date, limiting_magnitude=13)\nmr.toc()"
      ]
    },
    {
      "cell_type": "markdown",
      "metadata": {},
      "source": [
        "Let's figure out the streak direction\n\n"
      ]
    },
    {
      "cell_type": "code",
      "execution_count": null,
      "metadata": {
        "collapsed": false
      },
      "outputs": [],
      "source": [
        "fits_path = os.path.join(os.environ[\"SRCDIR\"], \"..\", \"00161295.48859.fit\")\nfits_info = mr.info_from_fits(fits_path)\n\nimg = fits_info[\"ccd_adu\"]\nimg_raw = img.copy()\nimg_log10 = np.log10(img)\nimg = np.log10(img - mr.image_background_parabola(img))\nimg[img < 1] = 0\nimg[np.isnan(img) | np.isinf(np.abs(img))] = 0\n\nup_dir_eci = mr.fits_up_direction(fits_info)\n\nstation.telescope.fwhm = 4\nmr.tic()\nadu_grid_streaked_sampled = station.telescope.ccd.generate_ccd_image(\n    fits_info[\"dates\"],\n    station,\n    fits_info[\"look_dirs_eci\"],\n    [1e4],\n    catalog,\n    scope_up_hat_eci=up_dir_eci,\n    hot_pixel_probability=0,\n    dead_pixel_probability=0,\n    add_parabola=False,\n    scintillation=False,\n)\nmr.toc()\n\nadu_grid_streaked_sampled = np.log10(\n    adu_grid_streaked_sampled - mr.image_background_naive(adu_grid_streaked_sampled)[1]\n)\nadu_grid_streaked_sampled[adu_grid_streaked_sampled < 1] = 0\nadu_grid_streaked_sampled[\n    np.isnan(adu_grid_streaked_sampled) | np.isinf(np.abs(adu_grid_streaked_sampled))\n] = 0\n\nplt.subplot(1, 2, 1)\nplt.imshow(img, cmap=\"gray\")\nmrv.texit(\"True Image\", \"\", \"\", grid=False)\nplt.subplot(1, 2, 2)\nplt.imshow(adu_grid_streaked_sampled, cmap=\"gray\")\nmrv.texit(\"Synthetic Image\", \"\", \"\", grid=False)\nplt.show()"
      ]
    }
  ],
  "metadata": {
    "kernelspec": {
      "display_name": "Python 3",
      "language": "python",
      "name": "python3"
    },
    "language_info": {
      "codemirror_mode": {
        "name": "ipython",
        "version": 3
      },
      "file_extension": ".py",
      "mimetype": "text/x-python",
      "name": "python",
      "nbconvert_exporter": "python",
      "pygments_lexer": "ipython3",
      "version": "3.10.13"
    }
  },
  "nbformat": 4,
  "nbformat_minor": 0
}