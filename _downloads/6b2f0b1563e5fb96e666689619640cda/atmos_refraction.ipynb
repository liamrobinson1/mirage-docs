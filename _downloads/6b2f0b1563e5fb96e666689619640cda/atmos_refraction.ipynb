{
  "cells": [
    {
      "cell_type": "markdown",
      "metadata": {},
      "source": [
        "\n# Atmospheric Refraction\nComputing the effect of atmospheric refraction on observations\n"
      ]
    },
    {
      "cell_type": "code",
      "execution_count": null,
      "metadata": {
        "collapsed": false
      },
      "outputs": [],
      "source": [
        "import numpy as np\nfrom scipy.optimize import fsolve\n\nimport mirage as mr\nimport mirage.vis as mrv\n\n\ndef apparent_refacted_elevation(pressure_mbar: np.ndarray, temp_kelvin: np.ndarray, el_true_rad: np.ndarray) -> np.ndarray:\n    el_true_deg = np.rad2deg(el_true_rad)\n    h_func = lambda hprime: \\\n        - hprime + pressure_mbar/temp_kelvin * (3.430289 * ((90 - hprime) - \\\n        mr.asind(0.9986047 * mr.sind(0.996714 * (90 - hprime)))) \\\n        - 0.01115929*(90-hprime)) + el_true_deg\n    # If this function is zero, the correct apparent elevation has been identified \n    hprime = np.deg2rad(fsolve(h_func, el_true_deg))\n    return hprime\n\ntrue_el = np.linspace(0, np.pi/2, int(1e3))\napparent_el = apparent_refacted_elevation(1028.4463393, 277.594, true_el)\n\nimport matplotlib.pyplot as plt\n\nplt.plot(np.rad2deg(true_el), np.rad2deg(apparent_el))\nmrv.texit(\"Atmospheric Refraction\", \"True elevation [deg]\", \"Apparent elevation [deg]\")\nplt.ylim(0,90)\nplt.xlim(0,90)\nplt.show()"
      ]
    }
  ],
  "metadata": {
    "kernelspec": {
      "display_name": "Python 3",
      "language": "python",
      "name": "python3"
    },
    "language_info": {
      "codemirror_mode": {
        "name": "ipython",
        "version": 3
      },
      "file_extension": ".py",
      "mimetype": "text/x-python",
      "name": "python",
      "nbconvert_exporter": "python",
      "pygments_lexer": "ipython3",
      "version": "3.10.12"
    }
  },
  "nbformat": 4,
  "nbformat_minor": 0
}