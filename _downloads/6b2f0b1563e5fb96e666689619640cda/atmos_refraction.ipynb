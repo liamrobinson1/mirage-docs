{
  "cells": [
    {
      "cell_type": "markdown",
      "metadata": {},
      "source": [
        "\n# Atmospheric Refraction\nComputing the effect of atmospheric refraction on observations\n"
      ]
    },
    {
      "cell_type": "code",
      "execution_count": null,
      "metadata": {
        "collapsed": false
      },
      "outputs": [],
      "source": [
        "import numpy as np\nfrom scipy.optimize import root\n\nimport mirage as mr\nimport mirage.vis as mrv\n\n\ndef apparent_refacted_elevation(\n    pressure_mbar: np.ndarray, temp_kelvin: np.ndarray, el_true_rad: np.ndarray\n) -> np.ndarray:\n    el_true_deg = np.rad2deg(el_true_rad)\n    h_func = (\n        lambda hprime: -hprime\n        + pressure_mbar\n        / temp_kelvin\n        * (\n            3.430289\n            * ((90 - hprime) - mr.asind(0.9986047 * mr.sind(0.996714 * (90 - hprime))))\n            - 0.01115929 * (90 - hprime)\n        )\n        / 60\n        + el_true_deg\n    )\n    # If this function is zero, the correct apparent elevation has been identified\n    hprime = np.deg2rad(root(fun=h_func, x0=el_true_deg, method=\"diagbroyden\").x)\n    return hprime\n\n\ntrue_el = np.deg2rad(np.linspace(0, 90, int(1e5)))\n\nmr.tic()\napparent_el = apparent_refacted_elevation(1028.4463393, 277.594, true_el)\nmr.toc()\n\nimport matplotlib.pyplot as plt\n\nplt.plot(np.rad2deg(true_el), np.rad2deg(apparent_el - true_el))\nmrv.texit(\n    \"Atmospheric Refraction\", \"True elevation $h$\", \"Refraction $R = h' - h$ [deg]\"\n)\nplt.xlim(0, 90)\nplt.ylim(0, 0.53)\nplt.show()"
      ]
    }
  ],
  "metadata": {
    "kernelspec": {
      "display_name": "Python 3",
      "language": "python",
      "name": "python3"
    },
    "language_info": {
      "codemirror_mode": {
        "name": "ipython",
        "version": 3
      },
      "file_extension": ".py",
      "mimetype": "text/x-python",
      "name": "python",
      "nbconvert_exporter": "python",
      "pygments_lexer": "ipython3",
      "version": "3.10.13"
    }
  },
  "nbformat": 4,
  "nbformat_minor": 0
}