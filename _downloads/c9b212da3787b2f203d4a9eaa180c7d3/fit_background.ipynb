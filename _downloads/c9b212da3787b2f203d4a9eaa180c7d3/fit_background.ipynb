{
  "cells": [
    {
      "cell_type": "markdown",
      "metadata": {},
      "source": [
        "\n# Fitting the Background\n\nReading real FITS images and using them to calibrate the background\n"
      ]
    },
    {
      "cell_type": "code",
      "execution_count": null,
      "metadata": {
        "collapsed": false
      },
      "outputs": [],
      "source": [
        "import datetime\nimport os\nfrom multiprocessing import Pool\n\nimport matplotlib.pyplot as plt\nimport numpy as np\nfrom astropy.io import fits\n\nimport mirage as mr\nimport mirage.vis as mrv\n\n# def process_fits_file(fits_path: str) -> tuple:\n#     print(fits_path)\n#     with fits.open(fits_path) as hdul:\n#         header = hdul[0].header\n#         date = datetime.datetime.strptime(\n#             header[\"DATE-OBS\"], \"%Y-%m-%dT%H:%M:%S.%f\"\n#         ).replace(tzinfo=datetime.timezone.utc)\n#         ccd_temp = header[\"SET-TEMP\"]\n#         site_lat_geod_deg = header[\"OBSGEO-B\"]\n#         site_lon_deg = header[\"OBSGEO-L\"]\n#         site_alt_m = header[\"OBSGEO-H\"]\n#         center_azimuth_rad = np.deg2rad(header[\"CENTAZ\"])\n#         center_elevation_rad = np.deg2rad(header[\"CENTALT\"])\n#         airmass = header[\"AIRMASS\"]\n#         track_rate_rad_ra = mr.dms_to_rad(0, 0, header[\"TELTKRA\"])  # rad/s\n#         track_rate_rad_dec = mr.dms_to_rad(0, 0, header[\"TELTKDEC\"])  # rad/s\n#         ra = mr.hms_to_rad(*[float(x) for x in header[\"OBJCTRA\"].split(\" \")])\n#         dec = mr.dms_to_rad(*[float(x) for x in header[\"OBJCTDEC\"].split(\" \")])\n#         t_int = header[\"EXPTIME\"]\n#         ccd_adu = hdul[0].data\n\n#         ccd_adu_minus_parabola = mr.ChargeCoupledDevice().subtract_parabola(ccd_adu)\n#         _, background_mean = mr.image_background_naive(ccd_adu_minus_parabola)\n#         return ra, dec, date, t_int, background_mean\n\n\n# def main():\n#     fits_dir = os.path.join(os.environ[\"SRCDIR\"], \"..\", \"data\")\n#     fit_paths = [\n#         os.path.join(fits_dir, fit_file)\n#         for fit_file in os.listdir(fits_dir)\n#         if fit_file.endswith(\".fit\")\n#     ]\n#     valid_fits_paths = fit_paths[::50]\n\n#     mr.tic()\n#     with Pool(processes=8) as pool:\n#         results = list(pool.map(process_fits_file, valid_fits_paths))\n#     mr.toc()\n\n#     ras = []\n#     decs = []\n#     dates = []\n#     t_ints = []\n#     background_means = []\n\n#     for ra, dec, date, t_int, background_mean in results:\n#         ras.append(ra)\n#         decs.append(dec)\n#         dates.append(date)\n#         t_ints.append(t_int)\n#         background_means.append(background_mean)\n\n#     ras = np.array(ras)\n#     decs = np.array(decs)\n#     dates = np.array(dates)\n#     t_ints = np.array(t_ints)\n#     background_means = np.array(background_means)\n\n#     mr.tic()\n#     observing_station = mr.Station(\"pogs\")\n#     observing_station.telescope.integration_time = 1\n#     obj_look_eci_initial = mr.ra_dec_to_eci(ras, decs)\n#     moon = mr.moon(dates)\n#     sun = mr.sun(dates)\n#     sb = observing_station.sky_brightness(dates, obj_look_eci_initial)\n#     sb = sb.flatten() * t_ints.flatten()\n#     angle_to_moon = mr.angle_between_vecs(obj_look_eci_initial, moon)\n#     z_obs = mr.angle_between_vecs(\n#         obj_look_eci_initial, observing_station.j2000_at_dates(dates)\n#     )\n#     moon_phase_angle = mr.angle_between_vecs(obj_look_eci_initial - moon, sun - moon)\n#     moon_phase_fraction = mr.moon_phase_fraction(moon_phase_angle)\n#     mr.toc()\n#     print(sb)\n\n#     plt.subplot(2, 2, 1)\n#     plt.plot(angle_to_moon, background_means, \".\")\n#     mrv.texit(\"\", \"Angle to Moon [rad]\", \"Background Mean [ADU]\")\n\n#     plt.subplot(2, 2, 2)\n#     plt.plot(z_obs, background_means, \".\")\n#     mrv.texit(\"\", \"Zenith Angle [rad]\", \"Background Mean [ADU]\")\n\n#     plt.subplot(2, 2, 3)\n#     plt.plot(moon_phase_fraction, background_means, \".\")\n#     mrv.texit(\"\", \"Moon Phase Fraction\", \"Background Mean [ADU]\")\n\n#     plt.subplot(2, 2, 4)\n#     plt.plot(sb, background_means, \".\")\n#     mrv.texit(\"\", \"Synthetic Background Mean [ADU]\", \"Background Mean [ADU]\")\n#     plt.tight_layout()\n#     plt.show()\n\n#     import pyvista as pv\n\n#     pl = pv.Plotter()\n#     mrv.render_observation_scenario(\n#         pl,\n#         dates=dates,\n#         station=observing_station,\n#         look_dirs_eci=obj_look_eci_initial,\n#         sensor_extent_km=40e3,\n#         sensor_half_angle_deg=0.1,\n#         night_lights=True,\n#         atmosphere=True,\n#         borders=True,\n#     )\n#     pl.show()\n\n#     # %%\n#     # Plotting the observations with the location of the Moon\n\n#     print(np.min(background_means), np.max(background_means))\n#     ra_moon, dec_moon = mr.eci_to_ra_dec(moon)\n#     plt.scatter(ras, decs, c=background_means)\n#     plt.scatter(ra_moon, dec_moon)\n#     plt.xlim(0, 2 * np.pi)\n#     plt.ylim(-np.pi / 2, np.pi / 2)\n#     mrv.texit(\"\", \"RA [rad]\", \"Dec [rad]\", [\"Observations\", \"Moon\"])\n#     plt.colorbar()\n#     plt.show()\n\n\n# if __name__ == \"__main__\":\n#     main()"
      ]
    }
  ],
  "metadata": {
    "kernelspec": {
      "display_name": "Python 3",
      "language": "python",
      "name": "python3"
    },
    "language_info": {
      "codemirror_mode": {
        "name": "ipython",
        "version": 3
      },
      "file_extension": ".py",
      "mimetype": "text/x-python",
      "name": "python",
      "nbconvert_exporter": "python",
      "pygments_lexer": "ipython3",
      "version": "3.10.12"
    }
  },
  "nbformat": 4,
  "nbformat_minor": 0
}