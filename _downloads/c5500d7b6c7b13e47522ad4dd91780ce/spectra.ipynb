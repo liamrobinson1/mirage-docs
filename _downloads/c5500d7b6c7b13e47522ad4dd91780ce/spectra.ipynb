{
  "cells": [
    {
      "cell_type": "markdown",
      "metadata": {},
      "source": [
        "\n# Astrometric Spectra\n\nA few useful spectra for simulating CCD measurements\n"
      ]
    },
    {
      "cell_type": "code",
      "execution_count": null,
      "metadata": {
        "collapsed": false
      },
      "outputs": [],
      "source": [
        "import seaborn as sns\nimport pyspaceaware as ps\nimport numpy as np\nimport matplotlib.pyplot as plt\n\nltest = np.linspace(200, 1000, int(1e4)) * 1e-9\nisun = ps.sun_spectrum(ltest) * 1e-10\nisuntot = np.trapz(isun, ltest)\ntee = ps.atmospheric_transmission(ltest, 0 * ltest + np.pi / 4)\nqe = ps.quantum_efficiency(ltest)\n\nsns.set_theme(style=\"whitegrid\")\nsns.lineplot(x=ltest, y=isun, ci=None)\nsns.lineplot(x=ltest, y=qe, ci=None)\nsns.lineplot(x=ltest, y=tee, ci=None)\nplt.legend(\n    title=\"\",\n    loc=\"upper left\",\n    labels=[\n        \"Sun irradiance [W/cm^2/um]\",\n        \"Quantum efficiency [-]\",\n        \"Atmospheric transmission [-]\",\n    ],\n)\nplt.show()"
      ]
    }
  ],
  "metadata": {
    "kernelspec": {
      "display_name": "Python 3",
      "language": "python",
      "name": "python3"
    },
    "language_info": {
      "codemirror_mode": {
        "name": "ipython",
        "version": 3
      },
      "file_extension": ".py",
      "mimetype": "text/x-python",
      "name": "python",
      "nbconvert_exporter": "python",
      "pygments_lexer": "ipython3",
      "version": "3.10.11"
    }
  },
  "nbformat": 4,
  "nbformat_minor": 0
}