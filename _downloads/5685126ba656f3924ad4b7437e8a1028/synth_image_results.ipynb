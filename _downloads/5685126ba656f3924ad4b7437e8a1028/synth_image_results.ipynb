{
  "cells": [
    {
      "cell_type": "markdown",
      "metadata": {},
      "source": [
        "\n# Synthetic Image Results\n\nComparison plots for the synthetic and real images\n"
      ]
    },
    {
      "cell_type": "code",
      "execution_count": null,
      "metadata": {
        "collapsed": false
      },
      "outputs": [],
      "source": [
        "from types import SimpleNamespace\nfrom typing import Callable\n\nimport matplotlib.pyplot as plt\nimport numpy as np\n\nimport mirage as mr\nfrom digitaltwin import generate_matched_image\n\n\ndef star_expected_adu(gmag: float, sint: Callable, integration_time_s: float):\n    # note that sint has units of ADU / (W / m^2 * s)\n    irrad = mr.apparent_magnitude_to_irradiance(gmag)\n    return sint * irrad * integration_time_s\n\n\ninfo_path = \"/Users/liamrobinson/Library/CloudStorage/OneDrive-purdue.edu/2022-09-18_GPS_PRN14/ObservationData.mat\"\nadd_distortion = True\nadd_refraction = True\nlimiting_magnitude = 15.0\nstation = mr.Station()\nstation.telescope.fwhm = 2.5\nmr.tic(\"Loading star catalog\")\ncatalog = mr.StarCatalog(\"gaia\", station, mr.now(), aberration=False)\nmr.toc()\n\nyaoe = 1000, 800\nxaoe = 250, 490\n\nres = generate_matched_image(info_path, 200, station, catalog, add_distortion, add_refraction, limiting_magnitude)\ndata_mat = res[\"data_mat\"]\nsint_synth = mr.sint(station, np.pi / 2 - data_mat[\"el_rad_true\"])\n\nn = SimpleNamespace(**res)\n\nin_aoe = (n.expected_stars_corrected[:,0] > xaoe[0]) & (n.expected_stars_corrected[:,0] < xaoe[1]) & (n.expected_stars_corrected[:,1] > yaoe[1]) & (n.expected_stars_corrected[:,1] < yaoe[0])\nstar_aoe = n.expected_stars_corrected[in_aoe,:]\nstar_aoe = star_aoe[np.argsort(star_aoe[:,-2]), :]\ngmag_aoe = star_aoe[0,-2]\nirrad_aoe = mr.apparent_magnitude_to_irradiance(gmag_aoe)\nprint(n.fit_adu_of_irrad(irrad_aoe))\nprint(np.min(n.img))\n\nimg_sym_prepared = np.log10(n.img_sym)\n\nplt.figure()\nplt.scatter(n.matched_irrad, n.matched_adu, s=5)\nplt.plot(n.matched_irrad, n.fit_adu_of_irrad(n.matched_irrad), c=\"r\", markersize=7)\nplt.xlabel(\"Irradiance [W/m^2]\")\nplt.ylabel(\"ADU\")\nplt.grid()\nplt.xscale(\"log\")\nplt.yscale(\"log\")\nplt.legend([\"Data\", \"Best linear fit\"])"
      ]
    },
    {
      "cell_type": "markdown",
      "metadata": {},
      "source": [
        "Overlaying the two images\n\n"
      ]
    },
    {
      "cell_type": "code",
      "execution_count": null,
      "metadata": {
        "collapsed": false
      },
      "outputs": [],
      "source": [
        "n.img = n.img.astype(int)\nn.img[n.img <= 999] = 1000\nn.img -= int(999)\n\n# n.img_sym = n.img_sym.astype(float)\n# n.img = n.img.astype(float)\n# n.img_sym -= mr.image_background_parabola(n.img_sym)\n# n.img -= mr.image_background_parabola(n.img)\n\nprint(n.img_sym[yaoe[1]:yaoe[0], xaoe[0]:xaoe[1]].sum())\nprint(n.img[yaoe[1]:yaoe[0], xaoe[0]:xaoe[1]].sum())\n# endd\n\nimg_prepared = np.log10(n.img)\n\nplt.figure()\nplt.scatter(n.err_updated[:, 0], n.err_updated[:, 1], s=5)\nplt.yscale(\"symlog\")\nplt.xscale(\"symlog\")\nt = np.linspace(0, 2 * np.pi + 0.1, 1000)\nplt.plot(5 * np.cos(t), 5 * np.sin(t), c=\"k\")\nplt.plot(1 * np.cos(t), 1 * np.sin(t), c=\"r\")\nplt.legend(\n    [\"Centroid errors\", \"5-pixel boundary\", \"1-pixel boundary\"], loc=\"upper right\"\n)\nplt.ylim(-100, 100)\nplt.xlim(-100, 100)\nplt.xlabel(\"$x$ pixel error\")\nplt.ylabel(\"$y$ pixel error\")\nplt.grid()\n\n\nplt.figure()\nplt.imshow(img_prepared, cmap=\"gray\")\nplt.imshow(img_sym_prepared, cmap=\"gray_r\", alpha=0.5)\nplt.scatter(\n    n.expected_stars_corrected[:, 0],\n    n.expected_stars_corrected[:, 1],\n    c=\"y\",\n    marker=\"+\",\n    s=20,\n    label=\"Expected centroids\",\n)\nplt.scatter(\n    n.stars_found[:, 0],\n    n.stars_found[:, 1],\n    c=\"m\",\n    marker=\"o\",\n    s=10,\n    label=\"Observed centroids\",\n)\n\nclim_obs = [np.max(img_prepared), np.min(img_prepared)]\nclim_sym = [np.max(img_sym_prepared), np.min(img_sym_prepared)]\nplt.figure()\nplt.imshow(img_prepared, cmap=\"gray\")\nplt.clim(np.min(img_sym_prepared), np.max(img_sym_prepared))\nplt.colorbar(label=r\"$\\log_{10}\\left(\\text{ADU}\\right)$\")\nplt.title(\"Observed\")\n\nplt.figure()\nplt.imshow(img_sym_prepared, cmap=\"gray\")\nplt.colorbar(label=r\"$\\log_{10}\\left(\\text{ADU}\\right)$\")\nplt.title(\"Synthetic\")"
      ]
    },
    {
      "cell_type": "markdown",
      "metadata": {},
      "source": [
        "Subtracting the two images\n\n"
      ]
    },
    {
      "cell_type": "code",
      "execution_count": null,
      "metadata": {
        "collapsed": false
      },
      "outputs": [],
      "source": [
        "adu_err = n.img_sym.astype(np.int64) - n.img.astype(np.int64)\nadu_err_stdev = np.abs(adu_err) / np.sqrt(np.abs(n.img.astype(np.int64)))\nplt.figure()\nplt.imshow(adu_err_stdev, cmap=\"plasma\")\nplt.clim(0, 6)\nplt.colorbar(label='ADU error standard deviations')\nplt.xlim(*xaoe)\nplt.ylim(*yaoe)\nplt.show()"
      ]
    }
  ],
  "metadata": {
    "kernelspec": {
      "display_name": "Python 3",
      "language": "python",
      "name": "python3"
    },
    "language_info": {
      "codemirror_mode": {
        "name": "ipython",
        "version": 3
      },
      "file_extension": ".py",
      "mimetype": "text/x-python",
      "name": "python",
      "nbconvert_exporter": "python",
      "pygments_lexer": "ipython3",
      "version": "3.11.8"
    }
  },
  "nbformat": 4,
  "nbformat_minor": 0
}