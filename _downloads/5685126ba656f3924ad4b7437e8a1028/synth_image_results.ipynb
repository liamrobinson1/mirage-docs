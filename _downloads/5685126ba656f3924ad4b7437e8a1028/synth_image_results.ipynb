{
  "cells": [
    {
      "cell_type": "markdown",
      "metadata": {},
      "source": [
        "\n# Synthetic Image Results\n\nComparison plots for the synthetic and real images\n"
      ]
    },
    {
      "cell_type": "code",
      "execution_count": null,
      "metadata": {
        "collapsed": false
      },
      "outputs": [],
      "source": [
        "from types import SimpleNamespace\nfrom typing import Callable\n\nimport matplotlib.pyplot as plt\nimport numpy as np\nfrom matplotlib import colormaps as cm\n\nimport mirage as mr\nimport mirage.vis as mrv\nfrom digitaltwin import generate_matched_image\n\n\ndef star_expected_adu(gmag: float, sint: Callable, integration_time_s: float):\n    # note that sint has units of ADU / (W / m^2 * s)\n    irrad = mr.apparent_magnitude_to_irradiance(gmag)\n    return sint * irrad * integration_time_s\n\ninfo_path = \"/Users/liamrobinson/Library/CloudStorage/OneDrive-purdue.edu/2022-09-18_GPS_PRN14/ObservationData.mat\"\n# info_path = \"/Users/liamrobinson/Documents/mirage/digitaltwin/data/ObservationData.mat\"\nadd_distortion = True\nadd_refraction = True\nlimiting_magnitude = 15.0\nstation = mr.Station()\nstation.telescope.fwhm = 3\nmr.tic(\"Loading star catalog\")\ncatalog = mr.StarCatalog(\"gaia\", station, mr.now(), aberration=False)\nmr.toc()\n\nyaoe1 = 1000, 800\nxaoe1 = 250, 490\nyaoe2 = 750, 550\nxaoe2 = 250, 490\n\nres = generate_matched_image(\n    info_path, 200, station, catalog, add_distortion, add_refraction, limiting_magnitude\n)\ndata_mat = res[\"data_mat\"]\nsint_synth = mr.sint(station, np.pi / 2 - data_mat[\"el_rad_true\"])\n\nn = SimpleNamespace(**res)\n\nbr_variance = 175\nimg_sym_prepared = np.log10(np.clip(np.random.poisson(n.img_sym + br_variance) - br_variance, 1, np.inf))\n\nplt.figure()\nplt.plot(n.matched_irrad, n.fit_adu_of_irrad(n.matched_irrad), c=\"r\", markersize=7)\nplt.scatter(n.matched_irrad, n.matched_adu, s=5)\nplt.xlabel(\"Irradiance [W/m^2]\")\nplt.ylabel(\"ADU\")\nplt.grid()\nplt.xscale(\"log\")\nplt.yscale(\"log\")\nplt.legend([\"Best linear fit\", \"Data\"])"
      ]
    },
    {
      "cell_type": "markdown",
      "metadata": {},
      "source": [
        "Overlaying the two images\n\n"
      ]
    },
    {
      "cell_type": "code",
      "execution_count": null,
      "metadata": {
        "collapsed": false
      },
      "outputs": [],
      "source": [
        "# br_val = 1000 # for the geo obs\nbr_val = 1005 # For the gps obs\nn.img = n.img.astype(int)\nn.img[n.img <= br_val] = br_val + 1\nn.img -= br_val\n\nimg_prepared = np.log10(n.img)\n\nplt.figure()\nplt.scatter(n.err_updated[:, 0], n.err_updated[:, 1], s=5)\nplt.yscale(\"symlog\")\nplt.xscale(\"symlog\")\nt = np.linspace(0, 2 * np.pi + 0.1, 1000)\nplt.plot(5 * np.cos(t), 5 * np.sin(t), c=\"k\")\nplt.plot(1 * np.cos(t), 1 * np.sin(t), c=\"r\")\nplt.legend(\n    [\"Centroid errors\", \"5-pixel boundary\", \"1-pixel boundary\"], loc=\"upper right\"\n)\nplt.ylim(-100, 100)\nplt.xlim(-100, 100)\nplt.xlabel(\"$x$ pixel error\")\nplt.ylabel(\"$y$ pixel error\")\nplt.grid()\n\n# img_prepared_sub = img_prepared[1000:2000, 1000:2000]\n# img_sym_prepared_sub = img_sym_prepared[1000:2000, 1000:2000]\nimg_prepared_sub = img_prepared\nimg_sym_prepared_sub = img_sym_prepared\n\nclim_obs = [np.max(img_prepared_sub), np.min(img_prepared_sub)]\nclim_sym = [np.max(img_sym_prepared_sub), np.min(img_sym_prepared_sub)]\nplt.figure(figsize=(8, 4))\nplt.subplot(1, 2, 1)\nplt.imshow(img_prepared_sub, cmap=\"gray\")\nplt.title(\"Observed\")\nplt.clim(np.min(img_sym_prepared_sub), np.max(img_sym_prepared_sub))\nplt.colorbar(label=r\"$\\log_{10}\\left(\\text{ADU}\\right)$\", cax=mrv.get_cbar_ax())\n\nplt.subplot(1, 2, 2)\nplt.imshow(img_sym_prepared_sub, cmap=\"gray\")\nplt.title(\"Synthetic\")\nplt.colorbar(label=r\"$\\log_{10}\\left(\\text{ADU}\\right)$\", cax=mrv.get_cbar_ax())\nplt.tight_layout()"
      ]
    },
    {
      "cell_type": "markdown",
      "metadata": {},
      "source": [
        "Subtracting the two images\n\n"
      ]
    },
    {
      "cell_type": "code",
      "execution_count": null,
      "metadata": {
        "collapsed": false
      },
      "outputs": [],
      "source": [
        "adu_err = n.img_sym.astype(np.int64) - n.img.astype(np.int64)\nadu_err_stdev = np.abs(adu_err) / np.sqrt(np.abs(n.img_sym.astype(np.int64)))\nplt.figure(figsize=(8, 6))\ncm = cm.get_cmap('plasma')\nmax_sigma = 10\n\nplt.subplot(2, 2, 1)\nplt.imshow(adu_err_stdev, cmap=cm)\nplt.clim(0, max_sigma)\nplt.xlim(*xaoe2)\nplt.ylim(*yaoe2)\nplt.xlabel(\"x [pix]\")\nplt.ylabel(\"y [pix]\")\n# plt.colorbar(label=\"ADU error standard deviations\", cax=mrv.get_cbar_ax())\n\nplt.subplot(2,2,3)\ndata = np.ceil(adu_err_stdev[yaoe2[1]:yaoe2[0], xaoe2[0]:xaoe2[1]].flatten())\nn, bins, patches = plt.hist(data, bins=range(max_sigma), density=True)\nbin_centers = 0.5 * (bins[:-1] + bins[1:])\ncol = bin_centers - min(bin_centers)\ncol /= max(col)\nfor c, p in zip(col, patches):\n    plt.setp(p, 'facecolor', cm(c))\n\nmrv.texit(\"\", \"Error $\\sigma$\", \"Density\")\n\nplt.subplot(2, 2, 2)\nplt.imshow(adu_err_stdev, cmap=cm)\nplt.clim(0, max_sigma)\nplt.xlim(*xaoe1)\nplt.ylim(*yaoe1)\nplt.xlabel(\"x [pix]\")\nplt.ylabel(\"y [pix]\")\n# plt.colorbar(label=\"ADU error standard deviations\", cax=mrv.get_cbar_ax())\n\nplt.subplot(2,2,4)\ndata = adu_err_stdev[yaoe1[1]:yaoe1[0], xaoe1[0]:xaoe1[1]].flatten()\nn, bins, patches = plt.hist(data, bins=range(max_sigma), density=True)\nbin_centers = 0.5 * (bins[:-1] + bins[1:])\ncol = bin_centers - min(bin_centers)\ncol /= max(col)\nfor c, p in zip(col, patches):\n    plt.setp(p, 'facecolor', cm(c))\n\nmrv.texit(\"\", \"Error $\\sigma$\", \"Density\")\n\nplt.tight_layout()\nplt.show()"
      ]
    }
  ],
  "metadata": {
    "kernelspec": {
      "display_name": "Python 3",
      "language": "python",
      "name": "python3"
    },
    "language_info": {
      "codemirror_mode": {
        "name": "ipython",
        "version": 3
      },
      "file_extension": ".py",
      "mimetype": "text/x-python",
      "name": "python",
      "nbconvert_exporter": "python",
      "pygments_lexer": "ipython3",
      "version": "3.11.8"
    }
  },
  "nbformat": 4,
  "nbformat_minor": 0
}