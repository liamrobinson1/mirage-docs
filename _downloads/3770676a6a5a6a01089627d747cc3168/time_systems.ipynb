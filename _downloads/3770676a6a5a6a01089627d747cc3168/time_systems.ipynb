{
  "cells": [
    {
      "cell_type": "markdown",
      "metadata": {},
      "source": [
        "\n# Time Systems\n\nUses Astropy to extract exact offsets between various time systems\n"
      ]
    },
    {
      "cell_type": "code",
      "execution_count": null,
      "metadata": {
        "collapsed": false
      },
      "outputs": [],
      "source": [
        "import matplotlib.pyplot as plt\nimport pyspaceaware as ps\n\ndates = ps.date_linspace(ps.now() - ps.years(50), ps.now(), int(1e4))\n\ntai_minus_utc = ps.tai_minus_utc(dates)\ntt_minus_utc = ps.tt_minus_utc(dates)\nut1_minus_utc = ps.ut1_minus_utc(dates)\n\nplt.plot(dates, tt_minus_utc - tai_minus_utc)\nplt.plot(dates, ut1_minus_utc - tai_minus_utc)\nplt.plot(dates, tai_minus_utc - tai_minus_utc)\nplt.plot(dates, -tai_minus_utc)\nplt.legend([\"TT\", \"UT1\", \"TAI\", \"UTC\"])\nplt.ylabel(\"Difference to TAI [sec]\")\nplt.xlabel(\"Date\")\nplt.show()"
      ]
    }
  ],
  "metadata": {
    "kernelspec": {
      "display_name": "Python 3",
      "language": "python",
      "name": "python3"
    },
    "language_info": {
      "codemirror_mode": {
        "name": "ipython",
        "version": 3
      },
      "file_extension": ".py",
      "mimetype": "text/x-python",
      "name": "python",
      "nbconvert_exporter": "python",
      "pygments_lexer": "ipython3",
      "version": "3.10.11"
    }
  },
  "nbformat": 4,
  "nbformat_minor": 0
}