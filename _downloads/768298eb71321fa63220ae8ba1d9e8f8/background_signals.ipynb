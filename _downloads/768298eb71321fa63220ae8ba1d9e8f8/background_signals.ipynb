{
  "cells": [
    {
      "cell_type": "markdown",
      "metadata": {},
      "source": [
        "\n# Background Signals\n\nThe signal mean model due to various sources\n"
      ]
    },
    {
      "cell_type": "markdown",
      "metadata": {},
      "source": [
        "Defining a function we can use to plot various background signals\n\n"
      ]
    },
    {
      "cell_type": "code",
      "execution_count": null,
      "metadata": {
        "collapsed": false
      },
      "outputs": [],
      "source": [
        "import pyspaceaware as ps\nimport numpy as np\nimport pyvista as pv\nimport datetime\n\n\ndef hemisphere_signal(\n    station: ps.Station, date: datetime.datetime, signal_kwargs: dict\n) -> None:\n    pl = pv.Plotter()\n    (g_az, g_el) = np.meshgrid(\n        np.linspace(0, 2 * np.pi, 250),\n        np.linspace(np.deg2rad(10), np.pi / 2, 250),\n    )\n\n    look_dirs_eci_eq = np.array(\n        [\n            station.az_el_to_eci(az, el, date)\n            for az, el in zip(g_az.flatten(), g_el.flatten())\n        ]\n    ).squeeze()\n\n    dates = np.tile(date, (g_az.size, 1))\n    stat_eci = station.eci_at_dates(date)\n\n    ps.tic()\n    sb = station.sky_brightness(\n        dates, look_dirs_eci_eq, **signal_kwargs\n    )\n    ps.toc()\n    ps.plot_earth(\n        pl,\n        date=date,\n        atmosphere=False,\n        lighting=True,\n        night_lights=True,\n    )\n    r_dome = 500  # km\n    view_dist = 40e3  # km\n    zoom = 3.5\n    ps.scatter3(\n        pl,\n        stat_eci + r_dome * look_dirs_eci_eq,\n        scalars=sb.flatten(),\n        cmap=\"hot\",\n        point_size=10,\n        lighting=False,\n        clim=[0, np.max(sb)],\n    )\n\n    pl.camera.focal_point = stat_eci.flatten()\n    cpos = (stat_eci + ps.hat(stat_eci) * view_dist).flatten()\n    pl.camera.position = cpos\n    pl.camera.zoom(zoom)\n    pl.show()"
      ]
    },
    {
      "cell_type": "markdown",
      "metadata": {},
      "source": [
        "Setting up observation conditions using an example Liquid Mirror Telescope preset\n\n"
      ]
    },
    {
      "cell_type": "code",
      "execution_count": null,
      "metadata": {
        "collapsed": false
      },
      "outputs": [],
      "source": [
        "station = ps.Station(preset=\"lmt\")\ndate = datetime.datetime(\n    2023, 10, 1, 5, 45, 0, tzinfo=datetime.timezone.utc\n)  # Fig 5.38"
      ]
    },
    {
      "cell_type": "markdown",
      "metadata": {},
      "source": [
        "Plotting the background signal for scattered moonlight\n\n"
      ]
    },
    {
      "cell_type": "code",
      "execution_count": null,
      "metadata": {
        "collapsed": false
      },
      "outputs": [],
      "source": [
        "signal_kwargs = {\n    \"atmos_scattered\": False,\n    \"moonlight\": True,\n    \"airglow\": False,\n    \"integrated_starlight\": False,\n    \"zodiac\": False,\n}\nhemisphere_signal(station, date, signal_kwargs)"
      ]
    },
    {
      "cell_type": "markdown",
      "metadata": {},
      "source": [
        "Plotting the background signal for integrated starlight\n\n"
      ]
    },
    {
      "cell_type": "code",
      "execution_count": null,
      "metadata": {
        "collapsed": false
      },
      "outputs": [],
      "source": [
        "signal_kwargs = {\n    \"atmos_scattered\": False,\n    \"moonlight\": False,\n    \"airglow\": False,\n    \"integrated_starlight\": True,\n    \"zodiac\": False,\n}\nhemisphere_signal(station, date, signal_kwargs)"
      ]
    },
    {
      "cell_type": "markdown",
      "metadata": {},
      "source": [
        "Plotting the background signal for zodiac light\n\n"
      ]
    },
    {
      "cell_type": "code",
      "execution_count": null,
      "metadata": {
        "collapsed": false
      },
      "outputs": [],
      "source": [
        "signal_kwargs = {\n    \"atmos_scattered\": False,\n    \"moonlight\": False,\n    \"airglow\": False,\n    \"integrated_starlight\": False,\n    \"zodiac\": True,\n}\nhemisphere_signal(station, date, signal_kwargs)"
      ]
    },
    {
      "cell_type": "markdown",
      "metadata": {},
      "source": [
        "Plotting the background signal for airglow\n\n"
      ]
    },
    {
      "cell_type": "code",
      "execution_count": null,
      "metadata": {
        "collapsed": false
      },
      "outputs": [],
      "source": [
        "signal_kwargs = {\n    \"atmos_scattered\": False,\n    \"moonlight\": False,\n    \"airglow\": True,\n    \"integrated_starlight\": False,\n    \"zodiac\": False,\n}\nhemisphere_signal(station, date, signal_kwargs)"
      ]
    },
    {
      "cell_type": "markdown",
      "metadata": {},
      "source": [
        "Plotting the background signal for atmospherically scattered light\n\n"
      ]
    },
    {
      "cell_type": "code",
      "execution_count": null,
      "metadata": {
        "collapsed": false
      },
      "outputs": [],
      "source": [
        "signal_kwargs = {\n    \"atmos_scattered\": True,\n    \"moonlight\": False,\n    \"airglow\": False,\n    \"integrated_starlight\": False,\n    \"zodiac\": False,\n}\nhemisphere_signal(station, date, signal_kwargs)"
      ]
    }
  ],
  "metadata": {
    "kernelspec": {
      "display_name": "Python 3",
      "language": "python",
      "name": "python3"
    },
    "language_info": {
      "codemirror_mode": {
        "name": "ipython",
        "version": 3
      },
      "file_extension": ".py",
      "mimetype": "text/x-python",
      "name": "python",
      "nbconvert_exporter": "python",
      "pygments_lexer": "ipython3",
      "version": "3.10.11"
    }
  },
  "nbformat": 4,
  "nbformat_minor": 0
}