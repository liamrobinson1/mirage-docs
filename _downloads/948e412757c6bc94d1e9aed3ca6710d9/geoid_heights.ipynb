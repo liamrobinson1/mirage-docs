{
  "cells": [
    {
      "cell_type": "markdown",
      "metadata": {},
      "source": [
        "\n# Geoid Heights\n\nDisplay grid of EGM96 geoid height above the WGS84 ellipsoid\n"
      ]
    },
    {
      "cell_type": "code",
      "execution_count": null,
      "metadata": {
        "collapsed": false
      },
      "outputs": [],
      "source": [
        "import sys\n\nsys.path.append(\".\")\nimport pyspaceaware as ps\nimport os\nimport rasterio"
      ]
    },
    {
      "cell_type": "markdown",
      "metadata": {},
      "source": [
        "Let's open the GeoTIFF file for the geoid heights\n\n"
      ]
    },
    {
      "cell_type": "code",
      "execution_count": null,
      "metadata": {
        "collapsed": false
      },
      "outputs": [],
      "source": [
        "with rasterio.open(\n    os.path.join(os.environ[\"DATADIR\"], \"us_nga_egm96_15.tif\"), \"r\"\n) as f:\n    ps.tic()\n    x = f.read().squeeze()  # Geoid heights in [m]\n    ps.toc()"
      ]
    },
    {
      "cell_type": "markdown",
      "metadata": {},
      "source": [
        "And plot with a map of the Earth below\n\n"
      ]
    },
    {
      "cell_type": "code",
      "execution_count": null,
      "metadata": {
        "collapsed": false
      },
      "outputs": [],
      "source": [
        "ps.plot_map_with_grid(\n    x,\n    \"EGM96 Geoid Undulations\",\n    \"Height above WGS84 ellipsoid [m]\",\n    alpha=0.6,\n    cmap=\"plasma\",\n    borders=True,\n)"
      ]
    }
  ],
  "metadata": {
    "kernelspec": {
      "display_name": "Python 3",
      "language": "python",
      "name": "python3"
    },
    "language_info": {
      "codemirror_mode": {
        "name": "ipython",
        "version": 3
      },
      "file_extension": ".py",
      "mimetype": "text/x-python",
      "name": "python",
      "nbconvert_exporter": "python",
      "pygments_lexer": "ipython3",
      "version": "3.10.11"
    }
  },
  "nbformat": 4,
  "nbformat_minor": 0
}