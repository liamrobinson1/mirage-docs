{
  "cells": [
    {
      "cell_type": "markdown",
      "metadata": {},
      "source": [
        "\n# Global Elevation\n\nPlots global elevations\n"
      ]
    },
    {
      "cell_type": "code",
      "execution_count": null,
      "metadata": {
        "collapsed": false
      },
      "outputs": [],
      "source": [
        "import os\n\nimport rasterio\n\nimport mirage as mr\nimport mirage.vis as mrv"
      ]
    },
    {
      "cell_type": "markdown",
      "metadata": {},
      "source": [
        "Let's open the GeoTIFF file for the geoid heights\n\n"
      ]
    },
    {
      "cell_type": "code",
      "execution_count": null,
      "metadata": {
        "collapsed": false
      },
      "outputs": [],
      "source": [
        "with rasterio.open(\n    os.path.join(os.environ[\"DATADIR\"], \"us_nga_egm96_15.tif\"), \"r\"\n) as f:\n    mr.tic()\n    x = f.read().squeeze()  # Geoid heights in [m]\n    mr.toc()"
      ]
    },
    {
      "cell_type": "markdown",
      "metadata": {},
      "source": [
        "And plot with a map of the Earth below\n\n"
      ]
    },
    {
      "cell_type": "code",
      "execution_count": null,
      "metadata": {
        "collapsed": false
      },
      "outputs": [],
      "source": [
        "mrv.plot_map_with_grid(\n    x,\n    \"EGM96 Geoid Undulations\",\n    \"Height above WGS84 ellipsoid [m]\",\n    alpha=0.6,\n    cmap=\"plasma\",\n    borders=True,\n)"
      ]
    },
    {
      "cell_type": "markdown",
      "metadata": {},
      "source": [
        "# Repeated with PyGMT\n\n"
      ]
    },
    {
      "cell_type": "code",
      "execution_count": null,
      "metadata": {
        "collapsed": false
      },
      "outputs": [],
      "source": [
        "import pygmt"
      ]
    },
    {
      "cell_type": "markdown",
      "metadata": {},
      "source": [
        "Plotting terrain elevation above the EGM96 geoid\n\n"
      ]
    },
    {
      "cell_type": "code",
      "execution_count": null,
      "metadata": {
        "collapsed": false
      },
      "outputs": [],
      "source": [
        "region = [-179, 179, -89, 89]\nprojection = \"Cyl_stere/30/-20/12c\"\ncmap = \"haxby\"\ngrid = pygmt.datasets.load_earth_relief(resolution=\"01d\", region=region)\nfig = pygmt.Figure()\n\nfig.basemap(region=region, projection=projection, frame=[\"a\"])\n\nfig.grdimage(\n    grid=grid,\n    cmap=cmap,\n    projection=projection,\n)\n\nfig.grdcontour(\n    annotation=None,\n    interval=2000,\n    grid=grid,\n    pen=\"0.5p,black\",\n)\n\nfig.colorbar(frame=[\"x+lTerrain elevation to EGM96 geoid [m]\"])\nfig.show()"
      ]
    },
    {
      "cell_type": "markdown",
      "metadata": {},
      "source": [
        "Plotting terrain elevation above the EGM96 geoid\n\n"
      ]
    },
    {
      "cell_type": "code",
      "execution_count": null,
      "metadata": {
        "collapsed": false
      },
      "outputs": [],
      "source": [
        "grid_geoid = pygmt.datasets.load_earth_geoid(resolution=\"01d\", region=region)\nfig = pygmt.Figure()\n\nfig.basemap(region=region, projection=projection, frame=[\"a\"])\n\nfig.grdimage(\n    grid=grid_geoid,\n    cmap=cmap,\n    projection=projection,\n)\n\nfig.grdcontour(\n    grid=grid_geoid,\n    interval=30,\n    annotation=30,\n)\n\nfig.coast(land=\"white\", transparency=30)\nfig.colorbar(frame=[\"x+lEGM96 Geoid elevation to WGS84 ellipsoid [m]\"])\nfig.show()"
      ]
    }
  ],
  "metadata": {
    "kernelspec": {
      "display_name": "Python 3",
      "language": "python",
      "name": "python3"
    },
    "language_info": {
      "codemirror_mode": {
        "name": "ipython",
        "version": 3
      },
      "file_extension": ".py",
      "mimetype": "text/x-python",
      "name": "python",
      "nbconvert_exporter": "python",
      "pygments_lexer": "ipython3",
      "version": "3.10.12"
    }
  },
  "nbformat": 4,
  "nbformat_minor": 0
}