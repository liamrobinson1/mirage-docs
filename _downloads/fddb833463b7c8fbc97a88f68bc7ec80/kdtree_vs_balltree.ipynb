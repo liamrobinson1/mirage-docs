{
  "cells": [
    {
      "cell_type": "markdown",
      "metadata": {},
      "source": [
        "\n# KDTree vs BallTree\n\nBenchmarking tree searches in $R^3$\n"
      ]
    },
    {
      "cell_type": "code",
      "execution_count": null,
      "metadata": {
        "collapsed": false
      },
      "outputs": [],
      "source": [
        "import numpy as np\nimport pyvista as pv\nfrom scipy.spatial import KDTree as ssKD\nfrom sklearn.neighbors import BallTree as skBT\nfrom sklearn.neighbors import KDTree as skKD\n\nimport mirage as mr\nimport mirage.vis as mrv\n\n\ndef plot_kdtree(pl: pv.Plotter, tree):\n    tree_data, index, tree_nodes, node_bounds = tree.get_arrays()\n\n    bounds_boxes = np.zeros((node_bounds.shape[1], 6)) # xmin, xmax, ymin, ymax\n    bounds_boxes[:,[0,2,4]] = node_bounds[0,:,:]\n    bounds_boxes[:,[1,3,5]] = node_bounds[1,:,:]\n\n    pl.add_mesh(\n        pv.MultiBlock([pv.Box(bound) for bound in bounds_boxes]),\n        line_width=1,\n        style=\"wireframe\",\n        color=\"k\",\n    )\n\ndef plot_balltree(pl: pv.Plotter, tree):\n    tree_data, index, tree_nodes, node_bounds = tree.get_arrays()\n    centers = node_bounds.squeeze()\n\n    pl.add_mesh(\n        pv.MultiBlock([pv.Sphere(radius=r[-1], \n                                 center=b,\n                                 theta_resolution=30,\n                                 phi_resolution=30) for r,b in zip(tree_nodes, centers)]),\n        opacity=0.1,\n        style='wireframe',\n        color=\"k\",\n        line_width=0.1,\n    )\n\nobj = mr.SpaceObject(\"stanford_bunny.obj\")\npts = obj.face_centroids\n\nmr.tic(\"sklearn KDTree build\")\nkt = skKD(pts, 10)\nmr.toc()\n\nmr.tic(\"sklearn BallTree build\")\nbt = skBT(pts, 10)\nmr.toc()\n\nmr.tic(\"scipy KDTree build\")\nkt2 = ssKD(pts, 10)\nmr.toc()"
      ]
    },
    {
      "cell_type": "markdown",
      "metadata": {},
      "source": [
        "Querying benchmarks\n\n"
      ]
    },
    {
      "cell_type": "code",
      "execution_count": null,
      "metadata": {
        "collapsed": false
      },
      "outputs": [],
      "source": [
        "qpts = mr.rand_points_in_ball(1.0, int(1e5))\nmr.tic()\nkt.query(qpts)\nmr.toc()\n\nmr.tic()\nbt.query(qpts)\nmr.toc()\n\nmr.tic()\nkt2.query(qpts)\nmr.toc()"
      ]
    },
    {
      "cell_type": "markdown",
      "metadata": {},
      "source": [
        "KDTree\n\n"
      ]
    },
    {
      "cell_type": "code",
      "execution_count": null,
      "metadata": {
        "collapsed": false
      },
      "outputs": [],
      "source": [
        "pl = pv.Plotter(window_size=(2*1080, 2*720))\npl.camera.zoom(4.0)\nmrv.render_spaceobject(pl, obj)\nplot_kdtree(pl, kt)\npl.show()\n\n# $$\n# BallTree\n\npl = pv.Plotter(window_size=(2*1080, 2*720))\npl.camera.zoom(4.0)\nmrv.render_spaceobject(pl, obj)\nplot_balltree(pl, bt)\npl.show()"
      ]
    }
  ],
  "metadata": {
    "kernelspec": {
      "display_name": "Python 3",
      "language": "python",
      "name": "python3"
    },
    "language_info": {
      "codemirror_mode": {
        "name": "ipython",
        "version": 3
      },
      "file_extension": ".py",
      "mimetype": "text/x-python",
      "name": "python",
      "nbconvert_exporter": "python",
      "pygments_lexer": "ipython3",
      "version": "3.11.8"
    }
  },
  "nbformat": 4,
  "nbformat_minor": 0
}