{
  "cells": [
    {
      "cell_type": "markdown",
      "metadata": {},
      "source": [
        "\n# Characterizing the CCD Background\n\nSaving background parabola information for the POGS CCD\n"
      ]
    },
    {
      "cell_type": "code",
      "execution_count": null,
      "metadata": {
        "collapsed": false
      },
      "outputs": [],
      "source": [
        "import os\n\nimport matplotlib.pyplot as plt\nimport numpy as np\nfrom astropy.io import fits\n\nimport mirage as mr\nimport mirage.vis as mrv"
      ]
    },
    {
      "cell_type": "markdown",
      "metadata": {},
      "source": [
        "Loading the CCD image\n\n"
      ]
    },
    {
      "cell_type": "code",
      "execution_count": null,
      "metadata": {
        "collapsed": false
      },
      "outputs": [],
      "source": [
        "with fits.open(\n    os.path.join(os.environ[\"SRCDIR\"], \"..\", \"examples/08-ccd/00095337.fit\")\n) as hdul:\n    ccd_adu = hdul[0].data"
      ]
    },
    {
      "cell_type": "markdown",
      "metadata": {},
      "source": [
        "Plotting the background values as a function of the distance from the center of the image\n\n"
      ]
    },
    {
      "cell_type": "code",
      "execution_count": null,
      "metadata": {
        "collapsed": false
      },
      "outputs": [],
      "source": [
        "im_br_parabola, eq = mr.image_background_parabola(ccd_adu, return_eq_str=True)\nccd_adu_minus_parabola = ccd_adu - im_br_parabola\nim_br_mask = mr.image_background_naive(ccd_adu_minus_parabola)[0]\nvar_br = np.var(ccd_adu_minus_parabola[im_br_mask][::10])\nccd_adu_minus_parabola_poisson = ccd_adu_minus_parabola + var_br\n\nplt.imshow(np.log10(ccd_adu_minus_parabola_poisson), cmap=\"plasma\")\nmrv.texit(\"Image Background\", \"\", \"\", grid=False)\nplt.colorbar(cax=mrv.get_cbar_ax(), label=\"$\\log_{10}(ADU)$\")\nplt.show()"
      ]
    }
  ],
  "metadata": {
    "kernelspec": {
      "display_name": "Python 3",
      "language": "python",
      "name": "python3"
    },
    "language_info": {
      "codemirror_mode": {
        "name": "ipython",
        "version": 3
      },
      "file_extension": ".py",
      "mimetype": "text/x-python",
      "name": "python",
      "nbconvert_exporter": "python",
      "pygments_lexer": "ipython3",
      "version": "3.11.6"
    }
  },
  "nbformat": 4,
  "nbformat_minor": 0
}