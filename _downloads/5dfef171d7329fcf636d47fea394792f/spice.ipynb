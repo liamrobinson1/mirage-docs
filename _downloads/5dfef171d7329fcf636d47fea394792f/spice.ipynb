{
  "cells": [
    {
      "cell_type": "markdown",
      "metadata": {},
      "source": [
        "\n# SPICE vs Vallado\n\nComputes the difference between the Vallado approximations of the Moon ephemerides and the JPL NAIF SPICE Toolkit results\n"
      ]
    },
    {
      "cell_type": "markdown",
      "metadata": {},
      "source": [
        "Let's set up the dates we want to evaluate at, here choosing the next year\n\n"
      ]
    },
    {
      "cell_type": "code",
      "execution_count": null,
      "metadata": {
        "collapsed": false
      },
      "outputs": [],
      "source": [
        "import pyspaceaware as ps\n\ndates = ps.date_linspace(ps.now(), ps.now() + ps.days(365), int(1e3))"
      ]
    },
    {
      "cell_type": "markdown",
      "metadata": {},
      "source": [
        "Compute the position of the Moon relative to the Earth using SPICE\n\n"
      ]
    },
    {
      "cell_type": "code",
      "execution_count": null,
      "metadata": {
        "collapsed": false
      },
      "outputs": [],
      "source": [
        "ps.tic()\nspice_moon_state_eci = ps.moon(dates, \"spice\")\nps.toc()"
      ]
    },
    {
      "cell_type": "markdown",
      "metadata": {},
      "source": [
        "And using Vallado's approximation\n\n"
      ]
    },
    {
      "cell_type": "code",
      "execution_count": null,
      "metadata": {
        "collapsed": false
      },
      "outputs": [],
      "source": [
        "ps.tic()\nps_moon_state_eci = ps.moon(dates, \"vallado\")\nps.toc()"
      ]
    },
    {
      "cell_type": "markdown",
      "metadata": {},
      "source": [
        "And plot the results\n\n"
      ]
    },
    {
      "cell_type": "code",
      "execution_count": null,
      "metadata": {
        "collapsed": false
      },
      "outputs": [],
      "source": [
        "import pyvista as pv\n\npl = pv.Plotter()\npl.set_background(\"k\")\nps.plot3(\n    pl,\n    spice_moon_state_eci - ps_moon_state_eci,\n    scalars=ps.vecnorm(spice_moon_state_eci - ps_moon_state_eci).flatten(),\n    cmap=\"isolum\",\n    lighting=False,\n    line_width=3,\n)\npl.view_isometric()\n\nps.plot_moon(\n    pl, date=dates[0], mode=\"mci\"\n)  # Display the Moon centered in inertial coordinates\npl.show()"
      ]
    },
    {
      "cell_type": "markdown",
      "metadata": {},
      "source": [
        "As we can see, the Vallado approximation is usually a few thousand kilometers off from SPICE, and takes about half the time to evaluate.\nLet's get a better intuition for the magnitude of this discrepancy by computing the center of the totality of a lunar eclipse that occured on November 8th, 2022\n\n"
      ]
    },
    {
      "cell_type": "code",
      "execution_count": null,
      "metadata": {
        "collapsed": false
      },
      "outputs": [],
      "source": [
        "import matplotlib.pyplot as plt\n\ndate = ps.utc(2022, 11, 8)\ndates, epsecs = ps.date_arange(\n    date, date + ps.days(1), ps.seconds(10), return_epsecs=True\n)"
      ]
    },
    {
      "cell_type": "markdown",
      "metadata": {},
      "source": [
        "Computing the Moon position with each method:\n\n"
      ]
    },
    {
      "cell_type": "code",
      "execution_count": null,
      "metadata": {
        "collapsed": false
      },
      "outputs": [],
      "source": [
        "moon_pos_spice = ps.moon(dates)\nirrad_frac_spice = ps.sun_irradiance_fraction(dates, moon_pos_spice)\n\nmoon_pos_vallado = ps.moon(dates, method=\"vallado\")\nirrad_frac_vallado = ps.sun_irradiance_fraction(dates, moon_pos_vallado)"
      ]
    },
    {
      "cell_type": "markdown",
      "metadata": {},
      "source": [
        "And plotting the eclipses:\n\n"
      ]
    },
    {
      "cell_type": "code",
      "execution_count": null,
      "metadata": {
        "collapsed": false
      },
      "outputs": [],
      "source": [
        "plt.plot(epsecs / 3600, irrad_frac_spice)\nplt.plot(epsecs / 3600, irrad_frac_vallado)\nold_ylim = plt.ylim()\nplt.vlines(10 + 59.5 / 60, *old_ylim, colors=\"lime\")\nplt.ylim(*old_ylim)\nplt.xlim(0, 24)\nplt.legend([\"SPICE\", \"Vallado approx.\", \"True totality center\"])\nplt.xlabel(\"Hours (UTC)\")\nplt.ylabel(\"Fraction of Sun visiible from Moon center\")\nplt.title(\"Nov 08, 2022 Lunar Eclipse\")\nplt.grid()\n\nplt.show()"
      ]
    },
    {
      "cell_type": "markdown",
      "metadata": {},
      "source": [
        "We can refer to [a NASA article](https://moon.nasa.gov/news/185/what-you-need-to-know-about-the-lunar-eclipse/#:~:text=The%20last%20total%20lunar%20eclipse,Moon%20passes%20into%20Earth%27s%20shadow.) for more info about this eclipse, which proves that the SPICE solution is almost exactly on top of the true center, whereas the Vallado approximation is around 20-30 mins off\n\n<div class=\"alert alert-info\"><h4>Note</h4><p>Ironically, the \"true\" totality time reported by NASA was probably just computed with SPICE in the first place</p></div>\n\n"
      ]
    }
  ],
  "metadata": {
    "kernelspec": {
      "display_name": "Python 3",
      "language": "python",
      "name": "python3"
    },
    "language_info": {
      "codemirror_mode": {
        "name": "ipython",
        "version": 3
      },
      "file_extension": ".py",
      "mimetype": "text/x-python",
      "name": "python",
      "nbconvert_exporter": "python",
      "pygments_lexer": "ipython3",
      "version": "3.10.11"
    }
  },
  "nbformat": 4,
  "nbformat_minor": 0
}