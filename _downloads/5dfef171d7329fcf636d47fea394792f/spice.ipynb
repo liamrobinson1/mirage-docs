{
  "cells": [
    {
      "cell_type": "markdown",
      "metadata": {},
      "source": [
        "\n# SPICE vs Vallado\n\nComputes the difference between the Vallado approximations of the Moon ephemerides and the JPL NAIF SPICE Toolkit results\n"
      ]
    },
    {
      "cell_type": "code",
      "execution_count": null,
      "metadata": {
        "collapsed": false
      },
      "outputs": [],
      "source": [
        "import sys\n\nsys.path.append(\"./src\")"
      ]
    },
    {
      "cell_type": "markdown",
      "metadata": {},
      "source": [
        "Let's set up the dates we want to evaluate at, here choosing the next year\n\n"
      ]
    },
    {
      "cell_type": "code",
      "execution_count": null,
      "metadata": {
        "collapsed": false
      },
      "outputs": [],
      "source": [
        "import pyspaceaware as ps\n\ndates, _ = ps.date_linspace(ps.now(), ps.now() + ps.days(365), int(1e3))"
      ]
    },
    {
      "cell_type": "markdown",
      "metadata": {},
      "source": [
        "Compute the position of the Moon relative to the Earth using SPICE\n\n"
      ]
    },
    {
      "cell_type": "code",
      "execution_count": null,
      "metadata": {
        "collapsed": false
      },
      "outputs": [],
      "source": [
        "ps.tic()\nspice_moon_state_eci = ps.moon(dates, \"spice\")\nps.toc()"
      ]
    },
    {
      "cell_type": "markdown",
      "metadata": {},
      "source": [
        "And using Vallado's approximation\n\n"
      ]
    },
    {
      "cell_type": "code",
      "execution_count": null,
      "metadata": {
        "collapsed": false
      },
      "outputs": [],
      "source": [
        "ps.tic()\nps_moon_state_eci = ps.moon(dates, \"vallado\")\nps.toc()"
      ]
    },
    {
      "cell_type": "markdown",
      "metadata": {},
      "source": [
        "And plot the results\n\n"
      ]
    },
    {
      "cell_type": "code",
      "execution_count": null,
      "metadata": {
        "collapsed": false
      },
      "outputs": [],
      "source": [
        "import pyvista as pv\n\npl = pv.Plotter()\npl.set_background(\"k\")\nps.plot3(\n    pl,\n    spice_moon_state_eci - ps_moon_state_eci,\n    scalars=ps.vecnorm(\n        spice_moon_state_eci - ps_moon_state_eci\n    ).flatten(),\n    cmap=\"isolum\",\n    lighting=False,\n    line_width=3,\n)\npl.view_isometric()\n\nps.plot_moon(\n    pl, date=dates[0], mode=\"mci\"\n)  # Display the Moon centered in inertial coordinates\npl.show()"
      ]
    },
    {
      "cell_type": "markdown",
      "metadata": {},
      "source": [
        "As we can see, the Vallado approximation is usually a few thousand kilometers off from SPICE, and takes about half the time to evaluate\n\n"
      ]
    }
  ],
  "metadata": {
    "kernelspec": {
      "display_name": "Python 3",
      "language": "python",
      "name": "python3"
    },
    "language_info": {
      "codemirror_mode": {
        "name": "ipython",
        "version": 3
      },
      "file_extension": ".py",
      "mimetype": "text/x-python",
      "name": "python",
      "nbconvert_exporter": "python",
      "pygments_lexer": "ipython3",
      "version": "3.10.11"
    }
  },
  "nbformat": 4,
  "nbformat_minor": 0
}