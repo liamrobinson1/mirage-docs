{
  "cells": [
    {
      "cell_type": "markdown",
      "metadata": {},
      "source": [
        "\n# POGS Local Terrain\nPlots a map of the local terrain around the Purdue Optical Ground Station\n"
      ]
    },
    {
      "cell_type": "code",
      "execution_count": null,
      "metadata": {
        "collapsed": false
      },
      "outputs": [],
      "source": [
        "import pygmt\n\nimport mirage as mr\n\nprojection = \"Cyl_stere/30/-20/12c\"\nstation = mr.Station(preset=\"pogs\")\ndl = 1.2\ndlbig = 10\nsm_region = [\n    station.lon_deg - dl,\n    station.lon_deg + dl,\n    station.lat_geod_deg - dl,\n    station.lat_geod_deg + dl,\n]\nlg_region = [\n    station.lon_deg - dlbig,\n    station.lon_deg + dlbig,\n    station.lat_geod_deg - dlbig,\n    station.lat_geod_deg + dlbig,\n]\nlg_region = [round(x) for x in lg_region]\n\n\ngrid = pygmt.datasets.load_earth_relief(resolution=\"15s\", region=sm_region)\ndgrid = pygmt.grdgradient(grid=grid, radiance=[270, 30])\n\nfig = pygmt.Figure()\nfig.grdimage(\n    grid=dgrid,\n    cmap=\"gray\",\n    projection=projection,\n    transparency=50,\n)\nfig.grdimage(\n    grid=grid,\n    cmap=\"elevation\",\n    projection=projection,\n    frame=True,\n    transparency=50,\n)\nfig.grdcontour(\n    annotation=500,\n    interval=250,\n    grid=grid,\n)\n\nfig.plot(\n    x=station.lon_deg, y=station.lat_geod_deg, pen=\"1p\", style=\"c0.2c\", fill=\"red3\"\n)\nfig.text(\n    text=\"POGS\",\n    x=station.lon_deg,\n    y=station.lat_geod_deg,\n    font=\"12p,Courier-Bold,red3\",\n    justify=\"BL\",\n    offset=\"0.15/0.15\",\n    fill=\"gray\",\n)\n\nfig.coast(\n    borders=[1, 2],\n    shorelines=\"3,gray\",\n)\nfig.colorbar(frame=[\"x+lElevation [m]\"])\n\nwith fig.inset(\n    position=\"jBL+o0.5c/0.2c\", box=\"+pblack\", region=lg_region, projection=\"M3c\"\n):\n    # Use a plotting method to create a figure inside the inset.\n    fig.coast(\n        land=\"gray\",\n        borders=[1, 2],\n        shorelines=\"1/thin\",\n        water=\"white\",\n        # Use dcw to selectively highlight an area\n        dcw=\"US.NM+gred\",\n    )\n    fig.plot(\n        x=station.lon_deg,\n        y=station.lat_geod_deg,\n        pen=\"0.5p\",\n        style=f\"s{dl/2}c\",\n        fill=\"white\",\n    )\n\nfig.show()"
      ]
    }
  ],
  "metadata": {
    "kernelspec": {
      "display_name": "Python 3",
      "language": "python",
      "name": "python3"
    },
    "language_info": {
      "codemirror_mode": {
        "name": "ipython",
        "version": 3
      },
      "file_extension": ".py",
      "mimetype": "text/x-python",
      "name": "python",
      "nbconvert_exporter": "python",
      "pygments_lexer": "ipython3",
      "version": "3.10.12"
    }
  },
  "nbformat": 4,
  "nbformat_minor": 0
}