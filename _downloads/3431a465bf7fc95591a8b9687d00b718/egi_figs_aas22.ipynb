{
  "cells": [
    {
      "cell_type": "markdown",
      "metadata": {},
      "source": [
        "\n# EGI Optimization\nEGI optimization figures recreated in Python, originally published in :cite:p:robinson2022:.\n"
      ]
    },
    {
      "cell_type": "code",
      "execution_count": null,
      "metadata": {
        "collapsed": false
      },
      "outputs": [],
      "source": [
        "import numpy as np\nimport pyvista as pv\n\nimport mirage as mr\nimport mirage.vis as mrv\n\n\ndef plot_egi(\n    pl: pv.Plotter,\n    obj: mr.SpaceObject,\n    egi: np.ndarray,\n    scale: float = 1.5,\n    plot_stems: bool = True,\n    plot_sphere: bool = True,\n    scale_opacity: bool = True,\n) -> None:\n    un, ua = mr.hat(egi), mr.vecnorm(egi)\n    scale *= np.max(mr.vecnorm(obj.v))\n    stems = np.hstack([0 * un, scale * un, 0 * un]).reshape(-1, 3)\n    opacity = np.log10(ua.flatten())\n    mrv.scatter3(\n        pl,\n        scale * un,\n        color=\"c\",\n        point_size=50,\n        opacity=opacity if scale_opacity else None,\n        show_scalar_bar=False,\n    )\n    if plot_stems:\n        mrv.plot3(pl, stems, color=\"k\", line_width=5)\n    if plot_sphere:\n        mrv.two_sphere(pl, scale, color=\"linen\", opacity=0.1)\n    pl.disable_anti_aliasing()"
      ]
    },
    {
      "cell_type": "markdown",
      "metadata": {},
      "source": [
        "Plotting the EGI of a cube\n\n"
      ]
    },
    {
      "cell_type": "code",
      "execution_count": null,
      "metadata": {
        "collapsed": false
      },
      "outputs": [],
      "source": [
        "obj = mr.SpaceObject(\"cube.obj\")\ncpos = [10, 10, 5]\n\npl = pv.Plotter()\nmrv.render_spaceobject(pl, obj, opacity=1, color=\"linen\")\nplot_egi(pl, obj, obj.egi, scale_opacity=False)\npl.camera.position = cpos\npl.show()"
      ]
    },
    {
      "cell_type": "markdown",
      "metadata": {},
      "source": [
        "Plotting the initial optimized EGI\n\n"
      ]
    },
    {
      "cell_type": "code",
      "execution_count": null,
      "metadata": {
        "collapsed": false
      },
      "outputs": [],
      "source": [
        "n = 500\nbrdf = mr.Brdf(\"phong\", cd=0.5, cs=0.5, n=10)\nnormal_candidates = mr.fibonacci_sample_sphere(n)\nsvb = mr.rand_unit_vectors(n)\novb = mr.rand_unit_vectors(n)\ng_candidates = brdf.compute_reflection_matrix(svb, ovb, normal_candidates)\nlc = obj.convex_light_curve(brdf, svb, ovb)\na_candidates = np.expand_dims(mr.vendrow_fnnls(g_candidates, lc.flatten())[0], axis=1)\nvalid = a_candidates.flatten() > np.sum(a_candidates) / 100\negi_candidate = normal_candidates[valid, :] * a_candidates[valid, :]\n\npl = pv.Plotter()\nmrv.render_spaceobject(pl, obj, opacity=0.5, color=\"linen\")\nplot_egi(pl, obj, egi_candidate, scale_opacity=True)\npl.camera.position = cpos\npl.show()"
      ]
    },
    {
      "cell_type": "markdown",
      "metadata": {},
      "source": [
        "Plotting the resampled EGI\n\n"
      ]
    },
    {
      "cell_type": "code",
      "execution_count": null,
      "metadata": {
        "collapsed": false
      },
      "outputs": [],
      "source": [
        "resampled_n_candidates = []\nnc = 100\nfor n_cand in mr.hat(egi_candidate):\n    resampled_n_candidates.append(mr.rand_cone_vectors(n_cand, np.pi / 20, nc))\nresampled_n_candidates = np.vstack(resampled_n_candidates)\n\ng_candidates = brdf.compute_reflection_matrix(svb, ovb, resampled_n_candidates)\nlc = obj.convex_light_curve(brdf, svb, ovb)\na_candidates = np.expand_dims(mr.vendrow_fnnls(g_candidates, lc.flatten())[0], axis=1)\nvalid = a_candidates.flatten() > np.sum(a_candidates) / 100\negi_candidate_resampled = resampled_n_candidates[valid, :] * a_candidates[valid, :]\n\npl = pv.Plotter()\nmrv.render_spaceobject(pl, obj, color=\"linen\", opacity=0.5)\nmrv.scatter3(pl, 1.2 * resampled_n_candidates, color=\"r\", point_size=3, opacity=0.5)\nplot_egi(pl, obj, egi_candidate_resampled, scale_opacity=True)\npl.camera.position = cpos\npl.show()"
      ]
    },
    {
      "cell_type": "markdown",
      "metadata": {},
      "source": [
        "Plotting merged EGI\n\n"
      ]
    },
    {
      "cell_type": "code",
      "execution_count": null,
      "metadata": {
        "collapsed": false
      },
      "outputs": [],
      "source": [
        "egi_merged = mr.merge_clusters(egi_candidate_resampled, np.pi / 10)\n\npl = pv.Plotter()\nmrv.render_spaceobject(pl, obj, color=\"linen\", opacity=0.5)\nplot_egi(pl, obj, egi_merged)\npl.camera.position = cpos\npl.show()"
      ]
    },
    {
      "cell_type": "markdown",
      "metadata": {},
      "source": [
        "Plotting the reconstructed object\n\n"
      ]
    },
    {
      "cell_type": "code",
      "execution_count": null,
      "metadata": {
        "collapsed": false
      },
      "outputs": [],
      "source": [
        "egi_merged -= np.sum(egi_merged, axis=0) / egi_merged.shape[0]\nh = mr.optimize_supports_little(egi_merged)\nobj_reconstructed = mr.construct_from_egi_and_supports(egi_merged, h)\n\npl = pv.Plotter(shape=(1, 2), window_size=(1000, 500))\npl.subplot(0, 0)\nmrv.render_spaceobject(pl, obj, opacity=1, color=\"linen\")\npl.add_text(\"Original\", font=\"courier\", position=\"upper_left\")\npl.subplot(0, 1)\nmrv.render_spaceobject(pl, obj_reconstructed, opacity=1, color=\"linen\")\npl.add_text(\"Reconstructed\", font=\"courier\", position=\"upper_left\")\npl.link_views()\npl.camera.position = cpos\npl.show()"
      ]
    }
  ],
  "metadata": {
    "kernelspec": {
      "display_name": "Python 3",
      "language": "python",
      "name": "python3"
    },
    "language_info": {
      "codemirror_mode": {
        "name": "ipython",
        "version": 3
      },
      "file_extension": ".py",
      "mimetype": "text/x-python",
      "name": "python",
      "nbconvert_exporter": "python",
      "pygments_lexer": "ipython3",
      "version": "3.10.12"
    }
  },
  "nbformat": 4,
  "nbformat_minor": 0
}