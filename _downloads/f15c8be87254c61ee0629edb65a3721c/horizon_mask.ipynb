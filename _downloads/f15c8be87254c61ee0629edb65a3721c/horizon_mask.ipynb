{
  "cells": [
    {
      "cell_type": "markdown",
      "metadata": {},
      "source": [
        "\n# Horizon Masks\n\nBuilds a terrain-driven horizon mask for a given station and displays the result\n"
      ]
    },
    {
      "cell_type": "markdown",
      "metadata": {},
      "source": [
        "Defining the station at Katmandu, where ``station.name`` informs the name of the resulting mask file\n\n"
      ]
    },
    {
      "cell_type": "code",
      "execution_count": null,
      "metadata": {
        "collapsed": false
      },
      "outputs": [],
      "source": [
        "import pyspaceaware as ps\nimport numpy as np\nimport pyvista as pv\nimport terrainman as tm\n\nstation = ps.Station(\n    preset=\"pogs\",\n    lat_deg=27.7172,\n    lon_deg=85.3240,\n    alt_km=2.5,\n    name=\"Katmandu\",\n    use_terrain_data=True,\n)"
      ]
    },
    {
      "cell_type": "markdown",
      "metadata": {},
      "source": [
        "Loads a terrain tile containing the station and create a mask for the station location\n\n"
      ]
    },
    {
      "cell_type": "code",
      "execution_count": null,
      "metadata": {
        "collapsed": false
      },
      "outputs": [],
      "source": [
        "tile = tm.TerrainDataHandler().load_tiles_containing(\n    station.lat_geod_deg, station.lon_deg\n)\nmask = ps.HorizonMask(\n    station.lat_geod_rad,\n    station.lon_rad,\n    station.name,\n)"
      ]
    },
    {
      "cell_type": "markdown",
      "metadata": {},
      "source": [
        "Build an interpolated from from the raw tile data\n\n"
      ]
    },
    {
      "cell_type": "code",
      "execution_count": null,
      "metadata": {
        "collapsed": false
      },
      "outputs": [],
      "source": [
        "sz, deg_radius = 3000, 1.0\nlat_space = (station.lat_geod_deg + deg_radius) - np.linspace(\n    0, 2 * deg_radius, sz\n)\nlon_space = (station.lon_deg - deg_radius) + np.linspace(\n    0, 2 * deg_radius, sz\n)\nlat_grid, lon_grid = np.meshgrid(lat_space, lon_space)\nelev_grid = tile.interpolate(lat_grid, lon_grid) / 1e3\nitrf_terrain = ps.lla_to_itrf(\n    np.deg2rad(lat_grid).flatten(),\n    np.deg2rad(lon_grid).flatten(),\n    elev_grid.flatten(),\n)"
      ]
    },
    {
      "cell_type": "markdown",
      "metadata": {},
      "source": [
        "Convert the terrain data into East North Up (ENU) coordinates and plot the result\n\n"
      ]
    },
    {
      "cell_type": "code",
      "execution_count": null,
      "metadata": {
        "collapsed": false
      },
      "outputs": [],
      "source": [
        "enu_terrain = (\n    ps.ecef_to_enu(station.ecef) @ (itrf_terrain - station.ecef).T\n).T\ndem = pv.StructuredGrid(\n    enu_terrain[:, 0].reshape(elev_grid.shape),\n    enu_terrain[:, 1].reshape(elev_grid.shape),\n    enu_terrain[:, 2].reshape(elev_grid.shape),\n)\ndem[\"Elevation [km]\"] = elev_grid.flatten(order=\"F\")\n\nenu_rays = ps.az_el_to_enu(mask.az, mask.el)\n\npl = pv.Plotter()\npl.set_background(\"black\")\npl.add_mesh(\n    dem,\n    smooth_shading=True,\n    scalars=\"Elevation [km]\",\n    cmap=\"terrain\",\n    opacity=0.6,\n    show_scalar_bar=False,\n)\n\nps.scatter3(pl, enu_rays, color=\"w\", show_scalar_bar=False)\npl.camera.focal_point = (0.0, 0.0, 0.0)\npl.camera.position = (-1e-4, 0.0, 0.0)\npl.add_text(\"Katmandu Horizon Mask\", font=\"courier\")\npl.show()"
      ]
    }
  ],
  "metadata": {
    "kernelspec": {
      "display_name": "Python 3",
      "language": "python",
      "name": "python3"
    },
    "language_info": {
      "codemirror_mode": {
        "name": "ipython",
        "version": 3
      },
      "file_extension": ".py",
      "mimetype": "text/x-python",
      "name": "python",
      "nbconvert_exporter": "python",
      "pygments_lexer": "ipython3",
      "version": "3.10.11"
    }
  },
  "nbformat": 4,
  "nbformat_minor": 0
}