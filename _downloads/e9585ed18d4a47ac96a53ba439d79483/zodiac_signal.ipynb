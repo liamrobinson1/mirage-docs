{
  "cells": [
    {
      "cell_type": "markdown",
      "metadata": {},
      "source": [
        "\n# Zodiac Signal\n\nThe background signal model due to zodiac light\n"
      ]
    },
    {
      "cell_type": "code",
      "execution_count": null,
      "metadata": {
        "collapsed": false
      },
      "outputs": [],
      "source": [
        "import pyspaceaware as ps\nimport numpy as np\nimport pyvista as pv\n\npl = pv.Plotter()\nstation = ps.Station()\ndate = ps.now() + ps.hours(8)\nstation_pos_eci = station.eci_at_dates(date)\n(g_az, g_el) = np.meshgrid(\n    np.linspace(0, 2 * np.pi, 200),\n    np.linspace(0.1, np.pi / 2 - 0.1, 200),\n)\n\nlook_dirs_eci_eq = np.array(\n    [\n        station.az_el_to_eci(az, el, date)\n        for az, el in zip(g_az.flatten(), g_el.flatten())\n    ]\n).squeeze()\n\nobs_pos_eci_eq = np.tile(station_pos_eci, (g_az.size, 1))\ndates = np.tile(date, (g_az.size, 1))\nsz = ps.zodiacal_signal(\n    dates,\n    look_dirs_eci_eq,\n    obs_pos_eci_eq,\n    t_int=station.telescope.integration_time,\n    scale=station.telescope.pixel_scale,\n    d=station.telescope.aperture_diameter,\n)\nsz = np.reshape(sz, g_el.shape, order=\"f\")\n\nps.scatter3(\n    pl,\n    look_dirs_eci_eq,\n    scalars=sz.T.flatten(),\n    cmap=\"plasma\",\n    point_size=10,\n)\nps.scatter3(\n    pl,\n    ps.hat(ps.sun(ps.date_to_jd(dates.flatten()))),\n    color=\"yellow\",\n    point_size=50,\n)\nps.two_sphere(pl)\npl.show()"
      ]
    }
  ],
  "metadata": {
    "kernelspec": {
      "display_name": "Python 3",
      "language": "python",
      "name": "python3"
    },
    "language_info": {
      "codemirror_mode": {
        "name": "ipython",
        "version": 3
      },
      "file_extension": ".py",
      "mimetype": "text/x-python",
      "name": "python",
      "nbconvert_exporter": "python",
      "pygments_lexer": "ipython3",
      "version": "3.10.11"
    }
  },
  "nbformat": 4,
  "nbformat_minor": 0
}