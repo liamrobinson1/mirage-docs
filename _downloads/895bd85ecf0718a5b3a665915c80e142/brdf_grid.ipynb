{
  "cells": [
    {
      "cell_type": "markdown",
      "metadata": {},
      "source": [
        "\n# BRDFs on the local hemisphere\n\nBRDFs on a hemisphere centered around the surface normal vector\n"
      ]
    },
    {
      "cell_type": "code",
      "execution_count": null,
      "metadata": {
        "collapsed": false
      },
      "outputs": [],
      "source": [
        "import numpy as np\nimport pyvista as pv\nimport vtk\n\nimport mirage as mr\nimport mirage.vis as mrv"
      ]
    },
    {
      "cell_type": "markdown",
      "metadata": {},
      "source": [
        "Let's set up grids on the upper hemisphere of a unit sphere to compute the BRDF value at all those unit vectors\n\n"
      ]
    },
    {
      "cell_type": "code",
      "execution_count": null,
      "metadata": {
        "collapsed": false
      },
      "outputs": [],
      "source": [
        "num = 200\nel_space, az_space = np.linspace(0, np.pi / 2, num), np.linspace(0, 2 * np.pi, num)\nel_grid, az_grid = np.meshgrid(el_space, az_space)\n\n(xx, yy, zz) = mr.sph_to_cart(az_grid, el_grid, 0 * el_grid + 1)\nO = np.hstack(\n    (\n        xx.reshape(((num**2, 1))),\n        yy.reshape(((num**2, 1))),\n        zz.reshape(((num**2, 1))),\n    )\n)\nL = mr.hat(np.tile(np.array([[0, 1, 1]]), (num**2, 1)))\nN = mr.hat(np.tile(np.array([[0, 0, 1]]), (num**2, 1)))"
      ]
    },
    {
      "cell_type": "markdown",
      "metadata": {},
      "source": [
        "Now we can iterate through a range of specular exponents and reflection of coeffients to visualize how the BRDF varies\n\n"
      ]
    },
    {
      "cell_type": "code",
      "execution_count": null,
      "metadata": {
        "collapsed": false
      },
      "outputs": [],
      "source": [
        "pl = pv.Plotter(shape=(3, 3))\npl.set_background(\"white\")\nname = \"phong\"\nfor i, n in enumerate([2, 8, 20]):\n    for j, cd in enumerate(np.linspace(0, 1, 3)):\n        brdf = mr.Brdf(name, cd=cd, cs=1 - cd, n=n)\n        b = brdf.eval(L, O, N).reshape(xx.shape)\n        mesh = pv.StructuredGrid(xx * b, yy * b, zz * b)\n        pl.subplot(i, j)\n        pl.add_text(\n            f\"{name.capitalize()}: $cd={cd}$, $cs={1-cd}$, ${n=}$\",\n            font_size=16,\n            font=\"courier\",\n            color=\"black\",\n        )\n        pl.add_mesh(mesh, scalars=b.T, show_scalar_bar=False, cmap=\"isolum\")\n        mrv.plot_basis(pl, np.eye(3), color=\"gray\")\n        mrv.plot_arrow(\n            pl,\n            origin=[0, 0, 0],\n            direction=L[0, :],\n            scale=1,\n            color=\"yellow\",\n            label=\"L\",\n        )\n        mrv.plot_arrow(\n            pl,\n            origin=[0, 0, 0],\n            direction=N[0, :],\n            scale=1,\n            color=\"red\",\n            label=\"N\",\n        )\n\npl.link_views()\npl.view_isometric()\npl.show()"
      ]
    }
  ],
  "metadata": {
    "kernelspec": {
      "display_name": "Python 3",
      "language": "python",
      "name": "python3"
    },
    "language_info": {
      "codemirror_mode": {
        "name": "ipython",
        "version": 3
      },
      "file_extension": ".py",
      "mimetype": "text/x-python",
      "name": "python",
      "nbconvert_exporter": "python",
      "pygments_lexer": "ipython3",
      "version": "3.10.12"
    }
  },
  "nbformat": 4,
  "nbformat_minor": 0
}