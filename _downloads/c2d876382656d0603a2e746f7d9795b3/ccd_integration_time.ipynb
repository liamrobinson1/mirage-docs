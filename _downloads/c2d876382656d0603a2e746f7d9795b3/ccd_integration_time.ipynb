{
  "cells": [
    {
      "cell_type": "markdown",
      "metadata": {},
      "source": [
        "\n# Integration Time\nComparing the effects of different integration times on the shape and level of the background\n"
      ]
    },
    {
      "cell_type": "code",
      "execution_count": null,
      "metadata": {
        "collapsed": false
      },
      "outputs": [],
      "source": [
        "import os\n\nimport matplotlib.pyplot as plt\nimport numpy as np\nimport pyvista as pv\nimport seaborn as sns"
      ]
    },
    {
      "cell_type": "markdown",
      "metadata": {},
      "source": [
        "Loading a fits image from the Purdue Optical Ground Station\n\n"
      ]
    },
    {
      "cell_type": "code",
      "execution_count": null,
      "metadata": {
        "collapsed": false
      },
      "outputs": [],
      "source": [
        "from astropy.io import fits\n\nimport mirage as mr\nimport mirage.vis as mrv"
      ]
    },
    {
      "cell_type": "markdown",
      "metadata": {},
      "source": [
        "Defining functions that compute the background of a CCD image\n\n"
      ]
    },
    {
      "cell_type": "markdown",
      "metadata": {},
      "source": [
        "Loading the CCD image\n\n"
      ]
    },
    {
      "cell_type": "code",
      "execution_count": null,
      "metadata": {
        "collapsed": false
      },
      "outputs": [],
      "source": [
        "ccd_dir = os.path.join(os.environ[\"SRCDIR\"], \"..\", \"data\")\nfit_files = [\"00147020.fit\", \"00130398.fit\"]\n\nccd_paths = [os.path.join(ccd_dir, f) for f in fit_files]\n\nintegration_time_seconds = np.zeros(2)\nccd_images = []\nfor i, ccd_path in enumerate(ccd_paths):\n    with fits.open(ccd_path) as hdul:\n        ccd_images.append(hdul[0].data)\n        integration_time_seconds[i] = hdul[0].header[\"EXPTIME\"]"
      ]
    },
    {
      "cell_type": "markdown",
      "metadata": {},
      "source": [
        "Plotting the two CCD images side by side\n\n"
      ]
    },
    {
      "cell_type": "code",
      "execution_count": null,
      "metadata": {
        "collapsed": false
      },
      "outputs": [],
      "source": [
        "plt.figure(figsize=(10, 5))\nfor i in range(len(ccd_images)):\n    plt.subplot(1, 2, i + 1)\n    plt.imshow(np.log10(ccd_images[i]), cmap=\"gist_stern\")\n    mrv.texit(f\"Integration Time: {integration_time_seconds[i]} s\", \"\", \"\", grid=False)\n    plt.colorbar(cax=mrv.get_cbar_ax(), label=\"$\\log_{10}{ADU}$\")\n    plt.clim(3, 3.5)\nplt.tight_layout()\nplt.show()"
      ]
    },
    {
      "cell_type": "markdown",
      "metadata": {},
      "source": [
        "Printing the background level of both images\n\n"
      ]
    },
    {
      "cell_type": "code",
      "execution_count": null,
      "metadata": {
        "collapsed": false
      },
      "outputs": [],
      "source": [
        "for ccd_adu, int_time in zip(ccd_images, integration_time_seconds):\n    ccd_adu_minus_br = mr.ChargeCoupledDevice().subtract_parabola(ccd_adu)\n    _, background_mean = mr.image_background_naive(ccd_adu_minus_br)\n    print(f\"Integration time: {int_time} s: {background_mean} ADU\")"
      ]
    }
  ],
  "metadata": {
    "kernelspec": {
      "display_name": "Python 3",
      "language": "python",
      "name": "python3"
    },
    "language_info": {
      "codemirror_mode": {
        "name": "ipython",
        "version": 3
      },
      "file_extension": ".py",
      "mimetype": "text/x-python",
      "name": "python",
      "nbconvert_exporter": "python",
      "pygments_lexer": "ipython3",
      "version": "3.10.13"
    }
  },
  "nbformat": 4,
  "nbformat_minor": 0
}