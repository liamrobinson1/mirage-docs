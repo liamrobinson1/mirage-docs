{
  "cells": [
    {
      "cell_type": "markdown",
      "metadata": {},
      "source": [
        "\n# Orthogonal Procrustes\n\nSolving the orthogonal procrustes problem via the SVD and Davenport's q-method\n"
      ]
    },
    {
      "cell_type": "code",
      "execution_count": null,
      "metadata": {
        "collapsed": false
      },
      "outputs": [],
      "source": [
        "import numpy as np\nfrom scipy.linalg import orthogonal_procrustes\n\nimport mirage as mr\n\nrhat_ref = mr.rand_cone_vectors(np.array([1.0, 0.0, 0.0]), 0.1, 5)\nq_true = mr.rand_quaternions(1)\nA_true = mr.quat_to_dcm(q_true)\nrhat_body = mr.stack_mat_mult_vec(A_true, rhat_ref)\n\nA_opro = orthogonal_procrustes(rhat_body, rhat_ref)[0]\nq_opro = mr.dcm_to_quat(A_opro)\n\nprint(\n    mr.wrap_to_180(mr.quat_ang(q_true, q_opro) * 180 / np.pi).squeeze()\n)  # Error in degrees"
      ]
    },
    {
      "cell_type": "markdown",
      "metadata": {},
      "source": [
        "Davenport's q-method\n\n"
      ]
    },
    {
      "cell_type": "code",
      "execution_count": null,
      "metadata": {
        "collapsed": false
      },
      "outputs": [],
      "source": [
        "q_davenport = mr.davenport(rhat_body, rhat_ref)\nprint(\n    mr.wrap_to_180(mr.quat_ang(q_true, q_davenport) * 180 / np.pi).squeeze()\n)  # Error in degrees"
      ]
    },
    {
      "cell_type": "markdown",
      "metadata": {},
      "source": [
        "Let's iteratively apply Davenport's q-method, for fun! We see that we get the same final quaternion\n\n"
      ]
    },
    {
      "cell_type": "code",
      "execution_count": null,
      "metadata": {
        "collapsed": false
      },
      "outputs": [],
      "source": [
        "rbt = rhat_body.copy()\nq_total = np.array([0.0, 0.0, 0.0, 1.0])\nfor i in range(10):\n    dq = mr.davenport(rbt, rhat_ref)\n    rbt = mr.stack_mat_mult_vec(mr.quat_to_dcm(dq).T, rbt)\n    q_total = mr.quat_add(dq, q_total)\n\nprint(q_total)\nprint(q_true)"
      ]
    }
  ],
  "metadata": {
    "kernelspec": {
      "display_name": "Python 3",
      "language": "python",
      "name": "python3"
    },
    "language_info": {
      "codemirror_mode": {
        "name": "ipython",
        "version": 3
      },
      "file_extension": ".py",
      "mimetype": "text/x-python",
      "name": "python",
      "nbconvert_exporter": "python",
      "pygments_lexer": "ipython3",
      "version": "3.11.8"
    }
  },
  "nbformat": 4,
  "nbformat_minor": 0
}