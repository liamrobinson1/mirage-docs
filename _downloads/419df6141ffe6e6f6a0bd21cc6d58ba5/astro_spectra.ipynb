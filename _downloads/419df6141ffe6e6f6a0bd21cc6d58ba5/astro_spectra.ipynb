{
  "cells": [
    {
      "cell_type": "markdown",
      "metadata": {},
      "source": [
        "\n# Astrometrical Spectra\n\nA few useful spectra for simulating CCD measurements\n"
      ]
    },
    {
      "cell_type": "code",
      "execution_count": null,
      "metadata": {
        "collapsed": false
      },
      "outputs": [],
      "source": [
        "import matplotlib.pyplot as plt\nimport numpy as np\nimport seaborn as sns\n\nimport mirage as mr\nimport mirage.vis as mrv\n\nltest = np.linspace(200, 1000, int(1e4)) * 1e-9\nisun = mr.sun_spectrum(ltest) * 1e-10\nisuntot = np.trapz(isun, ltest)\ntee = mr.atmospheric_transmission(ltest, 0 * ltest + np.pi / 4)\nccd = mr.ChargeCoupledDevice(preset='pogs')\nqe = ccd.quantum_efficiency(ltest)\nzm = mr.proof_zero_mag_stellar_spectrum(ltest)\n\nsns.set_theme(style=\"whitegrid\")\nsns.lineplot(x=ltest * 1e9, y=tee, ci=None)\nsns.lineplot(x=ltest * 1e9, y=qe, ci=None)\nsns.lineplot(x=ltest * 1e9, y=zm, ci=None)\nsns.lineplot(x=ltest * 1e9, y=isun, ci=None)\nplt.legend(\n    loc=\"upper left\",\n    labels=[\n        \"Atmospheric transmission [-]\",\n        \"Quantum efficiency [-]\",\n        \"Zero magnitude irradiance [W/cm^2/$\\mu$m]\",\n        \"Solar irradiance [W/cm^2/$\\mu$m]\",\n    ],\n)\nmrv.texit(\"\", \"Wavelength [nm]\", \"\")\nplt.show()"
      ]
    },
    {
      "cell_type": "markdown",
      "metadata": {},
      "source": [
        "UBVRI Passbands\n\n"
      ]
    },
    {
      "cell_type": "code",
      "execution_count": null,
      "metadata": {
        "collapsed": false
      },
      "outputs": [],
      "source": [
        "import os\n\nBANDS = [\"u\", \"b\", \"v\", \"r\", \"i\"]\nBAND_COLS = [\"violet\", \"c\", \"g\", \"r\", \"maroon\"]\n\nfor i, (band, col) in enumerate(zip(BANDS, BAND_COLS)):\n    band_path = os.path.join(os.environ[\"DATADIR\"], f\"bess-{band}.pass\")\n    band_data = np.loadtxt(\n        band_path\n    )  # first col angstroms, second col transmission fraction\n    x, y = band_data[:, 0] * 1e-1, band_data[:, 1]\n    ax = sns.lineplot(x=x, y=y, color=col, alpha=0.5)\n    ax.fill_between(x, y, color=col, alpha=0.2)\n\nplt.xlim(200, 1000)\nmrv.texit(\n    \"Bessel (Johnson/Cousins) UBVRI Passbands\",\n    \"Wavelength in [nm]\",\n    \"Transmission fraction\",\n)\nax.legend(handles=ax.lines, labels=[band.upper() for band in BANDS])\nplt.show()"
      ]
    }
  ],
  "metadata": {
    "kernelspec": {
      "display_name": "Python 3",
      "language": "python",
      "name": "python3"
    },
    "language_info": {
      "codemirror_mode": {
        "name": "ipython",
        "version": 3
      },
      "file_extension": ".py",
      "mimetype": "text/x-python",
      "name": "python",
      "nbconvert_exporter": "python",
      "pygments_lexer": "ipython3",
      "version": "3.10.12"
    }
  },
  "nbformat": 4,
  "nbformat_minor": 0
}