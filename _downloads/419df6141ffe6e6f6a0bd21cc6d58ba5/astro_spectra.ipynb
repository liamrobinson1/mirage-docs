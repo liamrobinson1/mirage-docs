{
  "cells": [
    {
      "cell_type": "markdown",
      "metadata": {},
      "source": [
        "\n# Astrometrical Spectra\n\nA few useful spectra for simulating CCD measurements\n"
      ]
    },
    {
      "cell_type": "code",
      "execution_count": null,
      "metadata": {
        "collapsed": false
      },
      "outputs": [],
      "source": [
        "import matplotlib.pyplot as plt\nimport numpy as np\nimport seaborn as sns\n\nimport mirage as mr\nimport mirage.vis as mrv\n\nltest = np.linspace(100, 2600, int(1e4)) * 1e-9\n\ntee = mr.atmospheric_transmission(ltest, 0 * ltest + np.pi / 4)\nccd = mr.ChargeCoupledDevice(preset=\"pogs\")\nqe = ccd.quantum_efficiency(ltest)\nzm = mr.proof_zero_mag_stellar_spectrum(ltest)\nsm = mr.sun_spectrum(ltest) * 1e-9\n\nspectra_cols = [\"C0\", \"C1\", \"C2\", \"C3\"]\n\nfor i, (col, y) in enumerate(zip(spectra_cols, [tee, sm, qe, zm])):\n    plt.plot(ltest * 1e9, y, color=col)\n    plt.fill_between(ltest * 1e9, y, color=col, alpha=0.1, label=\"_nolegend_\")\n\nmrv.texit(\"\", \"Wavelength [nm]\", \"\")\nplt.legend(\n    loc=\"upper right\",\n    labels=[\n        \"Atmospheric transmission [-]\",\n        r\"Solar spectrum $\\left[ \\frac{W}{cm^2 \\cdot \\mu m} \\right]$\",\n        \"Quantum efficiency [-]\",\n        r\"Zero magnitude irradiance $\\left[ \\frac{W}{cm^2 \\cdot \\mu m} \\right]$\",\n    ],\n)\nplt.tight_layout()\nplt.show()"
      ]
    },
    {
      "cell_type": "markdown",
      "metadata": {},
      "source": [
        "UBVRI Passbands\n\n"
      ]
    },
    {
      "cell_type": "code",
      "execution_count": null,
      "metadata": {
        "collapsed": false
      },
      "outputs": [],
      "source": [
        "import os\n\nurls_and_dirs = {\n    \"http://spiff.rit.edu/classes/phys440/lectures/filters/bess-u.pass\": os.environ[\n        \"DATADIR\"\n    ],\n    \"http://spiff.rit.edu/classes/phys440/lectures/filters/bess-b.pass\": os.environ[\n        \"DATADIR\"\n    ],\n    \"http://spiff.rit.edu/classes/phys440/lectures/filters/bess-v.pass\": os.environ[\n        \"DATADIR\"\n    ],\n    \"http://spiff.rit.edu/classes/phys440/lectures/filters/bess-r.pass\": os.environ[\n        \"DATADIR\"\n    ],\n    \"http://spiff.rit.edu/classes/phys440/lectures/filters/bess-i.pass\": os.environ[\n        \"DATADIR\"\n    ],\n}\n\nfor url, dir in urls_and_dirs.items():\n    mr.save_file_from_url(url, dir)\n\nBANDS = [\"u\", \"b\", \"v\", \"r\", \"i\"]\nBAND_COLS = [\"violet\", \"c\", \"g\", \"r\", \"maroon\"]\n\nfor i, (band, col) in enumerate(zip(BANDS, BAND_COLS)):\n    band_path = os.path.join(os.environ[\"DATADIR\"], f\"bess-{band}.pass\")\n    band_data = np.loadtxt(\n        band_path\n    )  # first col angstroms, second col transmission fraction\n    x, y = band_data[:, 0] * 1e-1, band_data[:, 1]\n    ax = sns.lineplot(x=x, y=y, color=col, alpha=0.5)\n    ax.fill_between(x, y, color=col, alpha=0.2)\n\nplt.xlim(200, 1000)\nmrv.texit(\n    \"Bessel (Johnson/Cousins) UBVRI Passbands\",\n    \"Wavelength in [nm]\",\n    \"Transmission fraction\",\n)\nax.legend(handles=ax.lines, labels=[band.upper() for band in BANDS])\nplt.show()"
      ]
    }
  ],
  "metadata": {
    "kernelspec": {
      "display_name": "Python 3",
      "language": "python",
      "name": "python3"
    },
    "language_info": {
      "codemirror_mode": {
        "name": "ipython",
        "version": 3
      },
      "file_extension": ".py",
      "mimetype": "text/x-python",
      "name": "python",
      "nbconvert_exporter": "python",
      "pygments_lexer": "ipython3",
      "version": "3.10.13"
    }
  },
  "nbformat": 4,
  "nbformat_minor": 0
}