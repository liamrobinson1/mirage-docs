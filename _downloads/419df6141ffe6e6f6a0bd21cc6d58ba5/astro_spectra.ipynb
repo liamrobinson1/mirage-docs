{
  "cells": [
    {
      "cell_type": "markdown",
      "metadata": {},
      "source": [
        "\n# Astrometric Spectra\n\nA few useful spectra for simulating CCD measurements\n"
      ]
    },
    {
      "cell_type": "code",
      "execution_count": null,
      "metadata": {
        "collapsed": false
      },
      "outputs": [],
      "source": [
        "import matplotlib.pyplot as plt\nimport numpy as np\nimport seaborn as sns\n\nimport pyspaceaware as ps\n\nltest = np.linspace(200, 1000, int(1e4)) * 1e-9\nisun = ps.sun_spectrum(ltest) * 1e-10\nisuntot = np.trapz(isun, ltest)\ntee = ps.atmospheric_transmission(ltest, 0 * ltest + np.pi / 4)\nqe = ps.quantum_efficiency(ltest)\nzm = ps.proof_zero_mag_stellar_spectrum(ltest)\n\nsns.set_theme(style=\"whitegrid\")\nsns.lineplot(x=ltest, y=isun, ci=None)\nsns.lineplot(x=ltest, y=qe, ci=None)\nsns.lineplot(x=ltest, y=tee, ci=None)\nsns.lineplot(x=ltest, y=zm, ci=None)\nplt.legend(\n    title=\"\",\n    loc=\"upper left\",\n    labels=[\n        \"Sun irradiance [W/cm^2/um]\",\n        \"Quantum efficiency [-]\",\n        \"Atmospheric transmission [-]\",\n        \"Zero magnitude source [-]\",\n    ],\n)\nplt.show()"
      ]
    }
  ],
  "metadata": {
    "kernelspec": {
      "display_name": "Python 3",
      "language": "python",
      "name": "python3"
    },
    "language_info": {
      "codemirror_mode": {
        "name": "ipython",
        "version": 3
      },
      "file_extension": ".py",
      "mimetype": "text/x-python",
      "name": "python",
      "nbconvert_exporter": "python",
      "pygments_lexer": "ipython3",
      "version": "3.10.11"
    }
  },
  "nbformat": 4,
  "nbformat_minor": 0
}