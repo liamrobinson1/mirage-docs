{
  "cells": [
    {
      "cell_type": "markdown",
      "metadata": {},
      "source": [
        "\n# Astrometric Spectra\n\nA few useful spectra for simulating CCD measurements\n"
      ]
    },
    {
      "cell_type": "code",
      "execution_count": null,
      "metadata": {
        "collapsed": false
      },
      "outputs": [],
      "source": [
        "import matplotlib.pyplot as plt\nimport numpy as np\nimport seaborn as sns\n\nimport pyspaceaware as ps\nimport pyspaceaware.vis as psv\n\nltest = np.linspace(200, 1000, int(1e4)) * 1e-9\nisun = ps.sun_spectrum(ltest) * 1e-10\nisuntot = np.trapz(isun, ltest)\ntee = ps.atmospheric_transmission(ltest, 0 * ltest + np.pi / 4)\nqe = ps.quantum_efficiency(ltest)\nzm = ps.proof_zero_mag_stellar_spectrum(ltest)\n\nsns.set_theme(style=\"whitegrid\")\nsns.lineplot(x=ltest * 1e9, y=tee, ci=None)\nsns.lineplot(x=ltest * 1e9, y=qe, ci=None)\nsns.lineplot(x=ltest * 1e9, y=zm, ci=None)\nsns.lineplot(x=ltest * 1e9, y=isun, ci=None)\nplt.legend(\n    title=\"\",\n    loc=\"upper left\",\n    labels=[\n        \"Atmospheric transmission [-]\",\n        \"Quantum efficiency [-]\",\n        \"Zero magnitude irradiance [W/cm^2/$\\mu$m]\",\n        \"Solar irradiance [W/cm^2/$\\mu$m]\",\n    ],\n)\npsv.texit(\"\", \"Wavelength [nm]\", \"\")\nplt.show()"
      ]
    }
  ],
  "metadata": {
    "kernelspec": {
      "display_name": "Python 3",
      "language": "python",
      "name": "python3"
    },
    "language_info": {
      "codemirror_mode": {
        "name": "ipython",
        "version": 3
      },
      "file_extension": ".py",
      "mimetype": "text/x-python",
      "name": "python",
      "nbconvert_exporter": "python",
      "pygments_lexer": "ipython3",
      "version": "3.10.11"
    }
  },
  "nbformat": 4,
  "nbformat_minor": 0
}