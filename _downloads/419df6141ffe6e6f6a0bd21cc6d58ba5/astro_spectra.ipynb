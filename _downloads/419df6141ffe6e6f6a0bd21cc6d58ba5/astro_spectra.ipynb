{
  "cells": [
    {
      "cell_type": "markdown",
      "metadata": {},
      "source": [
        "\n# Astrometrical Spectra\n\nA few useful spectra for simulating CCD measurements\n"
      ]
    },
    {
      "cell_type": "code",
      "execution_count": null,
      "metadata": {
        "collapsed": false
      },
      "outputs": [],
      "source": [
        "import matplotlib.pyplot as plt\nimport numpy as np\nimport seaborn as sns\n\nimport mirage as mr\nimport mirage.vis as mrv\n\nltest = np.linspace(100, 2600, int(1e4)) * 1e-9\n\ntee = mr.atmospheric_transmission(ltest, 0 * ltest + np.pi / 4)\nccd = mr.ChargeCoupledDevice(preset=\"pogs\")\nqe = ccd.quantum_efficiency(ltest)\nzm = mr.proof_zero_mag_stellar_spectrum(ltest)\nsm = mr.sun_spectrum(ltest) * 1e-9\n\nspectra_cols = [\"C0\", \"C1\", \"C2\", \"C3\"]\n\nfor i, (col, y) in enumerate(zip(spectra_cols, [tee, sm, qe, zm])):\n    plt.plot(ltest * 1e9, y, color=col)\n    plt.fill_between(ltest * 1e9, y, color=col, alpha=0.1, label=\"_nolegend_\")\n\nmrv.texit(\"\", \"Wavelength [nm]\", \"\")\nplt.legend(\n    loc=\"upper right\",\n    labels=[\n        \"Atmospheric transmission [-]\",\n        r\"Solar spectrum $\\left[ \\frac{W}{cm^2 \\cdot \\mu m} \\right]$\",\n        \"Quantum efficiency [-]\",\n        r\"Zero magnitude irradiance $\\left[ \\frac{W}{cm^2 \\cdot \\mu m} \\right]$\",\n    ],\n)\nplt.tight_layout()\nplt.show()"
      ]
    }
  ],
  "metadata": {
    "kernelspec": {
      "display_name": "Python 3",
      "language": "python",
      "name": "python3"
    },
    "language_info": {
      "codemirror_mode": {
        "name": "ipython",
        "version": 3
      },
      "file_extension": ".py",
      "mimetype": "text/x-python",
      "name": "python",
      "nbconvert_exporter": "python",
      "pygments_lexer": "ipython3",
      "version": "3.10.13"
    }
  },
  "nbformat": 4,
  "nbformat_minor": 0
}