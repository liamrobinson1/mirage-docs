{
  "cells": [
    {
      "cell_type": "markdown",
      "metadata": {},
      "source": [
        "\n# Solar System\n\nPlotting the solar system planet directions with respect to the Earth at a given time\n"
      ]
    },
    {
      "cell_type": "code",
      "execution_count": null,
      "metadata": {
        "collapsed": false
      },
      "outputs": [],
      "source": [
        "import numpy as np\nimport pyvista as pv\n\nimport mirage as mr\nimport mirage.vis as mrv\n\ndate = mr.now()\n\nfcns = np.array([\n    mr.venus,\n    mr.mars,\n    mr.jupiter,\n    mr.saturn,\n    mr.uranus,\n    mr.neptune,\n    mr.moon,\n    mr.sun,\n    mr.pluto,\n])\n\nlabels = np.array([\n    \"Venus\",\n    \"Mars\",\n    \"Jupiter\",\n    \"Saturn\",\n    \"Uranus\",\n    \"Neptune\",\n    \"Moon\",\n    \"Sun\",\n    \"Pluto\",\n])\n\nr = np.zeros((len(fcns), 3))\nfor i,fcn in enumerate(fcns):\n    r[i,:] = fcn(date)\n\npl = pv.Plotter()\nmrv.plot_earth(pl, date=date, night_lights=True, elevation=True, atmosphere=True, lighting=False)\n\nmag = 20000\nplanet_dirs = mr.hat(r)\n\nfor pi,labeli in zip(planet_dirs,labels):\n    mrv.plot_arrow(pl, np.zeros(3), pi, color=\"lime\", label=labeli, name=labeli, scale=mag * 0.8,\n                   font_size=15\n    )\ngrid = mrv.celestial_grid()\nmrv.plot3(\n    pl,\n    mag * grid,\n    color=\"cornflowerblue\",\n    line_width=5,\n    lighting=False,\n    opacity=0.2,\n)\n\nmrv.orbit_plotter(pl)"
      ]
    }
  ],
  "metadata": {
    "kernelspec": {
      "display_name": "Python 3",
      "language": "python",
      "name": "python3"
    },
    "language_info": {
      "codemirror_mode": {
        "name": "ipython",
        "version": 3
      },
      "file_extension": ".py",
      "mimetype": "text/x-python",
      "name": "python",
      "nbconvert_exporter": "python",
      "pygments_lexer": "ipython3",
      "version": "3.10.13"
    }
  },
  "nbformat": 4,
  "nbformat_minor": 0
}