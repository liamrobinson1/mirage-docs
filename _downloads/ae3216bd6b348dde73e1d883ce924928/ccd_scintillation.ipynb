{
  "cells": [
    {
      "cell_type": "markdown",
      "metadata": {},
      "source": [
        "\n# CCD Scintillation\nGenerating convolution kernels that take into account atmospheric turbulence\n"
      ]
    },
    {
      "cell_type": "code",
      "execution_count": null,
      "metadata": {
        "collapsed": false
      },
      "outputs": [],
      "source": [
        "import os\n\nimport matplotlib.pyplot as plt\nimport numpy as np\n\nimport mirage as mr\nimport mirage.vis as mrv"
      ]
    },
    {
      "cell_type": "markdown",
      "metadata": {},
      "source": [
        "Plotting the convolution kernel with no atmospheric scintillation\n\n"
      ]
    },
    {
      "cell_type": "code",
      "execution_count": null,
      "metadata": {
        "collapsed": false
      },
      "outputs": [],
      "source": [
        "direction = [1, 0.4]\nlength = 300\nkernel_no_scint = mr.streak_convolution_kernel(direction, length)\nkernel_scint = mr.streak_convolution_kernel(\n    direction, length, position_turbulence=0.1, intensity_turbulence=0.1\n)\n\nplt.figure(figsize=(8, 4))\nplt.subplot(1, 2, 1)\nplt.imshow(kernel_no_scint, cmap=\"hot\")\nmrv.texit(\"Kernel Without Scintillation\", \"\", \"\", grid=False)\nplt.colorbar(cax=mrv.get_cbar_ax(), label=\"ADU\")\nplt.clim(0, np.max(kernel_no_scint))\nplt.subplot(1, 2, 2)\nplt.imshow(kernel_scint, cmap=\"hot\")\nmrv.texit(\"Kernel With Scintillation\", \"\", \"\", grid=False)\nplt.colorbar(cax=mrv.get_cbar_ax(), label=\"ADU\")\nplt.clim(0, np.max(kernel_scint))\nplt.tight_layout()\nplt.show()"
      ]
    },
    {
      "cell_type": "markdown",
      "metadata": {},
      "source": [
        "Let's make sure that the volume of these kernels is one:\n\n"
      ]
    },
    {
      "cell_type": "code",
      "execution_count": null,
      "metadata": {
        "collapsed": false
      },
      "outputs": [],
      "source": [
        "print(f\"Kernel volume without scintillation: {np.sum(kernel_no_scint):.4f}\")\nprint(f\"Kernel volume with scintillation: {np.sum(kernel_scint):.4f}\")"
      ]
    },
    {
      "cell_type": "markdown",
      "metadata": {},
      "source": [
        "Plotting a point after applying the streak filter\n\n"
      ]
    },
    {
      "cell_type": "code",
      "execution_count": null,
      "metadata": {
        "collapsed": false
      },
      "outputs": [],
      "source": [
        "import itertools\n\ntelescope = mr.Telescope(preset=\"pogs\")\nccd_adu = np.zeros((600, 600))\nccd_adu[300:310, 300:310] = 1\n\nturbs = [0.0, 0.1, 0.3]\n\nplt.figure(figsize=(5, 5))\nfor i, turb in enumerate(itertools.product(turbs, repeat=2)):\n    plt.subplot(len(turbs), len(turbs), i + 1)\n    ccd_adu_scint = mr.streak_convolution(\n        ccd_adu,\n        (1.0, 0.0),\n        200,\n        position_turbulence=turb[0],\n        intensity_turbulence=turb[1],\n    )\n\n    plt.imshow(ccd_adu_scint, cmap=\"hot\")\n    plt.xticks([])\n    plt.yticks([])\n\nplt.suptitle(\"Streaks with Atmospheric Scintillation\")\nplt.gcf().supxlabel(\"Increasing Intensity Turbulence\")\nplt.gcf().supylabel(\"Increasing Position Turbulence\")\nplt.tight_layout()\nplt.show()"
      ]
    }
  ],
  "metadata": {
    "kernelspec": {
      "display_name": "Python 3",
      "language": "python",
      "name": "python3"
    },
    "language_info": {
      "codemirror_mode": {
        "name": "ipython",
        "version": 3
      },
      "file_extension": ".py",
      "mimetype": "text/x-python",
      "name": "python",
      "nbconvert_exporter": "python",
      "pygments_lexer": "ipython3",
      "version": "3.10.13"
    }
  },
  "nbformat": 4,
  "nbformat_minor": 0
}