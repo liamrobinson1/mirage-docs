{
  "cells": [
    {
      "cell_type": "markdown",
      "metadata": {},
      "source": [
        "\n# Precise Star Matching\n\nUsing processed data to match the pixel positions of stars in a CCD image\n"
      ]
    },
    {
      "cell_type": "code",
      "execution_count": null,
      "metadata": {
        "collapsed": false
      },
      "outputs": [],
      "source": [
        "import os\n\nimport matplotlib.pyplot as plt\nimport numpy as np\n\nimport mirage as mr\n\n\n# @mr.with_profiler\ndef main():\n    obs_mat_path = \"/Users/liamrobinson/Documents/mirage/fits/precise_star_matching/ObservationData.mat\"\n\n    station = mr.Station()\n    mr.tic(\"Loading Data\")\n    data_mat = mr.load_obs_data(station, obs_mat_path, 59)\n    mr.toc()\n\n    date_mid = data_mat[\"date_mid\"]\n\n    obs_look_dir_from_az_el = station.az_el_to_eci(\n        data_mat[\"az_rad\"], data_mat[\"el_rad_true\"], date_mid\n    )\n    el_app = mr.apparent_refacted_elevation(\n        data_mat[\"pressure_pa\"] / 100, data_mat[\"temp_k\"], data_mat[\"el_rad_true\"]\n    )\n    obs_look_dir_from_az_el_app = station.az_el_to_eci(\n        data_mat[\"az_rad\"], el_app, date_mid\n    )\n    angle_rot = mr.angle_between_vecs(\n        obs_look_dir_from_az_el, obs_look_dir_from_az_el_app\n    )\n    axis_rot = mr.hat(np.cross(obs_look_dir_from_az_el, obs_look_dir_from_az_el_app))\n    dcm_app_to_true = mr.rv_to_dcm(axis_rot * angle_rot)\n\n    fits_path = os.path.join(os.path.dirname(obs_mat_path), data_mat[\"fits_file\"])\n    fits_info = mr.info_from_fits(fits_path)\n    adu_proc = mr.prepare_fits_for_plotting(fits_info[\"ccd_adu\"])\n    catalog = mr.StarCatalog(\"gaia\", station, date_mid, aberration=False)\n\n    look_dir_eci = data_mat[\"look_dir_eci_processed\"]\n    look_dir_eci_app = dcm_app_to_true @ look_dir_eci\n\n    scope_up_dir_eci = data_mat[\"up_dir_eci_processed\"]\n    scope_up_dir_eci_app = dcm_app_to_true @ scope_up_dir_eci\n\n    in_uvs, _ = catalog.in_fov(\n        look_dir_eci_app, scope_up_dir_eci_app, limiting_magnitude=14\n    )\n    ys, xs = station.telescope.j2000_unit_vectors_to_pixels(\n        look_dir_eci_app, scope_up_dir_eci_app, in_uvs, add_distortion=True\n    )\n\n    # plt.figure(figsize=(5, 5))\n    # plt.imshow(adu_proc, cmap=\"gray\")\n    # plt.scatter(xs, ys, c='m', s=5)\n    # plt.title(\"POGS CCD\")\n\n    # plt.show()\n\n    mr.tic(\"Synthesizing CCD Image\")\n    ccd_adu_synth = station.telescope.ccd.generate_ccd_image(\n        date_mid,\n        data_mat[\"integration_time\"],\n        station,\n        look_dir_eci_app,\n        [data_mat[\"ra_rate\"], data_mat[\"dec_rate\"]],\n        1e5,\n        catalog,\n        scope_up_dir_eci_app,\n    )\n    mr.toc()\n    adu_synth_proc = mr.prepare_fits_for_plotting(ccd_adu_synth)\n\n    plt.figure(figsize=(4, 4))\n    plt.imshow(adu_proc, cmap=\"gray\")\n    plt.imshow(adu_synth_proc, cmap=\"cool\", alpha=0.5)\n    plt.scatter(xs, ys, c=\"m\", s=5)\n    plt.show()\n\n\nif __name__ == \"__main__\":\n    main()\n    mr.print_profiling_results()"
      ]
    }
  ],
  "metadata": {
    "kernelspec": {
      "display_name": "Python 3",
      "language": "python",
      "name": "python3"
    },
    "language_info": {
      "codemirror_mode": {
        "name": "ipython",
        "version": 3
      },
      "file_extension": ".py",
      "mimetype": "text/x-python",
      "name": "python",
      "nbconvert_exporter": "python",
      "pygments_lexer": "ipython3",
      "version": "3.11.6"
    }
  },
  "nbformat": 4,
  "nbformat_minor": 0
}