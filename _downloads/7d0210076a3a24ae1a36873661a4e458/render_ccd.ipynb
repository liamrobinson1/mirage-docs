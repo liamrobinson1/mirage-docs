{
  "cells": [
    {
      "cell_type": "markdown",
      "metadata": {},
      "source": [
        "\n# CCD Rendering\n\nRenders a synthetic CCD image of an observation taken by the POGS telescope\n"
      ]
    },
    {
      "cell_type": "code",
      "execution_count": null,
      "metadata": {
        "collapsed": false
      },
      "outputs": [],
      "source": [
        "import datetime\nimport os\n\nimport matplotlib.pyplot as plt\nimport numpy as np"
      ]
    },
    {
      "cell_type": "markdown",
      "metadata": {},
      "source": [
        "Loading a fits image from the Purdue Optical Ground Station\n\n"
      ]
    },
    {
      "cell_type": "code",
      "execution_count": null,
      "metadata": {
        "collapsed": false
      },
      "outputs": [],
      "source": [
        "from astropy.io import fits\n\nimport mirage as mr\nimport mirage.vis as mrv\n\nccd_dir = os.path.join(os.environ[\"SRCDIR\"], \"..\", \"data\")\nccd_path = os.path.join(ccd_dir, \"00130398.fit\")\n# ccd_path = os.path.join(os.environ[\"SRCDIR\"], \"..\", \"examples/10-ccd/00095337.fit\")\n\nwith fits.open(ccd_path) as hdul:\n    header = hdul[0].header\n    for key in header.keys():\n        print(key, header[key])\n\n    date_obs_initial = datetime.datetime.strptime(\n        header[\"DATE-OBS\"], \"%Y-%m-%dT%H:%M:%S.%f\"\n    ).replace(tzinfo=datetime.timezone.utc)\n    ccd_temp = header[\"SET-TEMP\"]\n    site_lat_geod_deg = header[\"OBSGEO-B\"]\n    site_lon_deg = header[\"OBSGEO-L\"]\n    site_alt_m = header[\"OBSGEO-H\"]\n    center_azimuth_rad = np.deg2rad(header[\"CENTAZ\"])\n    center_elevation_rad = np.deg2rad(header[\"CENTALT\"])\n    airmass = header[\"AIRMASS\"]\n    track_rate_rad_ra = mr.dms_to_rad(0, 0, header[\"TELTKRA\"])  # rad/s\n    track_rate_rad_dec = mr.dms_to_rad(0, 0, header[\"TELTKDEC\"])  # rad/s\n    obj_ra_rad_initial = mr.hms_to_rad(\n        *[float(x) for x in header[\"OBJCTRA\"].split(\" \")]\n    )\n    obj_dec_rad_initial = mr.dms_to_rad(\n        *[float(x) for x in header[\"OBJCTDEC\"].split(\" \")]\n    )\n    lst_deg_initial = np.rad2deg(\n        mr.hms_to_rad(*[float(x) for x in header[\"LST\"].split(\" \")])\n    )\n    integration_time_seconds = header[\"EXPTIME\"]\n    ccd_adu = hdul[0].data\n\ndate_obs_final = date_obs_initial + mr.seconds(integration_time_seconds)\n\nobserving_station = mr.Station(\n    lat_deg=site_lat_geod_deg, lon_deg=site_lon_deg, alt_km=site_alt_m / 1e3\n)\n\nstation_eci_initial = observing_station.j2000_at_dates(date_obs_initial)\nstation_eci_final = observing_station.j2000_at_dates(date_obs_final)\n\nobj_ra_rad_final = obj_ra_rad_initial + integration_time_seconds * track_rate_rad_ra\nobj_dec_rad_final = obj_dec_rad_initial + integration_time_seconds * track_rate_rad_dec\n\nobj_look_eci_initial = mr.ra_dec_to_eci(obj_ra_rad_initial, obj_dec_rad_initial)\nobj_look_eci_final = mr.ra_dec_to_eci(obj_ra_rad_final, obj_dec_rad_final)\n\neci_from_az_el = observing_station.az_el_to_eci(\n    center_azimuth_rad, center_elevation_rad, date_obs_initial\n)\nra_dec_from_eci_from_az_el = mr.eci_to_ra_dec(eci_from_az_el)\n\nobs_dates = np.array([date_obs_initial, date_obs_final])\nobs_dirs_eci = np.vstack((obj_look_eci_initial, obj_look_eci_final))\n\nimport pyvista as pv\n\n# pl = pv.Plotter()\n# mrv.render_observation_scenario(pl, dates=obs_dates,\n#                             station=observing_station,\n#                             look_dirs_eci=obs_dirs_eci,\n#                             sensor_extent_km=20e3)\n# pl.show()"
      ]
    },
    {
      "cell_type": "markdown",
      "metadata": {},
      "source": [
        "Synthesizing the same image\n\n"
      ]
    },
    {
      "cell_type": "markdown",
      "metadata": {},
      "source": [
        "Let's synthesize a CCD image for the same observation conditions\n\n"
      ]
    },
    {
      "cell_type": "code",
      "execution_count": null,
      "metadata": {
        "collapsed": false
      },
      "outputs": [],
      "source": [
        "observing_station.telescope.fwhm = 2\n\nobj = mr.SpaceObject(\"matlib_hylas4.obj\", identifier=26853)\nr_obj_eci = obj.propagate(obs_dates)\n\nsv = mr.sun(obs_dates)\nnadir = -mr.hat(r_obj_eci)\nattitude = mr.AlignedAndConstrainedAttitude(\n    v_align=nadir,\n    v_const=sv,\n    dates=obs_dates,\n    axis_order=(1, 2, 0),\n)\nobj_lc_sampler, _ = observing_station.observe_light_curve(\n    obj,\n    attitude,\n    mr.Brdf(\"phong\"),\n    obs_dates,\n    use_engine=True,\n    instance_count=1,\n    model_scale_factor=1,\n    rotate_panels=True,\n)\nlc_adu = obj_lc_sampler()\n\nmr.tic()\nadu_grid_streaked_sampled = observing_station.telescope.ccd.generate_ccd_image(\n    obs_dates,\n    observing_station,\n    obs_dirs_eci,\n    lc_adu,\n    hot_pixel_probability=0,\n    dead_pixel_probability=0,\n)\nmr.toc()"
      ]
    },
    {
      "cell_type": "markdown",
      "metadata": {},
      "source": [
        "Let's take a look at the real and synthetic CCD images\n\n"
      ]
    },
    {
      "cell_type": "code",
      "execution_count": null,
      "metadata": {
        "collapsed": false
      },
      "outputs": [],
      "source": [
        "plt.figure(figsize=(8, 4))\nplt.subplot(1, 2, 1)\nplt.imshow(np.log10(ccd_adu), cmap=\"gist_stern\")\nmrv.texit(f\"POGS CCD\", \"\", \"\", grid=False)\nplt.colorbar(cax=mrv.get_cbar_ax(), label=\"$\\log_{10}(ADU)$\")\nplt.clim(3, 4)\n\nplt.subplot(1, 2, 2)\nplt.imshow(np.log10(adu_grid_streaked_sampled), cmap=\"gist_stern\")\nmrv.texit(f\"Synthetic CCD\", \"\", \"\", grid=False)\nplt.colorbar(cax=mrv.get_cbar_ax(), label=\"$\\log_{10}(ADU)$\")\nplt.clim(3, 4)\nplt.tight_layout()\nplt.show()"
      ]
    },
    {
      "cell_type": "markdown",
      "metadata": {},
      "source": [
        "Looking at the residual noise after subtracting off the parabolic background from the real image\n\n"
      ]
    },
    {
      "cell_type": "code",
      "execution_count": null,
      "metadata": {
        "collapsed": false
      },
      "outputs": [],
      "source": [
        "ccd_adu_minus_br = observing_station.telescope.ccd.subtract_parabola(ccd_adu)\nreal_br_mask = mr.image_background_naive(ccd_adu_minus_br)[0]\nreal_br_pixels = np.ma.array(ccd_adu_minus_br, mask=~real_br_mask)\nsynth_adu_minus_br = observing_station.telescope.ccd.subtract_parabola(\n    adu_grid_streaked_sampled\n)\nsynth_br_mask = mr.image_background_naive(synth_adu_minus_br)[0]\nsynth_br_pixels = np.ma.array(synth_adu_minus_br, mask=~synth_br_mask)\nprint(f\"Real background variance: {np.var(ccd_adu_minus_br[real_br_mask])} [ADU^2]\")\nprint(\n    f\"Synthetic background variance: {np.var(synth_adu_minus_br[synth_br_mask])} [ADU^2]\"\n)"
      ]
    },
    {
      "cell_type": "markdown",
      "metadata": {},
      "source": [
        "Plotting the same, with the parabolic background subtracted from the real image\n\n"
      ]
    },
    {
      "cell_type": "code",
      "execution_count": null,
      "metadata": {
        "collapsed": false
      },
      "outputs": [],
      "source": [
        "cbar_kwargs = dict(label=\"$ADU$\")\nplt.figure(figsize=(8, 4))\nplt.subplot(1, 2, 1)\nplt.imshow(real_br_pixels, cmap=\"plasma\")\nmrv.texit(f\"POGS CCD Background Pixels\", \"\", \"\", grid=False)\nplt.colorbar(cax=mrv.get_cbar_ax(), **cbar_kwargs)\nplt.clim(0, 300)\n\nplt.subplot(1, 2, 2)\nplt.imshow(synth_br_pixels, cmap=\"plasma\")\nmrv.texit(f\"Synthetic CCD Background Pixels\", \"\", \"\", grid=False)\nplt.colorbar(cax=mrv.get_cbar_ax(), **cbar_kwargs)\nplt.clim(0, 300)\nplt.tight_layout()\nplt.show()"
      ]
    },
    {
      "cell_type": "markdown",
      "metadata": {},
      "source": [
        "Inspecting the backgrounds\n\n"
      ]
    },
    {
      "cell_type": "code",
      "execution_count": null,
      "metadata": {
        "collapsed": false
      },
      "outputs": [],
      "source": [
        "frac_cuts = (1e-4, 5e-3)\nthresh = slice(\n    int(frac_cuts[0] * adu_grid_streaked_sampled.size),\n    int((1 - frac_cuts[1]) * adu_grid_streaked_sampled.size),\n)\nsynth_br_data = np.sort(adu_grid_streaked_sampled.flatten())[thresh][::100]\nreal_br_data = np.sort(ccd_adu.flatten())[thresh][::100]\n\nsynth_br = np.mean(synth_br_data)\nreal_br = np.mean(real_br_data)\n\nprint(f\"Synthetic background: {synth_br} [ADU]\")\nprint(f\"Real background: {real_br} [ADU]\")\n\nsynth_br_poisson_samples = np.random.poisson(synth_br, synth_br_data.size)\nreal_br_poisson_samples = np.random.poisson(real_br, real_br_data.size)\n\nplt.subplot(1, 2, 2)\nbins = np.arange(np.min(synth_br_data), np.max(synth_br_data))\nhist_args = dict(density=True, bins=bins, alpha=0.7)\nplt.hist(synth_br_data, **hist_args)\nplt.hist(synth_br_poisson_samples, **hist_args)\nmrv.texit(\"Synthetic backgrounds\", \"ADU\", \"Density\", [\"Image\", \"Poisson fit\"])\n\nplt.subplot(1, 2, 1)\nhist_args[\"bins\"] = np.arange(\n    np.min(real_br_poisson_samples), np.max(real_br_poisson_samples)\n)\nplt.hist(real_br_data, **hist_args)\nplt.hist(real_br_poisson_samples, **hist_args)\nmrv.texit(\"Real backgrounds\", \"ADU\", \"Density\", [\"Image\", \"Poisson fit\"])\n\nplt.tight_layout()\nplt.gcf().set_size_inches(8, 4)\nplt.show()"
      ]
    }
  ],
  "metadata": {
    "kernelspec": {
      "display_name": "Python 3",
      "language": "python",
      "name": "python3"
    },
    "language_info": {
      "codemirror_mode": {
        "name": "ipython",
        "version": 3
      },
      "file_extension": ".py",
      "mimetype": "text/x-python",
      "name": "python",
      "nbconvert_exporter": "python",
      "pygments_lexer": "ipython3",
      "version": "3.10.12"
    }
  },
  "nbformat": 4,
  "nbformat_minor": 0
}