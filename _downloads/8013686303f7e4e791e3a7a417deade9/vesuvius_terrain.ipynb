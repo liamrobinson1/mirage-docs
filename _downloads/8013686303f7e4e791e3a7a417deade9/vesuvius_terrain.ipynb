{
  "cells": [
    {
      "cell_type": "markdown",
      "metadata": {},
      "source": [
        "\n# Terrain Tiles\n"
      ]
    },
    {
      "cell_type": "code",
      "execution_count": null,
      "metadata": {
        "collapsed": false
      },
      "outputs": [],
      "source": [
        "import numpy as np\nimport pyvista as pv\nimport terrainman as tm\n\nimport pyspaceaware as ps\nimport pyspaceaware.vis as psv\n\nlat_deg, lon_deg = 40.8224, 14.4289\nlat_rad, lon_rad = np.deg2rad(lat_deg), np.deg2rad(lon_deg)\n\ntile = tm.TerrainDataHandler().load_tiles_containing(lat_deg, lon_deg)\n\nelev_grid = tile.elev_grid / 1e3 + ps.geoid_height_at_lla(lat_rad, lon_rad)\nitrf_terrain = ps.lla_to_itrf(\n    np.deg2rad(tile.lat_grid).flatten(),\n    np.deg2rad(tile.lon_grid).flatten(),\n    elev_grid.flatten(),\n)\n\ndem = pv.StructuredGrid(\n    itrf_terrain[:, 0].reshape(elev_grid.shape),\n    itrf_terrain[:, 1].reshape(elev_grid.shape),\n    itrf_terrain[:, 2].reshape(elev_grid.shape),\n)\ndem[\"Elevation [km]\"] = elev_grid.flatten(order=\"f\")\ndem[\"Latitude\"] = tile.lat_grid.flatten(order=\"f\")\ndem[\"Longitude\"] = tile.lon_grid.flatten(order=\"f\")\n\npl = pv.Plotter()\npl.add_mesh(\n    dem,\n    smooth_shading=True,\n    scalars=\"Elevation [km]\",\n    opacity=0.6,\n    show_scalar_bar=True,\n)\npsv.plot_earth(\n    pl, mode=\"ecef\", date=ps.utc(2023, 12, 9, 12), high_def=True, ocean_floor=False\n)\npl.camera.focal_point = np.mean(itrf_terrain, axis=0)\npl.camera.position = 6800 * ps.hat(np.mean(itrf_terrain, axis=0))\n\npl.show()"
      ]
    }
  ],
  "metadata": {
    "kernelspec": {
      "display_name": "Python 3",
      "language": "python",
      "name": "python3"
    },
    "language_info": {
      "codemirror_mode": {
        "name": "ipython",
        "version": 3
      },
      "file_extension": ".py",
      "mimetype": "text/x-python",
      "name": "python",
      "nbconvert_exporter": "python",
      "pygments_lexer": "ipython3",
      "version": "3.10.11"
    }
  },
  "nbformat": 4,
  "nbformat_minor": 0
}