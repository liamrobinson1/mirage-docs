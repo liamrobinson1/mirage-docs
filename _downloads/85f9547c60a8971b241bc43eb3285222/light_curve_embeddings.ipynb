{
  "cells": [
    {
      "cell_type": "markdown",
      "metadata": {},
      "source": [
        "\n# Brightness Function Embeddings\n\nExperimenting with different ways to embed the brightness function of a given shape into a lower-dimensional space.\n"
      ]
    },
    {
      "cell_type": "code",
      "execution_count": null,
      "metadata": {
        "collapsed": false
      },
      "outputs": [],
      "source": [
        "import matplotlib.pyplot as plt\nimport numpy as np\nimport pyvista as pv\n\nimport mirage as mr"
      ]
    },
    {
      "cell_type": "code",
      "execution_count": null,
      "metadata": {
        "collapsed": false
      },
      "outputs": [],
      "source": [
        "obj = mr.SpaceObject(\"cube.obj\")\nbrdf = mr.Brdf(\"phong\", cd=0.5, cs=0.5, n=5.0)\nbf = lambda svb, ovb: obj.convex_light_curve(brdf, svb, ovb)"
      ]
    },
    {
      "cell_type": "code",
      "execution_count": null,
      "metadata": {
        "collapsed": false
      },
      "outputs": [],
      "source": [
        "n = 10_000\nsvb = mr.rand_unit_vectors(n)\novb = mr.rand_unit_vectors(n)\n\nX = np.hstack((svb, ovb))\nY = bf(svb, ovb)\n\nimport sklearn.manifold as manifold\n\nmr.tic()\niso = manifold.TSNE(n_components=2)\n# iso.fit(X, Y)\nX_iso = iso.fit_transform(X)\nmr.toc()"
      ]
    },
    {
      "cell_type": "code",
      "execution_count": null,
      "metadata": {
        "collapsed": false
      },
      "outputs": [],
      "source": [
        "plt.scatter(X_iso[:, 0], X_iso[:, 1], c=Y)\nplt.colorbar()\nplt.show()"
      ]
    }
  ],
  "metadata": {
    "kernelspec": {
      "display_name": "Python 3",
      "language": "python",
      "name": "python3"
    },
    "language_info": {
      "codemirror_mode": {
        "name": "ipython",
        "version": 3
      },
      "file_extension": ".py",
      "mimetype": "text/x-python",
      "name": "python",
      "nbconvert_exporter": "python",
      "pygments_lexer": "ipython3",
      "version": "3.10.13"
    }
  },
  "nbformat": 4,
  "nbformat_minor": 0
}