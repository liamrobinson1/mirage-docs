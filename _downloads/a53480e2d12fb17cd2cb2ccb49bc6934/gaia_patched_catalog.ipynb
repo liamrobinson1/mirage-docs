{
  "cells": [
    {
      "cell_type": "markdown",
      "metadata": {},
      "source": [
        "\n# GAIA Patched Catalog\n\nDisplays the patched GAIA catalog\n"
      ]
    },
    {
      "cell_type": "markdown",
      "metadata": {},
      "source": [
        "Let's set up a grid of directions to plot the starlight signal at in J2000\n\n"
      ]
    },
    {
      "cell_type": "code",
      "execution_count": null,
      "metadata": {
        "collapsed": false
      },
      "outputs": [],
      "source": [
        "import pyspaceaware as ps\nimport matplotlib.pyplot as plt\nimport numpy as np\n\ndec_grid, ra_grid = np.meshgrid(\n    np.linspace(-np.pi / 2, np.pi / 2, 180),\n    np.linspace(-np.pi, np.pi, 360),\n    indexing=\"ij\",\n)\nx, y, z = ps.sph_to_cart(ra_grid.flatten(), dec_grid.flatten())\nsample_dirs_eci = np.vstack((x, y, z)).T"
      ]
    },
    {
      "cell_type": "markdown",
      "metadata": {},
      "source": [
        "Now we define the telescope we want to perform the observations with, we'll use the Purdue Optical Ground Station (POGS)\n\n"
      ]
    },
    {
      "cell_type": "code",
      "execution_count": null,
      "metadata": {
        "collapsed": false
      },
      "outputs": [],
      "source": [
        "ts = ps.Telescope(preset=\"pogs\")\nsig = ps.integrated_starlight_signal(\n    look_dirs_eci_eq=sample_dirs_eci,\n    obs_pos_eci_eq=sample_dirs_eci,\n    t_int=ts.integration_time,\n    scale=ts.pixel_scale,\n    d=ts.aperture_diameter,\n)"
      ]
    },
    {
      "cell_type": "markdown",
      "metadata": {},
      "source": [
        "Now we reshape the signal into the original grid and display the plot as an image\n\n"
      ]
    },
    {
      "cell_type": "code",
      "execution_count": null,
      "metadata": {
        "collapsed": false
      },
      "outputs": [],
      "source": [
        "plt.imshow(\n    np.flipud(sig.reshape(dec_grid.shape)),\n    cmap=\"hot\",\n    extent=(-180, 180, -90, 90),\n)\nplt.colorbar(label=\"Total signal [e-/pix]\")\nplt.title(\"Patched GAIA Catalog Above Magnitude 16\")\nplt.xlabel(\"Inertial Right Ascension [deg]\")\nplt.xlabel(\"Inertial Declination [deg]\")\nplt.show()"
      ]
    },
    {
      "cell_type": "markdown",
      "metadata": {},
      "source": [
        "We can also display this on the ECI unit sphere:\n\n"
      ]
    },
    {
      "cell_type": "code",
      "execution_count": null,
      "metadata": {
        "collapsed": false
      },
      "outputs": [],
      "source": [
        "import pyvista as pv\n\npl = pv.Plotter()\npl.set_background(\"black\")\nps.scatter3(\n    pl,\n    sample_dirs_eci,\n    scalars=sig,\n    point_size=10,\n    cmap=\"hot\",\n    opacity=sig / np.max(sig),\n)\nps.plot_basis(pl, np.eye(3), [\"x\", \"y\", \"z\"], scale=1.3, color=\"cyan\")\npl.view_isometric()\npl.show()"
      ]
    }
  ],
  "metadata": {
    "kernelspec": {
      "display_name": "Python 3",
      "language": "python",
      "name": "python3"
    },
    "language_info": {
      "codemirror_mode": {
        "name": "ipython",
        "version": 3
      },
      "file_extension": ".py",
      "mimetype": "text/x-python",
      "name": "python",
      "nbconvert_exporter": "python",
      "pygments_lexer": "ipython3",
      "version": "3.10.11"
    }
  },
  "nbformat": 4,
  "nbformat_minor": 0
}