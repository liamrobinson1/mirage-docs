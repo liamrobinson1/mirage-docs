{
  "cells": [
    {
      "cell_type": "markdown",
      "metadata": {},
      "source": [
        "\n# GAIA Patched Catalog\n\nDisplays the patched GAIA catalog\n"
      ]
    },
    {
      "cell_type": "markdown",
      "metadata": {},
      "source": [
        "Let's set up a grid of directions to plot the starlight signal at in J2000\n\n"
      ]
    },
    {
      "cell_type": "code",
      "execution_count": null,
      "metadata": {
        "collapsed": false
      },
      "outputs": [],
      "source": [
        "import sys\n\nsys.path.append(\"./src\")\nimport pyspaceaware as ps\nimport matplotlib.pyplot as plt\nimport numpy as np\n\ndec_grid, ra_grid = np.meshgrid(\n    np.linspace(-np.pi / 2, np.pi / 2, 180),\n    np.linspace(-np.pi, np.pi, 360),\n    indexing=\"ij\",\n)\nx, y, z = ps.sph_to_cart(ra_grid.flatten(), dec_grid.flatten())\nsample_dirs_eci = np.vstack((x, y, z)).T"
      ]
    },
    {
      "cell_type": "markdown",
      "metadata": {},
      "source": [
        "Now we define the telescope we want to perform the observations with, we'll use the Purdue Optical Ground Station (POGS)\n\n"
      ]
    },
    {
      "cell_type": "code",
      "execution_count": null,
      "metadata": {
        "collapsed": false
      },
      "outputs": [],
      "source": [
        "ts = ps.Telescope(preset=\"pogs\")\nsig = ps.integrated_starlight_signal(\n    dates=None,\n    look_dirs_eci_eq=sample_dirs_eci,\n    obs_pos_eci_eq=sample_dirs_eci,\n    t_int=ts.integration_time,\n    scale=ts.pixel_scale,\n    d=ts.aperture_diameter,\n)"
      ]
    },
    {
      "cell_type": "markdown",
      "metadata": {},
      "source": [
        "Now we reshape the signal into the original grid and display the plot as an image\nWe'll also overlay the Tycho 2 RA/Dec coordinates to confirm that both overlap correctly\n\n"
      ]
    },
    {
      "cell_type": "code",
      "execution_count": null,
      "metadata": {
        "collapsed": false
      },
      "outputs": [],
      "source": [
        "plt.imshow(\n    np.flipud(sig.reshape(dec_grid.shape)),\n    cmap=\"hot\",\n    extent=(-180, 180, -90, 90),\n)\n\nt2 = ps.load_json_data(\"tycho2.json\")\ntycho2_ra_rad = t2[\"j2000_ra\"][::10]\ntycho2_dec_rad = t2[\"j2000_dec\"][::10]\nvm = t2[\"visual_magnitude\"][::10]\n\nplt.scatter(\n    x=np.rad2deg(tycho2_ra_rad),\n    y=np.rad2deg(tycho2_dec_rad),\n    marker=\",\",\n    s=0.01,\n    alpha=1 - vm / np.max(vm),\n)\nplt.colorbar(label=\"Total signal [e-/pix]\")\nplt.title(\"Patched GAIA Catalog Above Magnitude 16\")\nplt.xlabel(\"Inertial Right Ascension [deg]\")\nplt.ylabel(\"Inertial Declination [deg]\")\nplt.show()"
      ]
    },
    {
      "cell_type": "markdown",
      "metadata": {},
      "source": [
        "We can also display the GAIA patched catalog and the Tycho 2 unit vectors on the ECI unit sphere:\n\n"
      ]
    },
    {
      "cell_type": "code",
      "execution_count": null,
      "metadata": {
        "collapsed": false
      },
      "outputs": [],
      "source": [
        "import pyvista as pv\n\ntycho2_unit_vectors = np.vstack(\n    ps.sph_to_cart(az=tycho2_ra_rad, el=tycho2_dec_rad)\n).T\n\npl = pv.Plotter()\npl.set_background(\"black\")\nps.scatter3(\n    pl,\n    sample_dirs_eci,\n    scalars=sig,\n    point_size=10,\n    cmap=\"fire\",\n    opacity=sig / np.max(sig),\n)\nps.scatter3(\n    pl,\n    tycho2_unit_vectors,\n    scalars=1 - vm / np.max(vm),\n    point_size=0.05,\n    cmap=\"cool\",\n)\nps.plot_basis(pl, np.eye(3), [\"x\", \"y\", \"z\"], scale=1.3, color=\"cyan\")\npl.view_isometric()\npl.show()"
      ]
    }
  ],
  "metadata": {
    "kernelspec": {
      "display_name": "Python 3",
      "language": "python",
      "name": "python3"
    },
    "language_info": {
      "codemirror_mode": {
        "name": "ipython",
        "version": 3
      },
      "file_extension": ".py",
      "mimetype": "text/x-python",
      "name": "python",
      "nbconvert_exporter": "python",
      "pygments_lexer": "ipython3",
      "version": "3.10.11"
    }
  },
  "nbformat": 4,
  "nbformat_minor": 0
}