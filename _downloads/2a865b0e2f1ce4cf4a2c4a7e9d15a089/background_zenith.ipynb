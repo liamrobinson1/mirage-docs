{
  "cells": [
    {
      "cell_type": "markdown",
      "metadata": {},
      "source": [
        "\n# Background Signals at Zenith\nPlotting the general behavior of background signals for zodiac light, moonlight, and integrated starlight at zenith\n"
      ]
    },
    {
      "cell_type": "code",
      "execution_count": null,
      "metadata": {
        "collapsed": false
      },
      "outputs": [],
      "source": [
        "import numpy as np\nimport pyvista as pv\nimport pyspaceaware as ps\nimport pyspaceaware.vis as psv"
      ]
    },
    {
      "cell_type": "markdown",
      "metadata": {},
      "source": [
        "Let's choose a point after sunset on the US east coast\n\n"
      ]
    },
    {
      "cell_type": "code",
      "execution_count": null,
      "metadata": {
        "collapsed": false
      },
      "outputs": [],
      "source": [
        "date = ps.today() + ps.hours(4)"
      ]
    },
    {
      "cell_type": "markdown",
      "metadata": {},
      "source": [
        "We can then generate the background signals for a set of spiral points\n\n"
      ]
    },
    {
      "cell_type": "code",
      "execution_count": null,
      "metadata": {
        "collapsed": false
      },
      "outputs": [],
      "source": [
        "npts = int(1e5)\npts = 1e4 * ps.spiral_sample_sphere(npts)\nsv = np.tile(ps.hat(ps.sun(date)), (npts, 1))\npts = pts[ps.angle_between_vecs(sv, pts).flatten() > np.pi / 4, :]\ntdargs = (\n    np.tile([[date]], (pts.shape[0], 1)),\n    pts,\n    pts / 2 + 0.01,\n    1,\n    1,\n    1,\n)\nss = ps.integrated_starlight_signal(*tdargs)\nsm = ps.moonlight_signal(*tdargs)\nsz = ps.zodiacal_signal(*tdargs)\n\n\ndef plot_sig(pl, s, cmap, scale=1):\n    psv.scatter3(\n        pl,\n        scale * pts,\n        scalars=s,\n        cmap=cmap,\n        opacity=(s - np.min(s)) / (np.max(s) - np.min(s)) / 2,\n        point_size=15,\n        show_scalar_bar=False,\n        lighting=False,\n    )\n\n\npl = pv.Plotter()\npsv.plot_earth(pl, mode=\"eci\", night_lights=True, atmosphere=True, date=date),\nplot_sig(pl, ss, \"fire\", scale=1.2)\nplot_sig(pl, sm, \"bone\", scale=1.2)\nplot_sig(pl, sz, \"cividis\", scale=1.0)\npl.camera.position = (35e3, 35e3, -8e3)\npl.show()"
      ]
    }
  ],
  "metadata": {
    "kernelspec": {
      "display_name": "Python 3",
      "language": "python",
      "name": "python3"
    },
    "language_info": {
      "codemirror_mode": {
        "name": "ipython",
        "version": 3
      },
      "file_extension": ".py",
      "mimetype": "text/x-python",
      "name": "python",
      "nbconvert_exporter": "python",
      "pygments_lexer": "ipython3",
      "version": "3.10.11"
    }
  },
  "nbformat": 4,
  "nbformat_minor": 0
}