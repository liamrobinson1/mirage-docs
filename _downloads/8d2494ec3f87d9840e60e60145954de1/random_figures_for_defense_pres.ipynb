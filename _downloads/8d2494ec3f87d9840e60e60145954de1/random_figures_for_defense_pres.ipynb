{
  "cells": [
    {
      "cell_type": "markdown",
      "metadata": {},
      "source": [
        "\n# Figures for MS Defense\n"
      ]
    },
    {
      "cell_type": "code",
      "execution_count": null,
      "metadata": {
        "collapsed": false
      },
      "outputs": [],
      "source": [
        "import matplotlib.pyplot as plt\nimport numpy as np\nimport pyvista as pv\nfrom terrainman import TsiDataHandler\n\nimport mirage as mr\nimport mirage.vis as mrv"
      ]
    },
    {
      "cell_type": "markdown",
      "metadata": {},
      "source": [
        "The solar spectrum and irradiance at Earth\n\n"
      ]
    },
    {
      "cell_type": "code",
      "execution_count": null,
      "metadata": {
        "collapsed": false
      },
      "outputs": [],
      "source": [
        "date = mr.utc(2000, 1, 1, 12)\ndates, epsecs = mr.date_arange(\n    date, date + mr.years(20), mr.days(1), return_epsecs=True\n)\nepyrs = epsecs / 86400 / 365.25"
      ]
    },
    {
      "cell_type": "markdown",
      "metadata": {},
      "source": [
        "The ``terrainman.TsiDataHandler`` class deals with downloading the relevant netCDF4 files from [This NOAA server](https://www.ncei.noaa.gov/data/total-solar-irradiance/access/daily/). Outside of the interval covered by this dataset (1882-current_year) $1361 \\frac{W}{m^2}$ is used as a default.\n\n"
      ]
    },
    {
      "cell_type": "code",
      "execution_count": null,
      "metadata": {
        "collapsed": false
      },
      "outputs": [],
      "source": [
        "tsi_dh = TsiDataHandler()\nmr.tic()\nsc_at_one_au = tsi_dh.eval(dates)\nmr.toc()\n\nearth_to_sun = mr.sun(dates)\nearth_to_sun_dist_km = mr.vecnorm(earth_to_sun).flatten()\nearth_to_sun_dist_au = earth_to_sun_dist_km / mr.AstroConstants.au_to_km"
      ]
    },
    {
      "cell_type": "markdown",
      "metadata": {},
      "source": [
        "With this distance information, we can augment the Total Solar Irradiance plot to show the actual irradiance felt by a shell at Earth's instantaneous orbital radius. We can do this by noting that doubling the radius of a sphere squares its area, so we just have to divide by the square of the ``earth_to_sun_dist_au``\n\n"
      ]
    },
    {
      "cell_type": "code",
      "execution_count": null,
      "metadata": {
        "collapsed": false
      },
      "outputs": [],
      "source": [
        "plt.figure(figsize=(8, 4))\nplt.subplot(1, 2, 1)\nsc_at_earth_radius = sc_at_one_au / earth_to_sun_dist_au**2\nax1 = plt.gca()\nax1.scatter(epyrs + 2000, sc_at_one_au, s=1, color=\"C0\")\nax1.set_ylabel(r\"$\\left[\\frac{W}{m^2}\\right]$\")\nax1.set_xlabel(\"Year\")\nplt.title(\"Total Solar Irradiance at 1 AU\")\n\nplt.subplot(1, 2, 2)\n\nlambdas = np.linspace(100e-9, 1500e-9, 200)\n\nsolar_spectrum = mr.sun_spectrum(lambdas)\nplt.plot(lambdas * 1e9, solar_spectrum)\nmrv.plot_visible_band(lambdas, solar_spectrum)\n# label IR and UV\nplt.xlim([np.min(lambdas) * 1e9, np.max(lambdas) * 1e9])\nplt.ylim([0, 1.3 * np.max(solar_spectrum)])\nplt.text(1000, 1.5e9, \"IR\", color=\"r\", fontsize=12)\nplt.text(200, 1.5e9, \"UV\", color=\"violet\", fontsize=12)\n\nplt.title(\"Solar Spectrum\")\nplt.xlabel(\"Wavelength [nm]\")\nplt.ylabel(\"Irradiance [W/m$^2$/m]\")\n\nplt.tight_layout()\nplt.show()"
      ]
    },
    {
      "cell_type": "markdown",
      "metadata": {},
      "source": [
        "True irradiance at Earth\n\n"
      ]
    },
    {
      "cell_type": "code",
      "execution_count": null,
      "metadata": {
        "collapsed": false
      },
      "outputs": [],
      "source": [
        "plt.scatter(epyrs[-900:] + 2000, sc_at_earth_radius[-900:], s=1)\nplt.ylabel(r\"$\\left[\\frac{W}{m^2}\\right]$\")\nplt.xlabel(\"Year\")\nplt.title(\"Total Solar Irradiance at Earth\")\nplt.show()"
      ]
    }
  ],
  "metadata": {
    "kernelspec": {
      "display_name": "Python 3",
      "language": "python",
      "name": "python3"
    },
    "language_info": {
      "codemirror_mode": {
        "name": "ipython",
        "version": 3
      },
      "file_extension": ".py",
      "mimetype": "text/x-python",
      "name": "python",
      "nbconvert_exporter": "python",
      "pygments_lexer": "ipython3",
      "version": "3.10.12"
    }
  },
  "nbformat": 4,
  "nbformat_minor": 0
}