{
  "cells": [
    {
      "cell_type": "markdown",
      "metadata": {},
      "source": [
        "\n# Background Shape\n\nInspecting the shape of the background in a POGS CCD image\n"
      ]
    },
    {
      "cell_type": "code",
      "execution_count": null,
      "metadata": {
        "collapsed": false
      },
      "outputs": [],
      "source": [
        "import os\n\nimport matplotlib.pyplot as plt\nimport numpy as np\nimport pyvista as pv\nimport seaborn as sns"
      ]
    },
    {
      "cell_type": "markdown",
      "metadata": {},
      "source": [
        "Loading a fits image from the Purdue Optical Ground Station\n\n"
      ]
    },
    {
      "cell_type": "code",
      "execution_count": null,
      "metadata": {
        "collapsed": false
      },
      "outputs": [],
      "source": [
        "from astropy.io import fits\n\nimport mirage as mr\nimport mirage.vis as mrv"
      ]
    },
    {
      "cell_type": "markdown",
      "metadata": {},
      "source": [
        "Defining functions that compute the background of a CCD image\n\n"
      ]
    },
    {
      "cell_type": "markdown",
      "metadata": {},
      "source": [
        "Loading the CCD image\n\n"
      ]
    },
    {
      "cell_type": "code",
      "execution_count": null,
      "metadata": {
        "collapsed": false
      },
      "outputs": [],
      "source": [
        "with fits.open(os.path.join(os.environ['SRCDIR'], '..', 'examples/07-observer/00095337.fit')) as hdul:\n    ccd_adu = hdul[0].data"
      ]
    },
    {
      "cell_type": "markdown",
      "metadata": {},
      "source": [
        "Plotting the background values as a function of the distance from the center of the image\n\n"
      ]
    },
    {
      "cell_type": "code",
      "execution_count": null,
      "metadata": {
        "collapsed": false
      },
      "outputs": [],
      "source": [
        "br_mask_naive, _ = mr.image_background_naive(ccd_adu)\nim_center = np.array(ccd_adu.shape) / 2\nx_pix, y_pix = np.meshgrid(np.arange(ccd_adu.shape[1]), np.arange(ccd_adu.shape[0]))\nr_dist = np.sqrt((x_pix - im_center[0])**2 + (y_pix - im_center[1])**2)\nim_br_parabola = mr.image_background_parabola(ccd_adu)\n\nx = r_dist[br_mask_naive][::1000]\ny_real = ccd_adu[br_mask_naive][::1000]\ny_parabola = im_br_parabola[br_mask_naive][::1000]\ncmap = sns.color_palette(\"light:b\", as_cmap=True)\nsns.kdeplot(\n    x=x, y=y_real, fill=True,\n    thresh=0, levels=15,\n    alpha=0.5, cmap=cmap,\n)\nplt.scatter(x, y_real, s=0.3, label=\"Real image density\", alpha=0.1, color='b')\nplt.scatter(x, y_parabola, s=1, label=f\"Parabolic fit\", color='k')\nmrv.texit(\"\", \"Distance from center [pix]\", \"ADU\", grid=False)\nplt.legend()\nplt.show()"
      ]
    },
    {
      "cell_type": "markdown",
      "metadata": {},
      "source": [
        "Plotting the parabolic fit to the background\n\n"
      ]
    },
    {
      "cell_type": "code",
      "execution_count": null,
      "metadata": {
        "collapsed": false
      },
      "outputs": [],
      "source": [
        "plt.imshow(im_br_parabola, cmap='plasma')\nmrv.texit(\"Image Parabola Fit\", \"\", \"\", grid=False)\nplt.colorbar(cax=mrv.get_cbar_ax(), label=\"ADU\")\nplt.show()"
      ]
    },
    {
      "cell_type": "markdown",
      "metadata": {},
      "source": [
        "Plotting the residual noise after accounting for the image background, compared to a Poisson fit\n\n"
      ]
    },
    {
      "cell_type": "code",
      "execution_count": null,
      "metadata": {
        "collapsed": false
      },
      "outputs": [],
      "source": [
        "ccd_minus_br = ccd_adu - im_br_parabola\nreal_br_mask, _ = mr.image_background_naive(ccd_minus_br)\nccd_minus_br_masked = ccd_minus_br[real_br_mask][::10]\nresidual_var = np.var(ccd_minus_br_masked)\nprint(f'Residual variance: {residual_var} [ADU^2]]')\nhist_kwargs = dict(bins=np.arange(np.min(ccd_minus_br_masked), np.max(ccd_minus_br_masked)), density=True, alpha=0.8)\nplt.hist(ccd_minus_br_masked, **hist_kwargs)\nplt.hist(np.random.poisson(residual_var, size=ccd_minus_br_masked.size) - residual_var, **hist_kwargs)\nmrv.texit(\"Real backgrounds\", \"ADU\", \"Density\", [\"Image\", \"Poisson fit\"])\nplt.show()\n\n# x, y = np.meshgrid(np.arange(ccd_adu.shape[1]), np.arange(ccd_adu.shape[0]))\n# grid = pv.StructuredGrid(x, y, ccd_minus_br / 100)\n\n# pl = pv.Plotter()\n# pl.add_mesh(grid, scalars=ccd_minus_br.flatten(order='f'), cmap='gist_stern')\n# pl.enable_anti_aliasing('ssaa')\n# pl.show()"
      ]
    }
  ],
  "metadata": {
    "kernelspec": {
      "display_name": "Python 3",
      "language": "python",
      "name": "python3"
    },
    "language_info": {
      "codemirror_mode": {
        "name": "ipython",
        "version": 3
      },
      "file_extension": ".py",
      "mimetype": "text/x-python",
      "name": "python",
      "nbconvert_exporter": "python",
      "pygments_lexer": "ipython3",
      "version": "3.10.12"
    }
  },
  "nbformat": 4,
  "nbformat_minor": 0
}