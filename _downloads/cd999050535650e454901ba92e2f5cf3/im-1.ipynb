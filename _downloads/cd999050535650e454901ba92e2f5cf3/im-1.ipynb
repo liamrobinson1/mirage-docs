{
  "cells": [
    {
      "cell_type": "markdown",
      "metadata": {},
      "source": [
        "IM-1\n"
      ]
    },
    {
      "cell_type": "markdown",
      "metadata": {},
      "source": [
        "Loading the JPL Horizons ephemeris data\n\n"
      ]
    },
    {
      "cell_type": "code",
      "execution_count": null,
      "metadata": {
        "collapsed": false
      },
      "outputs": [],
      "source": [
        "import os\nimport re\n\nimport matplotlib.pyplot as plt\nimport numpy as np\nimport pyvista as pv\n\nimport mirage as mr\nimport mirage.vis as mrv\n\nwith open(\n    os.path.join(\n        os.environ[\"SRCDIR\"],\n        \"..\",\n        \"examples\",\n        \"000-work-in-progress\",\n        \"horizons_results.txt\",\n    )\n) as f:\n    ephemeris = f.read().splitlines()\n\nstart_index = ephemeris.index([x for x in ephemeris if \"$$SOE\" in x][0]) + 1\nend_index = ephemeris.index([x for x in ephemeris if \"$$EOE\" in x][0])\n\njds = []\npos = []\nvel = []\n\nfor line in ephemeris[start_index:end_index]:\n    if \"A.D.\" in line:\n        jds.append(float(line.split()[0]))\n    elif \"X =\" in line:\n        floats = re.findall(r\"[-+]?[0-9]*\\.?[0-9]+(?:[Ee][-+]?[0-9]+)?\", line)\n        pos.append([float(x) for x in floats])\n    elif \"VX=\" in line:\n        floats = re.findall(r\"[-+]?[0-9]*\\.?[0-9]+(?:[Ee][-+]?[0-9]+)?\", line)\n        vel.append([float(x) for x in floats])\n\njds = np.array(jds)\nvel = np.array(vel)\npos = np.array(pos)"
      ]
    },
    {
      "cell_type": "markdown",
      "metadata": {},
      "source": [
        "Propagating from the first ephemeris data point\n\n"
      ]
    },
    {
      "cell_type": "code",
      "execution_count": null,
      "metadata": {
        "collapsed": false
      },
      "outputs": [],
      "source": [
        "initial_state = np.hstack((pos[0], vel[0]))\ndates = mr.jd_to_date(jds)\n\nmr.tic(\"Propagating IM-1\")\nrv = mr.integrate_orbit_dynamics(\n    initial_state, dates, gravity_harmonics_degree=4, third_bodies=[\"moon\", \"sun\"]\n)\nmr.toc()"
      ]
    },
    {
      "cell_type": "markdown",
      "metadata": {},
      "source": [
        "Plotting the position error between the propagated and Horizons data\nplt.figure()\nplt.plot(jds, rv[:,:3] - pos)\nmrv.texit(\"ICRF Position Comparison\", \"Julian date (UTC)\", \"(Propagated - Horizons) (km)\")\nplt.tight_layout()\nplt.show()\n\n"
      ]
    },
    {
      "cell_type": "markdown",
      "metadata": {},
      "source": [
        "Propagating till lunar periapsis\npl = pv.Plotter()\n\n"
      ]
    },
    {
      "cell_type": "code",
      "execution_count": null,
      "metadata": {
        "collapsed": false
      },
      "outputs": [],
      "source": [
        "dates_long = mr.date_arange(dates[0], dates[0] + mr.days(5.5), mr.minutes(15))\nmr.tic(\"Propagating IM-1, long\")\nrv_long = mr.integrate_orbit_dynamics(\n    initial_state, dates_long, gravity_harmonics_degree=4, third_bodies=[\"moon\", \"sun\"]\n)\nmr.toc()\n\n\npl = pv.Plotter()\nmrv.plot_earth(pl, date=dates_long[-1], lighting=False)\nmrv.plot_moon(pl, date=dates_long[-1], lighting=False)\nmrv.plot3(pl, rv_long[:, :3], color=\"m\", line_width=10)\npl.show()"
      ]
    },
    {
      "cell_type": "markdown",
      "metadata": {},
      "source": [
        "Propagating to now\n\n"
      ]
    },
    {
      "cell_type": "code",
      "execution_count": null,
      "metadata": {
        "collapsed": false
      },
      "outputs": [],
      "source": [
        "dates_now = mr.date_linspace(dates[0], mr.now(), 2)\nrv_now = mr.integrate_orbit_dynamics(\n    initial_state, dates_now, gravity_harmonics_degree=4, third_bodies=[\"moon\", \"sun\"]\n)[-1, :]"
      ]
    },
    {
      "cell_type": "markdown",
      "metadata": {},
      "source": [
        "Determining if IM-1 is visible from POGS\n\n"
      ]
    },
    {
      "cell_type": "code",
      "execution_count": null,
      "metadata": {
        "collapsed": false
      },
      "outputs": [],
      "source": [
        "station = mr.Station()\nstation_j2000 = station.j2000_at_dates(dates_long)\nstation_to_im1 = mr.hat(rv_long[:, :3] - station_j2000)\nelevation = (\n    90\n    - np.rad2deg(mr.angle_between_vecs(station_to_im1, mr.hat(station_j2000))).flatten()\n)\n\n# plt.plot(dates_long, elevation, 'k', label=\"Elevation\")\n# mrv.texit(\"IM-1 Elevation from POGS\", \"Date (UTC)\", \"Elevation (deg)\")\n# plt.fill_between(dates_long, elevation, 0, where=elevation>20, color='g', alpha=0.3, label=\"Observable\")\n# plt.fill_between(dates_long, elevation, 0, where=elevation<20, color='r', alpha=0.3, label=\"Not observable\")\n# plt.legend(loc='upper right')\n# plt.ylim([-45, 90])\n# plt.show()\n\nrv_tod = mr.EarthFixedFrame(\"j2000\", \"tod\").vecs_at_dates(dates_now[-1], rv_now[:3])\nra_tod_now, dec_tod_now = mr.eci_to_ra_dec(rv_tod[:3])\n\ndates_now_plus = mr.date_linspace(dates[0], mr.now() + mr.seconds(1), 2)\nrv_now_plus = mr.integrate_orbit_dynamics(\n    initial_state,\n    dates_now_plus,\n    gravity_harmonics_degree=4,\n    third_bodies=[\"moon\", \"sun\"],\n)[-1, :]\nrv_tod_plus = mr.EarthFixedFrame(\"j2000\", \"tod\").vecs_at_dates(\n    dates_now_plus[-1], rv_now_plus[:3]\n)\nra_tod_now_plus, dec_tod_now_plus = mr.eci_to_ra_dec(rv_tod_plus[:3])\nra_rate = (ra_tod_now_plus - ra_tod_now)[0] * mr.AstroConstants.rad_to_arcsecond\ndec_rate = (dec_tod_now_plus - dec_tod_now)[0] * mr.AstroConstants.rad_to_arcsecond\n\nra_tod_now = np.rad2deg(ra_tod_now[0])\ndec_tod_now = np.rad2deg(dec_tod_now[0])\nprint(f\"RA: {ra_tod_now}, Dec: {dec_tod_now}\")\nprint(f\"RA rate: {ra_rate}, Dec rate: {dec_rate}\")"
      ]
    },
    {
      "cell_type": "markdown",
      "metadata": {},
      "source": [
        "Saving out a file of jds, RA/Dec and rates\n\n"
      ]
    },
    {
      "cell_type": "code",
      "execution_count": null,
      "metadata": {
        "collapsed": false
      },
      "outputs": [],
      "source": [
        "jds_long = mr.date_to_jd(dates_long)\ndates_long_plus = dates_long + mr.seconds(1)\nrv_long_tod = mr.EarthFixedFrame(\"j2000\", \"tod\").vecs_at_dates(\n    dates_long, rv_long[:, :3]\n)\nra_tod, dec_tod = mr.eci_to_ra_dec(rv_long_tod[:, :3])\nra_tod_deg = np.rad2deg(ra_tod)\ndec_tod_deg = np.rad2deg(dec_tod)\nrv_long_plus = mr.integrate_orbit_dynamics(\n    initial_state,\n    dates_long_plus,\n    gravity_harmonics_degree=4,\n    third_bodies=[\"moon\", \"sun\"],\n)\nrv_long_plus_tod = mr.EarthFixedFrame(\"j2000\", \"tod\").vecs_at_dates(\n    dates_long_plus, rv_long_plus[:, :3]\n)\nra_tod_plus, dec_tod_plus = mr.eci_to_ra_dec(rv_long_plus_tod[:, :3])\nra_rate = (ra_tod_plus - ra_tod) * mr.AstroConstants.rad_to_arcsecond\ndec_rate = (dec_tod_plus - dec_tod) * mr.AstroConstants.rad_to_arcsecond\n# print(dec_rate)\n# enddd\n\nwith open(\n    os.path.join(\n        os.environ[\"SRCDIR\"], \"..\", \"examples\", \"000-work-in-progress\", \"im-1.txt\"\n    ),\n    \"w\",\n) as f:\n    f.write(\n        f\"# JD (UTC), RA (deg, TOD), Dec (deg, TOD), RA rate (arcsec/s), Dec rate (arcsec/s)\\n\"\n    )\n    for i in range(len(dates_long)):\n        f.write(\n            f\"{jds_long[i]}, {ra_tod_deg[i]}, {dec_tod_deg[i]}, {ra_rate[i]}, {dec_rate[i]}\\n\"\n        )"
      ]
    }
  ],
  "metadata": {
    "kernelspec": {
      "display_name": "Python 3",
      "language": "python",
      "name": "python3"
    },
    "language_info": {
      "codemirror_mode": {
        "name": "ipython",
        "version": 3
      },
      "file_extension": ".py",
      "mimetype": "text/x-python",
      "name": "python",
      "nbconvert_exporter": "python",
      "pygments_lexer": "ipython3",
      "version": "3.10.13"
    }
  },
  "nbformat": 4,
  "nbformat_minor": 0
}