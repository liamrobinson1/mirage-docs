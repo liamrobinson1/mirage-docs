{
  "cells": [
    {
      "cell_type": "markdown",
      "metadata": {},
      "source": [
        "\n# EGI Jacobian\n\nComputing the change in the convex object guess (via its EGI) due to a change in the light curve\n"
      ]
    },
    {
      "cell_type": "code",
      "execution_count": null,
      "metadata": {
        "collapsed": false
      },
      "outputs": [],
      "source": [
        "import matplotlib.pyplot as plt\nimport numpy as np\nimport pyvista as pv\nfrom scipy.interpolate import interpn\nfrom scipy.spatial import SphericalVoronoi, geometric_slerp\nfrom sklearn.neighbors import BallTree\n\nimport mirage as mr\nimport mirage.vis as mrv\n\nitensor = np.diag([1.0, 2.0, 3.0])\nw0 = 1e-2 * mr.hat(np.array([[1.0, 5.0, 0.0]]))\nw0 = 1e-2 * mr.rand_unit_vectors(1)\nq0 = np.array([[0.0, 0.0, 0.0, 1.0]])\nq0 = mr.rand_quaternions(1)\nidate = mr.utc(2023, 1, 1, 5)\nobs_time = mr.hours(3)\nobs_dt = mr.seconds(10)\npl_shape = (3, 3)\ninversions = pl_shape[0] * pl_shape[1]\n\nobj_file = \"cylinder.obj\"\n\nstation = mr.Station(preset=\"pogs\")\nbrdf = mr.Brdf(name=\"phong\", cd=0.5, cs=0.0, n=10)\nbrdf_inversion = brdf\nattitude = mr.RbtfAttitude(w0=w0, q0=q0, itensor=itensor)\n\ndates, epsecs = mr.date_arange(idate, idate + obs_time, obs_dt, return_epsecs=True)\n\nq_of_t, w_of_t = attitude.propagate(epsecs)\ndcms_of_t = mr.quat_to_dcm(q_of_t)\n\nobj = mr.SpaceObject(obj_file, identifier=\"goes 15\")\nlc_ccd_signal_sampler, aux_data = station.observe_light_curve(\n    obj, attitude, brdf, dates, use_engine=False, model_scale_factor=4\n)\n\n\nsun_body = aux_data[\"sun_vector_object_body\"]\nobs_body = aux_data[\"observer_vector_object_body\"]\n\nsint = aux_data[\"sint\"]\nlc_hat = aux_data[\"lc_clean_norm\"]\nconstr = aux_data[\"all_constraints_satisfied\"]\nbr_mean = aux_data[\"background_mean\"]\nairy_disk_pixels = aux_data[\"airy_disk_pixels\"]\nobs_to_moon = aux_data[\"obs_to_moon\"]\nlc_clean = aux_data[\"lc_clean\"]\nsnr = aux_data[\"snr\"]\n\n\nmr.tic()\nlc_sampled = lc_ccd_signal_sampler()\nmr.toc()\n\nplt.plot(epsecs, lc_clean)\nplt.scatter(epsecs, lc_sampled, s=2, c=\"r\")\nplt.show()\n\naz = np.linspace(-np.pi, np.pi, 100)\nel = np.linspace(-np.pi / 2, np.pi / 2, 110)\ngaz, gel = np.meshgrid(az, el)\nn_cand = np.vstack(mr.sph_to_cart(gaz.flatten(), gel.flatten())).T\n\nmr.tic()\nG = brdf.compute_reflection_matrix(sun_body, obs_body, n_cand)\nmr.toc()\n\negi = mr.optimize_egi(lc_sampled / np.max(lc_sampled), sun_body, obs_body, brdf)\negi_az, egi_el, egi_a = mr.cart_to_sph(egi[:, 0], egi[:, 1], egi[:, 2])\n\nG_deep = G.reshape(-1, *gel.shape)\nG_deep /= np.sum(np.sum(G_deep, axis=1), axis=1).reshape(-1, 1, 1)\n\n# print(G.shape, G_deep.shape, gel.shape)\n# endd\n\ntotal_influence_normal_grid = np.sum(G_deep, axis=0) * np.cos(gel)\ntotal_counts = (\n    total_influence_normal_grid\n    / np.sum(total_influence_normal_grid)\n    * np.sum(lc_sampled)\n)\n\nd_lc = lambda epsec, n_az, n_el: interpn((epsecs, az, el), G_deep, (epsec, n_az, n_el))\n\ngrid = pv.ImageData(\n    spacing=(\n        10 / G_deep.shape[0],\n        2 * np.pi / G_deep.shape[1],\n        np.pi / G_deep.shape[2],\n    ),\n    origin=(0, 0, -np.pi / 2),\n    dimensions=G_deep.shape,\n)\ngrid[\"data\"] = G_deep.flatten(order=\"F\")\n\npl = pv.Plotter()\npl.add_volume(grid, cmap=\"plasma\")\npl.show_bounds()\npl.show()\n\nmr.tic()\nazf = np.linspace(-np.pi, np.pi, 1000)\nelf = np.linspace(-np.pi / 2, np.pi / 2, 1000)\ngazf, gelf = np.meshgrid(azf, elf)\ntotal_counts_interp = interpn((el, az), total_influence_normal_grid, (gelf, gazf))\ntotal_counts_interp = (\n    total_counts_interp / np.sum(total_counts_interp) * np.sum(lc_sampled)\n)\nmr.toc()\n\nprint(np.sum(total_counts_interp))\nprint(np.sum(lc_sampled))\nprint(np.sum(total_counts))\n\nplt.imshow(\n    total_counts_interp,\n    extent=[-np.pi, np.pi, -np.pi / 2, np.pi / 2],\n    cmap=\"plasma\",\n    clim=[0, np.max(total_counts_interp)],\n)\n# plt.imshow(np.flipud(total_influence_normal_grid), extent=[-np.pi, np.pi, -np.pi/2, np.pi/2],\n#            cmap='cividis', clim=[0, np.max(total_influence_normal_grid)], alpha=0.2)\nplt.scatter(egi_az, egi_el, c=egi_a)\n\nsv = SphericalVoronoi(mr.hat(egi))\nsv.sort_vertices_of_regions()\nt_vals = np.linspace(0, 1, 500)\nfor a, region in zip(egi_a, sv.regions):\n    n = len(region)\n    for i in range(n):\n        start = sv.vertices[region][i]\n        end = sv.vertices[region][(i + 1) % n]\n        result = geometric_slerp(start, end, t_vals)\n        raz, rel, _ = mr.cart_to_sph(result[:, 0], result[:, 1], result[:, 2])\n        plt.scatter(raz, rel, c=\"w\", s=0.1)\n\nsv_kd_tree = BallTree(np.vstack((egi_el, egi_az)).T, metric=\"haversine\")\nmr.tic()\nnearest_vertex_indices = sv_kd_tree.query(np.vstack((gelf.ravel(), gazf.ravel())).T)[\n    1\n].reshape(gazf.shape)\nmr.toc()\n# plt.imshow(np.flipud(nearest_vertex_indices), extent=[-np.pi, np.pi, -np.pi/2, np.pi/2],\n#               cmap='plasma')\n\ntotal_counts_of_egi_vertices = np.zeros_like(egi_a)\nfor i in range(len(egi_a)):\n    total_counts_of_egi_vertices[i] = np.sum(\n        total_counts_interp[nearest_vertex_indices == i]\n    )\n\nprint(total_counts_of_egi_vertices)\n\nmrv.texit(\"Influence of object normals\", \"Azimuth [rad]\", \"Elevation [rad]\", grid=False)\nplt.colorbar(cax=mrv.get_cbar_ax(), label=\"Influence\")\nplt.show()"
      ]
    }
  ],
  "metadata": {
    "kernelspec": {
      "display_name": "Python 3",
      "language": "python",
      "name": "python3"
    },
    "language_info": {
      "codemirror_mode": {
        "name": "ipython",
        "version": 3
      },
      "file_extension": ".py",
      "mimetype": "text/x-python",
      "name": "python",
      "nbconvert_exporter": "python",
      "pygments_lexer": "ipython3",
      "version": "3.10.12"
    }
  },
  "nbformat": 4,
  "nbformat_minor": 0
}