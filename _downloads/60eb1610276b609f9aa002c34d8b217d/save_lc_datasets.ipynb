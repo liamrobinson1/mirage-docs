{
  "cells": [
    {
      "cell_type": "markdown",
      "metadata": {},
      "source": [
        "\n# Saving Light Curve Datasets\n"
      ]
    },
    {
      "cell_type": "code",
      "execution_count": null,
      "metadata": {
        "collapsed": false
      },
      "outputs": [],
      "source": [
        "import datetime\nimport json\nimport os\nimport random\nfrom typing import Union\n\nimport matplotlib.pyplot as plt\nimport numpy as np\n\nimport mirage as mr\nimport mirage.vis as mrv\n\n\ndef save_lc_info(\n    dates: np.ndarray[datetime.datetime],\n    obj: mr.SpaceObject,\n    attitude,\n    aux_data: dict,\n    rotate_panels: bool,\n):\n    if not os.path.exists(\"lc_database\"):\n        os.mkdir(\"lc_database\")\n    save_dict = {\n        k: (v.tolist() if isinstance(v, np.ndarray) else v) for k, v in aux_data.items()\n    }\n    save_dict[\"obj_file_name\"] = obj.file_name\n    save_dict[\"rotate_panels\"] = rotate_panels\n    save_dict[\"jds\"] = mr.date_to_jd(dates).tolist()\n    save_dict[\"attitude_type\"] = repr(attitude)\n    with open(os.path.join(\"lc_database\", f\"{abs(hash(dates[0]))}.lc_info\"), \"w\") as f:\n        json.dump(save_dict, f, indent=2)\n\n\ndef aligned_nadir_constrained_sun_attitude(\n    obj: mr.SpaceObject, dates: np.ndarray[datetime.datetime]\n) -> mr.AlignedAndConstrainedAttitude:\n    r_obj_j2k = obj.propagate(dates)\n    sv = mr.sun(dates)\n    nadir = -mr.hat(r_obj_j2k)\n    return mr.AlignedAndConstrainedAttitude(\n        v_align=nadir, v_const=sv, dates=dates, axis_order=(1, 2, 0)\n    )\n\n\ndef random_brdf() -> mr.Brdf:\n    return mr.Brdf(\"phong\")\n\n\ndef random_station() -> mr.Station:\n    station = mr.Station()\n    station.constraints = [\n        mr.SnrConstraint(3),\n        mr.ElevationConstraint(10),\n        mr.TargetIlluminatedConstraint(),\n        mr.ObserverEclipseConstraint(station),\n        mr.VisualMagnitudeConstraint(20),\n    ]\n    return station\n\n\nmr.set_model_directory(\"/Users/liamrobinson/Documents/Light-Curve-Models/accurate_sats\")\nspace_objects = [\n    mr.SpaceObject(\"matlib_tdrs.obj\", identifier=19548),\n    mr.SpaceObject(\"matlib_astra.obj\", identifier=26853),  # ASTRA 2C\n    mr.SpaceObject(\"matlib_hylas4.obj\", identifier=44333),  # AT&T T-16\n    mr.SpaceObject(\"matlib_hispasat_30w-6.obj\", identifier=44333),  # AT&T T-16\n    mr.SpaceObject(\"matlib_telstar19v.obj\", identifier=44333),  # AT&T T-16\n    # mr.SpaceObject('matlib_tess.obj', identifier=43435),\n    # mr.SpaceObject('matlib_landsat8.obj', identifier=39084),\n    mr.SpaceObject(\"matlib_saturn_v_sii.obj\", identifier=43652),  # ATLAS 5 CENTAUR DEB\n    # mr.SpaceObject('matlib_starlink_v1.obj', identifier=44743), # STARLINK 1038\n]\n\n\ndef random_spaceobject() -> mr.SpaceObject:\n    return random.choice(space_objects)\n\n\ndef random_dates() -> np.ndarray:\n    idate = mr.now() - mr.days(np.random.rand() * 365.25)\n    fdate = idate + mr.days(1)\n    return mr.date_arange(idate, fdate, mr.seconds(10))\n\n\ndef random_attitude(\n    dates: np.ndarray[datetime.datetime], obj: mr.SpaceObject\n) -> Union[\n    mr.RbtfAttitude, mr.SpinStabilizedAttitude, mr.AlignedAndConstrainedAttitude\n]:\n    type_choice = np.random.rand()\n    if type_choice < 1 / 3:\n        q0 = mr.rand_quaternions(1)\n        w0 = mr.rand_points_in_ball(1e-3, 1)\n        itensor = np.diag(np.random.rand(3))\n        attitude = mr.RbtfAttitude(w0, q0, itensor)\n    elif type_choice < 2 / 3:\n        rot_rate = np.random.rand() * 1e-3\n        intertial_rot_axis = mr.rand_unit_vectors(1)\n        jd0 = mr.date_to_jd(dates[0])\n        rot_angle0 = 2 * np.pi * np.random.rand()\n        attitude = mr.SpinStabilizedAttitude(\n            rot_rate, intertial_rot_axis, jd0, rot_angle0\n        )\n    else:\n        attitude = aligned_nadir_constrained_sun_attitude(obj, dates)\n\n    return attitude\n\n\ndef generate_light_curve():\n    dates = random_dates()\n    obj = random_spaceobject()\n    station = random_station()\n    brdf = random_brdf()\n    attitude = random_attitude(dates, obj)\n\n    rotate_panels = not any([x in obj.file_name for x in [\"orion\", \"saturn\"]])\n    lc_sampler, aux_data = station.observe_light_curve(\n        obj,\n        attitude,\n        brdf,\n        dates,\n        use_engine=True,\n        rotate_panels=rotate_panels,\n        show_window=False,\n        silent=True,\n        instances=4,\n    )\n\n    print(obj.file_name, attitude.__class__)\n    plt.scatter(\n        dates, mr.irradiance_to_apparent_magnitude(lc_sampler() / aux_data[\"sint\"]), s=2\n    )\n    mrv.texit(f\"{obj.file_name[:-4]}\", \"Date\", \"Apparent Magnitude\")\n    # plt.show()\n\n    if np.any(lc_sampler()):\n        save_lc_info(dates, obj, attitude, aux_data, rotate_panels)\n\n\nfor i in range(10):\n    generate_light_curve()"
      ]
    }
  ],
  "metadata": {
    "kernelspec": {
      "display_name": "Python 3",
      "language": "python",
      "name": "python3"
    },
    "language_info": {
      "codemirror_mode": {
        "name": "ipython",
        "version": 3
      },
      "file_extension": ".py",
      "mimetype": "text/x-python",
      "name": "python",
      "nbconvert_exporter": "python",
      "pygments_lexer": "ipython3",
      "version": "3.10.13"
    }
  },
  "nbformat": 4,
  "nbformat_minor": 0
}