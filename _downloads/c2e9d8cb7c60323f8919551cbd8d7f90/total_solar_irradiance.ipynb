{
  "cells": [
    {
      "cell_type": "markdown",
      "metadata": {},
      "source": [
        "\n# Total Solar Irradiance\n\nModeling the variations in solar energy output at 1 AU. This example explains the rationale behind the function ``pyspaceaware.total_solar_irradiance_at_dates``\n"
      ]
    },
    {
      "cell_type": "code",
      "execution_count": null,
      "metadata": {
        "collapsed": false
      },
      "outputs": [],
      "source": [
        "import datetime\n\nimport matplotlib.pyplot as plt\nimport numpy as np\nfrom terrainman import TsiDataHandler\n\nimport mirage as mr"
      ]
    },
    {
      "cell_type": "markdown",
      "metadata": {},
      "source": [
        "Let's plot the variation in the total solar irradiance from the beginning of the J2000 epoch till now\n\n"
      ]
    },
    {
      "cell_type": "code",
      "execution_count": null,
      "metadata": {
        "collapsed": false
      },
      "outputs": [],
      "source": [
        "date = datetime.datetime(2000, 1, 1, 12, 0, 0, tzinfo=datetime.timezone.utc)\ndates = mr.date_linspace(date, mr.now(), 10_000)"
      ]
    },
    {
      "cell_type": "markdown",
      "metadata": {},
      "source": [
        "The ``terrainman.TsiDataHandler`` class deals with downloading the relevant netCDF4 files from [This NOAA server](https://www.ncei.noaa.gov/data/total-solar-irradiance/access/daily/). Outside of the interval covered by this dataset (1882-current_year) $1361 \\frac{W}{m^2}$ is used as a default.\n\n"
      ]
    },
    {
      "cell_type": "code",
      "execution_count": null,
      "metadata": {
        "collapsed": false
      },
      "outputs": [],
      "source": [
        "tsi_dh = TsiDataHandler()\nmr.tic()\nsc_at_one_au = tsi_dh.eval(dates)\nmr.toc()"
      ]
    },
    {
      "cell_type": "markdown",
      "metadata": {},
      "source": [
        "Plotting the irradiance over time\n\n"
      ]
    },
    {
      "cell_type": "code",
      "execution_count": null,
      "metadata": {
        "collapsed": false
      },
      "outputs": [],
      "source": [
        "sz = 0.5\nplt.scatter(dates, sc_at_one_au, s=sz)\nplt.title(\"Total Solar Irradiance\")\nplt.xlabel(\"Year\")\nplt.ylabel(r\"Irradiance at 1 AU $\\left[\\frac{W}{m^2}\\right]$\")\nplt.show()"
      ]
    },
    {
      "cell_type": "markdown",
      "metadata": {},
      "source": [
        "This isn't the end of the story, as the distance to the Sun changes over the course of the year. Let's compute the distance from the Sun to the Earth in AU over this time period we just plotted\n\n"
      ]
    },
    {
      "cell_type": "code",
      "execution_count": null,
      "metadata": {
        "collapsed": false
      },
      "outputs": [],
      "source": [
        "earth_to_sun = mr.sun(dates)\nearth_to_sun_dist_km = mr.vecnorm(earth_to_sun).flatten()\nearth_to_sun_dist_au = earth_to_sun_dist_km / mr.AstroConstants.au_to_km\n\nplt.plot(dates, earth_to_sun_dist_au)\nplt.title(\"Distance from Earth to Sun\")\nplt.xlabel(\"Year\")\nplt.ylabel(r\"[AU]\")\nplt.show()"
      ]
    },
    {
      "cell_type": "markdown",
      "metadata": {},
      "source": [
        "With this distance information, we can augment the Total Solar Irradiance plot to show the actual irradiance felt by a shell at Earth's instantaneous orbital radius. We can do this by noting that doubling the radius of a sphere squares its area, so we just have to divide by the square of the ``earth_to_sun_dist_au``\n\n"
      ]
    },
    {
      "cell_type": "code",
      "execution_count": null,
      "metadata": {
        "collapsed": false
      },
      "outputs": [],
      "source": [
        "sc_at_earth_radius = sc_at_one_au / earth_to_sun_dist_au**2\nplt.scatter(dates, sc_at_one_au, s=sz, alpha=0.5)\nplt.scatter(dates, sc_at_earth_radius, s=sz, color=\"r\")\nplt.title(\"Solar Irradiance At Earth Radius\")\nplt.xlabel(\"Year\")\nplt.ylabel(r\"Irradiance $\\left[\\frac{W}{m^2}\\right]$\")\nplt.show()"
      ]
    },
    {
      "cell_type": "markdown",
      "metadata": {},
      "source": [
        "This has all been packaged up into a single function which evaluates the Total Solar Irradiance at Earth's radius at an array of dates:\n.. autofunction:: pyspaceaware.total_solar_irradiance_at_dates\n\n"
      ]
    },
    {
      "cell_type": "markdown",
      "metadata": {},
      "source": [
        "We can prove that this function produces identical outputs to the implementation above:\n\n"
      ]
    },
    {
      "cell_type": "code",
      "execution_count": null,
      "metadata": {
        "collapsed": false
      },
      "outputs": [],
      "source": [
        "tsi = mr.total_solar_irradiance_at_dates(dates)\nprint(f\"Implemented function max error: {np.max(np.abs(tsi - sc_at_earth_radius))}\")"
      ]
    }
  ],
  "metadata": {
    "kernelspec": {
      "display_name": "Python 3",
      "language": "python",
      "name": "python3"
    },
    "language_info": {
      "codemirror_mode": {
        "name": "ipython",
        "version": 3
      },
      "file_extension": ".py",
      "mimetype": "text/x-python",
      "name": "python",
      "nbconvert_exporter": "python",
      "pygments_lexer": "ipython3",
      "version": "3.10.12"
    }
  },
  "nbformat": 4,
  "nbformat_minor": 0
}