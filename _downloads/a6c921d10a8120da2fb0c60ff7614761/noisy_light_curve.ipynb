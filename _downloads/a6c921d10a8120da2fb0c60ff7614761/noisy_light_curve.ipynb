{
  "cells": [
    {
      "cell_type": "markdown",
      "metadata": {},
      "source": [
        "\n# Noisy Light Curves\n\nSimulates torque-free rigid body motion for a simple object and computes the full light curve, informed by station constraints and a high-fidelity background signal model\n"
      ]
    },
    {
      "cell_type": "code",
      "execution_count": null,
      "metadata": {
        "collapsed": false
      },
      "outputs": [],
      "source": [
        "import pyspaceaware as ps\nimport datetime\nimport seaborn as sns\nimport matplotlib.pyplot as plt\nimport numpy as np"
      ]
    },
    {
      "cell_type": "markdown",
      "metadata": {},
      "source": [
        "Setting up analysis times\n\n"
      ]
    },
    {
      "cell_type": "code",
      "execution_count": null,
      "metadata": {
        "collapsed": false
      },
      "outputs": [],
      "source": [
        "date_start = datetime.datetime(2023, 5, 20, 20, 45, 0, tzinfo=datetime.timezone.utc)\n(dates, epsecs) = ps.date_linspace(\n    date_start - ps.days(1), date_start, 1e3, return_epsecs=True\n)"
      ]
    },
    {
      "cell_type": "markdown",
      "metadata": {},
      "source": [
        "Setting up the scenario objects\n\n"
      ]
    },
    {
      "cell_type": "code",
      "execution_count": null,
      "metadata": {
        "collapsed": false
      },
      "outputs": [],
      "source": [
        "obj = ps.SpaceObject(\"tess.obj\", identifier=\"goes 15\")\nbrdf = ps.Brdf(\"phong\")\nstation = ps.Station(preset=\"pogs\")\n# Observing from the Purdue Optical Ground Station in New Mexico"
      ]
    },
    {
      "cell_type": "markdown",
      "metadata": {},
      "source": [
        "Defining observation constraints on the station\n\n"
      ]
    },
    {
      "cell_type": "code",
      "execution_count": null,
      "metadata": {
        "collapsed": false
      },
      "outputs": [],
      "source": [
        "station.constraints = [\n    ps.SnrConstraint(3),\n    ps.ElevationConstraint(10),\n    ps.TargetIlluminatedConstraint(),\n    ps.ObserverEclipseConstraint(station),\n    ps.VisualMagnitudeConstraint(20),\n    ps.MoonExclusionConstraint(10),\n    ps.HorizonMaskConstraint(station),\n]"
      ]
    },
    {
      "cell_type": "markdown",
      "metadata": {},
      "source": [
        "Defining the object's attitude profile and mass properties\n\n"
      ]
    },
    {
      "cell_type": "code",
      "execution_count": null,
      "metadata": {
        "collapsed": false
      },
      "outputs": [],
      "source": [
        "obj_attitude = ps.RbtfAttitude(\n    w0=0.000 * np.array([0, 1, 1]),\n    q0=ps.hat(np.array([0, 0, 0, 1])),\n    itensor=obj.principal_itensor,\n)"
      ]
    },
    {
      "cell_type": "markdown",
      "metadata": {},
      "source": [
        "Computing the full noisy light curve\n\n"
      ]
    },
    {
      "cell_type": "code",
      "execution_count": null,
      "metadata": {
        "collapsed": false
      },
      "outputs": [],
      "source": [
        "(lc_noisy, aux_data) = station.observe_light_curve(\n    obj, obj_attitude, brdf, dates, use_engine=True\n)"
      ]
    },
    {
      "cell_type": "markdown",
      "metadata": {},
      "source": [
        "Extracting data and plotting results\n\n"
      ]
    },
    {
      "cell_type": "code",
      "execution_count": null,
      "metadata": {
        "collapsed": false
      },
      "outputs": [],
      "source": [
        "lc_clean = aux_data[\"lc_clean\"]\n\nsns.scatterplot(x=epsecs, y=lc_clean)\nsns.scatterplot(x=epsecs, y=lc_noisy)\nplt.xlim((0, np.max(epsecs)))\nps.texit(\n    f\"Light Curves for {obj.satnum}\",\n    \"EpSec\",\n    \"[e-]\",\n    [\"Clean\", \"Noisy\"],\n)\nplt.grid()\nplt.show()"
      ]
    }
  ],
  "metadata": {
    "kernelspec": {
      "display_name": "Python 3",
      "language": "python",
      "name": "python3"
    },
    "language_info": {
      "codemirror_mode": {
        "name": "ipython",
        "version": 3
      },
      "file_extension": ".py",
      "mimetype": "text/x-python",
      "name": "python",
      "nbconvert_exporter": "python",
      "pygments_lexer": "ipython3",
      "version": "3.10.11"
    }
  },
  "nbformat": 4,
  "nbformat_minor": 0
}