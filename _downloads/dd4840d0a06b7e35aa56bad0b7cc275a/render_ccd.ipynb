{
  "cells": [
    {
      "cell_type": "markdown",
      "metadata": {},
      "source": [
        "\n# CCD Rendering\n\nRenders a synthetic CCD image of an observation taken by the POGS telescope\n"
      ]
    },
    {
      "cell_type": "code",
      "execution_count": null,
      "metadata": {
        "collapsed": false
      },
      "outputs": [],
      "source": [
        "import matplotlib.pyplot as plt\nimport numpy as np\n\nimport mirage as mr\nimport mirage.vis as mrv\n\nstation = mr.Station(\"pogs\")\nstation.telescope.fwhm = 4\n\ndate = mr.utc(2023, 1, 1, 7)\ndeltat = mr.seconds(10)\ndates = np.array([date, date + deltat])\n\nobj = mr.SpaceObject(\"matlib_hylas4.obj\", identifier=26853)\nr_obj_eci = obj.propagate(dates)\n\nsv = mr.sun(dates)\nnadir = -mr.hat(r_obj_eci)\nattitude = mr.AlignedAndConstrainedAttitude(\n    v_align=nadir,\n    v_const=sv,\n    dates=dates,\n    axis_order=(1, 2, 0),\n)\nobj_lc_sampler, _ = station.observe_light_curve(\n    obj,\n    attitude,\n    mr.Brdf(\"phong\"),\n    dates,\n    use_engine=True,\n    instance_count=1,\n    model_scale_factor=10,\n    rotate_panels=True,\n)\nlc_adu = obj_lc_sampler()\n\nadu_grid_streaked_sampled = station.telescope.ccd.generate_ccd_image(dates, station, r_obj_eci, lc_adu)\nplt.imshow(np.log10(adu_grid_streaked_sampled), cmap=\"gray\")\nmrv.texit(\n    f'CCD Image of {obj.satnum} at {dates[0].strftime(\"%Y-%m-%d %H:%M:%S\")} UTC', \"\", \"\"\n)\nplt.grid(False)\nplt.show()"
      ]
    }
  ],
  "metadata": {
    "kernelspec": {
      "display_name": "Python 3",
      "language": "python",
      "name": "python3"
    },
    "language_info": {
      "codemirror_mode": {
        "name": "ipython",
        "version": 3
      },
      "file_extension": ".py",
      "mimetype": "text/x-python",
      "name": "python",
      "nbconvert_exporter": "python",
      "pygments_lexer": "ipython3",
      "version": "3.10.12"
    }
  },
  "nbformat": 4,
  "nbformat_minor": 0
}