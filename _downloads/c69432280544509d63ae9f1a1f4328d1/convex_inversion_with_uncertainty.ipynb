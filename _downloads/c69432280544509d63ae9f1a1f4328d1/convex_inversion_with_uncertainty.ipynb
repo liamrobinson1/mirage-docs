{
  "cells": [
    {
      "cell_type": "markdown",
      "metadata": {},
      "source": [
        "\n# Light Curve Inversion with Uncertainty\nInverting convex shapes from light curves with uncertainty\n"
      ]
    },
    {
      "cell_type": "code",
      "execution_count": null,
      "metadata": {
        "collapsed": false
      },
      "outputs": [],
      "source": [
        "import matplotlib.pyplot as plt\nimport numpy as np\nimport pyvista as pv\n\nimport mirage as mr\nimport mirage.vis as mrv\n\nitensor = np.diag([1.0, 2.0, 3.0])\nw0 = 1e-1 * mr.hat(np.array([[0, 2, 0.1]]))\nq0 = np.array([[0.0, 0.0, 0.0, 1.0]])\nidate = mr.utc(2023, 1, 1, 5)\nobs_time = mr.hours(3)\nobs_dt = mr.seconds(10)\npl_shape = (4, 4)\nnights = np.prod(pl_shape)\n\nobj_file = \"cube.obj\"\n\nstation = mr.Station(preset=\"pogs\")\nbrdf = mr.Brdf(name=\"phong\", cd=0.5, cs=0.0, n=10)\nbrdf_inversion = brdf\n# brdf_inversion = mr.Brdf(name='phong', cd=1, cs=0.0, n=5)\nattitude = mr.RbtfAttitude(w0=w0, q0=q0, itensor=itensor)\n\ndates = []\nepsecs = []\nfor i in range(nights):\n    d = mr.date_arange(idate, idate + obs_time, obs_dt)\n    dates.append(d)\n    idate += mr.days(1)\ndates = np.concatenate(dates)\nepsecs = np.array([(d - dates[0]).total_seconds() for d in dates])\n\nq_of_t, w_of_t = attitude.propagate(epsecs)\ndcms_of_t = mr.quat_to_dcm(q_of_t)\nmodel_scale_factor = 1\n\nobj = mr.SpaceObject(obj_file, identifier=\"goes 15\")\nobj.shift_to_center_of_mass()\n\n# mrv.vis_attitude_motion(obj, q_of_t)\n# endd\n\nlc_ccd_signal_sampler, aux_data = station.observe_light_curve(\n    obj, attitude, brdf, dates, use_engine=False, model_scale_factor=model_scale_factor\n)\n\nsun_body = aux_data[\"sun_vector_object_body\"]\nobs_body = aux_data[\"observer_vector_object_body\"]\n\nsint = aux_data[\"sint\"]\nlc_hat = aux_data[\"lc_clean_norm\"]\nconstr = aux_data[\"all_constraints_satisfied\"]\nbr_mean = aux_data[\"background_mean\"]\nairy_disk_pixels = aux_data[\"airy_disk_pixels\"]\nobs_to_moon = aux_data[\"obs_to_moon\"]\nlc_clean = aux_data[\"lc_clean\"]\nsnr = aux_data[\"snr\"]\n\n# plt.figure(figsize=(7, 5))\nlcs_noisy_adu = np.array([lc_ccd_signal_sampler() for _ in range(1000)])\nlcs_noisy_irrad = lcs_noisy_adu / (\n    aux_data[\"sint\"] * station.telescope.integration_time\n)\nlcs_noisy_unit_irrad = (\n    lcs_noisy_irrad\n    * (aux_data[\"rmag_station_to_sat\"] * 1e3) ** 2\n    / mr.AstroConstants.sun_irradiance_vacuum\n)\n\n# lcs_noisy_mag = mr.irradiance_to_apparent_magnitude(lcs_noisy_irrad)\n# var_lcs = np.var(lcs_noisy_mag, axis=0)\n# mean_lcs = np.mean(lcs_noisy_mag, axis=0)\n\n# plt.plot(epsecs, mean_lcs, c=\"k\")\n# for stdev in [1, 2, 3]:\n#     plt.fill_between(\n#         epsecs,\n#         mean_lcs - (stdev - 1) * np.sqrt(var_lcs),\n#         mean_lcs - stdev * np.sqrt(var_lcs),\n#         alpha=0.4 - 0.1 * stdev,\n#         color=\"b\",\n#         edgecolor=None,\n#     )\n#     plt.fill_between(\n#         epsecs,\n#         mean_lcs + (stdev - 1) * np.sqrt(var_lcs),\n#         mean_lcs + stdev * np.sqrt(var_lcs),\n#         alpha=0.4 - 0.1 * stdev,\n#         color=\"b\",\n#         edgecolor=None,\n#     )\n# mrv.texit(\n#     \"Light Curve with Uncertainty\",\n#     \"Epoch seconds\",\n#     \"Apparent Magnitude\",\n#     grid=False,\n#     legend=[\"Mean\", \"1$\\sigma$\", \"2$\\sigma$\", \"3$\\sigma$\"],\n# )\n# plt.show()\n\npl = pv.Plotter(shape=pl_shape)\nrec_objs = []\nlc_sampled = lcs_noisy_adu[0, :]\nlc = lcs_noisy_unit_irrad[0, :]\nfor i in range(nights):\n    inds = (np.array([i, i + 1]) / nights * lc.size).astype(int)\n\n    lc_this = lc[inds[0] : inds[1]]\n    sun_body_this = sun_body[inds[0] : inds[1], :]\n    obs_body_this = obs_body[inds[0] : inds[1], :]\n\n    egi_opt_initial, egi_opt = mr.optimize_egi(\n        # lc_this / np.max(lc_this),\n        lc_this,\n        sun_body_this,\n        obs_body_this,\n        brdf_inversion,\n        merge_iter=2,\n        merge_angle=np.pi / 8,\n        return_all=True,\n    )\n\n    # Inversion\n    rec_obj = mr.construct_mesh_from_egi(mr.close_egi(egi_opt_initial))\n    # rec_obj = rec_obj.introduce_concavity(\n    #     mr.hat(np.sum(egi_opt_initial, axis=0)),\n    #     np.random.uniform(0, 60) if np.random.rand() > 0.5 else 0,\n    #     linear_iter=4,\n    #     loop_iter=0,\n    # )\n    rec_obj.shift_to_center_of_mass()\n    rec_objs.append(rec_obj)\n\nerr = []\nfor i,rec_obj in enumerate(rec_objs):\n    # lc_hat = rec_obj.convex_light_curve(brdf, sun_body, obs_body) * model_scale_factor ** 2\n    lc_hat = (\n        mr.run_light_curve_engine(brdf, rec_obj, sun_body, obs_body)\n        # * model_scale_factor**2\n    )\n    err.append(np.linalg.norm(lc_hat - lc))\n    print(f\"Error for night {i+1}: {err[-1]:.2e}\")\nerr = np.array(err)\nweights = (1 - (err - np.min(err)) / (np.max(err) - np.min(err)))\n\nfu_lambdas = []\nfor i, rec_obj in enumerate(rec_objs):\n    inds = (np.array([i, i + 1]) / nights * lc.size).astype(int)\n\n    lc_this = lc[inds[0] : inds[1]]\n    sun_body_this = sun_body[inds[0] : inds[1], :]\n    obs_body_this = obs_body[inds[0] : inds[1], :]\n    snr_this = snr[inds[0] : inds[1]]\n\n    print(f\"Computing face uncertainty {i+1}/{len(rec_objs)}\")\n\n    fu = mr.face_uncertainty(rec_obj, sun_body_this, obs_body_this, brdf, lc_this)\n    fu_lambdas.append(mr.SphericalWeight(rec_obj.unique_normals, (1-fu[rec_obj.all_to_unique]) * weights[i]))\n    az,el,_ = mr.cart_to_sph(*rec_obj.face_normals.T)\n    pl.subplot(i // pl_shape[0], i % pl_shape[1])\n    # pv.plotting.opts.InterpolationType(0)\n    mrv.render_spaceobject(pl, rec_obj)\n    mrv.render_spaceobject(pl, obj, style=\"wireframe\", color=\"r\")\n    pl.add_text(\n        f\"Night {i+1}\",\n        font=\"courier\",\n    )\n\n    # az,el = np.meshgrid(np.linspace(0,2*np.pi,1000), np.linspace(-np.pi/2,np.pi/2,1000))\n    # mr.tic()\n    # vals = fu_lambdas[-1](az.flatten(), el.flatten()).reshape(az.shape)\n    # plt.imshow(vals, extent=[0,2*np.pi,-np.pi/2,np.pi/2], origin='lower', cmap='cividis', aspect='auto')\n    # mrv.texit(f\"Face Uncertainty Map\", \"Azimuth (rad)\", \"Elevation (rad)\", grid=True)\n    # plt.colorbar()\n    # mr.toc()\n    # plt.show()\n\npl.show()"
      ]
    },
    {
      "cell_type": "markdown",
      "metadata": {},
      "source": [
        "Merging the guesses and testing new error\n\n"
      ]
    },
    {
      "cell_type": "code",
      "execution_count": null,
      "metadata": {
        "collapsed": false
      },
      "outputs": [],
      "source": [
        "merged_obj = mr.merge_shapes(rec_objs, fu_lambdas)\n\npl = pv.Plotter()\nmrv.render_spaceobject(pl, merged_obj, opacity=0.7)\nmrv.render_spaceobject(pl, obj, style=\"wireframe\", color=\"r\")\npl.add_text(\n    f\"Merged Guess\",\n    font=\"courier\",\n)\n# mrv.render_spaceobject(pl, rec_objs[0], style=\"wireframe\", color=\"b\")\npl.show()\n\nlc_hat = (\n    mr.run_light_curve_engine(brdf, merged_obj, sun_body, obs_body)\n    * model_scale_factor**2\n)\nerr = np.linalg.norm(lc_hat - lc)\nprint(f\"New Error: {err:.2e}\")"
      ]
    }
  ],
  "metadata": {
    "kernelspec": {
      "display_name": "Python 3",
      "language": "python",
      "name": "python3"
    },
    "language_info": {
      "codemirror_mode": {
        "name": "ipython",
        "version": 3
      },
      "file_extension": ".py",
      "mimetype": "text/x-python",
      "name": "python",
      "nbconvert_exporter": "python",
      "pygments_lexer": "ipython3",
      "version": "3.10.12"
    }
  },
  "nbformat": 4,
  "nbformat_minor": 0
}