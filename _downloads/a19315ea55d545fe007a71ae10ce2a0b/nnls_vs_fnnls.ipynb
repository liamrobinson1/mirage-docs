{
  "cells": [
    {
      "cell_type": "markdown",
      "metadata": {},
      "source": [
        "\n# FNNLS vs NNLS\n\nComparing the ``scipy.optimize.nnls`` function with a better method: \"Fast Nonnegative Least Squares (FNNLS)\n"
      ]
    },
    {
      "cell_type": "code",
      "execution_count": null,
      "metadata": {
        "collapsed": false
      },
      "outputs": [],
      "source": [
        "import numpy as np\nfrom scipy.optimize import nnls\n\nimport pyspaceaware as ps\n\ntest_sizes = np.arange(100, 1001, 50, dtype=np.int16)\nt_old = np.zeros_like(test_sizes, dtype=np.float64)\nt_new = np.zeros_like(t_old)\nn_each = 5\n\nfor i, s in enumerate(test_sizes):\n    n, m = s, s\n\n    ps.tic()\n    for j in range(n_each):\n        Z = np.abs(np.random.rand(n, m))\n        x = np.abs(np.random.rand(n))\n        fres = ps.vendrow_fnnls(Z, x)[0]\n    t_new[i] = ps.toc(return_elapsed_seconds=True) / n_each\n\n    ps.tic()\n    for j in range(n_each):\n        Z = np.abs(np.random.rand(n, m))\n        x = np.abs(np.random.rand(n))\n        nres = nnls(Z, x)[0]\n    t_old[i] = ps.toc(return_elapsed_seconds=True) / n_each\n\nimport matplotlib.pyplot as plt\n\nplt.plot(test_sizes, t_old)\nplt.plot(test_sizes, t_new)\nps.texit(\"scipy NNLS vs FNNLS\", \"Matrix size\", \"Time elapsed [sec]\", [\"scipy\", \"FNNLS\"])\nplt.show()"
      ]
    }
  ],
  "metadata": {
    "kernelspec": {
      "display_name": "Python 3",
      "language": "python",
      "name": "python3"
    },
    "language_info": {
      "codemirror_mode": {
        "name": "ipython",
        "version": 3
      },
      "file_extension": ".py",
      "mimetype": "text/x-python",
      "name": "python",
      "nbconvert_exporter": "python",
      "pygments_lexer": "ipython3",
      "version": "3.10.11"
    }
  },
  "nbformat": 4,
  "nbformat_minor": 0
}