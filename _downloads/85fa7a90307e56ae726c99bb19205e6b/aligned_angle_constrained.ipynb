{
  "cells": [
    {
      "cell_type": "markdown",
      "metadata": {},
      "source": [
        "\n# Aligned and Constrained\n\nSimulates and animates an aligned and constrained attitude profile\n\n<div class=\"alert alert-info\"><h4>Note</h4><p>If you want to record a .mp4 video instead, try ``pl.open_movie(\"aligned_and_constrained.mov\", framerate=30, quality=9)``</p></div>\n"
      ]
    },
    {
      "cell_type": "code",
      "execution_count": null,
      "metadata": {
        "collapsed": false
      },
      "outputs": [],
      "source": [
        "import datetime\n\nimport numpy as np\nimport pyvista as pv\n\nimport pyspaceaware as ps\n\ndata_points = 100\nobj = ps.SpaceObject(\"tess.obj\", identifier=\"INTELSAT 511\")\ndate = ps.utc(2022, 12, 9, 14)\n(date_space, epsec_space) = ps.date_linspace(\n    date,\n    date + datetime.timedelta(hours=24),\n    data_points,\n    return_epsecs=True,\n)\n(r, v) = obj.propagate(date_space, return_velocity=True)\n\norbit_normal = ps.hat(np.cross(r, v))\nsat_nadir = -ps.hat(r)\nt = epsec_space / np.max(epsec_space) * 4 * np.pi\n\nsat_sun = ps.hat(ps.sun(date_space))\natt = ps.AlignedAndConstrainedAttitude(\n    sat_nadir, sat_sun, date_space, axis_order=(2, 0, 1)\n)\nc = att.dcm_at_dates(date_space)\nquat = ps.dcm_to_quat(c)\n(v1, v2, v3) = att.basis_vectors_at_dates(date_space)\n\nsun_in_body = ps.stack_mat_mult_vec(c, sat_sun)\nobs_in_body = ps.stack_mat_mult_vec(c, sat_nadir)\n\npl = pv.Plotter()\npl.open_gif(\"aligned_and_constrained.gif\")\n\nps.plot3(pl, r, color=\"cyan\")\n\nomesh = obj._mesh.copy()\ncdist = 300\npdist = cdist / 4\npsize = 30\npl._on_first_render_request()\npl.render()\nfor i in range(data_points - 1):\n    pl.camera.position = (\n        r[i, :] - cdist * sat_nadir[i, :] + cdist / 10 * orbit_normal[i, :]\n    )\n    pl.camera.focal_point = r[i, :]\n    obj.render(pl, origin=r[i, :], scale=10, opacity=1.0, quat=quat[i, :])\n    ps.plot_arrow(pl, r[i, :], v1[i, :], scale=pdist, name=\"arr_v1\")\n    ps.plot_arrow(pl, r[i, :], v2[i, :], scale=pdist, name=\"arr_v2\")\n    ps.plot_arrow(pl, r[i, :], v3[i, :], scale=pdist, name=\"arr_v3\")\n    ps.plot_arrow(\n        pl,\n        r[i, :],\n        sat_sun[i, :],\n        scale=pdist,\n        name=\"arr_sun\",\n        color=\"y\",\n        label=\"Sun\",\n    )\n    ps.plot_earth(pl, date=date_space[i], atmosphere=True, night_lights=True)\n    pl.write_frame()\n    obj._mesh.copy_from(omesh)\npl.close()"
      ]
    }
  ],
  "metadata": {
    "kernelspec": {
      "display_name": "Python 3",
      "language": "python",
      "name": "python3"
    },
    "language_info": {
      "codemirror_mode": {
        "name": "ipython",
        "version": 3
      },
      "file_extension": ".py",
      "mimetype": "text/x-python",
      "name": "python",
      "nbconvert_exporter": "python",
      "pygments_lexer": "ipython3",
      "version": "3.10.11"
    }
  },
  "nbformat": 4,
  "nbformat_minor": 0
}