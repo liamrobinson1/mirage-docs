{
  "cells": [
    {
      "cell_type": "markdown",
      "metadata": {},
      "source": [
        "\n# Plotting Earth\n\nPlotting the Earth with a variety of options\n"
      ]
    },
    {
      "cell_type": "code",
      "execution_count": null,
      "metadata": {
        "collapsed": false
      },
      "outputs": [],
      "source": [
        "import pyspaceaware as ps\nimport pyvista as pv\nimport datetime\n\ndate = datetime.datetime(\n    2022, 9, 1, 12, 0, 0, tzinfo=datetime.timezone.utc\n)"
      ]
    },
    {
      "cell_type": "markdown",
      "metadata": {},
      "source": [
        "Night lights\n\n"
      ]
    },
    {
      "cell_type": "code",
      "execution_count": null,
      "metadata": {
        "collapsed": false
      },
      "outputs": [],
      "source": [
        "pl = pv.Plotter()\nps.plot_earth(pl, date=date, night_lights=True)\npl.show()"
      ]
    },
    {
      "cell_type": "markdown",
      "metadata": {},
      "source": [
        "Elevation data and texture map\n\n"
      ]
    },
    {
      "cell_type": "code",
      "execution_count": null,
      "metadata": {
        "collapsed": false
      },
      "outputs": [],
      "source": [
        "pl = pv.Plotter()\nps.plot_earth(\n    pl,\n    date=date,\n    elevation=True,\n    use_elevation_texture=True,\n    lighting=False,\n    atmosphere=False,\n)\npl.show()"
      ]
    },
    {
      "cell_type": "markdown",
      "metadata": {},
      "source": [
        "Night lights\n\n"
      ]
    },
    {
      "cell_type": "code",
      "execution_count": null,
      "metadata": {
        "collapsed": false
      },
      "outputs": [],
      "source": [
        "pl = pv.Plotter()\nps.plot_earth(\n    pl,\n    date=date,\n    night_lights=True,\n)\npl.show()"
      ]
    },
    {
      "cell_type": "markdown",
      "metadata": {},
      "source": [
        "Star background\n\n"
      ]
    },
    {
      "cell_type": "code",
      "execution_count": null,
      "metadata": {
        "collapsed": false
      },
      "outputs": [],
      "source": [
        "pl = pv.Plotter()\nps.plot_earth(\n    pl,\n    date=date,\n    stars=True,\n)\npl.show()"
      ]
    },
    {
      "cell_type": "markdown",
      "metadata": {},
      "source": [
        "All photorealistic settings\n\n"
      ]
    },
    {
      "cell_type": "code",
      "execution_count": null,
      "metadata": {
        "collapsed": false
      },
      "outputs": [],
      "source": [
        "pl = pv.Plotter()\nps.plot_earth(\n    pl,\n    date=date,\n    stars=True,\n    night_lights=True,\n    atmosphere=True,\n    high_def=True,\n)\npl.show()"
      ]
    },
    {
      "cell_type": "markdown",
      "metadata": {},
      "source": [
        "We can also plot a range of dates and save the result as a movie\n\n"
      ]
    },
    {
      "cell_type": "code",
      "execution_count": null,
      "metadata": {
        "collapsed": false
      },
      "outputs": [],
      "source": [
        "import numpy as np\n\ndates = ps.now() + ps.days(np.linspace(0, 1, 80, endpoint=False))\n\npre_render_fcn = lambda pl: (\n    ps.plot_earth(pl, mode=\"eci\", night_lights=True, date=dates[0]),\n    pl.enable_anti_aliasing(\"msaa\"),\n)\n\n\ndef render_fcn(\n    pl: pv.Plotter,\n    i: int,\n    dates: datetime.datetime = None,\n):\n    ps.plot_earth(\n        pl,\n        mode=\"eci\",\n        night_lights=True,\n        high_def=True,\n        stars=True,\n        atmosphere=True,\n        date=dates[i],\n    )\n    pl.camera.focal_point = (0.0, 0.0, 0.0)\n    pl.camera.position = (20000.0, -20000.0, 10000.0)\n    pl.camera.up = (0.0, 0.0, 1.0)\n    pl.add_text(\n        f'{dates[i].strftime(\"%m/%d/%Y, %H:%M:%S\")} UTC',\n        name=\"utc_str\",\n        font=\"courier\",\n    )\n\n\nps.render_video(\n    pre_render_fcn,\n    lambda pl, i: render_fcn(pl, i, dates),\n    lambda pl, i: None,\n    dates.size,\n    \"earth_with_nightlights.gif\",\n    framerate=24,\n)"
      ]
    }
  ],
  "metadata": {
    "kernelspec": {
      "display_name": "Python 3",
      "language": "python",
      "name": "python3"
    },
    "language_info": {
      "codemirror_mode": {
        "name": "ipython",
        "version": 3
      },
      "file_extension": ".py",
      "mimetype": "text/x-python",
      "name": "python",
      "nbconvert_exporter": "python",
      "pygments_lexer": "ipython3",
      "version": "3.10.11"
    }
  },
  "nbformat": 4,
  "nbformat_minor": 0
}