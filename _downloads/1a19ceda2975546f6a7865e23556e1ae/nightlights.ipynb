{
  "cells": [
    {
      "cell_type": "markdown",
      "metadata": {},
      "source": [
        "\n# Zenith Light Pollution\n\nPlotting and querying a large dataset of zenith light pollution from [here](https://www.lightpollutionmap.info/help.html#FAQ31), with the raw file [here](https://www2.lightpollutionmap.info/data/viirs_2022_raw.zip) \n"
      ]
    },
    {
      "cell_type": "code",
      "execution_count": null,
      "metadata": {
        "collapsed": false
      },
      "outputs": [],
      "source": [
        "import rasterio\nimport matplotlib.pyplot as plt\nimport numpy as np\nfrom scipy.ndimage import gaussian_filter\nimport os\nimport sys\n\nsys.path.append(\"./src\")\nimport pyspaceaware as ps\n\nsz = 20\nlat_space = np.linspace(-90, 90, sz)\nlon_space = np.linspace(-180, 180, sz)\n\nlats, lons = np.meshgrid(lat_space, lon_space, indexing=\"ij\")\n\nwith rasterio.open(\n    os.path.join(os.environ[\"DATADIR\"], \"viirs_2022_raw.tif\"), \"r\"\n) as f:\n    ps.tic()\n    x = f.read().squeeze()  # nW / cm^2 / sr\n    ps.toc()\n    x = x[::10, ::10] * 1e-9  # W / cm^2 / sr\n    x[np.isinf(np.abs(x))] = np.nan\n    x *= 1e4  # W / m^2 / sr\n    x = ps.irradiance_to_apparent_magnitude(\n        x / ps.AstroConstants.steradian_to_arcsecond2\n    )  # mag / arcsec^2\n    x[np.isnan(x) | np.isinf(x)] = 22.0\n    x = gaussian_filter(x, sigma=0.5)"
      ]
    },
    {
      "cell_type": "markdown",
      "metadata": {},
      "source": [
        "Plotting zenith light pollution\n\n"
      ]
    },
    {
      "cell_type": "code",
      "execution_count": null,
      "metadata": {
        "collapsed": false
      },
      "outputs": [],
      "source": [
        "cmap = plt.get_cmap(\"gnuplot_r\")\nplt.imshow(x, extent=(-180, 180, -65, 75), cmap=cmap)\nplt.xlim(-102, -65)\nplt.ylim(22, 54)\nplt.xlabel(\"Longitude [deg]\")\nplt.ylabel(\"Latitude [deg]\")\nplt.title(\"Zenith Light Pollution in Eastern US\")\nplt.colorbar(\n    label=r\"$log_{10}$ VIIRS/NPP Lunar BRDF-Adjusted Night Lights $\\left[\\frac{nW}{cm^2sr}\\right]$\"\n)\nplt.show()"
      ]
    }
  ],
  "metadata": {
    "kernelspec": {
      "display_name": "Python 3",
      "language": "python",
      "name": "python3"
    },
    "language_info": {
      "codemirror_mode": {
        "name": "ipython",
        "version": 3
      },
      "file_extension": ".py",
      "mimetype": "text/x-python",
      "name": "python",
      "nbconvert_exporter": "python",
      "pygments_lexer": "ipython3",
      "version": "3.10.11"
    }
  },
  "nbformat": 4,
  "nbformat_minor": 0
}