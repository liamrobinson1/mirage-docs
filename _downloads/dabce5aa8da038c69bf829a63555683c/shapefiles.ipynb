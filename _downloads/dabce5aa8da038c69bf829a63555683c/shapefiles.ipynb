{
  "cells": [
    {
      "cell_type": "markdown",
      "metadata": {},
      "source": [
        "\n# Shapefiles\n\nPlotting the Earth with a variety of options\n"
      ]
    },
    {
      "cell_type": "code",
      "execution_count": null,
      "metadata": {
        "collapsed": false
      },
      "outputs": [],
      "source": [
        "# https://hub.arcgis.com/datasets/esri::world-countries-generalized/explore?location=-0.247398%2C0.000000%2C1.51\n\nimport sys\n\nsys.path.append(\"./src\")\nimport shapefile\nimport pyspaceaware as ps\nimport os\nimport numpy as np\n\n\nimport pyvista as pv\n\npl = pv.Plotter()\nps.plot_earth(\n    pl,\n    date=ps.now(),\n    mode=\"eci\",\n    night_lights=True,\n    atmosphere=True,\n    borders=True,\n)\n\npl.show()\n\n# print(sf.shapeType, len(shapes))"
      ]
    }
  ],
  "metadata": {
    "kernelspec": {
      "display_name": "Python 3",
      "language": "python",
      "name": "python3"
    },
    "language_info": {
      "codemirror_mode": {
        "name": "ipython",
        "version": 3
      },
      "file_extension": ".py",
      "mimetype": "text/x-python",
      "name": "python",
      "nbconvert_exporter": "python",
      "pygments_lexer": "ipython3",
      "version": "3.10.11"
    }
  },
  "nbformat": 4,
  "nbformat_minor": 0
}