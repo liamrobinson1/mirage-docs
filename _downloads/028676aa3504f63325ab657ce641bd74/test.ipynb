{
  "cells": [
    {
      "cell_type": "markdown",
      "metadata": {},
      "source": [
        "\n# This is my example script\n\nThis example doesn't do much, it just makes a simple plot\n"
      ]
    },
    {
      "cell_type": "markdown",
      "metadata": {},
      "source": [
        "This is title\n\n"
      ]
    },
    {
      "cell_type": "code",
      "execution_count": null,
      "metadata": {
        "collapsed": false
      },
      "outputs": [],
      "source": [
        "import pyspaceaware as ps\nimport seaborn as sns\nimport matplotlib.pyplot as plt\nimport pyvista as pv\nimport datetime\nimport numpy as np\n\ndate_start = datetime.datetime(\n    2023, 12, 21, 4, 0, 0, tzinfo=datetime.timezone.utc\n)  # Fig 5.38\n\n(r_eci, _) = ps.propagate_catalog_to_dates(date_start)\nr_eci = r_eci.squeeze()\ninvalid = ps.vecnorm(r_eci).flatten() > 1e5\nr_eci = np.delete(r_eci, np.argwhere(invalid), axis=0)\nps.tic()\nirrad_frac = ps.sun_irradiance_fraction(date_start, r_eci)\nps.toc()\n\npl = pv.Plotter()\nps.plot_earth(\n    pl,\n    mode=\"eci\",\n    high_def=False,\n    night_lights=False,\n    date=date_start,\n)\nps.scatter3(pl, r_eci, scalars=1 - irrad_frac, cmap=\"hot_r\")\npl.camera.focal_point = (0.0, 0.0, 0.0)\npl.show()"
      ]
    }
  ],
  "metadata": {
    "kernelspec": {
      "display_name": "Python 3",
      "language": "python",
      "name": "python3"
    },
    "language_info": {
      "codemirror_mode": {
        "name": "ipython",
        "version": 3
      },
      "file_extension": ".py",
      "mimetype": "text/x-python",
      "name": "python",
      "nbconvert_exporter": "python",
      "pygments_lexer": "ipython3",
      "version": "3.10.11"
    }
  },
  "nbformat": 4,
  "nbformat_minor": 0
}