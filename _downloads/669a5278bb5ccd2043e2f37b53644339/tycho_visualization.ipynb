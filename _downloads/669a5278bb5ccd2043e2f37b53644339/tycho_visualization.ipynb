{
  "cells": [
    {
      "cell_type": "markdown",
      "metadata": {},
      "source": [
        "\n# Tycho 2 Catalog\n\nVisualizing the Tycho 2 star catalog efficiently\n"
      ]
    },
    {
      "cell_type": "code",
      "execution_count": null,
      "metadata": {
        "collapsed": false
      },
      "outputs": [],
      "source": [
        "import os\nimport sys\nimport pyvista as pv\nimport numpy as np\n\nsys.path.append(\"./src\")\nimport pyspaceaware as ps\n\nfrom scipy.io import loadmat\n\nps.tic()\nmat = loadmat(\n    os.path.join(os.environ[\"DATADIR\"], \"Tycho_2_fullcatalog.mat\")\n)\nps.toc()\n\nuvs = mat[\"Tycho2_full\"][0][0][0].T\nra = mat[\"Tycho2_full\"][0][0][1].T\ndec = mat[\"Tycho2_full\"][0][0][2].T\nvm = mat[\"Tycho2_full\"][0][0][-1].T.flatten()\n\npl = pv.Plotter()\nps.plot_earth(pl)\n# ps.scatter3(pl, uvs, scalars=vm.flatten())\nirrad = ps.apparent_magnitude_to_irradiance(vm)\nirrad /= np.max(irrad)\n\nuse_inds = (\n    ~np.isnan(ra.flatten())\n    & ~np.isnan(dec.flatten())\n    & ~np.isnan(vm.flatten())\n)\nsave_dict = {\n    \"j2000_ra\": ps.wrap_to_pi(np.deg2rad(ra).flatten()[use_inds]),\n    \"j2000_dec\": np.deg2rad(dec).flatten()[use_inds],\n    \"visual_magnitude\": vm.flatten()[use_inds],\n}\n\nps.save_json_data(save_dict, \"tycho2.json\", 8)\nenddd\n\nadd_stars = irrad > 0.01\nps.tic()\nactor = pl.add_points(\n    ps.AstroConstants.earth_r_eq * uvs[add_stars, :],\n    render_points_as_spheres=True,\n    color=\"y\",\n    opacity=vm[add_stars],\n    point_size=1,\n)\nps.toc()\n\npl.show()"
      ]
    }
  ],
  "metadata": {
    "kernelspec": {
      "display_name": "Python 3",
      "language": "python",
      "name": "python3"
    },
    "language_info": {
      "codemirror_mode": {
        "name": "ipython",
        "version": 3
      },
      "file_extension": ".py",
      "mimetype": "text/x-python",
      "name": "python",
      "nbconvert_exporter": "python",
      "pygments_lexer": "ipython3",
      "version": "3.10.11"
    }
  },
  "nbformat": 4,
  "nbformat_minor": 0
}