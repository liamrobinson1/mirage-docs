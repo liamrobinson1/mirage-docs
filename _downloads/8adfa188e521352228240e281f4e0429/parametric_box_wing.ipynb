{
  "cells": [
    {
      "cell_type": "markdown",
      "metadata": {},
      "source": [
        "\n# Parametric Box-Wing Inversion\n"
      ]
    },
    {
      "cell_type": "code",
      "execution_count": null,
      "metadata": {
        "collapsed": false
      },
      "outputs": [],
      "source": [
        "import datetime\n\nimport numpy as np\nfrom scipy.optimize import minimize\n\nimport mirage as mr\n\n\ndef construct_from_y(attitude, y: np.ndarray):\n    cd_wing = np.clip(y[4], 0, 1)\n    cd_box = np.clip(y[5], 0, 1)\n    y = np.clip(y, 1e-8, np.inf)\n    n_box, n_wing = y[6], y[7]\n    brdf_box = mr.Brdf(name=\"phong\", cd=cd_box, cs=1 - cd_box, n=n_box)\n    brdf_wing = mr.Brdf(name=\"phong\", cd=cd_wing, cs=1 - cd_wing, n=n_wing)\n    return BoxWingParametric(\n        attitude,\n        brdf_box,\n        brdf_wing,\n        x_scale=y[0],\n        y_scale=y[1],\n        z_scale=y[2],\n        wing_area=y[3],\n    )\n\n\nclass BoxWingParametric:\n    def __init__(\n        self,\n        attitude: mr.AlignedAndConstrainedAttitude,\n        brdf_box: mr.Brdf,\n        brdf_wing: mr.Brdf,\n        x_scale: float = 1.0,\n        y_scale: float = 1.0,\n        z_scale: float = 1.0,\n        wing_area: float = 1.0,\n    ):\n        self.attitude = attitude\n        self.brdf_box = brdf_box\n        self.brdf_wing = brdf_wing\n        self.scales = (x_scale, y_scale, z_scale)\n        cube_template = mr.SpaceObject(\"cube.obj\")\n        cube_template.v[:, 0] *= x_scale\n        cube_template.v[:, 1] *= y_scale\n        cube_template.v[:, 2] *= z_scale\n\n        self.box = mr.SpaceObject(vertices_and_faces=(cube_template.v, cube_template.f))\n        self.wing_area = wing_area\n\n    def eval(self, dates: np.ndarray[datetime.datetime], ovi: np.ndarray) -> np.ndarray:\n        jd = mr.date_to_jd(dates)\n        eci_to_body = self.attitude.dcms_at_dates(dates)\n\n        vc_eci = self.attitude.const_interpolator(jd)\n\n        ovb = mr.stack_mat_mult_vec(eci_to_body, ovi)\n        vc_body = mr.stack_mat_mult_vec(eci_to_body, vc_eci)\n\n        # pl = pv.Plotter()\n        # mrv.plot3(pl, vc_body)\n        # mrv.plot3(pl, ovb)\n        # pl.show()\n        # eneddds\n\n        box_lc = self.box.convex_light_curve(self.brdf_box, svb=vc_body, ovb=ovb)\n        wing_lc = (\n            self.wing_area\n            * self.brdf_wing.eval_normalized_brightness(\n                L=vc_body, O=ovb, N=vc_body\n            ).flatten()\n        )\n\n        return box_lc, wing_lc\n\n    def optimize(\n        self,\n        dates: np.ndarray[datetime.datetime],\n        ovi: np.ndarray,\n        lc_unit_observed: np.ndarray,\n    ):\n        valid_inds = ~lc_unit_observed.mask\n\n        def objective(y: np.ndarray) -> float:\n            bwpi = construct_from_y(self.attitude, y)\n            box_lc, wing_lc = bwpi.eval(dates, ovi)\n            err = np.linalg.norm(\n                lc_unit_observed[valid_inds] - (box_lc + wing_lc)[valid_inds]\n            )\n            print(err)\n            return err\n\n        opt_sol = minimize(objective, 0.5 * np.ones(8), options={\"maxiter\": 20})\n        return construct_from_y(self.attitude, opt_sol.x)\n\n\ndate_start = mr.utc(2023, 5, 20, 20, 45, 0)\n(dates, epsecs) = mr.date_linspace(\n    date_start - mr.days(3), date_start, 1e3, return_epsecs=True\n)\n\nstation = mr.Station()\n\nstation.constraints = [\n    mr.SnrConstraint(3),\n    mr.ElevationConstraint(10),\n    mr.TargetIlluminatedConstraint(),\n    mr.ObserverEclipseConstraint(station),\n    mr.VisualMagnitudeConstraint(20),\n    mr.MoonExclusionConstraint(10),\n    mr.HorizonMaskConstraint(station),\n]\n\nobj = mr.SpaceObject(\"matlib_hylas4.obj\", identifier=\"superbird 6\")\n# obj = mr.SpaceObject(\"matlib_tess.obj\", identifier=\"NAVSTAR 62 (USA 201)\")\nr_obj_j2k = obj.propagate(dates)\n\nsv = mr.sun(dates)\nnadir = -mr.hat(r_obj_j2k)\nattitude = mr.AlignedAndConstrainedAttitude(\n    v_align=nadir,\n    v_const=sv,\n    dates=dates,\n    axis_order=(1, 2, 0),\n)\nbrdf = mr.Brdf(\"phong\")\n\n(lc_ccd_signal, aux_data) = station.observe_light_curve(\n    obj,\n    attitude,\n    brdf,\n    dates,\n    model_scale_factor=1,\n    use_engine=True,\n    show_window=True,\n    frame_rate=1000,\n    instances=1,\n    rotate_panels=True,\n)\n\nbrdf_bwp = mr.Brdf(\"phong\", cd=0.5, cs=0.5, n=10)\nbwp = BoxWingParametric(attitude, brdf_bwp, brdf_bwp)\n\nlc_noisy_adu = lc_ccd_signal()\n\nlc_noisy_irrad = lc_noisy_adu / aux_data[\"sint\"]\nlc_noisy_unit_irrad = lc_noisy_irrad * (aux_data[\"rmag_station_to_sat\"] * 1e3) ** 2\ninvalid_inds = np.isnan(lc_noisy_unit_irrad)\n\novi = mr.hat(aux_data[\"station_pos_eci\"] - aux_data[\"object_pos_eci\"])\novb = mr.stack_mat_mult_vec(attitude.dcms_at_dates(dates), ovi)\n\nbwp_opt = bwp.optimize(dates, ovi, lc_noisy_unit_irrad)\nbox_lc_opt, wing_lc_opt = bwp_opt.eval(dates, ovi)\n\nprint(\n    f\"{bwp_opt.wing_area=}\",\n    f\"{bwp_opt.scales=}\",\n    f\"{bwp_opt.brdf_box.cd=}\",\n    f\"{bwp_opt.brdf_wing.cd=}\",\n    f\"{bwp_opt.brdf_box.n=}\",\n    f\"{bwp_opt.brdf_wing.n=}\",\n    f\"{bwp_opt.brdf_box.cs=}\",\n    f\"{bwp_opt.brdf_wing.cs=}\",\n)\n\nimport matplotlib.pyplot as plt\n\nplt.plot(dates, lc_noisy_unit_irrad)\nplt.plot(dates, aux_data[\"lc_clean_norm\"])\nplt.plot(dates, wing_lc_opt + box_lc_opt)\n# plt.plot(dates, box_lc_opt)\n# plt.plot(dates, wing_lc_opt)\nplt.legend([\"noisy_true\", \"clean_true\", \"recon\"])\nplt.show()"
      ]
    }
  ],
  "metadata": {
    "kernelspec": {
      "display_name": "Python 3",
      "language": "python",
      "name": "python3"
    },
    "language_info": {
      "codemirror_mode": {
        "name": "ipython",
        "version": 3
      },
      "file_extension": ".py",
      "mimetype": "text/x-python",
      "name": "python",
      "nbconvert_exporter": "python",
      "pygments_lexer": "ipython3",
      "version": "3.10.12"
    }
  },
  "nbformat": 4,
  "nbformat_minor": 0
}