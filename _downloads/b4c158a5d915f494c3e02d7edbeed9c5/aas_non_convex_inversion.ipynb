{
  "cells": [
    {
      "cell_type": "markdown",
      "metadata": {},
      "source": [
        "\n# Non-Convex Inversion\n\nImplementing non-convex inversion using my method from summer 2022 :cite:p:`robinson2022`\n"
      ]
    },
    {
      "cell_type": "code",
      "execution_count": null,
      "metadata": {
        "collapsed": false
      },
      "outputs": [],
      "source": [
        "import matplotlib.pyplot as plt\nimport numpy as np\nimport pyvista as pv\n\nimport mirage as mr\nimport mirage.vis as mrv\n\n\ndef match_concavity_to_light_curve(\n    rec_convex_obj: mr.SpaceObject,\n    err_egi_dir: np.ndarray,\n    brdf: mr.Brdf,\n    svb: np.ndarray,\n    ovb: np.ndarray,\n    lc: np.ndarray,\n) -> mr.SpaceObject:\n    def objective_function(psi_deg: float) -> float:\n        rec_obj_with_concavity = rec_convex_obj.introduce_concavity(\n            err_egi_dir,\n            psi_deg,\n            linear_iter=3,\n            normal_selection_tolerance=np.pi / 2 - 0.5,\n        )\n        lc_hat = mr.run_light_curve_engine(\n            brdf, rec_obj_with_concavity, svb[::10, :], ovb[::10, :]\n        )\n        lc_hat /= np.max(lc_hat)\n        err = np.sum((lc.flatten()[::10] - lc_hat.flatten()) ** 2)\n        print(f\"Tried psi = {psi_deg:.1f} deg, got err = {err:.2f}\")\n        return err\n\n    lc /= np.max(lc)\n    print(\"Optimizing concavity angle...\")\n    psis = np.arange(0, 90, 5)\n    errs = np.array([objective_function(psi) for psi in psis])\n\n    psi_opt = psis[np.argmin(errs)]\n    print(f\"Optimal concavity angle: {psi_opt:.1f} deg\")\n    return rec_convex_obj.introduce_concavity(\n        err_egi_dir, psi_opt, normal_selection_tolerance=np.pi / 2 - 0.5\n    )\n\n\nw0_mag = 1e-1\nitensor = np.diag([1.0, 2.0, 3.0])\nw0 = w0_mag * mr.hat(np.array([[1.0, 2.0, 1.0]]))\nidate = mr.utc(2023, 1, 1, 5)\nobs_time = mr.days(1)\nobs_dt = mr.seconds(10)\n\nobject_files = [\n    \"collapsed_cube.obj\",\n    \"collapsed_ico.obj\",\n    \"collapsed_cyl.obj\",\n    \"collapsed_house.obj\",\n]\n\nstation = mr.Station(preset=\"pogs\")\nbrdf = mr.Brdf(name=\"phong\", cd=0.5, cs=0.5, n=10)\nattitude = mr.RbtfAttitude(w0=w0, q0=mr.rand_quaternions(1), itensor=itensor)\ndates, epsecs = mr.date_arange(idate, idate + obs_time, obs_dt, return_epsecs=True)\n\nq_of_t, w_of_t = attitude.propagate(epsecs)\ndcms_of_t = mr.quat_to_dcm(q_of_t)\n\nstation.constraints = [\n    mr.SnrConstraint(3),\n    mr.ElevationConstraint(10),\n    mr.TargetIlluminatedConstraint(),\n    mr.ObserverEclipseConstraint(station),\n    mr.VisualMagnitudeConstraint(18),\n    mr.MoonExclusionConstraint(10),\n    mr.HorizonMaskConstraint(station),\n]\n\nwin_width = 1500\nobj_kwargs = dict(opacity=0.8, feature_edges=True)\npl = pv.Plotter(\n    shape=(len(object_files), 4), window_size=(int(win_width * 4 / 3), win_width)\n)\nfor i, obj_file in enumerate(object_files[:4]):\n    obj = mr.SpaceObject(obj_file, identifier=\"goes 15\")\n    max_vertex_disp = np.max(mr.vecnorm(obj._mesh.points))\n    obj._mesh.scale(1 / max_vertex_disp, inplace=True)\n\n    pl.subplot(i, 0)\n    mrv.render_spaceobject(pl, obj, **obj_kwargs)\n    pl.add_text(\n        f\"True Object\",\n        font=\"courier\",\n    )\n\n    lc_ccd_signal_sampler, aux_data = station.observe_light_curve(\n        obj, attitude, brdf, dates, use_engine=True, model_scale_factor=100\n    )\n\n    lc_ccd_signal = lc_ccd_signal_sampler()\n    lc_noisy_irrad = lc_ccd_signal / (\n        aux_data[\"sint\"] * station.telescope.integration_time\n    )\n    lc_noisy_unit_irrad = lc_noisy_irrad * (aux_data[\"rmag_station_to_sat\"] * 1e3) ** 2\n    lc_noisy_unit_irrad /= np.max(lc_noisy_unit_irrad)\n\n    plt.scatter(epsecs, lc_ccd_signal)\n    mrv.texit(f\"Light Curve: {obj_file}\", \"Epoch seconds\", \"ADU\", grid=False)\n    plt.gcf().savefig(\"temp.png\", format=\"png\", dpi=180)\n    plt.clf()\n\n    pl.subplot(i, 1)\n    pl.add_background_image(\"temp.png\", as_global=False)\n\n    # %%\n    # Inversion\n\n    sun_body = aux_data[\"sun_vector_object_body\"]\n    obs_body = aux_data[\"observer_vector_object_body\"]\n\n    sint = aux_data[\"sint\"]\n    lc_hat = aux_data[\"lc_clean_norm\"]\n    constr = aux_data[\"all_constraints_satisfied\"]\n    br_mean = aux_data[\"background_mean\"]\n    airy_disk_pixels = aux_data[\"airy_disk_pixels\"]\n    obs_to_moon = aux_data[\"obs_to_moon\"]\n    lc_clean = aux_data[\"lc_clean\"]\n    snr = aux_data[\"snr\"]\n\n    # Inversion\n    # brdf_for_inversion = mr.Brdf(\"phong\", cd=0.5, cs=0.0, n=10)\n    brdf_for_inversion = brdf\n    egi_opt_initial, egi_opt = mr.optimize_egi(\n        lc_noisy_unit_irrad[~lc_noisy_unit_irrad.mask],\n        sun_body[~lc_noisy_unit_irrad.mask, :],\n        obs_body[~lc_noisy_unit_irrad.mask, :],\n        brdf_for_inversion,\n        merge_iter=1,\n        merge_angle=np.pi / 6,\n        return_all=True,\n    )\n\n    # Inversion\n    h_opt = mr.optimize_supports_little(egi_opt)\n    rec_obj = mr.construct_from_egi_and_supports(egi_opt, h_opt)\n\n    # Plotting inverted result\n    pl.subplot(i, 2)\n    mrv.render_spaceobject(pl, rec_obj, **obj_kwargs)\n    pl.add_text(\n        f\"Convex Guess\",\n        font=\"courier\",\n    )\n\n    # %%\n    # Introducing the concavity\n\n    err_egi = -np.sum(egi_opt_initial, axis=0)\n    err_egi_mag = np.linalg.norm(err_egi)\n    err_egi_dir = mr.hat(err_egi)\n\n    rec_obj_with_concavity = match_concavity_to_light_curve(\n        rec_obj,\n        err_egi_dir,\n        brdf,\n        sun_body[~lc_noisy_unit_irrad.mask],\n        obs_body[~lc_noisy_unit_irrad.mask],\n        lc_noisy_unit_irrad[~lc_noisy_unit_irrad.mask],\n    )\n\n    # rec_obj_with_concavity = rec_obj.introduce_concavity(err_egi_dir, 45, linear_iter=3, normal_selection_tolerance=np.pi/2 - 0.5)\n\n    pl.subplot(i, 3)\n    mrv.render_spaceobject(pl, rec_obj_with_concavity, **obj_kwargs)\n\n    pl.add_text(\n        f\"Non-Convex Guess\",\n        font=\"courier\",\n    )\n\n\npl.show()"
      ]
    }
  ],
  "metadata": {
    "kernelspec": {
      "display_name": "Python 3",
      "language": "python",
      "name": "python3"
    },
    "language_info": {
      "codemirror_mode": {
        "name": "ipython",
        "version": 3
      },
      "file_extension": ".py",
      "mimetype": "text/x-python",
      "name": "python",
      "nbconvert_exporter": "python",
      "pygments_lexer": "ipython3",
      "version": "3.10.12"
    }
  },
  "nbformat": 4,
  "nbformat_minor": 0
}