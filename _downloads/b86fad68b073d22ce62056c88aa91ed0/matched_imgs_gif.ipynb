{
  "cells": [
    {
      "cell_type": "markdown",
      "metadata": {},
      "source": [
        "\n# Digital Twin Animated\n\nAn animated gif of the real and simulated images taken by POGS\n"
      ]
    },
    {
      "cell_type": "code",
      "execution_count": null,
      "metadata": {
        "collapsed": false
      },
      "outputs": [],
      "source": [
        "import matplotlib.pyplot as plt\nimport numpy as np\nfrom matplotlib.animation import FuncAnimation\n\nimport mirage as mr\nfrom digitaltwin import generate_matched_image\n\ninfo_path = \"/Users/liamrobinson/Library/CloudStorage/OneDrive-purdue.edu/2022-09-18_GPS_PRN14/ObservationData.mat\"\nadd_distortion = True\nadd_refraction = True\nlimiting_magnitude = 11.0\nstation = mr.Station()\nstation.telescope.fwhm = 3.0\nmr.tic(\"Loading star catalog\")\ncatalog = mr.StarCatalog(\"gaia\", station, mr.now(), aberration=False)\nmr.toc()\n\nfig = plt.figure()\nplt.subplot(1,2,1)\nim_obs = plt.imshow(np.eye(4096), cmap='gray')\nplt.gca().get_xaxis().set_visible(False)\nplt.gca().get_yaxis().set_visible(False)\nplt.title(\"Observed\")\nplt.subplot(1,2,2)\nim_synth = plt.imshow(np.eye(4096), cmap='gray')\nplt.title(\"Synthetic\")\nplt.gca().get_xaxis().set_visible(False)\nplt.gca().get_yaxis().set_visible(False)\nplt.tight_layout()\n\ndef animate(i):\n    res = generate_matched_image(info_path, i, station, catalog, add_distortion, add_refraction, limiting_magnitude)\n    img_synth = np.log10(res['img_sym'])\n    img = np.log10(np.clip(res['img']-int(1e3), 1, np.inf))\n    plt.subplot(1,2,1)\n    im_obs.set_data(img)\n    plt.clim(img_synth.min(), img_synth.max())\n    plt.subplot(1,2,2)\n    im_synth.set_data(img_synth)\n    plt.clim(img_synth.min(), img_synth.max())\n    return im_obs, im_synth\n\nframes = 20\nfps = 5\nanim = FuncAnimation(fig, animate, frames=frames, interval=1000/fps, blit=True)\nanim.save(\"synth_imgs.gif\")"
      ]
    }
  ],
  "metadata": {
    "kernelspec": {
      "display_name": "Python 3",
      "language": "python",
      "name": "python3"
    },
    "language_info": {
      "codemirror_mode": {
        "name": "ipython",
        "version": 3
      },
      "file_extension": ".py",
      "mimetype": "text/x-python",
      "name": "python",
      "nbconvert_exporter": "python",
      "pygments_lexer": "ipython3",
      "version": "3.11.8"
    }
  },
  "nbformat": 4,
  "nbformat_minor": 0
}