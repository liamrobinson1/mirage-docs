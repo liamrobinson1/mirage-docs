{
  "cells": [
    {
      "cell_type": "markdown",
      "metadata": {},
      "source": [
        "\n# Propagating single TLE\n\nPropagates a single TLE for a given NORAD ID and propagates the trajectory\n"
      ]
    },
    {
      "cell_type": "code",
      "execution_count": null,
      "metadata": {
        "collapsed": false
      },
      "outputs": [],
      "source": [
        "import numpy as np\nimport pyvista as pv\n\nimport pyspaceaware as ps\n\ndate_space = ps.date_linspace(ps.today(), ps.today() + ps.hours(3), 1000)\n# Propagate out one day\nr_eci = ps.propagate_satnum_to_dates(dates=date_space, satnum=25544)\n# Propagates ISS, note that output is technically in TEME frame, but we'll treat it as if it's just ECI"
      ]
    },
    {
      "cell_type": "markdown",
      "metadata": {},
      "source": [
        "Let's scatter plot the object positions we've propagated\n\n"
      ]
    },
    {
      "cell_type": "code",
      "execution_count": null,
      "metadata": {
        "collapsed": false
      },
      "outputs": [],
      "source": [
        "pl = pv.Plotter()\nps.plot_earth(pl, date=date_space[0], night_lights=True, atmosphere=True)\nps.plot3(\n    pl,\n    r_eci,\n    line_width=4,\n    lighting=False,\n)\npl.camera.focal_point = (0.0, 0.0, 0.0)\npl.camera.position = 25e3 * np.array([1, 1, 0.3])\npl.show()"
      ]
    }
  ],
  "metadata": {
    "kernelspec": {
      "display_name": "Python 3",
      "language": "python",
      "name": "python3"
    },
    "language_info": {
      "codemirror_mode": {
        "name": "ipython",
        "version": 3
      },
      "file_extension": ".py",
      "mimetype": "text/x-python",
      "name": "python",
      "nbconvert_exporter": "python",
      "pygments_lexer": "ipython3",
      "version": "3.10.11"
    }
  },
  "nbformat": 4,
  "nbformat_minor": 0
}