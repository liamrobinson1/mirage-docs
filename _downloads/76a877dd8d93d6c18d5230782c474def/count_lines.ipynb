{
  "cells": [
    {
      "cell_type": "markdown",
      "metadata": {},
      "source": [
        "\n# Counting Source Code Lines\nThis script counts the number of lines in the Mirage source code.\n"
      ]
    },
    {
      "cell_type": "code",
      "execution_count": null,
      "metadata": {
        "collapsed": false
      },
      "outputs": [],
      "source": [
        "import os\n\nimport mirage as mr\n\n\ndef count_lines_in_dir(rel_dir):\n    lines = 0\n    for fname in os.listdir(rel_dir):\n        if \".py\" in fname:\n            with open(os.path.join(rel_dir, fname), \"r\") as f:\n                lines += len(f.readlines())\n    return lines\n\n\nrel_dirs = [\n    \".\",\n    \"sim\",\n    \"synth\",\n    \"vis\",\n]\n\nlines = 0\nfor rel_dir in rel_dirs:\n    dir_ = os.path.join(os.environ[\"SRCDIR\"], rel_dir)\n    lines += count_lines_in_dir(dir_)\n\ntest_lines = count_lines_in_dir(os.path.join(os.environ[\"SRCDIR\"], \"tests\"))\n\nprint(f\"Mirage Python source code has {lines} lines\")\nprint(f\"Mirage Python test code has {test_lines} lines\")"
      ]
    }
  ],
  "metadata": {
    "kernelspec": {
      "display_name": "Python 3",
      "language": "python",
      "name": "python3"
    },
    "language_info": {
      "codemirror_mode": {
        "name": "ipython",
        "version": 3
      },
      "file_extension": ".py",
      "mimetype": "text/x-python",
      "name": "python",
      "nbconvert_exporter": "python",
      "pygments_lexer": "ipython3",
      "version": "3.10.12"
    }
  },
  "nbformat": 4,
  "nbformat_minor": 0
}