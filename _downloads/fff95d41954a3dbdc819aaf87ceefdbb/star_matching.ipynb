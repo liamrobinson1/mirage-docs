{
  "cells": [
    {
      "cell_type": "markdown",
      "metadata": {},
      "source": [
        "\n# Star Matching\n\nGiven star centroid locations and an initial estimate of the look direction and tracking rate, fit the catalog\n"
      ]
    },
    {
      "cell_type": "code",
      "execution_count": null,
      "metadata": {
        "collapsed": false
      },
      "outputs": [],
      "source": [
        "import datetime\nimport os\nfrom types import SimpleNamespace\n\nimport matplotlib.pyplot as plt\nimport numpy as np\nfrom matplotlib.animation import FuncAnimation\nfrom scipy.linalg import orthogonal_procrustes\n\nimport mirage as mr\n\n\ndef update_refraction(\n    station: mr.Station,\n    look_dir_eci: np.ndarray,\n    up_dir_eci: np.ndarray,\n    date: datetime.datetime,\n    p_mbar: float,\n    t_k: float,\n) -> np.ndarray:\n    _, el_true = station.eci_to_az_el(date, look_dir_eci)\n    el_app = mr.apparent_refacted_elevation(p_mbar, t_k, el_true)\n    print(f\"Applying {np.rad2deg(el_app - el_true):.2e} deg of refraction\")\n\n    dcm_tele = np.vstack((np.cross(up_dir_eci, look_dir_eci), up_dir_eci, look_dir_eci))\n    dcm_true_to_app = mr.rv_to_dcm(dcm_tele[0, :] * (el_true - el_app)).T\n    dcm_tele_app = dcm_true_to_app @ dcm_tele\n\n    look_dir_eci_app = dcm_tele_app[2, :]\n    up_dir_eci_app = dcm_tele_app[1, :]\n    return look_dir_eci_app, up_dir_eci_app\n\n\ndef expected_star_centroids_in_fits(\n    station: mr.Station,\n    catalog: mr.StarCatalog,\n    look_dir_eci: np.ndarray,\n    up_dir_eci: np.ndarray,\n    limiting_magnitude: float = 15.0,\n    add_distortion: bool = True,\n) -> np.ndarray:\n\n    uvs_in_frame, vm_in_frame, inds_in_frame = catalog.in_fov(\n        look_dir_eci,\n        up_dir_eci,\n        limiting_magnitude=limiting_magnitude,\n        return_inds=True,\n    )\n    star_xs, star_ys = station.telescope.j2000_unit_vectors_to_pixels(\n        look_dir_eci, up_dir_eci, uvs_in_frame, add_distortion=add_distortion\n    )\n\n    return np.vstack(\n        (\n            star_xs.flatten(),\n            star_ys.flatten(),\n            uvs_in_frame.T,\n            vm_in_frame.flatten(),\n            inds_in_frame,\n        )\n    ).T\n\n\ndef generate_matched_image(\n    info_path: str,\n    img_ind: int,\n    station: mr.Station,\n    catalog: mr.StarCatalog,\n    add_distortion: bool = True,\n    add_refraction: bool = True,\n    limiting_magnitude: float = 12.0,\n):\n    data_mat = mr.load_obs_data(station, info_path, img_ind)\n    date_mid = data_mat[\"date_mid\"]\n\n    look_dir_eci = data_mat[\"look_dir_eci_processed\"]\n    up_dir_eci = data_mat[\"up_dir_eci_processed\"]\n    p_mbar = data_mat[\"pressure_pa\"] / 100\n    t_k = data_mat[\"temp_k\"]\n    if add_refraction:\n        look_dir_eci, up_dir_eci = update_refraction(\n            station, look_dir_eci, up_dir_eci, date_mid, p_mbar, t_k\n        )\n\n    fits_path = os.path.join(os.path.split(info_path)[0], data_mat[\"fits_file\"])\n    fits_info = mr.info_from_fits(fits_path)\n\n    sms_names = data_mat[\"_obs_mat\"][\"saveMatchedStars\"][0][img_ind].dtype.names\n    sms = dict(zip(sms_names, data_mat[\"_obs_mat\"][\"saveMatchedStars\"][0][img_ind]))\n    sms = {k: np.squeeze(v) for k, v in sms.items()}\n    ex = sms[\"endpoints_x\"].T\n    ey = sms[\"endpoints_y\"].T\n    x = ex[:, 1] - ex[:, 0]\n    y = ey[:, 1] - ey[:, 0]\n    streak_dir = np.vstack((x, y)).T\n    streak_dir_hat = mr.hat(streak_dir)\n    ang = np.arctan2(streak_dir_hat[:, 1], streak_dir_hat[:, 0])\n\n    stars_found = np.vstack((4096 - sms[\"x0\"], 4096 - sms[\"y0\"], sms[\"Gmag\"])).T\n\n    matched_ind = sms[\"idx_catMatched\"] - 1\n    matched_gmag = catalog._mags[matched_ind]\n    matched_irrad = mr.apparent_magnitude_to_irradiance(matched_gmag)\n    matched_adu = sms[\"brightness\"]\n    coefs = np.polyfit(np.log10(matched_irrad), np.log10(matched_adu), 1)\n    fit_adu_of_irrad = lambda irrad: 10 ** np.polyval(coefs, np.log10(irrad))\n    sint = lambda irrad: fit_adu_of_irrad(irrad) / fits_info[\"integration_time\"] / irrad\n\n    img = fits_info[\"ccd_adu\"]\n    img = np.fliplr(np.flipud(img))\n\n    stars_expected = expected_star_centroids_in_fits(\n        station,\n        catalog,\n        look_dir_eci,\n        up_dir_eci,\n        limiting_magnitude=limiting_magnitude,\n        add_distortion=add_distortion,\n    )\n    _, expected_pair_inds, found_pair_inds = np.intersect1d(\n        stars_expected[:, -1].astype(int), matched_ind, return_indices=True\n    )\n    uv_pairs_found = station.telescope.pixels_to_j2000_unit_vectors(\n        look_dir_eci,\n        up_dir_eci,\n        stars_found[found_pair_inds, :2],\n        input_is_distorted=True,\n    )\n    uv_pairs_expected = stars_expected[expected_pair_inds, 2:5]\n\n    err_before = (\n        stars_expected[expected_pair_inds, :2] - stars_found[found_pair_inds, :2]\n    )\n    print(f\"BEFORE QUEST: median error {np.median(mr.vecnorm(err_before)):.2f} pixels\")\n    print(f\"Performing the QUEST fit with {expected_pair_inds.size} stars\")\n\n    A = orthogonal_procrustes(uv_pairs_expected, uv_pairs_found)[0]\n    print(\n        f\"Applying a {np.rad2deg(mr.wrap_to_pi(mr.vecnorm(mr.dcm_to_rv(A)))).squeeze():.2f} degree rotation to the telescope orientation\"\n    )\n\n    look_dir_true = A @ look_dir_eci\n    up_dir_true = A @ up_dir_eci\n\n    expected_stars_corrected = expected_star_centroids_in_fits(\n        station,\n        catalog,\n        look_dir_true,\n        up_dir_true,\n        limiting_magnitude=limiting_magnitude,\n        add_distortion=add_distortion,\n    )\n    _, expected_pair_inds, found_pair_inds = np.intersect1d(\n        expected_stars_corrected[:, -1].astype(int), matched_ind, return_indices=True\n    )\n\n    err_updated = (\n        expected_stars_corrected[expected_pair_inds, :2]\n        - stars_found[found_pair_inds, :2]\n    )\n    print(f\"AFTER QUEST: median error {np.median(mr.vecnorm(err_updated)):.2f} pixels\")\n\n    # %%\n    # Generating the synthetic image\n    mr.tic(\"Synthesizing CCD Image\")\n    img_sym = station.telescope.ccd.generate_ccd_image(\n        date_mid,\n        fits_info[\"integration_time\"],\n        station,\n        look_dir_true,\n        [fits_info[\"ra_rate\"], fits_info[\"dec_rate\"]],\n        1e4,\n        catalog,\n        up_dir_eci=up_dir_true,\n        limiting_magnitude=limiting_magnitude,\n        add_distortion=add_distortion,\n        sint_val=sint,\n        noise=False,\n    )\n    mr.toc()\n    return dict(\n        img_sym=img_sym,\n        img=img,\n        stars_found=stars_found,\n        expected_stars_corrected=expected_stars_corrected,\n        matched_irrad=matched_irrad,\n        matched_adu=matched_adu,\n        fit_adu_of_irrad=fit_adu_of_irrad,\n        data_mat=data_mat,\n        err_updated=err_updated,\n    )\n\n\ninfo_path = \"/Users/liamrobinson/Library/CloudStorage/OneDrive-purdue.edu/2022-09-18_GPS_PRN14/ObservationData.mat\"\nimg_ind = 200\nadd_distortion = True\nadd_refraction = True\nlimiting_magnitude = 11.0\nstation = mr.Station()\nstation.telescope.fwhm = 3.0\nmr.tic(\"Loading star catalog\")\ncatalog = mr.StarCatalog(\"gaia\", station, mr.now(), aberration=False)\nmr.toc()\n\nfig = plt.figure()\nim = plt.imshow(np.eye(4096), cmap='gray')\n\ndef animate(i):\n    res = generate_matched_image(info_path, i, station, catalog, add_distortion, add_refraction, limiting_magnitude)\n    img = np.log10(res['img_sym'])\n    im.set_data(img)\n    plt.clim(img.min(), img.max())\n    return im,\n\nframes = 250\nanim_time = 6\nfps = frames / anim_time\ninterval = 1000 / fps\nanim = FuncAnimation(fig, animate, frames=frames, interval=interval, blit=True)\nanim.save(\"out/synth_imgs.gif\")\n\n\n# for i in range(100):\n#     n = SimpleNamespace(**res)\nenddd\n\n# img_sym_prepared = mr.prepare_fits_for_plotting(img_sym, background_method=\"naive\")\nimg_sym_prepared = np.log10(n.img_sym)\n\ndata_mat = res[\"data_mat\"]\nsint_synth = mr.sint(station, np.pi / 2 - data_mat[\"el_rad_true\"])\n\nplt.figure()\nplt.scatter(n.matched_irrad, n.matched_adu)\nplt.plot(n.matched_irrad, n.fit_adu_of_irrad(n.matched_irrad), c=\"r\", markersize=7)\nplt.xlabel(\"Irradiance [W/m^2]\")\nplt.ylabel(\"ADU\")\nplt.grid()\nplt.xscale(\"log\")\nplt.yscale(\"log\")\nplt.legend([\"Data\", \"Best linear fit\"])"
      ]
    },
    {
      "cell_type": "markdown",
      "metadata": {},
      "source": [
        "Overlaying the two images\n\n"
      ]
    },
    {
      "cell_type": "code",
      "execution_count": null,
      "metadata": {
        "collapsed": false
      },
      "outputs": [],
      "source": [
        "n.img -= int(1e3)\nn.img = np.clip(n.img, 1, np.inf)\nimg_prepared = np.log10(n.img)\nprint(np.median(img_prepared))\n\nplt.figure()\nplt.scatter(n.err_updated[:, 0], n.err_updated[:, 1], s=5)\nplt.yscale(\"symlog\")\nplt.xscale(\"symlog\")\nt = np.linspace(0, 2 * np.pi + 0.1, 1000)\nplt.plot(5 * np.cos(t), 5 * np.sin(t), c=\"k\")\nplt.plot(1 * np.cos(t), 1 * np.sin(t), c=\"r\")\nplt.legend(\n    [\"Centroid errors\", \"5-pixel boundary\", \"1-pixel boundary\"], loc=\"upper right\"\n)\nplt.ylim(-100, 100)\nplt.xlim(-100, 100)\nplt.xlabel(\"$x$ pixel error\")\nplt.ylabel(\"$y$ pixel error\")\nplt.grid()\n\n\nplt.figure()\nplt.imshow(img_prepared, cmap=\"gray\")\nplt.imshow(img_sym_prepared, cmap=\"gray_r\", alpha=0.5)\nplt.scatter(\n    n.expected_stars_corrected[:, 0],\n    n.expected_stars_corrected[:, 1],\n    c=\"y\",\n    marker=\"+\",\n    s=20,\n    label=\"Expected centroids\",\n)\nplt.scatter(\n    n.stars_found[:, 0],\n    n.stars_found[:, 1],\n    c=\"m\",\n    marker=\"o\",\n    s=10,\n    label=\"Observed centroids\",\n)\n\nclim_obs = [np.max(img_prepared), np.min(img_prepared)]\nclim_sym = [np.max(img_sym_prepared), np.min(img_sym_prepared)]\nplt.figure()\nplt.imshow(img_prepared, cmap=\"gray\")\nplt.colorbar()\nplt.clim(np.min(img_sym_prepared), np.max(img_sym_prepared))\nplt.figure()\nplt.imshow(img_sym_prepared, cmap=\"gray\")\nplt.legend()\nplt.colorbar()"
      ]
    },
    {
      "cell_type": "markdown",
      "metadata": {},
      "source": [
        "Subtracting the two images\n\n"
      ]
    },
    {
      "cell_type": "code",
      "execution_count": null,
      "metadata": {
        "collapsed": false
      },
      "outputs": [],
      "source": [
        "adu_err = n.img_sym.astype(np.int64) - n.img.astype(np.int64)\nadu_err_stdev = np.abs(adu_err) / np.sqrt(np.abs(n.img.astype(np.int64)))\nplt.figure()\nplt.imshow(adu_err_stdev, cmap=\"plasma\")\nplt.clim(0, 6)\nplt.colorbar()\nplt.xlim(2700, 2934)\nplt.ylim(900, 1090)\nplt.show()"
      ]
    },
    {
      "cell_type": "markdown",
      "metadata": {},
      "source": [
        "Saving the images to file\n\n"
      ]
    },
    {
      "cell_type": "code",
      "execution_count": null,
      "metadata": {
        "collapsed": false
      },
      "outputs": [],
      "source": [
        "# import imageio\n# from PIL import Image\n\n# img_prepared = img_prepared / np.max(img_prepared) * 255\n# img_sym_prepared = (\n#     img_sym_prepared\n#     / np.max(img_sym_prepared)\n#     * 255\n# )\n\n# imageio.imwrite(\"observed_log_adu.png\", Image.fromarray(img_prepared).convert(\"L\"))\n# imageio.imwrite(\n#     \"synthetic_log_adu.png\",\n#     Image.fromarray(img_sym_prepared).convert(\"L\"),\n# )"
      ]
    }
  ],
  "metadata": {
    "kernelspec": {
      "display_name": "Python 3",
      "language": "python",
      "name": "python3"
    },
    "language_info": {
      "codemirror_mode": {
        "name": "ipython",
        "version": 3
      },
      "file_extension": ".py",
      "mimetype": "text/x-python",
      "name": "python",
      "nbconvert_exporter": "python",
      "pygments_lexer": "ipython3",
      "version": "3.11.8"
    }
  },
  "nbformat": 4,
  "nbformat_minor": 0
}