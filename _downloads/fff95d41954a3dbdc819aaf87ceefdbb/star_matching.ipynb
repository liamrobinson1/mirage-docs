{
  "cells": [
    {
      "cell_type": "markdown",
      "metadata": {},
      "source": [
        "\n# Star Matching\n\nGiven star centroid locations and an initial estimate of the look direction and tracking rate, fit the catalog\n"
      ]
    },
    {
      "cell_type": "code",
      "execution_count": null,
      "metadata": {
        "collapsed": false
      },
      "outputs": [],
      "source": [
        "import datetime\nimport os\n\nimport matplotlib.pyplot as plt\nimport numpy as np\nfrom scipy.spatial import KDTree\n\nimport mirage as mr\n\n\ndef update_refraction(\n    look_dir_eci: np.ndarray,\n    up_dir_eci: np.ndarray,\n    date: datetime.datetime,\n    p_mbar: float,\n    t_k: float,\n) -> np.ndarray:\n    _, el_true = station.eci_to_az_el(date, look_dir_eci)\n    el_app = mr.apparent_refacted_elevation(p_mbar, t_k, el_true)\n    print(f\"Applying {np.rad2deg(el_app - el_true):.2e} deg of refraction\")\n\n    dcm_tele = np.vstack((np.cross(up_dir_eci, look_dir_eci), up_dir_eci, look_dir_eci))\n    dcm_true_to_app = mr.rv_to_dcm(dcm_tele[0, :] * (el_true - el_app)).T\n    dcm_tele_app = dcm_true_to_app @ dcm_tele\n\n    look_dir_eci_app = dcm_tele_app[2, :]\n    up_dir_eci_app = dcm_tele_app[1, :]\n    return look_dir_eci_app, up_dir_eci_app\n\n\ndef expected_star_centroids_in_fits(\n    station: mr.Station,\n    catalog: mr.StarCatalog,\n    look_dir_eci: np.ndarray,\n    up_dir_eci: np.ndarray,\n    limiting_magnitude: float = 15.0,\n    add_distortion: bool = True,\n) -> np.ndarray:\n    \n    uvs_in_frame, vm_in_frame = catalog.in_fov(\n        look_dir_eci, up_dir_eci, limiting_magnitude=limiting_magnitude\n    )\n    star_xs, star_ys = station.telescope.j2000_unit_vectors_to_pixels(\n        look_dir_eci, up_dir_eci, uvs_in_frame, add_distortion=add_distortion\n    )\n\n    return np.vstack((star_xs.flatten(), star_ys.flatten(), vm_in_frame.flatten())).T\n\n\ninfo_path = \"/Users/liamrobinson/Library/CloudStorage/OneDrive-purdue.edu/2022-09-18_GPS_PRN14/ObservationData.mat\"\nimg_ind = 200\nadd_distortion = True\nadd_aberration = False\nadd_refraction = True\nlimiting_magnitude = 11.0\nstation = mr.Station()\n\ndata_mat = mr.load_obs_data(station, info_path, img_ind)\ndate_mid = data_mat[\"date_mid\"]\nmr.tic(\"Loading star catalog\")\ncatalog = mr.StarCatalog(\"gaia\", station, date_mid, add_aberration)\nmr.toc()\n\nlook_dir_eci = data_mat[\"look_dir_eci_processed\"]\nup_dir_eci = data_mat[\"up_dir_eci_processed\"]\np_mbar = data_mat[\"pressure_pa\"] / 100\nt_k = data_mat[\"temp_k\"]\nif add_refraction:\n    look_dir_eci, up_dir_eci = update_refraction(\n        look_dir_eci, up_dir_eci, date_mid, p_mbar, t_k\n    )\n\nfits_path = os.path.join(os.path.split(info_path)[0], data_mat[\"fits_file\"])\nfits_info = mr.info_from_fits(fits_path)\n\nsms_names = data_mat[\"_obs_mat\"][\"saveMatchedStars\"][0][img_ind].dtype.names\nsms = dict(zip(sms_names, data_mat[\"_obs_mat\"][\"saveMatchedStars\"][0][img_ind]))\nsms = {k: np.squeeze(v) for k, v in sms.items()}\nprint(sms.keys())\nex = sms[\"endpoints_x\"].T\ney = sms[\"endpoints_y\"].T\nx = ex[:, 1] - ex[:, 0]\ny = ey[:, 1] - ey[:, 0]\nm = np.polyfit(x, y, deg=1)\nx2 = np.linspace(x.min(), x.max())\nprint(m)\n# angle of m in the plane\nprint(mr.atan2d(m[0], 1.0))\nplt.figure()\nplt.scatter(x, y)\nplt.plot(x2, np.polyval(m, x2))\nstars_found = np.vstack((4096 - sms[\"x0\"], 4096 - sms[\"y0\"], sms[\"Gmag\"])).T\n\nmatched_gmag = catalog._mags[sms[\"idx_catMatched\"] - 1]\nmatched_irrad = mr.apparent_magnitude_to_irradiance(matched_gmag)\nmatched_brightness = sms[\"brightness\"]\ncoefs = np.polyfit(np.log10(matched_irrad), np.log10(matched_brightness), 1)\nfit_adu_of_irrad = lambda irrad: 10 ** np.polyval(coefs, np.log10(irrad))\nsint = lambda irrad: fit_adu_of_irrad(irrad) / fits_info[\"integration_time\"] / irrad\n\nsint_synth = mr.sint(station, np.pi / 2 - data_mat[\"el_rad_true\"])\n\nplt.figure()\nplt.scatter(matched_irrad, matched_brightness)\nplt.plot(matched_irrad, fit_adu_of_irrad(matched_irrad), c=\"r\", markersize=7)\nplt.xlabel(\"Irradiance [W/m^2]\")\nplt.ylabel(\"ADU\")\nplt.grid()\nplt.xscale(\"log\")\nplt.yscale(\"log\")\nplt.legend([\"Data\", \"Best linear fit\"])\n\nimg = fits_info[\"ccd_adu\"]\nimg = np.fliplr(np.flipud(img))\n\nstars_expected = expected_star_centroids_in_fits(\n    station,\n    catalog,\n    look_dir_eci,\n    up_dir_eci,\n    limiting_magnitude=limiting_magnitude,\n    add_distortion=add_distortion,\n)"
      ]
    },
    {
      "cell_type": "markdown",
      "metadata": {},
      "source": [
        "We're close, but we need to solve for the slight rotation and translation between the two images\n\n"
      ]
    },
    {
      "cell_type": "code",
      "execution_count": null,
      "metadata": {
        "collapsed": false
      },
      "outputs": [],
      "source": [
        "# building a tree for the expected stars\ntree = KDTree(stars_found[:, :2])\n\n# finding the nearest neighbor for each found star\nexpected_to_found_dist, nearest = tree.query(stars_expected[:, :2])\nnearest_found_centroid = stars_found[nearest, :2]\n\nnearest_expected_uvs = station.telescope.pixels_to_j2000_unit_vectors(\n    look_dir_eci,\n    up_dir_eci,\n    stars_expected[:, :2],\n    input_is_distorted=add_distortion,\n)\nstars_found_uvs = station.telescope.pixels_to_j2000_unit_vectors(\n    look_dir_eci,\n    up_dir_eci,\n    nearest_found_centroid,\n    input_is_distorted=add_distortion,\n)\n\ncentroid_err = stars_expected[:, :2] - nearest_found_centroid\nnp.savetxt(os.path.join(os.environ['SRCDIR'], '..', 'testfitdata.txt'), centroid_err)\n\n_, use_inds = mr.fit_2d_gaussian(centroid_err, return_used_inds=True, mahal_dist_tol=3.0)\nprint(f\"Performing the QUEST fit with {use_inds.sum()} stars\")\n\nplt.figure()\nmedian_err = np.median(centroid_err, axis=0)\nplt.scatter(\n    centroid_err[:, 0], centroid_err[:, 1], s=7, c=plt.get_cmap(\"Set1\")(use_inds), alpha=0.6\n)\nplt.scatter(\n    median_err[0],\n    median_err[1],\n    marker=\"+\",\n    s=30,\n    linewidths=3,\n    color=\"g\",\n    zorder=10,\n)\nplt.grid()\nplt.xlabel(\"$x$ error\")\nplt.ylabel(\"$y$ error\")\nplt.legend([\"Centroid errors\", \"Cluster centroids\"])\n# plt.show()\n# endd\n\nq_davenport = mr.davenport(\n    nearest_expected_uvs[use_inds, :], stars_found_uvs[use_inds, :]\n)\nprint(\n    f\"Applying a {np.rad2deg(mr.wrap_to_pi(mr.vecnorm(mr.quat_to_rv(q_davenport)))).squeeze():.2f} degree rotation to the telescope orientation\"\n)\n\nA_davenport = mr.quat_to_dcm(q_davenport)\n\nlook_dir_true = A_davenport @ look_dir_eci\nup_dir_true = A_davenport @ up_dir_eci\ncross_dir = np.cross(look_dir_true, up_dir_true)\n\nerc = expected_star_centroids_in_fits(\n    station,\n    catalog,\n    look_dir_true,\n    up_dir_true,\n    limiting_magnitude=limiting_magnitude,\n    add_distortion=add_distortion,\n)\n\ndists, nearest = tree.query(erc[:, :2])\n\nerr_updated = erc[:, :2] - stars_found[nearest, :2]\nprint(f\"Median error: {np.median(dists):.2f} pixels\")\n\n# img_prepared = mr.prepare_fits_for_plotting(img, background_method=\"parabola\")\n# img -= int(1e3)\nimg_prepared = np.log10(img)\nplt.figure()\nplt.imshow(img_prepared, cmap=\"gray\")\nplt.scatter(stars_found[:, 0], stars_found[:, 1], c=\"m\", marker=\"o\", s=20)\nplt.scatter(\n    erc[:, 0],\n    erc[:, 1],\n    c=\"lime\",\n    marker=\"+\",\n    s=30,\n)\nplt.xlim(2700, 2934)\nplt.ylim(900, 1090)\nplt.legend([\"Observed centroids\", \"Synthetic centroids\"])\nplt.title(\"Centroids over Observed Image\")\n\nplt.figure()\nplt.scatter(err_updated[:, 0], err_updated[:, 1], s=5)\nplt.yscale(\"symlog\")\nplt.xscale(\"symlog\")\nt = np.linspace(0, 2 * np.pi + 0.1, 1000)\nplt.plot(5 * np.cos(t), 5 * np.sin(t), c=\"k\")\nplt.plot(1 * np.cos(t), 1 * np.sin(t), c=\"r\")\nplt.legend(\n    [\"Centroid errors\", \"5-pixel boundary\", \"1-pixel boundary\"], loc=\"upper right\"\n)\nplt.ylim(-100, 100)\nplt.xlim(-100, 100)\nplt.xlabel(\"$x$ pixel error\")\nplt.ylabel(\"$y$ pixel error\")\nplt.grid()"
      ]
    },
    {
      "cell_type": "markdown",
      "metadata": {},
      "source": [
        "Generating the synthetic image\n\n"
      ]
    },
    {
      "cell_type": "code",
      "execution_count": null,
      "metadata": {
        "collapsed": false
      },
      "outputs": [],
      "source": [
        "station.telescope.fwhm = 3.0\nmr.tic(\"Synthesizing CCD Image\")\nimg_sym = station.telescope.ccd.generate_ccd_image(\n    date_mid,\n    fits_info[\"integration_time\"],\n    station,\n    look_dir_true,\n    [fits_info[\"ra_rate\"], fits_info[\"dec_rate\"]],\n    1e4,\n    catalog,\n    up_dir_eci=up_dir_true,\n    limiting_magnitude=limiting_magnitude,\n    add_distortion=add_distortion,\n    sint_val=sint,\n    noise=False,\n)\nmr.toc()\n\n# img_sym_prepared = mr.prepare_fits_for_plotting(img_sym, background_method=\"naive\")\nimg_sym += int(1e3)\nimg_sym_prepared = np.log10(img_sym)"
      ]
    },
    {
      "cell_type": "markdown",
      "metadata": {},
      "source": [
        "Overlaying the two images\n\n"
      ]
    },
    {
      "cell_type": "code",
      "execution_count": null,
      "metadata": {
        "collapsed": false
      },
      "outputs": [],
      "source": [
        "plt.figure()\nplt.imshow(img_prepared, cmap=\"gray\")\nplt.imshow(img_sym_prepared, cmap=\"gray_r\", alpha=0.5)\nplt.scatter(\n    erc[:, 0],\n    erc[:, 1],\n    c=\"y\",\n    marker=\"+\",\n    s=20,\n)\nplt.scatter(stars_found[:, 0], stars_found[:, 1], c=\"m\", marker=\"o\", s=10)\n\nclim_obs = [np.max(img_prepared), np.min(img_prepared)]\nprint(clim_obs)\nclim_sym = [np.max(img_sym_prepared), np.min(img_sym_prepared)]\nprint(clim_sym)\nplt.figure()\nplt.imshow(img_prepared, cmap=\"gray\")\nplt.colorbar()\nplt.clim(np.min(img_sym_prepared), np.max(img_sym_prepared))\nplt.figure()\nplt.imshow(img_sym_prepared, cmap=\"gray\")\nplt.colorbar()"
      ]
    },
    {
      "cell_type": "markdown",
      "metadata": {},
      "source": [
        "Subtracting the two images\n\n"
      ]
    },
    {
      "cell_type": "code",
      "execution_count": null,
      "metadata": {
        "collapsed": false
      },
      "outputs": [],
      "source": [
        "adu_err = img_sym.astype(np.int64) - img.astype(np.int64)\nadu_err_stdev = np.abs(adu_err) / np.sqrt(np.abs(img.astype(np.int64)))\nplt.figure()\nplt.imshow(adu_err_stdev, cmap=\"plasma\")\nplt.clim(0, 6)\nplt.colorbar()\nplt.xlim(2700, 2934)\nplt.ylim(900, 1090)\nplt.show()"
      ]
    },
    {
      "cell_type": "markdown",
      "metadata": {},
      "source": [
        "Saving the images to file\n\n"
      ]
    },
    {
      "cell_type": "code",
      "execution_count": null,
      "metadata": {
        "collapsed": false
      },
      "outputs": [],
      "source": [
        "# import imageio\n# from PIL import Image\n\n# img_prepared = img_prepared / np.max(img_prepared) * 255\n# img_sym_prepared = (\n#     img_sym_prepared\n#     / np.max(img_sym_prepared)\n#     * 255\n# )\n\n# imageio.imwrite(\"observed_log_adu.png\", Image.fromarray(img_prepared).convert(\"L\"))\n# imageio.imwrite(\n#     \"synthetic_log_adu.png\",\n#     Image.fromarray(img_sym_prepared).convert(\"L\"),\n# )"
      ]
    }
  ],
  "metadata": {
    "kernelspec": {
      "display_name": "Python 3",
      "language": "python",
      "name": "python3"
    },
    "language_info": {
      "codemirror_mode": {
        "name": "ipython",
        "version": 3
      },
      "file_extension": ".py",
      "mimetype": "text/x-python",
      "name": "python",
      "nbconvert_exporter": "python",
      "pygments_lexer": "ipython3",
      "version": "3.11.8"
    }
  },
  "nbformat": 4,
  "nbformat_minor": 0
}