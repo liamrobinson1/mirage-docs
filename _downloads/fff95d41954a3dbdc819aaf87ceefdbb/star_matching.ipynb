{
  "cells": [
    {
      "cell_type": "markdown",
      "metadata": {},
      "source": [
        "\n# Star Matching\n\nGiven star centroid locations and an initial estimate of the look direction and tracking rate, fit the catalog\n"
      ]
    },
    {
      "cell_type": "code",
      "execution_count": null,
      "metadata": {
        "collapsed": false
      },
      "outputs": [],
      "source": [
        "import os\n\nimport matplotlib.pyplot as plt\nimport numpy as np\nfrom scipy.spatial import KDTree\n\nimport mirage as mr\n\n\ndef expected_star_centroids_in_fits(\n    catalog: mr.StarCatalog,\n    look_dir_eci_app: np.ndarray,\n    up_dir_eci_app: np.ndarray,\n    limiting_magnitude: float = 15.0,\n    add_distortion: bool = True,\n) -> np.ndarray:\n\n    uvs_in_frame, vm_in_frame = catalog.in_fov(\n        look_dir_eci_app, up_dir_eci_app, limiting_magnitude=limiting_magnitude\n    )\n    star_xs, star_ys = station.telescope.j2000_unit_vectors_to_pixels(\n        look_dir_eci_app, up_dir_eci_app, uvs_in_frame, add_distortion=add_distortion\n    )\n    return np.vstack((star_xs.flatten(), star_ys.flatten(), vm_in_frame.flatten())).T\n\n\ninfo_path = \"/Users/liamrobinson/Library/CloudStorage/OneDrive-purdue.edu/2022-09-18_GPS_PRN14/ObservationData.mat\"\nimg_ind = 299\nadd_distortion = True\nlimiting_magnitude = 15.0\nstation = mr.Station()\ndata_mat = mr.load_obs_data(station, info_path, img_ind)\ndate_mid = data_mat[\"date_mid\"]\nmr.tic(\"Loading star catalog\")\ncatalog = mr.StarCatalog(\"gaia\", station, date_mid, aberration=True)\nmr.toc()\n\nobs_look_dir_from_az_el = station.az_el_to_eci(\n    data_mat[\"az_rad\"], data_mat[\"el_rad_true\"], date_mid\n)\nel_app = mr.apparent_refacted_elevation(\n    data_mat[\"pressure_pa\"] / 100, data_mat[\"temp_k\"], data_mat[\"el_rad_true\"]\n)\nobs_look_dir_from_az_el_app = station.az_el_to_eci(data_mat[\"az_rad\"], el_app, date_mid)\nangle_rot = mr.angle_between_vecs(obs_look_dir_from_az_el, obs_look_dir_from_az_el_app)\naxis_rot = mr.hat(np.cross(obs_look_dir_from_az_el, obs_look_dir_from_az_el_app))\ndcm_app_to_true = mr.rv_to_dcm(axis_rot * angle_rot)\n\nfits_path = os.path.join(os.path.split(info_path)[0], data_mat[\"fits_file\"])\nfits_info = mr.info_from_fits(fits_path)\n\nlook_dir_eci = data_mat[\"look_dir_eci_processed\"]\nlook_dir_eci_app = dcm_app_to_true @ look_dir_eci\n\nscope_up_dir_eci = data_mat[\"up_dir_eci_processed\"]\nscope_up_dir_eci_app = dcm_app_to_true @ scope_up_dir_eci\n\nsms_names = data_mat[\"_obs_mat\"][\"saveMatchedStars\"][0][img_ind].dtype.names\nsms = dict(zip(sms_names, data_mat[\"_obs_mat\"][\"saveMatchedStars\"][0][img_ind]))\nsms = {k: np.squeeze(v) for k, v in sms.items()}\nprint(sms.keys())\nstars_found = np.vstack((4096 - sms[\"x0\"], 4096 - sms[\"y0\"], sms[\"Gmag\"])).T\n\n# print(stars_found.shape)\n# endd\nmatched_gmag = catalog._mags[sms[\"idx_catMatched\"] - 1]\nmatched_irrad = mr.apparent_magnitude_to_irradiance(matched_gmag)\nmatched_brightness = sms[\"brightness\"]\ncoefs = np.polyfit(matched_irrad, matched_brightness, 1)\ncoefs = [coefs[0], 0]\nsint = lambda irrad: np.polyval(coefs, irrad) / fits_info[\"integration_time\"] / irrad\n\nplt.figure()\nplt.scatter(matched_irrad, matched_brightness)\nplt.plot(matched_irrad, np.polyval(coefs, matched_irrad), c=\"r\")\nplt.xlabel(\"Irradiance [W/m^2]\")\nplt.ylabel(\"ADU\")\n# plt.show()\n# enddd\n\nimg = fits_info[\"ccd_adu\"]\nimg = np.fliplr(np.flipud(img))\n\ntele = station.telescope\n\nstars_expected = expected_star_centroids_in_fits(\n    catalog,\n    look_dir_eci_app,\n    scope_up_dir_eci_app,\n    limiting_magnitude=limiting_magnitude,\n    add_distortion=add_distortion,\n)"
      ]
    },
    {
      "cell_type": "markdown",
      "metadata": {},
      "source": [
        "We're close, but we need to solve for the slight rotation and translation between the two images\n\n"
      ]
    },
    {
      "cell_type": "code",
      "execution_count": null,
      "metadata": {
        "collapsed": false
      },
      "outputs": [],
      "source": [
        "# building a tree for the expected stars\ntree = KDTree(stars_expected[:, :2])\n\n# finding the nearest neighbor for each found star\nexpected_to_found_dist, nearest = tree.query(stars_found[:, :2])\nnearest_expected_centroid = stars_expected[nearest, :2]\n# only use lowest 25% dist pairs to avoid outliers\nuse_inds = np.argsort(expected_to_found_dist.flatten())[\n    : expected_to_found_dist.size // 4\n]\n\nnearest_expected_uvs = tele.pixels_to_j2000_unit_vectors(\n    look_dir_eci_app,\n    scope_up_dir_eci_app,\n    nearest_expected_centroid[use_inds],\n    input_is_distorted=add_distortion,\n)\nstars_found_uvs = tele.pixels_to_j2000_unit_vectors(\n    look_dir_eci_app,\n    scope_up_dir_eci_app,\n    stars_found[use_inds, :2],\n    input_is_distorted=add_distortion,\n)\n\nprint(nearest_expected_centroid[use_inds] - stars_found[use_inds, :2])\n\nq_davenport = mr.davenport(nearest_expected_uvs, stars_found_uvs)\nprint(mr.wrap_to_pi(mr.vecnorm(mr.quat_to_rv(q_davenport))) * 180 / np.pi)\n\nA_davenport = mr.quat_to_dcm(q_davenport)\n\nlook_dir_app_true = A_davenport @ look_dir_eci_app\nup_dir_app_true = A_davenport @ scope_up_dir_eci_app\n\nerc = expected_star_centroids_in_fits(\n    catalog,\n    look_dir_app_true,\n    up_dir_app_true,\n    limiting_magnitude=limiting_magnitude,\n    add_distortion=add_distortion,\n)\n\nimg_prepared = mr.prepare_fits_for_plotting(img, background_method=\"parabola\")\nplt.figure()\nplt.imshow(img_prepared, cmap=\"gray\")\nplt.scatter(\n    erc[:, 0],\n    erc[:, 1],\n    c=\"y\",\n    marker=\"+\",\n    s=20,\n)\nplt.scatter(stars_found[:, 0], stars_found[:, 1], c=\"m\", marker=\"o\", s=10)"
      ]
    },
    {
      "cell_type": "markdown",
      "metadata": {},
      "source": [
        "Generating the synthetic image\n\n"
      ]
    },
    {
      "cell_type": "code",
      "execution_count": null,
      "metadata": {
        "collapsed": false
      },
      "outputs": [],
      "source": [
        "station.telescope.fwhm = 4.0\nmr.tic(\"Synthesizing CCD Image\")\nadu_grid_streaked_sampled = station.telescope.ccd.generate_ccd_image(\n    date_mid,\n    fits_info[\"integration_time\"],\n    station,\n    look_dir_app_true,\n    [fits_info[\"ra_rate\"], fits_info[\"dec_rate\"]],\n    1e4,\n    catalog,\n    up_dir_eci=up_dir_app_true,\n    limiting_magnitude=limiting_magnitude,\n    add_distortion=add_distortion,\n    sint_val=sint,\n)\nmr.toc()\n\nadu_grid_streaked_sampled_prepared = mr.prepare_fits_for_plotting(\n    adu_grid_streaked_sampled, background_method=\"naive\"\n)\n\n# adu_grid_streaked_sampled = adu_grid_streaked_sampled / 10\n# adu_grid_streaked_sampled += int(1e3)"
      ]
    },
    {
      "cell_type": "markdown",
      "metadata": {},
      "source": [
        "Overlaying the two images\n\n"
      ]
    },
    {
      "cell_type": "code",
      "execution_count": null,
      "metadata": {
        "collapsed": false
      },
      "outputs": [],
      "source": [
        "plt.figure()\nplt.imshow(img_prepared, cmap=\"gray\")\nplt.imshow(adu_grid_streaked_sampled_prepared, cmap=\"gray_r\", alpha=0.5)\nplt.scatter(\n    erc[:, 0],\n    erc[:, 1],\n    c=\"y\",\n    marker=\"+\",\n    s=20,\n)\nplt.scatter(stars_found[:, 0], stars_found[:, 1], c=\"m\", marker=\"o\", s=10)\n\nplt.figure()\nplt.imshow(img_prepared, cmap=\"gray\")\nplt.colorbar()\nplt.figure()\nplt.imshow(adu_grid_streaked_sampled_prepared, cmap=\"gray\")\nplt.colorbar()\n# plt.figure()\n# plt.imshow(np.log10(np.clip(np.abs(img - adu_grid_streaked_sampled), 1, np.inf)), cmap=\"coolwarm\")\n# plt.colorbar()\nplt.show()"
      ]
    },
    {
      "cell_type": "markdown",
      "metadata": {},
      "source": [
        "Saving the images to file\n\n"
      ]
    },
    {
      "cell_type": "code",
      "execution_count": null,
      "metadata": {
        "collapsed": false
      },
      "outputs": [],
      "source": [
        "import imageio\nfrom PIL import Image\n\nimageio.imwrite(\"observed_log_adu.png\", Image.fromarray(img_prepared).convert(\"L\"))\nimageio.imwrite(\"synthetic_log_adu.png\", Image.fromarray(adu_grid_streaked_sampled_prepared).convert(\"L\"))"
      ]
    }
  ],
  "metadata": {
    "kernelspec": {
      "display_name": "Python 3",
      "language": "python",
      "name": "python3"
    },
    "language_info": {
      "codemirror_mode": {
        "name": "ipython",
        "version": 3
      },
      "file_extension": ".py",
      "mimetype": "text/x-python",
      "name": "python",
      "nbconvert_exporter": "python",
      "pygments_lexer": "ipython3",
      "version": "3.11.8"
    }
  },
  "nbformat": 4,
  "nbformat_minor": 0
}