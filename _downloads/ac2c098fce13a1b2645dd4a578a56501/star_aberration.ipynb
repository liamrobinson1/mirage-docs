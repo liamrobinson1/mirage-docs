{
  "cells": [
    {
      "cell_type": "markdown",
      "metadata": {},
      "source": [
        "\n# Star Aberration\nComputing and plotting the daily and yearly aberration of the stars due to Earth's motion through space\n"
      ]
    },
    {
      "cell_type": "code",
      "execution_count": null,
      "metadata": {
        "collapsed": false
      },
      "outputs": [],
      "source": [
        "import numpy as np\n\nimport mirage as mr\nimport mirage.vis as mrv\n\nstation = mr.Station(preset=\"pogs\")\nt2 = mr.load_json_data(\"tycho2.json\")\nalpha_rad, delta_rad = t2[\"j2000_ra\"], t2[\"j2000_dec\"]\nmr.tic()\nalpha_rad_app, delta_rad_app = mr.apparent_star_positons(\n    mr.now(), station.lat_geod_rad, alpha_rad, delta_rad\n)\nmr.toc()"
      ]
    },
    {
      "cell_type": "markdown",
      "metadata": {},
      "source": [
        "Plotting the resulting right ascensions and declinations\n\n"
      ]
    },
    {
      "cell_type": "code",
      "execution_count": null,
      "metadata": {
        "collapsed": false
      },
      "outputs": [],
      "source": [
        "import matplotlib.pyplot as plt\n\nplt.scatter(np.rad2deg(alpha_rad), np.rad2deg(delta_rad), s=2)\nplt.scatter(np.rad2deg(alpha_rad_app), np.rad2deg(delta_rad_app), s=2)\nplt.xlim(0, 1)\nplt.ylim(0, 1)\nmrv.texit(\n    \"Apparent and True Star Positions\",\n    \"Right ascension [deg]\",\n    \"Declination [deg]\",\n    [\"True\", \"Apparent\"],\n)\nplt.show()"
      ]
    }
  ],
  "metadata": {
    "kernelspec": {
      "display_name": "Python 3",
      "language": "python",
      "name": "python3"
    },
    "language_info": {
      "codemirror_mode": {
        "name": "ipython",
        "version": 3
      },
      "file_extension": ".py",
      "mimetype": "text/x-python",
      "name": "python",
      "nbconvert_exporter": "python",
      "pygments_lexer": "ipython3",
      "version": "3.10.12"
    }
  },
  "nbformat": 4,
  "nbformat_minor": 0
}