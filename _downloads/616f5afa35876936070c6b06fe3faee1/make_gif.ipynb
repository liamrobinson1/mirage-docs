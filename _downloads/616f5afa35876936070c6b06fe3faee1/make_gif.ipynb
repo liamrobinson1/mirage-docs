{
  "cells": [
    {
      "cell_type": "markdown",
      "metadata": {},
      "source": [
        "\n# Saving a GIF\n\nSaving a set of FITS images taken by POGS as a gif\n"
      ]
    },
    {
      "cell_type": "code",
      "execution_count": null,
      "metadata": {
        "collapsed": false
      },
      "outputs": [],
      "source": [
        "import os\n\nimport astropy.io.fits as fits\nimport matplotlib.animation as animation\nimport matplotlib.pyplot as plt\nimport numpy as np\n\nimport autopogs as ap\n\nanim = None\ndef make_gif_from_imgs(ims: list[str]) -> None:\n    global anim\n    os.chdir(os.path.join(os.environ['TELE_SRC_DIR'], '..'))\n\n    fig = plt.figure()\n    im = plt.imshow(np.eye(3), cmap='gray', clim=(0, 1))\n    open_imgs = [fits.open(os.path.join('imgs', im)) for im in ims]\n\n    def update(i):\n        data = np.log10(open_imgs[i][0].data)\n        im.set_data(data)\n        plt.clim(np.percentile(data, (5, 95)))\n        plt.title(ims[i])\n        open_imgs[i].close()\n        return im\n\n    anim = animation.FuncAnimation(fig, update, frames=len(ims), interval=100)\n    plt.show()"
      ]
    },
    {
      "cell_type": "markdown",
      "metadata": {},
      "source": [
        "The shutter gets in the way of these observations\n\n"
      ]
    },
    {
      "cell_type": "code",
      "execution_count": null,
      "metadata": {
        "collapsed": false
      },
      "outputs": [],
      "source": [
        "make_gif_from_imgs([f'00161{i}.48859.fit' for i in range(198, 208)])"
      ]
    },
    {
      "cell_type": "markdown",
      "metadata": {},
      "source": [
        "Three ASTRA satellites are visible in this gif\n\n"
      ]
    },
    {
      "cell_type": "code",
      "execution_count": null,
      "metadata": {
        "collapsed": false
      },
      "outputs": [],
      "source": [
        "make_gif_from_imgs([f'00161{i}.40733.fit' for i in range(178, 188)])"
      ]
    },
    {
      "cell_type": "markdown",
      "metadata": {},
      "source": [
        "A planet goes through the frame in these images\n\n"
      ]
    },
    {
      "cell_type": "code",
      "execution_count": null,
      "metadata": {
        "collapsed": false
      },
      "outputs": [],
      "source": [
        "make_gif_from_imgs([f'00161{i}.26853.fit' for i in range(158, 162)])"
      ]
    }
  ],
  "metadata": {
    "kernelspec": {
      "display_name": "Python 3",
      "language": "python",
      "name": "python3"
    },
    "language_info": {
      "codemirror_mode": {
        "name": "ipython",
        "version": 3
      },
      "file_extension": ".py",
      "mimetype": "text/x-python",
      "name": "python",
      "nbconvert_exporter": "python",
      "pygments_lexer": "ipython3",
      "version": "3.11.6"
    }
  },
  "nbformat": 4,
  "nbformat_minor": 0
}