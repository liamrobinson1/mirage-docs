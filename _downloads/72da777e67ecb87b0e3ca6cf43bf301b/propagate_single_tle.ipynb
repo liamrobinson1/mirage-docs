{
  "cells": [
    {
      "cell_type": "markdown",
      "metadata": {},
      "source": [
        "\n# Propagating single TLE\n\nPropagates a single TLE for a given NORAD ID and propagates the trajectory\n"
      ]
    },
    {
      "cell_type": "code",
      "execution_count": null,
      "metadata": {
        "collapsed": false
      },
      "outputs": [],
      "source": [
        "import pyspaceaware as ps\nimport pyvista as pv\nimport numpy as np\n\ndate_space, _ = ps.date_linspace(ps.now(), ps.now() + ps.hours(3), 1000)\n# Propagate out one day\nr_eci, v_eci = ps.propagate_satnum_to_dates(\n    dates=date_space, satnum=25544\n)\n# Propagates ISS, note that output is technically in TEME frame, but we'll treat it as if it's just ECI"
      ]
    },
    {
      "cell_type": "markdown",
      "metadata": {},
      "source": [
        "Let's scatter plot the object positions we've propagated\n\n"
      ]
    },
    {
      "cell_type": "code",
      "execution_count": null,
      "metadata": {
        "collapsed": false
      },
      "outputs": [],
      "source": [
        "pl = pv.Plotter()\nps.plot_earth(pl, mode=\"eci\", date=date_space[0], night_lights=True)\nps.plot3(\n    pl,\n    r_eci,\n    scalars=ps.vecnorm(v_eci).flatten(),\n    line_width=4,\n    cmap=\"plasma\",\n    lighting=False,\n    show_scalar_bar=False,\n)\npl.camera.focal_point = (0.0, 0.0, 0.0)\npl.camera.position = 25e3 * np.array([1, -1, 0.3])\npl.show()"
      ]
    }
  ],
  "metadata": {
    "kernelspec": {
      "display_name": "Python 3",
      "language": "python",
      "name": "python3"
    },
    "language_info": {
      "codemirror_mode": {
        "name": "ipython",
        "version": 3
      },
      "file_extension": ".py",
      "mimetype": "text/x-python",
      "name": "python",
      "nbconvert_exporter": "python",
      "pygments_lexer": "ipython3",
      "version": "3.10.11"
    }
  },
  "nbformat": 4,
  "nbformat_minor": 0
}