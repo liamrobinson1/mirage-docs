{
  "cells": [
    {
      "cell_type": "markdown",
      "metadata": {},
      "source": [
        "\n# Propagating with Perturbations\n\nPropagating an orbit with spherical harmonics and third body effects\n"
      ]
    },
    {
      "cell_type": "code",
      "execution_count": null,
      "metadata": {
        "collapsed": false
      },
      "outputs": [],
      "source": [
        "import numpy as np\nimport pyvista as pv\n\nimport mirage as mr\nimport mirage.vis as mrv"
      ]
    },
    {
      "cell_type": "markdown",
      "metadata": {},
      "source": [
        "Defining our initial condition and the propagation times\n\n"
      ]
    },
    {
      "cell_type": "code",
      "execution_count": null,
      "metadata": {
        "collapsed": false
      },
      "outputs": [],
      "source": [
        "rv0 = np.array([8000, 0, 0, 0, 2, 7])\ndates = mr.date_linspace(mr.now(), mr.now() + mr.days(10), 10_000)"
      ]
    },
    {
      "cell_type": "markdown",
      "metadata": {},
      "source": [
        "Propagating with the full EGM96 gravity model and Sun/Moon third-body accelerations\n\n"
      ]
    },
    {
      "cell_type": "code",
      "execution_count": null,
      "metadata": {
        "collapsed": false
      },
      "outputs": [],
      "source": [
        "mr.tic()\nrv = mr.integrate_orbit_dynamics(\n    rv0,\n    dates,\n    gravity_harmonics_degree=2,\n    moon_third_body=False,\n    sun_third_body=False,\n    int_tol=1e-6,  # Because I want this example to render quickly\n)\nmr.toc()\nr = rv[:, :3]\n\npl = pv.Plotter()\nmrv.plot_earth(pl, date=mr.now(), night_lights=True, elevation=True, atmosphere=True)\nmrv.plot3(pl, r, lighting=True)\npl.show()"
      ]
    }
  ],
  "metadata": {
    "kernelspec": {
      "display_name": "Python 3",
      "language": "python",
      "name": "python3"
    },
    "language_info": {
      "codemirror_mode": {
        "name": "ipython",
        "version": 3
      },
      "file_extension": ".py",
      "mimetype": "text/x-python",
      "name": "python",
      "nbconvert_exporter": "python",
      "pygments_lexer": "ipython3",
      "version": "3.10.13"
    }
  },
  "nbformat": 4,
  "nbformat_minor": 0
}