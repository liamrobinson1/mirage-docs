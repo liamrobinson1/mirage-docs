{
  "cells": [
    {
      "cell_type": "markdown",
      "metadata": {},
      "source": [
        "\n# Propagating with Perturbations\n\nPropagating an orbit with spherical harmonics and third body effects\n"
      ]
    },
    {
      "cell_type": "code",
      "execution_count": null,
      "metadata": {
        "collapsed": false
      },
      "outputs": [],
      "source": [
        "import pyspaceaware as ps\nimport pyvista as pv\nimport gravitas as gr\nimport numpy as np"
      ]
    },
    {
      "cell_type": "markdown",
      "metadata": {},
      "source": [
        "Defining our initial condition and the propagation times\n\n"
      ]
    },
    {
      "cell_type": "code",
      "execution_count": null,
      "metadata": {
        "collapsed": false
      },
      "outputs": [],
      "source": [
        "rv0 = np.array([8000, 0, 0, 0, 2, 7])\ndates = ps.date_linspace(ps.now(), ps.now() + ps.days(10), 10_000)"
      ]
    },
    {
      "cell_type": "markdown",
      "metadata": {},
      "source": [
        "Propagating with the full EGM96 gravity model and Sun/Moon third-body accelerations\n\n"
      ]
    },
    {
      "cell_type": "code",
      "execution_count": null,
      "metadata": {
        "collapsed": false
      },
      "outputs": [],
      "source": [
        "ps.tic()\nrv = ps.integrate_orbit_dynamics(\n    rv0,\n    dates,\n    gravity_harmonics_degree=360,\n    moon_third_body=True,\n    sun_third_body=True,\n    int_tol=1e-6,  # Because I want this example to render quickly\n)\nps.toc()\nr = rv[:, :3]\n\npl = pv.Plotter()\nps.plot_earth(pl, date=ps.now(), night_lights=True, elevation=True, atmosphere=True)\nps.plot3(pl, r, lighting=True)\npl.show()"
      ]
    }
  ],
  "metadata": {
    "kernelspec": {
      "display_name": "Python 3",
      "language": "python",
      "name": "python3"
    },
    "language_info": {
      "codemirror_mode": {
        "name": "ipython",
        "version": 3
      },
      "file_extension": ".py",
      "mimetype": "text/x-python",
      "name": "python",
      "nbconvert_exporter": "python",
      "pygments_lexer": "ipython3",
      "version": "3.10.11"
    }
  },
  "nbformat": 4,
  "nbformat_minor": 0
}