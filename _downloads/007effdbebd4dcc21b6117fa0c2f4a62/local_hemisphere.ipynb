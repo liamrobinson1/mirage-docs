{
  "cells": [
    {
      "cell_type": "markdown",
      "metadata": {},
      "source": [
        "\n# Live Satellites From Observer\n\nPlots satellites that would be visible from a station's telescope in real time\n"
      ]
    },
    {
      "cell_type": "code",
      "execution_count": null,
      "metadata": {
        "collapsed": false
      },
      "outputs": [],
      "source": [
        "import vtk\nimport pyvista as pv\nimport pyspaceaware as ps\nimport numpy as np"
      ]
    },
    {
      "cell_type": "markdown",
      "metadata": {},
      "source": [
        "Since I'm currently stuck in the Philadelphia airport, let's plot things from the perspective of there\n\n"
      ]
    },
    {
      "cell_type": "code",
      "execution_count": null,
      "metadata": {
        "collapsed": false
      },
      "outputs": [],
      "source": [
        "obs_lat, obs_lon = ps.lat_lon_of_address(\"Philadelphia, PA\")\nstation = ps.Station(lat_deg=obs_lat, lon_deg=obs_lon)"
      ]
    },
    {
      "cell_type": "markdown",
      "metadata": {},
      "source": [
        "Let's impose a signal to noise ratio constraint, require satellites to be above the horizon, be illuminated, and have a visual magnitude brighter than 12\n\n"
      ]
    },
    {
      "cell_type": "code",
      "execution_count": null,
      "metadata": {
        "collapsed": false
      },
      "outputs": [],
      "source": [
        "station.constraints = [\n    ps.SnrConstraint(5),\n    ps.ElevationConstraint(0),\n    ps.TargetIlluminatedConstraint(),\n    ps.VisualMagnitudeConstraint(12),\n]"
      ]
    },
    {
      "cell_type": "markdown",
      "metadata": {},
      "source": [
        "We can now plot everything!\n\n"
      ]
    },
    {
      "cell_type": "code",
      "execution_count": null,
      "metadata": {
        "collapsed": false
      },
      "outputs": [],
      "source": [
        "pl = pv.Plotter()\npl.set_background(\"k\")\n\npl.add_point_labels(\n    np.vstack((np.eye(3), -np.eye(3)[:2, :])),\n    [\"East\", \"North\", \"Zenith\", \"West\", \"South\"],\n    text_color=\"lime\",\n    font_family=\"courier\",\n    font_size=30,\n    shape_opacity=0.2,\n    always_visible=True,\n    show_points=False,\n    name=\"enu_labels\",\n)\n\n# Plotting the Azimuth/Elevation sphere\nlines, labels, label_pos = ps.celestial_grid(10, 10, return_labels=True)\nps.plot3(\n    pl,\n    lines,\n    lighting=False,\n    color=\"cornflowerblue\",\n    line_width=5,\n    name=\"local_grid\",\n    opacity=lines[:, 2] >= 0,\n)\n\n\ndef show_scene(epsec: float):\n    date = ps.today() + ps.seconds(epsec)  # Fig 5.38\n    r_eci, names = ps.propagate_catalog_to_dates(date, return_names=True)\n    station_eci = station.j2000_at_dates(date)\n    look_vec_eci = r_eci - station_eci\n    look_dir_eci = ps.hat(look_vec_eci)\n    r_enu = (station.eci_to_enu(date) @ look_dir_eci.T).T\n\n    r_moon_eci = ps.moon(date)\n    r_station_to_moon_eci = r_moon_eci - station_eci\n    r_moon_enu = (station.eci_to_enu(date) @ ps.hat(r_station_to_moon_eci).T).T\n    r_sun_eci = ps.sun(date)\n    r_station_to_sun_eci = r_sun_eci - station_eci\n    r_sun_enu = (station.eci_to_enu(date) @ ps.hat(r_station_to_sun_eci).T).T\n\n    lines_eci = (station.eci_to_enu(date).T @ lines.T).T\n\n    obs_to_obj_rmag = ps.vecnorm(look_vec_eci)\n    obj_to_sun_eci = r_sun_eci - r_eci\n    phase_angle_rad = ps.angle_between_vecs(obj_to_sun_eci, -look_vec_eci)\n\n    lc_sphere = (\n        ps.normalized_light_curve_sphere(1, 1, phase_angle_rad)\n        / (1e3 * obs_to_obj_rmag) ** 2\n    )\n    vmag_sphere = ps.irradiance_to_apparent_magnitude(lc_sphere)\n\n    z_obs = ps.angle_between_vecs(look_dir_eci, station_eci)\n\n    ps.tic()\n    constraint_satisfaction = station.eval_constraints(\n        obs_pos_eci=station_eci,\n        look_dir_eci=look_dir_eci,\n        target_pos_eci=r_eci,\n        dates=date,\n        lc=lc_sphere,\n        evaluate_all=False,\n    )\n    ps.toc()\n\n    # ps.plot3(\n    #     pl, lines_eci, lighting=False, color=\"gray\", line_width=5,\n    #     show_scalar_bar=False, name='eci_grid', opacity=lines_eci[:,2] > 0\n    # )\n\n    ps.scatter3(\n        pl,\n        r_enu,\n        point_size=20,\n        lighting=False,\n        color=\"m\",\n        name=\"sat_enu\",\n        opacity=constraint_satisfaction,\n        render=False,\n    )\n\n    pl.add_point_labels(\n        r_moon_enu,\n        [\"Moon\"],\n        text_color=\"cyan\",\n        font_family=\"courier\",\n        font_size=20,\n        shape_opacity=0.2,\n        always_visible=True,\n        show_points=True,\n        name=\"moon_label\",\n        render=False,\n    )\n\n    # pl.add_point_labels(\n    #     r_sun_enu,\n    #     [\"Sun\"],\n    #     text_color=\"yellow\",\n    #     font_family=\"courier\",\n    #     font_size=20,\n    #     shape_opacity=0.2,\n    #     always_visible=True,\n    #     show_points=True,\n    #     name=\"sun_label\",\n    #     render=False\n    # )\n\n    pl.add_point_labels(\n        r_enu[constraint_satisfaction, :],\n        names[constraint_satisfaction],\n        text_color=\"white\",\n        font_family=\"courier\",\n        shape_color=\"k\",\n        font_size=15,\n        shape_opacity=0.4,\n        always_visible=True,\n        show_points=False,\n        name=\"obj_labels\",\n        render=False,\n    )\n\n    pl.add_text(\n        f'{date.strftime(\"%m/%d/%Y, %H:%M:%S\")} UTC',\n        name=\"utc_str\",\n        font=\"courier\",\n    )\n\n    pl.set_viewup((0.0, 1.0, 0.0), render=False)\n    pl.set_focus((0.0, 0.0, 0.5), render=False)\n    pl.set_position((0.0, 0.0, -5.0))\n\n\npl.open_gif(\"test.gif\")\nfor i in np.linspace(0, 80, 60):\n    show_scene(i)\n    pl.write_frame()\n\npl.close()"
      ]
    }
  ],
  "metadata": {
    "kernelspec": {
      "display_name": "Python 3",
      "language": "python",
      "name": "python3"
    },
    "language_info": {
      "codemirror_mode": {
        "name": "ipython",
        "version": 3
      },
      "file_extension": ".py",
      "mimetype": "text/x-python",
      "name": "python",
      "nbconvert_exporter": "python",
      "pygments_lexer": "ipython3",
      "version": "3.10.11"
    }
  },
  "nbformat": 4,
  "nbformat_minor": 0
}