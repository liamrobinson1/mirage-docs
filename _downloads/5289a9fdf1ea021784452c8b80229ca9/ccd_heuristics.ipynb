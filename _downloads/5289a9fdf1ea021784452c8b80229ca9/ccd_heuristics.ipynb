{
  "cells": [
    {
      "cell_type": "markdown",
      "metadata": {},
      "source": [
        "\n# CCD Heuristics\n\nExamples to develop a better intuition for CCD counts from known sources\n"
      ]
    },
    {
      "cell_type": "code",
      "execution_count": null,
      "metadata": {
        "collapsed": false
      },
      "outputs": [],
      "source": [
        "import numpy as np\n\nimport mirage as mr\n\nz_obs = np.pi/4 # Point the telescope towards zenith\nstation = mr.Station(preset='pogs')\nprojected_irrad_per_pixel_area = mr.dms_to_rad(0, 0, station.telescope.pixel_scale) ** 2 * mr.mpsas_to_irradiance_per_steradian(22)\nsint_val = mr.sint(station, z_obs)[0]\ncount_per_second_per_pixel = sint_val * projected_irrad_per_pixel_area\nprint(f'For a telescope pointed towards zenith of 22 MPSAS sky, each pixel counts on average {count_per_second_per_pixel:.2f} per second')"
      ]
    },
    {
      "cell_type": "markdown",
      "metadata": {},
      "source": [
        "We can also look at counts due to point sources. Note that these sources are actually spread across a few pixels, so the values are actually much lower on the CCD\n\n"
      ]
    },
    {
      "cell_type": "code",
      "execution_count": null,
      "metadata": {
        "collapsed": false
      },
      "outputs": [],
      "source": [
        "total_star_counts = sint_val * mr.apparent_magnitude_to_irradiance(16)\nprint(f'A magnitude 16 star produces on average {total_star_counts:.2e} counts per second')\n\ntotal_star_counts = sint_val * mr.apparent_magnitude_to_irradiance(8)\nprint(f'A magnitude 8 star produces on average {total_star_counts:.2e} counts per second')"
      ]
    }
  ],
  "metadata": {
    "kernelspec": {
      "display_name": "Python 3",
      "language": "python",
      "name": "python3"
    },
    "language_info": {
      "codemirror_mode": {
        "name": "ipython",
        "version": 3
      },
      "file_extension": ".py",
      "mimetype": "text/x-python",
      "name": "python",
      "nbconvert_exporter": "python",
      "pygments_lexer": "ipython3",
      "version": "3.10.12"
    }
  },
  "nbformat": 4,
  "nbformat_minor": 0
}