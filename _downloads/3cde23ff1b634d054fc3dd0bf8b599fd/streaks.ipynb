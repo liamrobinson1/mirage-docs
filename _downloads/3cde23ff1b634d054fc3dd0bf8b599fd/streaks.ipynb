{
  "cells": [
    {
      "cell_type": "markdown",
      "metadata": {},
      "source": [
        "\n# Streak Detection and Centroiding\n"
      ]
    },
    {
      "cell_type": "code",
      "execution_count": null,
      "metadata": {
        "collapsed": false
      },
      "outputs": [],
      "source": [
        "import os\n\nimport cv2\nimport matplotlib.pyplot as plt\nimport numpy as np\nfrom matplotlib.animation import FuncAnimation, PillowWriter\nfrom scipy.ndimage import rotate\nfrom tqdm import tqdm\n\nimport mirage as mr\nimport mirage.vis as mrv\n\n\ndef find_stars_in_rotated_image(\n    img: np.ndarray,\n    rotated_image_raw: np.ndarray,\n    rotated_image: np.ndarray,\n    theta_rad: float,\n    total_pix_tracked: float,\n) -> list[dict]:\n    mr.tic(\"contours\")\n    contours, _ = cv2.findContours(\n        rotated_image, cv2.RETR_LIST, cv2.CHAIN_APPROX_SIMPLE\n    )\n    stars = []\n\n    for i, cnt in enumerate(tqdm(contours, desc=\"Finding streaks\")):\n        x, y, w, h = cv2.boundingRect(cnt)\n        if w > total_pix_tracked / 1.15 and w < total_pix_tracked * 1.3:\n            rotated_bbox = np.array(\n                [[x, y], [x + w, y], [x + w, y + h], [x, y + h], [x, y]]\n            )\n            rotated_centroid = np.array([x + w / 2, y + h / 2])\n            unrot_coords = rotate_back(\n                rotated_bbox,\n                theta_rad,\n                rotated_image.shape,\n                img.shape,\n            )\n            unrot_centroid = rotate_back(\n                rotated_centroid.reshape(1, 2),\n                theta_rad,\n                rotated_image.shape,\n                img.shape,\n            ).squeeze()\n            brightness = np.sum(\n                rotated_image_raw[\n                    int(rotated_bbox[0, 1]) : int(rotated_bbox[2, 1]),\n                    int(rotated_bbox[0, 0]) : int(rotated_bbox[2, 0]),\n                ]\n            )\n            stars.append(\n                {\n                    \"centroid\": unrot_centroid,\n                    \"rotated_centroid\": rotated_centroid,\n                    \"bbox\": unrot_coords,\n                    \"rotated_bbox\": rotated_bbox,\n                    \"brightness\": brightness,\n                }\n            )\n    mr.toc()\n    return stars\n\n\ndef rotate_back(\n    coords: np.ndarray,\n    theta_rad: float,\n    rot_image_shape: tuple,\n    orig_image_shape: tuple,\n) -> np.ndarray:\n    \"\"\"Rotate coordinates back to original image coordinates\n\n    :param coords: Pixel coordinates in the rotated image\n    :type coords: np.ndarray\n    :param theta_rad: The streak angle w.r.t. the image horizontal plane in radians\n    :type theta_rad: float\n    :param rot_image_shape: The shape of the rotated image\n    :type rot_image_shape: tuple\n    :param orig_image_shape: The shape of the original image\n    :type orig_image_shape: tuple\n    :return: The rotated coordinates\n    :rtype np.ndarray\n    \"\"\"\n    coords = coords - np.array(rot_image_shape) / 2\n    rotm = np.array(\n        [\n            [np.cos(theta_rad), np.sin(theta_rad)],\n            [-np.sin(theta_rad), np.cos(theta_rad)],\n        ]\n    ).T\n    coords_unrot = np.matmul(rotm, coords.T).T\n    coords_unrot = coords_unrot + np.array(orig_image_shape) / 2\n    return coords_unrot\n\n\ndef horizontal_line_kernel(length: int) -> np.ndarray:\n    \"\"\"Kernel that detects horizontal lines of a given length\n\n    :param length: The length of lines to detect\n    :type length: int\n    :return: The kernel array\n    :rtype: np.ndarray\n    \"\"\"\n    kernel = np.zeros((length, length))\n    kernel[length // 2, :] = 1 / length\n    nval = -1 / (kernel.size - length)\n    kernel[: length // 2, :] = nval\n    kernel[length // 2 + 1 :, :] = nval\n    return kernel\n\n\nfits_path = os.path.join(os.environ[\"SRCDIR\"], \"..\", \"00161295.48859.fit\")\n\ninfo = mr.info_from_fits(fits_path)\nimg = info[\"ccd_adu\"]\nimg_raw = img.copy()\nimg_log10 = np.log10(img)\nimg = np.log10(np.clip(img - mr.image_background_parabola(img), 1, np.inf))\ntotal_pix_tracked = info[\"total_pix_tracked\"]\n\nimg[img < 1] = 0\nimg[np.isnan(img) | np.isinf(np.abs(img))] = 0\n\nstreak_length = 100"
      ]
    },
    {
      "cell_type": "markdown",
      "metadata": {},
      "source": [
        "Demonstrating the dependence of convolved variance on template streak direction\n\n"
      ]
    },
    {
      "cell_type": "code",
      "execution_count": null,
      "metadata": {
        "collapsed": false
      },
      "outputs": [],
      "source": [
        "plt.figure(figsize=(15, 5))\nthetas = np.linspace(0, np.pi, 50)\nvars = np.zeros_like(thetas)\nimg_for_gif = img[::6, ::6]\n\ndef animate(i):\n    global vars\n    dir = np.array([np.cos(thetas[i]), np.sin(thetas[i])])\n    kernel = mr.streak_convolution_kernel(dir, streak_length)\n    conv_img = mr.streak_convolution(img_for_gif, dir, streak_length)\n    vars[i] = np.var(conv_img)\n    plt.subplot(1,3,1)\n    plt.gca().cla()\n    plt.imshow(conv_img)\n    mrv.texit(f\"Convolved Image\", \"\", \"\", grid=False)\n    plt.subplot(1,3,2)\n    plt.gca().cla()\n    plt.imshow(kernel)\n    mrv.texit(fr\"Streak Kernel $\\theta={thetas[i]:.2f}$ [rad]\", \"\", \"\", grid=False)\n    plt.subplot(1,3,3)\n    plt.gca().cla()\n    plt.plot(thetas[:i+1], vars[:i+1])\n    plt.xlim(0, np.pi)\n    plt.ylim(0, 0.025)\n    mrv.texit(f\"Convolved Image Variance\", \"Streak angle [rad]\", \"Variance [ndim]\", grid=True)\n    plt.pause(0.01)\n    plt.tight_layout()\n\nani = FuncAnimation(plt.gcf(), animate, repeat=True, frames=thetas.size, interval=50)\nwriter = PillowWriter(fps=15, bitrate=1800)\nwriter.setup(ani, \"streaks.gif\", dpi=200)\nani.save(\"streaks.gif\", writer=writer)\n\nplt.show()"
      ]
    },
    {
      "cell_type": "markdown",
      "metadata": {},
      "source": [
        "Doing the actual optimization\n\n"
      ]
    },
    {
      "cell_type": "markdown",
      "metadata": {},
      "source": [
        "Convolve at the converged direction\n\n"
      ]
    },
    {
      "cell_type": "code",
      "execution_count": null,
      "metadata": {
        "collapsed": false
      },
      "outputs": [],
      "source": [
        "theta_rad = -mr.solve_star_streak_angle(img)\nrotated_image = rotate(img, np.rad2deg(theta_rad), reshape=True)\nrotated_image_raw = rotate(img_raw, np.rad2deg(theta_rad), reshape=True)"
      ]
    },
    {
      "cell_type": "markdown",
      "metadata": {},
      "source": [
        "Find contours which correspond to the streaks\nFirst, convolve the image with a horizontal line to make centroiding easier\n\n"
      ]
    },
    {
      "cell_type": "code",
      "execution_count": null,
      "metadata": {
        "collapsed": false
      },
      "outputs": [],
      "source": [
        "rotated_image = mr.streak_convolution(rotated_image, [1, 0], 20)\nrotated_image = (rotated_image).astype(np.uint8)\n\nstars = find_stars_in_rotated_image(\n    img, rotated_image_raw, rotated_image, theta_rad, total_pix_tracked\n)\nprint(f\"Found {len(stars)} streaks on the first pass\")\n# mask out all the stars we found from the rotated_img\n# for star in stars:\n#     rotated_image[\n#         int(star[\"rotated_bbox\"][0, 1]) : int(star[\"rotated_bbox\"][2, 1]),\n#         int(star[\"rotated_bbox\"][0, 0]) : int(star[\"rotated_bbox\"][2, 0]),\n#     ] = 0\n# rotated_image = mr.streak_convolution(rotated_image, [1, 0], 10).astype(np.uint8)\n# stars_fine = find_stars_in_rotated_image(img, rotated_image_raw, rotated_image, theta)\n# print(f\"Found {len(stars_fine)} streaks on the second pass\")"
      ]
    },
    {
      "cell_type": "markdown",
      "metadata": {},
      "source": [
        "Rotating back into the original frame\n\n"
      ]
    },
    {
      "cell_type": "code",
      "execution_count": null,
      "metadata": {
        "collapsed": false
      },
      "outputs": [],
      "source": [
        "# plt.figure(figsize=(10, 5))\n# plt.subplot(1, 2, 1)\nplt.imshow(img, cmap=\"gray\")\nfor star in stars:\n    plt.plot(star[\"bbox\"][:, 0], star[\"bbox\"][:, 1], color=\"lime\", linewidth=0.2)\nplt.scatter(\n    [star[\"centroid\"][0] for star in stars],\n    [star[\"centroid\"][1] for star in stars],\n    c=[star[\"brightness\"] for star in stars],\n    cmap=\"cool\",\n    s=10,\n)\n# label the colorbar with adu\nplt.colorbar(label=\"Total Star ADU\")\nplt.xlim(0, img.shape[1])\nplt.ylim(0, img.shape[0])\nmrv.texit(\"True Image with Centroids\", \"\", \"\", grid=False)\n\n# plt.subplot(1, 2, 2)\n# plt.imshow(np.log10(rotated_image_raw + rotated_image_raw.min() + 10), cmap=\"gist_stern\")\n# for star in stars:\n#     plt.plot(star[\"rotated_bbox\"][:, 0], star[\"rotated_bbox\"][:, 1], color=\"lime\", linewidth=0.2)\n\n# plt.scatter([star[\"rotated_centroid\"][0] for star in stars],\n#             [star[\"rotated_centroid\"][1] for star in stars],\n#             c=[star[\"brightness\"] for star in stars], cmap=\"plasma\")\n\nplt.show()"
      ]
    }
  ],
  "metadata": {
    "kernelspec": {
      "display_name": "Python 3",
      "language": "python",
      "name": "python3"
    },
    "language_info": {
      "codemirror_mode": {
        "name": "ipython",
        "version": 3
      },
      "file_extension": ".py",
      "mimetype": "text/x-python",
      "name": "python",
      "nbconvert_exporter": "python",
      "pygments_lexer": "ipython3",
      "version": "3.10.13"
    }
  },
  "nbformat": 4,
  "nbformat_minor": 0
}