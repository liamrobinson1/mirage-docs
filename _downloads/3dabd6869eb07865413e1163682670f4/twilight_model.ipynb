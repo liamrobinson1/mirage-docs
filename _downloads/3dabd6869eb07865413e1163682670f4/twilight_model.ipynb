{
  "cells": [
    {
      "cell_type": "markdown",
      "metadata": {},
      "source": [
        "\n# Twilight Model\n\nPlotting the zenith surface brightness of the ESO-Parnal twilight model\n"
      ]
    },
    {
      "cell_type": "code",
      "execution_count": null,
      "metadata": {
        "collapsed": false
      },
      "outputs": [],
      "source": [
        "import pyspaceaware as ps\nimport pyspaceaware.vis as psv\nimport matplotlib.pyplot as plt\nimport numpy as np\n\ngammas = np.linspace(90, 130, 100)\n\nsqm = ps.twilight_zenith_sqm(gammas)\n\nplt.plot(gammas, sqm)\nplt.gca().invert_yaxis()\nplt.grid()\npsv.texit('Twilight Model Brightness', 'Solar zenith angle [deg]', 'Surface brightness in $\\\\left[ \\\\frac{mag}{arcsecond^2} \\\\right]$')\nplt.show()"
      ]
    }
  ],
  "metadata": {
    "kernelspec": {
      "display_name": "Python 3",
      "language": "python",
      "name": "python3"
    },
    "language_info": {
      "codemirror_mode": {
        "name": "ipython",
        "version": 3
      },
      "file_extension": ".py",
      "mimetype": "text/x-python",
      "name": "python",
      "nbconvert_exporter": "python",
      "pygments_lexer": "ipython3",
      "version": "3.10.12"
    }
  },
  "nbformat": 4,
  "nbformat_minor": 0
}