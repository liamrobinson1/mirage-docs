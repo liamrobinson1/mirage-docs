{
  "cells": [
    {
      "cell_type": "markdown",
      "metadata": {},
      "source": [
        "\n# Rotating Solar Panels\n\nRunning LightCurveEngine with rotating solar panels.\n"
      ]
    },
    {
      "cell_type": "code",
      "execution_count": null,
      "metadata": {
        "collapsed": false
      },
      "outputs": [],
      "source": [
        "import os\n\nimport matplotlib.animation as animation\nimport matplotlib.pyplot as plt\nimport numpy as np\nfrom PIL import Image\n\nimport mirage as mr\nimport mirage.vis as mrv\n\nobj = mr.SpaceObject(\"matlib_tdrs.obj\")\n\nt = np.linspace(0, 2 * np.pi, 50, endpoint=False)\nsvb = mr.hat(\n    np.array(\n        [np.cos(t) - np.sin(2 * t), np.sin(t) + np.cos(t), np.sin(t) + 2 + 0 * t]\n    ).T\n)\novb = mr.hat(np.array([1 + 0 * t, 1 + 0 * t, 3 + 0 * t]).T)\nbrdf = mr.Brdf(\"phong\", cd=0.5, cs=0.5, n=5)\n\nlc = mr.run_light_curve_engine(\n    brdf, obj, svb, ovb, save_imgs=True, rotate_panels=True, instances=1\n)"
      ]
    },
    {
      "cell_type": "markdown",
      "metadata": {},
      "source": [
        "Saves a gif of the output images, restricting the image to the red channel to get brightness without the masks\n\n"
      ]
    },
    {
      "cell_type": "code",
      "execution_count": null,
      "metadata": {
        "collapsed": false
      },
      "outputs": [],
      "source": [
        "fig, ax = plt.subplots(facecolor=\"k\", figsize=(5, 5))\n\nactor = ax.imshow(np.ones((10, 10)), cmap=\"gray\", vmin=0, vmax=255)\nplt.xticks([])\nplt.yticks([])\n\n\ndef animate(i):\n    impath = os.path.join(\"out\", f\"frame{i+1}.png\")\n    with Image.open(impath) as img:\n        data = np.array(img)[:, :, 0]\n        actor.set_data(data)\n        plt.tight_layout()\n    return (actor,)\n\n\nani = animation.FuncAnimation(fig, animate, repeat=True, frames=t.size, interval=50)\n\n# To save the animation using Pillow as a gif\nwriter = animation.PillowWriter(fps=15, bitrate=1800)\n\nplt.show()"
      ]
    }
  ],
  "metadata": {
    "kernelspec": {
      "display_name": "Python 3",
      "language": "python",
      "name": "python3"
    },
    "language_info": {
      "codemirror_mode": {
        "name": "ipython",
        "version": 3
      },
      "file_extension": ".py",
      "mimetype": "text/x-python",
      "name": "python",
      "nbconvert_exporter": "python",
      "pygments_lexer": "ipython3",
      "version": "3.10.13"
    }
  },
  "nbformat": 4,
  "nbformat_minor": 0
}