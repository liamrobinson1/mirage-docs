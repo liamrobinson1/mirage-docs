{
  "cells": [
    {
      "cell_type": "markdown",
      "metadata": {},
      "source": [
        "\n# Fitting BRDF Databases\n"
      ]
    },
    {
      "cell_type": "code",
      "execution_count": null,
      "metadata": {
        "collapsed": false
      },
      "outputs": [],
      "source": [
        "import os\nimport subprocess\n\nimport matplotlib.pyplot as plt\nimport numpy as np\nimport pyvista as pv\nfrom scipy.optimize import minimize\n\nimport mirage as mr\n\n_DB_DIR = \"/Users/liamrobinson/Documents/brdfmachine/BRDFDatabase\"\n_EXE_DIR = os.path.join(_DB_DIR, \"code\")\n\nbrdf_file = \"orange-paint\"\nbrdf_model = \"cook-torrance\"\nbrdf_path = os.path.join(_DB_DIR, \"brdfs\", f\"{brdf_file}.binary\")\ncmd = f\"cd {_EXE_DIR} && ./BRDFRead {brdf_path}\"\n\nmr.tic()\nproc = subprocess.run(cmd, shell=True, stdout=subprocess.PIPE, text=True)\nbrdf_info = proc.stdout\nlines = brdf_info.strip().split(\"\\n\")\ndata = np.array([[float(value) for value in line.split()] for line in lines])\n# theta_in, phi_in, theta_out, phi_out, red, green, blue\n# theta angle from N, phi angle from tangent\nmr.toc()\n\nn = np.tile(np.array([[0.0, 0.0, 1.0]]), (data.shape[0], 1))\nsv = mr.stack_mat_mult_vec(mr.r1(data[:, 0]), n)\nn_to_ov_rotm = mr.stack_mat_mult_mat(mr.r3(data[:, 3] - data[:, 1]), mr.r1(data[:, 2]))\nov = mr.stack_mat_mult_vec(n_to_ov_rotm, n)\n\nb_true = np.mean(data[:, -3:], axis=1).flatten()\n\nprint(b_true)\n\ndef eval_brdf_fit(x: np.ndarray) -> float:\n    brdf = mr.Brdf(brdf_model, cd=x[0], cs=x[1], n=x[2], validate=False)\n    b_est = brdf.eval(sv, ov, n).flatten()\n    err = np.linalg.norm(b_true - b_est)\n    print(err)\n    return err\n\n\nsol = minimize(eval_brdf_fit, x0=(0.5, 0.5, 10))\n\nbrdf_opt = mr.Brdf(brdf_model, cd=sol.x[0], cs=sol.x[1], n=sol.x[2], validate=False)\nb_opt = brdf_opt.eval(sv, ov, n).flatten()\nprint(np.vstack((b_true, b_opt)).T)\nprint(np.max(np.abs(b_true - b_opt)))\nprint(brdf_opt)"
      ]
    }
  ],
  "metadata": {
    "kernelspec": {
      "display_name": "Python 3",
      "language": "python",
      "name": "python3"
    },
    "language_info": {
      "codemirror_mode": {
        "name": "ipython",
        "version": 3
      },
      "file_extension": ".py",
      "mimetype": "text/x-python",
      "name": "python",
      "nbconvert_exporter": "python",
      "pygments_lexer": "ipython3",
      "version": "3.10.12"
    }
  },
  "nbformat": 4,
  "nbformat_minor": 0
}