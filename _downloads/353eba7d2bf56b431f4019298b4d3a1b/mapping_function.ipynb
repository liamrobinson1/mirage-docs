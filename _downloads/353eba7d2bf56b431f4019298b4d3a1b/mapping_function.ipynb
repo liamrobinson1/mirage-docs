{
  "cells": [
    {
      "cell_type": "markdown",
      "metadata": {},
      "source": [
        "\n# Mapping Model\n\nModeling the shape of the CCD image\n"
      ]
    },
    {
      "cell_type": "markdown",
      "metadata": {},
      "source": [
        "It's important to understand where each pixel in the CCD originates from in the far field\n\n"
      ]
    },
    {
      "cell_type": "code",
      "execution_count": null,
      "metadata": {
        "collapsed": false
      },
      "outputs": [],
      "source": [
        "import matplotlib.pyplot as plt\nimport numpy as np\n\nimport mirage as mr\n\nstation = mr.Station()\nx, y = np.meshgrid(\n    np.arange(station.telescope.sensor_pixels),\n    np.arange(station.telescope.sensor_pixels),\n)\nmr.tic(\"Mapping\")\nxd, yx = station.telescope.pixel_distortion(\n    x, y, station.telescope.sensor_pixels // 2, station.telescope.sensor_pixels // 2\n)\nmr.toc()\n\ndist = np.sqrt((x - xd) ** 2 + (y - yx) ** 2)\n\nplt.imshow(dist, cmap=\"cool\")\nplt.colorbar(label=\"Apparent Distance from Pinhole Model [pix]\")\ncp = plt.contour(dist, levels=[0.01, 0.1, 1, 2, 4, 7], colors=\"k\")\nplt.clabel(cp, inline=True, fontsize=14)\nplt.title(\"POGS Pixel Distortion\")\nplt.tight_layout()\nplt.show()"
      ]
    }
  ],
  "metadata": {
    "kernelspec": {
      "display_name": "Python 3",
      "language": "python",
      "name": "python3"
    },
    "language_info": {
      "codemirror_mode": {
        "name": "ipython",
        "version": 3
      },
      "file_extension": ".py",
      "mimetype": "text/x-python",
      "name": "python",
      "nbconvert_exporter": "python",
      "pygments_lexer": "ipython3",
      "version": "3.10.13"
    }
  },
  "nbformat": 4,
  "nbformat_minor": 0
}