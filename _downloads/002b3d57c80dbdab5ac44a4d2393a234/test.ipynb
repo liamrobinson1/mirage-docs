{
  "cells": [
    {
      "cell_type": "markdown",
      "metadata": {},
      "source": [
        "\n# Propagating the catalog\n\nLoad the full TLE catalog and propagate all objects to a given epoch\n"
      ]
    },
    {
      "cell_type": "code",
      "execution_count": null,
      "metadata": {
        "collapsed": false
      },
      "outputs": [],
      "source": [
        "import pyspaceaware as ps\nimport pyvista as pv\nimport datetime\nimport numpy as np\n\ndate_start = datetime.datetime(\n    2023, 12, 21, 4, 0, 0, tzinfo=datetime.timezone.utc\n)\n\n(r_eci, _) = ps.propagate_catalog_to_dates(date_start)\nr_eci = r_eci.squeeze()"
      ]
    },
    {
      "cell_type": "markdown",
      "metadata": {},
      "source": [
        "Sometimes, propagating a TLE too far past its last collection point leads to enormous position magnitudes, let's filter those out\n\n"
      ]
    },
    {
      "cell_type": "code",
      "execution_count": null,
      "metadata": {
        "collapsed": false
      },
      "outputs": [],
      "source": [
        "invalid = ps.vecnorm(r_eci).flatten() > 1e5\nr_eci = np.delete(r_eci, np.argwhere(invalid), axis=0)"
      ]
    },
    {
      "cell_type": "markdown",
      "metadata": {},
      "source": [
        "Let's scatter plot the object positions we've propagated\n\n"
      ]
    },
    {
      "cell_type": "code",
      "execution_count": null,
      "metadata": {
        "collapsed": false
      },
      "outputs": [],
      "source": [
        "pl = pv.Plotter()\nps.plot_earth(\n    pl,\n    mode=\"eci\",\n    date=date_start,\n)\nps.scatter3(pl, r_eci, show_scalar_bar=False, point_size=1)\npl.camera.focal_point = (0.0, 0.0, 0.0)\npl.camera.position = 70e3 * np.array([1, -1, 0.3])\n# Otherwise it'll use the mean of all vertices, including the sats\npl.show()"
      ]
    }
  ],
  "metadata": {
    "kernelspec": {
      "display_name": "Python 3",
      "language": "python",
      "name": "python3"
    },
    "language_info": {
      "codemirror_mode": {
        "name": "ipython",
        "version": 3
      },
      "file_extension": ".py",
      "mimetype": "text/x-python",
      "name": "python",
      "nbconvert_exporter": "python",
      "pygments_lexer": "ipython3",
      "version": "3.10.11"
    }
  },
  "nbformat": 4,
  "nbformat_minor": 0
}