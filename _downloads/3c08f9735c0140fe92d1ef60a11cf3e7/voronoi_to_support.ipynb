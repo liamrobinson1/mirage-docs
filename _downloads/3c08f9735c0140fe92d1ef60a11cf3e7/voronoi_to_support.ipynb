{
  "cells": [
    {
      "cell_type": "markdown",
      "metadata": {},
      "source": [
        "\n# Voronoi Diagram to Supports\n\nInvestigating whether there is a connection between the area of a face, its support, and the area of its spherical projection on the Spherical Voronoi diagram\n"
      ]
    },
    {
      "cell_type": "code",
      "execution_count": null,
      "metadata": {
        "collapsed": false
      },
      "outputs": [],
      "source": [
        "import numpy as np\nimport pyvista as pv\nfrom scipy.spatial import SphericalVoronoi\n\nimport mirage as mr\nimport mirage.vis as mrv\n\nobj = mr.SpaceObject(\"gem.obj\")\nobj.shift_to_center_of_mass()\n\n\nsv = SphericalVoronoi(obj.unique_normals)\n# sv.sort_vertices_of_regions()\n\nvoronoi_areas = sv.calculate_areas()\nvoronoi_areas = voronoi_areas[obj.unique_to_all]\n\nqp = mr.spiral_sample_sphere(int(1e5))\nqv = mr.spherical_voronoi_weighting(obj.face_normals, voronoi_areas, qp)\n\npl = pv.Plotter()\nmrv.render_spaceobject(pl, obj, scalars=voronoi_areas)\nmrv.scatter3(pl, qp, scalars=qv, point_size=10, opacity=0.01)\npl.disable_anti_aliasing()\npl.show()"
      ]
    }
  ],
  "metadata": {
    "kernelspec": {
      "display_name": "Python 3",
      "language": "python",
      "name": "python3"
    },
    "language_info": {
      "codemirror_mode": {
        "name": "ipython",
        "version": 3
      },
      "file_extension": ".py",
      "mimetype": "text/x-python",
      "name": "python",
      "nbconvert_exporter": "python",
      "pygments_lexer": "ipython3",
      "version": "3.10.12"
    }
  },
  "nbformat": 4,
  "nbformat_minor": 0
}